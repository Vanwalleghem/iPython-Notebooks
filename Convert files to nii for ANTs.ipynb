{
 "cells": [
  {
   "cell_type": "code",
   "execution_count": 1,
   "id": "50548944",
   "metadata": {},
   "outputs": [],
   "source": [
    "import nibabel as nib\n",
    "import tifffile as tiff\n",
    "import numpy as np"
   ]
  },
  {
   "cell_type": "code",
   "execution_count": 2,
   "id": "5828a69e",
   "metadata": {},
   "outputs": [],
   "source": [
    "img=tiff.imread('/mnt/d/Gilles_HS_ENS/GV_20200730_fish1_ENS_6DPF_range100_step5_exposure23_power60/Substack.tif')"
   ]
  },
  {
   "cell_type": "code",
   "execution_count": 3,
   "id": "7c1e6d31",
   "metadata": {},
   "outputs": [],
   "source": [
    "template=tiff.imread('/mnt/d/Gilles_HS_ENS/GV_20200730_fish1_ENS_6DPF_range100_step5_exposure23_power60/3Dreg/template.tif')"
   ]
  },
  {
   "cell_type": "code",
   "execution_count": 4,
   "id": "d0738d5d",
   "metadata": {},
   "outputs": [],
   "source": [
    "imgNib = nib.Nifti1Image(np.transpose(img,(3,2,1,0)), np.eye(4))\n",
    "templateNib= nib.Nifti1Image(np.transpose(template,(2,1,0)),np.eye(4))"
   ]
  },
  {
   "cell_type": "code",
   "execution_count": 5,
   "id": "a9de7cbe",
   "metadata": {},
   "outputs": [],
   "source": [
    "imgNib.header.set_xyzt_units(xyz=3,t=8)\n",
    "imgNib.header['pixdim']=[1., 1.32, 1.32, 5, 1, 1, 0, 0]\n",
    "imgNib.header['qform_code']=1\n",
    "imgNib.header['sform_code']=1\n",
    "imgNib.header['quatern_d']=1.0\n",
    "templateNib.header.set_xyzt_units(xyz=3,t=8)\n",
    "templateNib.header['pixdim']=[1, 1.32, 1.32, 5, 0, 0, 0, 0]\n",
    "templateNib.header['quatern_d']=1.0\n",
    "templateNib.header['qform_code']=1\n",
    "templateNib.header['sform_code']=1\n",
    "nib.save(imgNib,'/mnt/d/Gilles_HS_ENS/GV_20200730_fish1_ENS_6DPF_range100_step5_exposure23_power60/test.nii')\n",
    "nib.save(templateNib,'/mnt/d/Gilles_HS_ENS/GV_20200730_fish1_ENS_6DPF_range100_step5_exposure23_power60/template.nii')\n"
   ]
  },
  {
   "cell_type": "code",
   "execution_count": 16,
   "id": "304395fa",
   "metadata": {},
   "outputs": [],
   "source": [
    "import os,glob,shutil"
   ]
  },
  {
   "cell_type": "code",
   "execution_count": 3,
   "id": "aa0c52ca",
   "metadata": {},
   "outputs": [
    {
     "name": "stdout",
     "output_type": "stream",
     "text": [
      "['/mnt/f/ENSDEV20-Q3066/Data/GF_Fed2020/20200728/GV_20200727_fish2_ENS_4DPF_range140_step5_exposure17_power60/3Dreg/template.tif', '/mnt/f/ENSDEV20-Q3066/Data/GF_Fed2020/20200728/GV_20200727_fish3_ENSGF_4DPF_range100_step5_exposure23_power60/3Dreg/template.tif', '/mnt/f/ENSDEV20-Q3066/Data/GF_Fed2020/20200728/GV_20200727_fish7_ENS_4DPF_range130_step5_exposure18_power60/3Dreg/template.tif', '/mnt/f/ENSDEV20-Q3066/Data/GF_Fed2020/20200728/GV_20200727_fish5_ENS_4DPF_range100_step5_exposure23_power60/3Dreg/template.tif', '/mnt/f/ENSDEV20-Q3066/Data/GF_Fed2020/20200728/GV_20200727_fish6_ENS_4DPF_range100_step5_exposure23_power60_2/3Dreg/template.tif', '/mnt/f/ENSDEV20-Q3066/Data/GF_Fed2020/20200728/GV_20200727_fish4_ENSGF_4DPF_weirdmount_range100_step5_exposure23_power60/3Dreg/template.tif', '/mnt/f/ENSDEV20-Q3066/Data/GF_Fed2020/20200728/GV_20200727_fish2_ENSGF_4DPF_range110_step5_exposure21_power60/3Dreg/template.tif', '/mnt/f/ENSDEV20-Q3066/Data/GF_Fed2020/20200728/GV_20200727_fish4_ENS_4DPF_range140_step5_exposure17_power60/3Dreg/template.tif', '/mnt/f/ENSDEV20-Q3066/Data/GF_Fed2020/20200728/GV_20200727_fish7_ENSGF_4DPF_range140_step5_exposure17_power60/3Dreg/template.tif', '/mnt/f/ENSDEV20-Q3066/Data/GF_Fed2020/20200728/GV_20200727_fish5_ENSGF_4DPF_range100_step5_exposure23_power60/3Dreg/template.tif', '/mnt/f/ENSDEV20-Q3066/Data/GF_Fed2020/20200728/GV_20200727_fish8_ENSGF_4DPF_range140_step5_exposure17_power60_1/3Dreg/template.tif', '/mnt/f/ENSDEV20-Q3066/Data/GF_Fed2020/20200728/GV_20200727_fish6_ENSGF_4DPF_range140_step5_exposure17_power60/3Dreg/template.tif', '/mnt/f/ENSDEV20-Q3066/Data/GF_Fed2020/20200728/GV_20200727_fish1_ENSGF_4DPF_range120_step5_exposure20_power60/3Dreg/template.tif', '/mnt/f/ENSDEV20-Q3066/Data/GF_Fed2020/20200728/GV_20200727_fish1_ENS_4DPF_weirdmount_range100_step5_exposure25_power60/3Dreg/template.tif']\n"
     ]
    }
   ],
   "source": [
    "files=glob.glob('/mnt/f/ENSDEV20-Q3066/Data/GF_Fed2020/20200728/**/template.tif', recursive=True)\n",
    "print(files)"
   ]
  },
  {
   "cell_type": "code",
   "execution_count": 10,
   "id": "c2961c04",
   "metadata": {},
   "outputs": [
    {
     "data": {
      "text/plain": [
       "'GV_20200727_fish2_ENS_4DPF_template.tif'"
      ]
     },
     "execution_count": 10,
     "metadata": {},
     "output_type": "execute_result"
    }
   ],
   "source": [
    "os.path.basename(os.path.split(os.path.split(files[0])[0])[0]).split('_range')[0]+'_template.tif'"
   ]
  },
  {
   "cell_type": "code",
   "execution_count": 11,
   "id": "ebdf95a8",
   "metadata": {},
   "outputs": [
    {
     "ename": "FileNotFoundError",
     "evalue": "[Errno 2] No such file or directory: '/mnt/f/ENSDEV20-Q3066/Data/GF_Fed2020/20200728/GV_20200727_fish2_ENS_4DPF_range140_step5_exposure17_power60/3Dreg/template.tif' -> '/mnt/d/Gilles_HS_ENS/TemplateFiles/GV_20200727_fish2_ENS_4DPF_range140_step5_exposure17_power60/3Dreg/GV_20200727_fish2_ENS_4DPF_template.tif.tif'",
     "output_type": "error",
     "traceback": [
      "\u001b[0;31m---------------------------------------------------------------------------\u001b[0m",
      "\u001b[0;31mFileNotFoundError\u001b[0m                         Traceback (most recent call last)",
      "\u001b[0;32m/tmp/ipykernel_10891/414578685.py\u001b[0m in \u001b[0;36m<module>\u001b[0;34m\u001b[0m\n\u001b[1;32m      1\u001b[0m \u001b[0;32mfor\u001b[0m \u001b[0mfilename\u001b[0m \u001b[0;32min\u001b[0m \u001b[0mfiles\u001b[0m\u001b[0;34m:\u001b[0m\u001b[0;34m\u001b[0m\u001b[0;34m\u001b[0m\u001b[0m\n\u001b[0;32m----> 2\u001b[0;31m     \u001b[0mos\u001b[0m\u001b[0;34m.\u001b[0m\u001b[0mrename\u001b[0m\u001b[0;34m(\u001b[0m\u001b[0mfilename\u001b[0m\u001b[0;34m,\u001b[0m\u001b[0mfilename\u001b[0m\u001b[0;34m.\u001b[0m\u001b[0mreplace\u001b[0m\u001b[0;34m(\u001b[0m\u001b[0;34m'/mnt/f/ENSDEV20-Q3066/Data/GF_Fed2020/20200728/'\u001b[0m\u001b[0;34m,\u001b[0m\u001b[0;34m'/mnt/d/Gilles_HS_ENS/TemplateFiles/'\u001b[0m\u001b[0;34m)\u001b[0m\u001b[0;34m.\u001b[0m\u001b[0mreplace\u001b[0m\u001b[0;34m(\u001b[0m\u001b[0;34m'template'\u001b[0m\u001b[0;34m,\u001b[0m\u001b[0mos\u001b[0m\u001b[0;34m.\u001b[0m\u001b[0mpath\u001b[0m\u001b[0;34m.\u001b[0m\u001b[0mbasename\u001b[0m\u001b[0;34m(\u001b[0m\u001b[0mos\u001b[0m\u001b[0;34m.\u001b[0m\u001b[0mpath\u001b[0m\u001b[0;34m.\u001b[0m\u001b[0msplit\u001b[0m\u001b[0;34m(\u001b[0m\u001b[0mos\u001b[0m\u001b[0;34m.\u001b[0m\u001b[0mpath\u001b[0m\u001b[0;34m.\u001b[0m\u001b[0msplit\u001b[0m\u001b[0;34m(\u001b[0m\u001b[0mfilename\u001b[0m\u001b[0;34m)\u001b[0m\u001b[0;34m[\u001b[0m\u001b[0;36m0\u001b[0m\u001b[0;34m]\u001b[0m\u001b[0;34m)\u001b[0m\u001b[0;34m[\u001b[0m\u001b[0;36m0\u001b[0m\u001b[0;34m]\u001b[0m\u001b[0;34m)\u001b[0m\u001b[0;34m.\u001b[0m\u001b[0msplit\u001b[0m\u001b[0;34m(\u001b[0m\u001b[0;34m'_range'\u001b[0m\u001b[0;34m)\u001b[0m\u001b[0;34m[\u001b[0m\u001b[0;36m0\u001b[0m\u001b[0;34m]\u001b[0m\u001b[0;34m+\u001b[0m\u001b[0;34m'_template.tif'\u001b[0m\u001b[0;34m)\u001b[0m\u001b[0;34m)\u001b[0m\u001b[0;34m\u001b[0m\u001b[0;34m\u001b[0m\u001b[0m\n\u001b[0m",
      "\u001b[0;31mFileNotFoundError\u001b[0m: [Errno 2] No such file or directory: '/mnt/f/ENSDEV20-Q3066/Data/GF_Fed2020/20200728/GV_20200727_fish2_ENS_4DPF_range140_step5_exposure17_power60/3Dreg/template.tif' -> '/mnt/d/Gilles_HS_ENS/TemplateFiles/GV_20200727_fish2_ENS_4DPF_range140_step5_exposure17_power60/3Dreg/GV_20200727_fish2_ENS_4DPF_template.tif.tif'"
     ]
    }
   ],
   "source": [
    "local_folder='/mnt/d/Gilles_HS_ENS/TemplateFiles/'\n",
    "for filename in files:\n",
    "    new_filename=os.path.basename(os.path.split(os.path.split(filename)[0])[0]).split('_range')[0]+'_template.tif'\n",
    "    shutil.copy(filename,local_folder+new_filename)"
   ]
  },
  {
   "cell_type": "code",
   "execution_count": 12,
   "id": "d31e70a9",
   "metadata": {},
   "outputs": [
    {
     "data": {
      "text/plain": [
       "'/mnt/d/Gilles_HS_ENS/TemplateFiles/GV_20200727_fish2_ENS_4DPF_range140_step5_exposure17_power60/3Dreg/template.tif'"
      ]
     },
     "execution_count": 12,
     "metadata": {},
     "output_type": "execute_result"
    }
   ],
   "source": [
    "filename.replace('/mnt/f/ENSDEV20-Q3066/Data/GF_Fed2020/20200728/','/mnt/d/Gilles_HS_ENS/TemplateFiles/')"
   ]
  },
  {
   "cell_type": "code",
   "execution_count": 14,
   "id": "bc575203",
   "metadata": {},
   "outputs": [
    {
     "data": {
      "text/plain": [
       "'GV_20200727_fish2_ENS_4DPF_template.tif'"
      ]
     },
     "execution_count": 14,
     "metadata": {},
     "output_type": "execute_result"
    }
   ],
   "source": [
    "os.path.basename(os.path.split(os.path.split(filename)[0])[0]).split('_range')[0]+'_template.tif'"
   ]
  },
  {
   "cell_type": "code",
   "execution_count": null,
   "id": "e536be7c",
   "metadata": {},
   "outputs": [],
   "source": []
  }
 ],
 "metadata": {
  "kernelspec": {
   "display_name": "Python 3 (ipykernel)",
   "language": "python",
   "name": "python3"
  },
  "language_info": {
   "codemirror_mode": {
    "name": "ipython",
    "version": 3
   },
   "file_extension": ".py",
   "mimetype": "text/x-python",
   "name": "python",
   "nbconvert_exporter": "python",
   "pygments_lexer": "ipython3",
   "version": "3.8.10"
  }
 },
 "nbformat": 4,
 "nbformat_minor": 5
}
