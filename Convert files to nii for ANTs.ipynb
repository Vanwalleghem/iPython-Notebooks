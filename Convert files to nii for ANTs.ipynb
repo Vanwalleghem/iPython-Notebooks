{
 "cells": [
  {
   "cell_type": "code",
   "execution_count": 1,
   "id": "55010376",
   "metadata": {},
   "outputs": [],
   "source": [
    "import nibabel as nib\n",
    "import tifffile as tiff\n",
    "import numpy as np"
   ]
  },
  {
   "cell_type": "code",
   "execution_count": null,
   "id": "b5fa77f6",
   "metadata": {},
   "outputs": [],
   "source": [
    "img=tiff.imread('/mnt/d/Gilles_HS_ENS/GV_20200730_fish1_ENS_6DPF_range100_step5_exposure23_power60/Substack.tif')"
   ]
  },
  {
   "cell_type": "code",
   "execution_count": 2,
   "id": "0531a97c",
   "metadata": {},
   "outputs": [],
   "source": [
    "img=tiff.imread('/mnt/d/Gilles_HS_ENS/GV_20200730_fish1_ENS_6DPF_range100_step5_exposure23_power60/Substack.tif')"
   ]
  },
  {
   "cell_type": "code",
   "execution_count": 3,
   "id": "604163d2",
   "metadata": {},
   "outputs": [],
   "source": [
    "template=tiff.imread('/mnt/d/Gilles_HS_ENS/GV_20200730_fish1_ENS_6DPF_range100_step5_exposure23_power60/3Dreg/template.tif')"
   ]
  },
  {
   "cell_type": "code",
   "execution_count": 4,
   "id": "ffe22137",
   "metadata": {},
   "outputs": [],
   "source": [
    "imgNib = nib.Nifti1Image(np.transpose(img,(3,2,1,0)), np.eye(4))\n",
    "templateNib= nib.Nifti1Image(np.transpose(template,(2,1,0)),np.eye(4))"
   ]
  },
  {
   "cell_type": "code",
   "execution_count": 5,
   "id": "4fbb96e7",
   "metadata": {},
   "outputs": [],
   "source": [
    "imgNib.header.set_xyzt_units(xyz=3,t=8)\n",
    "imgNib.header['pixdim']=[1., 1.32, 1.32, 5, 1, 1, 0, 0]\n",
    "imgNib.header['qform_code']=1\n",
    "imgNib.header['sform_code']=1\n",
    "imgNib.header['quatern_d']=1.0\n",
    "templateNib.header.set_xyzt_units(xyz=3,t=8)\n",
    "templateNib.header['pixdim']=[1, 1.32, 1.32, 5, 0, 0, 0, 0]\n",
    "templateNib.header['quatern_d']=1.0\n",
    "templateNib.header['qform_code']=1\n",
    "templateNib.header['sform_code']=1\n",
    "nib.save(imgNib,'/mnt/d/Gilles_HS_ENS/GV_20200730_fish1_ENS_6DPF_range100_step5_exposure23_power60/test.nii')\n",
    "nib.save(templateNib,'/mnt/d/Gilles_HS_ENS/GV_20200730_fish1_ENS_6DPF_range100_step5_exposure23_power60/template.nii')\n"
   ]
  },
  {
   "cell_type": "code",
   "execution_count": 16,
   "id": "c94be87d",
   "metadata": {},
   "outputs": [],
   "source": [
    "import os,glob,shutil"
   ]
  },
  {
   "cell_type": "code",
   "execution_count": 3,
   "id": "27e8f5c6",
   "metadata": {},
   "outputs": [
    {
     "name": "stdout",
     "output_type": "stream",
     "text": [
      "['/mnt/f/ENSDEV20-Q3066/Data/GF_Fed2020/20200728/GV_20200727_fish2_ENS_4DPF_range140_step5_exposure17_power60/3Dreg/template.tif', '/mnt/f/ENSDEV20-Q3066/Data/GF_Fed2020/20200728/GV_20200727_fish3_ENSGF_4DPF_range100_step5_exposure23_power60/3Dreg/template.tif', '/mnt/f/ENSDEV20-Q3066/Data/GF_Fed2020/20200728/GV_20200727_fish7_ENS_4DPF_range130_step5_exposure18_power60/3Dreg/template.tif', '/mnt/f/ENSDEV20-Q3066/Data/GF_Fed2020/20200728/GV_20200727_fish5_ENS_4DPF_range100_step5_exposure23_power60/3Dreg/template.tif', '/mnt/f/ENSDEV20-Q3066/Data/GF_Fed2020/20200728/GV_20200727_fish6_ENS_4DPF_range100_step5_exposure23_power60_2/3Dreg/template.tif', '/mnt/f/ENSDEV20-Q3066/Data/GF_Fed2020/20200728/GV_20200727_fish4_ENSGF_4DPF_weirdmount_range100_step5_exposure23_power60/3Dreg/template.tif', '/mnt/f/ENSDEV20-Q3066/Data/GF_Fed2020/20200728/GV_20200727_fish2_ENSGF_4DPF_range110_step5_exposure21_power60/3Dreg/template.tif', '/mnt/f/ENSDEV20-Q3066/Data/GF_Fed2020/20200728/GV_20200727_fish4_ENS_4DPF_range140_step5_exposure17_power60/3Dreg/template.tif', '/mnt/f/ENSDEV20-Q3066/Data/GF_Fed2020/20200728/GV_20200727_fish7_ENSGF_4DPF_range140_step5_exposure17_power60/3Dreg/template.tif', '/mnt/f/ENSDEV20-Q3066/Data/GF_Fed2020/20200728/GV_20200727_fish5_ENSGF_4DPF_range100_step5_exposure23_power60/3Dreg/template.tif', '/mnt/f/ENSDEV20-Q3066/Data/GF_Fed2020/20200728/GV_20200727_fish8_ENSGF_4DPF_range140_step5_exposure17_power60_1/3Dreg/template.tif', '/mnt/f/ENSDEV20-Q3066/Data/GF_Fed2020/20200728/GV_20200727_fish6_ENSGF_4DPF_range140_step5_exposure17_power60/3Dreg/template.tif', '/mnt/f/ENSDEV20-Q3066/Data/GF_Fed2020/20200728/GV_20200727_fish1_ENSGF_4DPF_range120_step5_exposure20_power60/3Dreg/template.tif', '/mnt/f/ENSDEV20-Q3066/Data/GF_Fed2020/20200728/GV_20200727_fish1_ENS_4DPF_weirdmount_range100_step5_exposure25_power60/3Dreg/template.tif']\n"
     ]
    }
   ],
   "source": [
    "files=glob.glob('/mnt/f/ENSDEV20-Q3066/Data/GF_Fed2020/20200728/**/template.tif', recursive=True)\n",
    "print(files)"
   ]
  },
  {
   "cell_type": "code",
   "execution_count": 10,
   "id": "7acfd09a",
   "metadata": {},
   "outputs": [
    {
     "data": {
      "text/plain": [
       "'GV_20200727_fish2_ENS_4DPF_template.tif'"
      ]
     },
     "execution_count": 10,
     "metadata": {},
     "output_type": "execute_result"
    }
   ],
   "source": [
    "os.path.basename(os.path.split(os.path.split(files[0])[0])[0]).split('_range')[0]+'_template.tif'"
   ]
  },
  {
   "cell_type": "code",
   "execution_count": 18,
   "id": "9e367e2b",
   "metadata": {},
   "outputs": [],
   "source": [
    "local_folder='/mnt/d/Gilles_HS_ENS/TemplateFiles/'\n",
    "for filename in files:\n",
    "    new_filename=os.path.basename(os.path.split(os.path.split(filename)[0])[0]).split('_range')[0]+'_template.tif'\n",
    "    shutil.copy(filename,os.path.join(local_folder,new_filename))"
   ]
  },
  {
   "cell_type": "code",
   "execution_count": 12,
   "id": "4613f305",
   "metadata": {},
   "outputs": [
    {
     "data": {
      "text/plain": [
       "'/mnt/d/Gilles_HS_ENS/TemplateFiles/GV_20200727_fish2_ENS_4DPF_range140_step5_exposure17_power60/3Dreg/template.tif'"
      ]
     },
     "execution_count": 12,
     "metadata": {},
     "output_type": "execute_result"
    }
   ],
   "source": [
    "filename.replace('/mnt/f/ENSDEV20-Q3066/Data/GF_Fed2020/20200728/','/mnt/d/Gilles_HS_ENS/TemplateFiles/')"
   ]
  },
  {
   "cell_type": "code",
   "execution_count": 14,
   "id": "6d97c8db",
   "metadata": {},
   "outputs": [
    {
     "data": {
      "text/plain": [
       "'GV_20200727_fish2_ENS_4DPF_template.tif'"
      ]
     },
     "execution_count": 14,
     "metadata": {},
     "output_type": "execute_result"
    }
   ],
   "source": []
  },
  {
   "cell_type": "code",
   "execution_count": 17,
   "id": "36aaa0fd",
   "metadata": {},
   "outputs": [
    {
     "data": {
      "text/plain": [
       "'/mnt/d/Gilles_HS_ENS/TemplateFiles/GV_20200727_fish2_ENS_4DPF_template.tif'"
      ]
     },
     "execution_count": 17,
     "metadata": {},
     "output_type": "execute_result"
    }
   ],
   "source": [
    "local_folder='/mnt/d/Gilles_HS_ENS/TemplateFiles/'\n",
    "new_filename=os.path.basename(os.path.split(os.path.split(filename)[0])[0]).split('_range')[0]+'_template.tif'\n",
    "os.path.join(local_folder,new_filename)"
   ]
  },
  {
   "cell_type": "code",
   "execution_count": null,
   "id": "22c5c3ee",
   "metadata": {},
   "outputs": [],
   "source": []
  }
 ],
 "metadata": {
  "kernelspec": {
   "display_name": "Python 3 (ipykernel)",
   "language": "python",
   "name": "python3"
  },
  "language_info": {
   "codemirror_mode": {
    "name": "ipython",
    "version": 3
   },
   "file_extension": ".py",
   "mimetype": "text/x-python",
   "name": "python",
   "nbconvert_exporter": "python",
   "pygments_lexer": "ipython3",
   "version": "3.8.10"
  }
 },
 "nbformat": 4,
 "nbformat_minor": 5
}
