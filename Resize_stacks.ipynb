{
 "cells": [
  {
   "cell_type": "code",
   "execution_count": 1,
   "metadata": {
    "collapsed": true
   },
   "outputs": [],
   "source": [
    "import os\n",
    "import glob\n",
    "import numpy as np\n",
    "import skimage.external.tifffile as skext"
   ]
  },
  {
   "cell_type": "code",
   "execution_count": 2,
   "metadata": {},
   "outputs": [
    {
     "data": {
      "text/plain": [
       "['D:/temp/ANTS_files\\\\Fish201709111_ERO_HS_mean.tif',\n",
       " 'D:/temp/ANTS_files\\\\Fish201709112_ELO_HS_mean.tif',\n",
       " 'D:/temp/ANTS_files\\\\Fish201709131_ELO_HS_mean.tif',\n",
       " 'D:/temp/ANTS_files\\\\Fish201709131_ERO_HS_mean.tif',\n",
       " 'D:/temp/ANTS_files\\\\Fish201709191_ERO_hs_mean.tif',\n",
       " 'D:/temp/ANTS_files\\\\Fish201711281_ERO_HS_mean.tif',\n",
       " 'D:/temp/ANTS_files\\\\Fish201711293_ELO_HS_mean.tif',\n",
       " 'D:/temp/ANTS_files\\\\Fish201711293_ERO_HS_mean.tif',\n",
       " 'D:/temp/ANTS_files\\\\Fish201711295_ERO_HS_mean.tif',\n",
       " 'D:/temp/ANTS_files\\\\Fish201712051_ELO_HS_mean.tif',\n",
       " 'D:/temp/ANTS_files\\\\Fish201712053_ELO_HS_mean.tif',\n",
       " 'D:/temp/ANTS_files\\\\Fish201712057_ELO_HS_mean.tif',\n",
       " 'D:/temp/ANTS_files\\\\Fish201712058_ERO_HS_mean.tif',\n",
       " 'D:/temp/ANTS_files\\\\Fish201712074_Center_HS_mean.tif',\n",
       " 'D:/temp/ANTS_files\\\\Fish201712074_ELO_IRO_Both_HS_mean.tif',\n",
       " 'D:/temp/ANTS_files\\\\Fish201712077_Center_HS_mean.tif',\n",
       " 'D:/temp/ANTS_files\\\\Fish201712077_ELO_IRO_Both_HS_mean.tif',\n",
       " 'D:/temp/ANTS_files\\\\Fish201712121_Center_HS_mean.tif',\n",
       " 'D:/temp/ANTS_files\\\\Fish201712121_ELO_IRO_Both_HS_mean.tif',\n",
       " 'D:/temp/ANTS_files\\\\Fish201712141_Center_HS_mean.tif',\n",
       " 'D:/temp/ANTS_files\\\\Fish201712141_ELO_IRO_HS_mean.tif',\n",
       " 'D:/temp/ANTS_files\\\\Fish201712144_Center_HS_mean.tif',\n",
       " 'D:/temp/ANTS_files\\\\Fish201712144_ELO_IRO_HS_mean.tif']"
      ]
     },
     "execution_count": 2,
     "metadata": {},
     "output_type": "execute_result"
    }
   ],
   "source": [
    "fnames_all=[]\n",
    "for file in glob.glob(os.path.join('D:/temp/ANTS_files/','Fish*_mean.tif')):\n",
    "    if file.endswith(\".tif\"):\n",
    "        fnames_all.append(file)\n",
    "fnames_all"
   ]
  },
  {
   "cell_type": "code",
   "execution_count": 5,
   "metadata": {},
   "outputs": [],
   "source": [
    "for name in fnames_all:\n",
    "    skext.imread(name)"
   ]
  },
  {
   "cell_type": "code",
   "execution_count": 6,
   "metadata": {},
   "outputs": [
    {
     "data": {
      "text/plain": [
       "(25, 540, 640)"
      ]
     },
     "execution_count": 6,
     "metadata": {},
     "output_type": "execute_result"
    }
   ],
   "source": [
    "temp=skext.imread(name)\n",
    "temp.shape"
   ]
  },
  {
   "cell_type": "code",
   "execution_count": 7,
   "metadata": {},
   "outputs": [
    {
     "ename": "ModuleNotFoundError",
     "evalue": "No module named 'cv2'",
     "output_type": "error",
     "traceback": [
      "\u001b[1;31m---------------------------------------------------------------------------\u001b[0m",
      "\u001b[1;31mModuleNotFoundError\u001b[0m                       Traceback (most recent call last)",
      "\u001b[1;32m<ipython-input-7-c8ec22b3e787>\u001b[0m in \u001b[0;36m<module>\u001b[1;34m()\u001b[0m\n\u001b[1;32m----> 1\u001b[1;33m \u001b[1;32mimport\u001b[0m \u001b[0mcv2\u001b[0m\u001b[1;33m\u001b[0m\u001b[0m\n\u001b[0m",
      "\u001b[1;31mModuleNotFoundError\u001b[0m: No module named 'cv2'"
     ]
    }
   ],
   "source": [
    "import cv2"
   ]
  },
  {
   "cell_type": "code",
   "execution_count": null,
   "metadata": {
    "collapsed": true
   },
   "outputs": [],
   "source": []
  }
 ],
 "metadata": {
  "kernelspec": {
   "display_name": "Python 3",
   "language": "python",
   "name": "python3"
  },
  "language_info": {
   "codemirror_mode": {
    "name": "ipython",
    "version": 3
   },
   "file_extension": ".py",
   "mimetype": "text/x-python",
   "name": "python",
   "nbconvert_exporter": "python",
   "pygments_lexer": "ipython3",
   "version": "3.6.4"
  }
 },
 "nbformat": 4,
 "nbformat_minor": 1
}
