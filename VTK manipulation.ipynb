{
 "cells": [
  {
   "cell_type": "code",
   "execution_count": 2,
   "metadata": {},
   "outputs": [],
   "source": [
    "import sys\n",
    "import vtk"
   ]
  },
  {
   "cell_type": "code",
   "execution_count": 4,
   "metadata": {},
   "outputs": [],
   "source": [
    "reader = vtk.vtkUnstructuredGridReader()\n",
    "reader.SetFileName('C:/Temp/Huc_H2B_RFP.vtk')"
   ]
  },
  {
   "cell_type": "code",
   "execution_count": 5,
   "metadata": {
    "collapsed": true
   },
   "outputs": [],
   "source": [
    "surface_filter = vtk.vtkDataSetSurfaceFilter()\n",
    "surface_filter.SetInputConnection(reader.GetOutputPort())\n",
    "triangle_filter = vtk.vtkTriangleFilter()\n",
    "triangle_filter.SetInputConnection(surface_filter.GetOutputPort())\n",
    "writer = vtk.vtkOBJExporter()"
   ]
  },
  {
   "cell_type": "code",
   "execution_count": 9,
   "metadata": {},
   "outputs": [
    {
     "ename": "TypeError",
     "evalue": "SetInput argument 1: method requires a vtkRenderWindow, a vtkAlgorithmOutput was provided.",
     "output_type": "error",
     "traceback": [
      "\u001b[1;31m---------------------------------------------------------------------------\u001b[0m",
      "\u001b[1;31mTypeError\u001b[0m                                 Traceback (most recent call last)",
      "\u001b[1;32m<ipython-input-9-ea5b91f97ff8>\u001b[0m in \u001b[0;36m<module>\u001b[1;34m()\u001b[0m\n\u001b[0;32m      1\u001b[0m \u001b[0mwriter\u001b[0m\u001b[1;33m.\u001b[0m\u001b[0mSetFilePrefix\u001b[0m\u001b[1;33m(\u001b[0m\u001b[1;34m\"test\"\u001b[0m\u001b[1;33m)\u001b[0m\u001b[1;33m\u001b[0m\u001b[0m\n\u001b[1;32m----> 2\u001b[1;33m \u001b[0mwriter\u001b[0m\u001b[1;33m.\u001b[0m\u001b[0mSetInput\u001b[0m\u001b[1;33m(\u001b[0m\u001b[0mtriangle_filter\u001b[0m\u001b[1;33m.\u001b[0m\u001b[0mGetOutputPort\u001b[0m\u001b[1;33m(\u001b[0m\u001b[1;33m)\u001b[0m\u001b[1;33m)\u001b[0m\u001b[1;33m\u001b[0m\u001b[0m\n\u001b[0m\u001b[0;32m      3\u001b[0m \u001b[0mwriter\u001b[0m\u001b[1;33m.\u001b[0m\u001b[0mWrite\u001b[0m\u001b[1;33m(\u001b[0m\u001b[1;33m)\u001b[0m\u001b[1;33m\u001b[0m\u001b[0m\n",
      "\u001b[1;31mTypeError\u001b[0m: SetInput argument 1: method requires a vtkRenderWindow, a vtkAlgorithmOutput was provided."
     ]
    }
   ],
   "source": [
    "writer.SetFilePrefix(\"test\")\n",
    "writer.SetInput(triangle_filter.GetOutputPort())\n",
    "writer.Write()"
   ]
  },
  {
   "cell_type": "code",
   "execution_count": 10,
   "metadata": {
    "collapsed": true
   },
   "outputs": [],
   "source": [
    "temp=triangle_filter.GetOutputPort()"
   ]
  },
  {
   "cell_type": "code",
   "execution_count": 11,
   "metadata": {},
   "outputs": [
    {
     "data": {
      "text/plain": [
       "['AddObserver',\n",
       " 'BreakOnError',\n",
       " 'DebugOff',\n",
       " 'DebugOn',\n",
       " 'FastDelete',\n",
       " 'GetAddressAsString',\n",
       " 'GetClassName',\n",
       " 'GetCommand',\n",
       " 'GetDebug',\n",
       " 'GetGlobalWarningDisplay',\n",
       " 'GetIndex',\n",
       " 'GetMTime',\n",
       " 'GetProducer',\n",
       " 'GetReferenceCount',\n",
       " 'GlobalWarningDisplayOff',\n",
       " 'GlobalWarningDisplayOn',\n",
       " 'HasObserver',\n",
       " 'InitializeObjectBase',\n",
       " 'InvokeEvent',\n",
       " 'IsA',\n",
       " 'IsTypeOf',\n",
       " 'Modified',\n",
       " 'NewInstance',\n",
       " 'Register',\n",
       " 'RemoveAllObservers',\n",
       " 'RemoveObserver',\n",
       " 'RemoveObservers',\n",
       " 'SafeDownCast',\n",
       " 'SetDebug',\n",
       " 'SetGlobalWarningDisplay',\n",
       " 'SetIndex',\n",
       " 'SetProducer',\n",
       " 'SetReferenceCount',\n",
       " 'UnRegister',\n",
       " '__class__',\n",
       " '__delattr__',\n",
       " '__dict__',\n",
       " '__dir__',\n",
       " '__doc__',\n",
       " '__eq__',\n",
       " '__format__',\n",
       " '__ge__',\n",
       " '__getattribute__',\n",
       " '__gt__',\n",
       " '__hash__',\n",
       " '__init__',\n",
       " '__init_subclass__',\n",
       " '__le__',\n",
       " '__lt__',\n",
       " '__ne__',\n",
       " '__new__',\n",
       " '__reduce__',\n",
       " '__reduce_ex__',\n",
       " '__repr__',\n",
       " '__setattr__',\n",
       " '__sizeof__',\n",
       " '__str__',\n",
       " '__subclasshook__',\n",
       " '__this__',\n",
       " '__vtkname__']"
      ]
     },
     "execution_count": 11,
     "metadata": {},
     "output_type": "execute_result"
    }
   ],
   "source": [
    "dir(temp)"
   ]
  },
  {
   "cell_type": "code",
   "execution_count": null,
   "metadata": {
    "collapsed": true
   },
   "outputs": [],
   "source": [
    "import sys\n",
    "import vtk\n",
    "\n",
    "if len(sys.argv) < 2 or sys.argv[1] == '-h' or sys.argv[1] == '--help':\n",
    "    print('Usage: vtk-unstructuredgrid-to-stl.py <input.vtk> <output.stl>')\n",
    "    sys.exit(1)\n",
    "\n",
    "reader = vtk.vtkUnstructuredGridReader()\n",
    "reader.SetFileName(sys.argv[1])\n",
    "\n",
    "surface_filter = vtk.vtkDataSetSurfaceFilter()\n",
    "surface_filter.SetInputConnection(reader.GetOutputPort())\n",
    "\n",
    "triangle_filter = vtk.vtkTriangleFilter()\n",
    "triangle_filter.SetInputConnection(surface_filter.GetOutputPort())\n",
    "\n",
    "writer = vtk.vtkSTLWriter()\n",
    "writer.SetFileName(sys.argv[2])\n",
    "writer.SetInputConnection(triangle_filter.GetOutputPort())\n",
    "writer.Write()"
   ]
  }
 ],
 "metadata": {
  "kernelspec": {
   "display_name": "Python 3",
   "language": "python",
   "name": "python3"
  },
  "language_info": {
   "codemirror_mode": {
    "name": "ipython",
    "version": 3
   },
   "file_extension": ".py",
   "mimetype": "text/x-python",
   "name": "python",
   "nbconvert_exporter": "python",
   "pygments_lexer": "ipython3",
   "version": "3.6.4"
  }
 },
 "nbformat": 4,
 "nbformat_minor": 2
}
