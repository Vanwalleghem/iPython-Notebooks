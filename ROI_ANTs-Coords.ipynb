{
 "cells": [
  {
   "cell_type": "code",
   "execution_count": 176,
   "metadata": {
    "collapsed": true
   },
   "outputs": [],
   "source": [
    "from subprocess import call\n",
    "import time\n",
    "import glob\n",
    "import os\n",
    "import sys\n",
    "import tifffile\n",
    "import numpy as np"
   ]
  },
  {
   "cell_type": "code",
   "execution_count": 177,
   "metadata": {
    "collapsed": true
   },
   "outputs": [],
   "source": [
    "def line_prepender(filename, line):\n",
    "    with open(filename, 'r+') as f:\n",
    "        content = f.read()\n",
    "        f.seek(0, 0)\n",
    "        f.write(line.rstrip('\\r\\n') + '\\n' + content)"
   ]
  },
  {
   "cell_type": "code",
   "execution_count": 189,
   "metadata": {},
   "outputs": [
    {
     "data": {
      "text/plain": [
       "['/mnt/downloads/Itia/ROI_ANTs2/_ROIsFishFullGoodBetas09111_ERO.csv',\n",
       " '/mnt/downloads/Itia/ROI_ANTs2/_ROIsFishFullGoodBetas09112_ELO.csv',\n",
       " '/mnt/downloads/Itia/ROI_ANTs2/_ROIsFishFullGoodBetas09131_ELO.csv',\n",
       " '/mnt/downloads/Itia/ROI_ANTs2/_ROIsFishFullGoodBetas09131_ERO.csv',\n",
       " '/mnt/downloads/Itia/ROI_ANTs2/_ROIsFishFullGoodBetas09191_ERO.csv',\n",
       " '/mnt/downloads/Itia/ROI_ANTs2/_ROIsFishFullGoodBetas11281_ERO.csv',\n",
       " '/mnt/downloads/Itia/ROI_ANTs2/_ROIsFishFullGoodBetas11293_ELO.csv',\n",
       " '/mnt/downloads/Itia/ROI_ANTs2/_ROIsFishFullGoodBetas11293_ERO.csv',\n",
       " '/mnt/downloads/Itia/ROI_ANTs2/_ROIsFishFullGoodBetas11295_ERO.csv',\n",
       " '/mnt/downloads/Itia/ROI_ANTs2/_ROIsFishFullGoodBetas12051_ELO.csv',\n",
       " '/mnt/downloads/Itia/ROI_ANTs2/_ROIsFishFullGoodBetas12053_ELO.csv',\n",
       " '/mnt/downloads/Itia/ROI_ANTs2/_ROIsFishFullGoodBetas12057_ELO.csv',\n",
       " '/mnt/downloads/Itia/ROI_ANTs2/_ROIsFishFullGoodBetas12058_ERO.csv']"
      ]
     },
     "execution_count": 189,
     "metadata": {},
     "output_type": "execute_result"
    }
   ],
   "source": [
    "fnames_all =[]\n",
    "for file_name in glob.glob('/mnt/downloads/Itia/ROI_ANTs2/_ROIsFishFullGoodBetas*.csv'):\n",
    "    if (not file_name.rpartition('/')[2].startswith('_Warped') )& (not file_name.rpartition('/')[2].startswith('_2Warped')) :\n",
    "        fnames_all.append(file_name)\n",
    "fnames_all.sort()\n",
    "fnames_all"
   ]
  },
  {
   "cell_type": "code",
   "execution_count": 190,
   "metadata": {
    "collapsed": true
   },
   "outputs": [],
   "source": [
    "for i,name in enumerate(fnames_all):    \n",
    "    line_prepender(name,'x,y,z,t,l,c')"
   ]
  },
  {
   "cell_type": "code",
   "execution_count": 179,
   "metadata": {},
   "outputs": [
    {
     "data": {
      "text/plain": [
       "['/mnt/downloads/Itia/ROI_ANTs2/Itia_templateFish201709111_ERO_HS_mean00GenericAffine.mat',\n",
       " '/mnt/downloads/Itia/ROI_ANTs2/Itia_templateFish201709112_ELO_HS_mean10GenericAffine.mat',\n",
       " '/mnt/downloads/Itia/ROI_ANTs2/Itia_templateFish201709131_ELO_HS_mean20GenericAffine.mat',\n",
       " '/mnt/downloads/Itia/ROI_ANTs2/Itia_templateFish201709131_ERO_HS_mean30GenericAffine.mat',\n",
       " '/mnt/downloads/Itia/ROI_ANTs2/Itia_templateFish201709191_ERO_HS_mean40GenericAffine.mat',\n",
       " '/mnt/downloads/Itia/ROI_ANTs2/Itia_templateFish201711281_ERO_HS_mean50GenericAffine.mat',\n",
       " '/mnt/downloads/Itia/ROI_ANTs2/Itia_templateFish201711293_ELO_HS_mean60GenericAffine.mat',\n",
       " '/mnt/downloads/Itia/ROI_ANTs2/Itia_templateFish201711293_ERO_HS_mean70GenericAffine.mat',\n",
       " '/mnt/downloads/Itia/ROI_ANTs2/Itia_templateFish201711295_ERO_HS_mean80GenericAffine.mat',\n",
       " '/mnt/downloads/Itia/ROI_ANTs2/Itia_templateFish201712051_ELO_HS_mean90GenericAffine.mat',\n",
       " '/mnt/downloads/Itia/ROI_ANTs2/Itia_templateFish201712053_ELO_HS_mean100GenericAffine.mat',\n",
       " '/mnt/downloads/Itia/ROI_ANTs2/Itia_templateFish201712057_ELO_HS_mean110GenericAffine.mat',\n",
       " '/mnt/downloads/Itia/ROI_ANTs2/Itia_templateFish201712058_ERO_HS_mean120GenericAffine.mat',\n",
       " '/mnt/downloads/Itia/ROI_ANTs2/Itia_templateFish201712074_Center_HS_mean130GenericAffine.mat',\n",
       " '/mnt/downloads/Itia/ROI_ANTs2/Itia_templateFish201712074_ELO_IRO_Both_HS_mean140GenericAffine.mat',\n",
       " '/mnt/downloads/Itia/ROI_ANTs2/Itia_templateFish201712077_Center_HS_mean150GenericAffine.mat',\n",
       " '/mnt/downloads/Itia/ROI_ANTs2/Itia_templateFish201712077_ELO_IRO_Both_HS_mean160GenericAffine.mat',\n",
       " '/mnt/downloads/Itia/ROI_ANTs2/Itia_templateFish201712121_Center_HS_mean170GenericAffine.mat',\n",
       " '/mnt/downloads/Itia/ROI_ANTs2/Itia_templateFish201712121_ELO_IRO_Both_HS_mean180GenericAffine.mat',\n",
       " '/mnt/downloads/Itia/ROI_ANTs2/Itia_templateFish201712141_Center_HS_mean190GenericAffine.mat',\n",
       " '/mnt/downloads/Itia/ROI_ANTs2/Itia_templateFish201712141_ELO_IRO_HS_mean200GenericAffine.mat',\n",
       " '/mnt/downloads/Itia/ROI_ANTs2/Itia_templateFish201712144_Center_HS_mean210GenericAffine.mat',\n",
       " '/mnt/downloads/Itia/ROI_ANTs2/Itia_templateFish201712144_ELO_IRO_HS_mean220GenericAffine.mat',\n",
       " '/mnt/downloads/Itia/ROI_ANTs2/Itia_templatetemplate0GenericAffine.mat',\n",
       " '/mnt/downloads/Itia/ROI_ANTs2/SingleToTemplate_resized_1500GenericAffine.mat']"
      ]
     },
     "execution_count": 179,
     "metadata": {},
     "output_type": "execute_result"
    }
   ],
   "source": [
    "ANTsFiles =[]\n",
    "for file in glob.glob('/mnt/downloads/Itia/ROI_ANTs2/*.mat'):\n",
    "    if file.endswith(\".mat\"):\n",
    "        ANTsFiles.append(file)\n",
    "ANTsFiles.sort()\n",
    "ANTsFiles"
   ]
  },
  {
   "cell_type": "code",
   "execution_count": 191,
   "metadata": {
    "collapsed": true
   },
   "outputs": [],
   "source": [
    "os.chdir('/mnt/downloads/Itia/ROI_ANTs2/')"
   ]
  },
  {
   "cell_type": "code",
   "execution_count": 192,
   "metadata": {},
   "outputs": [],
   "source": [
    "for i,name in enumerate(fnames_all):        \n",
    "    input_coords=fnames_all[i]\n",
    "    affine_matrix=ANTsFiles[i]\n",
    "    #if i<20:\n",
    "        #assert(affine_matrix.rpartition('Fish2017')[2].partition('_HS')[0].partition('_Both')[0]==input_coords.rpartition('Fish')[2].partition('.csv')[0].replace('b',''))\n",
    "    assert(affine_matrix.rpartition('Fish2017')[2].partition('_HS')[0].partition('_Both')[0]==input_coords.rpartition('FishFullGoodBetas')[2].partition('.csv')[0].replace('b',''))\n",
    "    #if i>20:\n",
    "        #assert(affine_matrix.rpartition('Fish2017')[2].partition('_HS')[0].partition('_Both')[0]==input_coords.rpartition('Fish')[2].partition('_Both')[0].partition('.csv')[0].replace('b',''))\n",
    "    warp_image=ANTsFiles[i].replace('0GenericAffine.mat','1InverseWarp.nii.gz')\n",
    "    output_name='_Warped'+fnames_all[i].rpartition('/')[2]\n",
    "    job_string = \"\"\"antsApplyTransformsToPoints -d 3 -i %s -o %s -t [%s, 1] -t %s\"\"\" % (input_coords, output_name, affine_matrix, warp_image)\n",
    "    call([job_string],shell=True)    "
   ]
  },
  {
   "cell_type": "code",
   "execution_count": 196,
   "metadata": {},
   "outputs": [
    {
     "data": {
      "text/plain": [
       "['/mnt/downloads/Itia/ROI_ANTs2/_Warped_ROIsFishFullGoodBetas09111_ERO.csv',\n",
       " '/mnt/downloads/Itia/ROI_ANTs2/_Warped_ROIsFishFullGoodBetas09112_ELO.csv',\n",
       " '/mnt/downloads/Itia/ROI_ANTs2/_Warped_ROIsFishFullGoodBetas09131_ELO.csv',\n",
       " '/mnt/downloads/Itia/ROI_ANTs2/_Warped_ROIsFishFullGoodBetas09131_ERO.csv',\n",
       " '/mnt/downloads/Itia/ROI_ANTs2/_Warped_ROIsFishFullGoodBetas09191_ERO.csv',\n",
       " '/mnt/downloads/Itia/ROI_ANTs2/_Warped_ROIsFishFullGoodBetas11281_ERO.csv',\n",
       " '/mnt/downloads/Itia/ROI_ANTs2/_Warped_ROIsFishFullGoodBetas11293_ELO.csv',\n",
       " '/mnt/downloads/Itia/ROI_ANTs2/_Warped_ROIsFishFullGoodBetas11293_ERO.csv',\n",
       " '/mnt/downloads/Itia/ROI_ANTs2/_Warped_ROIsFishFullGoodBetas11295_ERO.csv',\n",
       " '/mnt/downloads/Itia/ROI_ANTs2/_Warped_ROIsFishFullGoodBetas12051_ELO.csv',\n",
       " '/mnt/downloads/Itia/ROI_ANTs2/_Warped_ROIsFishFullGoodBetas12053_ELO.csv',\n",
       " '/mnt/downloads/Itia/ROI_ANTs2/_Warped_ROIsFishFullGoodBetas12057_ELO.csv',\n",
       " '/mnt/downloads/Itia/ROI_ANTs2/_Warped_ROIsFishFullGoodBetas12058_ERO.csv']"
      ]
     },
     "execution_count": 196,
     "metadata": {},
     "output_type": "execute_result"
    }
   ],
   "source": [
    "fnames_all =[]\n",
    "for file_name in glob.glob('/mnt/downloads/Itia/ROI_ANTs2/_Warped_ROIsFishFullGoodBetas*.csv'):\n",
    "    if not file_name.rpartition('/')[2].startswith('_Warped_ROIsFishResized'):\n",
    "        fnames_all.append(file_name)\n",
    "fnames_all.sort()\n",
    "fnames_all"
   ]
  },
  {
   "cell_type": "code",
   "execution_count": 168,
   "metadata": {
    "collapsed": true
   },
   "outputs": [],
   "source": [
    "os.chdir('/mnt/downloads/Itia/ROI_ANTs2/')"
   ]
  },
  {
   "cell_type": "code",
   "execution_count": 197,
   "metadata": {
    "collapsed": true
   },
   "outputs": [],
   "source": [
    "for i,name in enumerate(fnames_all):    \n",
    "    coords=np.loadtxt(name,comments='x',delimiter=',')\n",
    "    output_name=name.rpartition('/')[2].replace('Fish','FishResized')\n",
    "    coords[:,0]=coords[:,0]*1.5\n",
    "    coords[:,1]=coords[:,1]*1.5   \n",
    "    np.savetxt(output_name,coords,fmt='%f',delimiter=',')"
   ]
  },
  {
   "cell_type": "code",
   "execution_count": 198,
   "metadata": {},
   "outputs": [
    {
     "data": {
      "text/plain": [
       "['/mnt/downloads/Itia/ROI_ANTs2/_Warped_ROIsFishResizedFullGoodBetas09111_ERO.csv',\n",
       " '/mnt/downloads/Itia/ROI_ANTs2/_Warped_ROIsFishResizedFullGoodBetas09112_ELO.csv',\n",
       " '/mnt/downloads/Itia/ROI_ANTs2/_Warped_ROIsFishResizedFullGoodBetas09131_ELO.csv',\n",
       " '/mnt/downloads/Itia/ROI_ANTs2/_Warped_ROIsFishResizedFullGoodBetas09131_ERO.csv',\n",
       " '/mnt/downloads/Itia/ROI_ANTs2/_Warped_ROIsFishResizedFullGoodBetas09191_ERO.csv',\n",
       " '/mnt/downloads/Itia/ROI_ANTs2/_Warped_ROIsFishResizedFullGoodBetas11281_ERO.csv',\n",
       " '/mnt/downloads/Itia/ROI_ANTs2/_Warped_ROIsFishResizedFullGoodBetas11293_ELO.csv',\n",
       " '/mnt/downloads/Itia/ROI_ANTs2/_Warped_ROIsFishResizedFullGoodBetas11293_ERO.csv',\n",
       " '/mnt/downloads/Itia/ROI_ANTs2/_Warped_ROIsFishResizedFullGoodBetas11295_ERO.csv',\n",
       " '/mnt/downloads/Itia/ROI_ANTs2/_Warped_ROIsFishResizedFullGoodBetas12051_ELO.csv',\n",
       " '/mnt/downloads/Itia/ROI_ANTs2/_Warped_ROIsFishResizedFullGoodBetas12053_ELO.csv',\n",
       " '/mnt/downloads/Itia/ROI_ANTs2/_Warped_ROIsFishResizedFullGoodBetas12057_ELO.csv',\n",
       " '/mnt/downloads/Itia/ROI_ANTs2/_Warped_ROIsFishResizedFullGoodBetas12058_ERO.csv']"
      ]
     },
     "execution_count": 198,
     "metadata": {},
     "output_type": "execute_result"
    }
   ],
   "source": [
    "fnames_all =[]\n",
    "for file_name in glob.glob('/mnt/downloads/Itia/ROI_ANTs2/_Warped*.csv'):\n",
    "    if file_name.rpartition('/')[2].startswith('_Warped_ROIsFishResized'):\n",
    "        fnames_all.append(file_name)\n",
    "fnames_all.sort()\n",
    "fnames_all"
   ]
  },
  {
   "cell_type": "code",
   "execution_count": 199,
   "metadata": {
    "collapsed": true
   },
   "outputs": [],
   "source": [
    "for i,name in enumerate(fnames_all):    \n",
    "    line_prepender(name,'x,y,z,t,l,c')"
   ]
  },
  {
   "cell_type": "code",
   "execution_count": 200,
   "metadata": {
    "collapsed": true
   },
   "outputs": [],
   "source": [
    "affine_matrix='/mnt/downloads/Itia/ROI_ANTs2/SingleToTemplate_resized_1500GenericAffine.mat'\n",
    "warp_image=ANTsFiles[i].replace('0GenericAffine.mat','1InverseWarp.nii.gz')\n",
    "for i,name in enumerate(fnames_all):    \n",
    "    input_coords=fnames_all[i]\n",
    "    output_name= fnames_all[i].replace('_Warped','_2Warped')\n",
    "    job_string = \"\"\"antsApplyTransformsToPoints -d 3 -i %s -o %s -t [%s, 1] -t %s\"\"\" % (input_coords, output_name, affine_matrix, warp_image)\n",
    "    call([job_string],shell=True)    "
   ]
  },
  {
   "cell_type": "code",
   "execution_count": null,
   "metadata": {
    "collapsed": true
   },
   "outputs": [],
   "source": []
  }
 ],
 "metadata": {
  "kernelspec": {
   "display_name": "Python [conda root]",
   "language": "python",
   "name": "conda-root-py"
  },
  "language_info": {
   "codemirror_mode": {
    "name": "ipython",
    "version": 2
   },
   "file_extension": ".py",
   "mimetype": "text/x-python",
   "name": "python",
   "nbconvert_exporter": "python",
   "pygments_lexer": "ipython2",
   "version": "2.7.13"
  }
 },
 "nbformat": 4,
 "nbformat_minor": 2
}
