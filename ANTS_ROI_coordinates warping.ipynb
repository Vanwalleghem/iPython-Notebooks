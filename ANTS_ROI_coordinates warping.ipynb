{
 "cells": [
  {
   "cell_type": "code",
   "execution_count": 1,
   "metadata": {},
   "outputs": [],
   "source": [
    "from subprocess import call\n",
    "import time\n",
    "import glob\n",
    "import os\n",
    "import sys\n",
    "import numpy as np\n",
    "def line_prepender(filename, line):\n",
    "    with open(filename, 'r+') as f:\n",
    "        content = f.read()\n",
    "        if content[0]!='x':\n",
    "            f.seek(0, 0)\n",
    "            f.write(line.rstrip('\\r\\n') + '\\n' + content)"
   ]
  },
  {
   "cell_type": "code",
   "execution_count": 3,
   "metadata": {
    "scrolled": true
   },
   "outputs": [
    {
     "data": {
      "text/plain": [
       "['/mnt/d/Rebecca/AuditoryProfile/Tonotopy/ROIs_1111101.csv',\n",
       " '/mnt/d/Rebecca/AuditoryProfile/Tonotopy/ROIs_1111102.csv',\n",
       " '/mnt/d/Rebecca/AuditoryProfile/Tonotopy/ROIs_1111103.csv',\n",
       " '/mnt/d/Rebecca/AuditoryProfile/Tonotopy/ROIs_1111104.csv',\n",
       " '/mnt/d/Rebecca/AuditoryProfile/Tonotopy/ROIs_120202.csv',\n",
       " '/mnt/d/Rebecca/AuditoryProfile/Tonotopy/ROIs_120203.csv',\n",
       " '/mnt/d/Rebecca/AuditoryProfile/Tonotopy/ROIs_120204.csv',\n",
       " '/mnt/d/Rebecca/AuditoryProfile/Tonotopy/ROIs_120205.csv',\n",
       " '/mnt/d/Rebecca/AuditoryProfile/Tonotopy/ROIs_120206.csv',\n",
       " '/mnt/d/Rebecca/AuditoryProfile/Tonotopy/ROIs_120207.csv']"
      ]
     },
     "execution_count": 3,
     "metadata": {},
     "output_type": "execute_result"
    }
   ],
   "source": [
    "##os.getcwd()\n",
    "#directory='/mnt/d/Temp/Seb_auditory/' #Choose directory with ROI.csv files\n",
    "directory='/mnt/d/Rebecca/AuditoryProfile/Tonotopy/'\n",
    "fnames_all =[]\n",
    "for file_name in glob.glob(directory+'ROI*.csv'):\n",
    "    if (not file_name.rpartition('/')[2].startswith('_Warped') )& (not file_name.partition('.csv')[0].endswith('_Resized')) :\n",
    "        fnames_all.append(file_name)\n",
    "fnames_all.sort()\n",
    "for i,name in enumerate(fnames_all):    \n",
    "    line_prepender(name,'x,y,z,t,l,c')\n",
    "fnames_all\n",
    "##os.listdir(directory)\n",
    "\n",
    "##glob.glob(directory+'_ROI*.csv')\n"
   ]
  },
  {
   "cell_type": "code",
   "execution_count": 4,
   "metadata": {},
   "outputs": [],
   "source": [
    "#Switch ROIs to physical space coordinates-Check that these match your step size and binning\n",
    "for i,name in enumerate(fnames_all):    \n",
    "    coords=np.loadtxt(name,comments='x',delimiter=',')    \n",
    "    output_name=name.replace('.csv','_Resized.csv')\n",
    "    coords[:,0]=coords[:,0]*1.5 # pixel size for X\n",
    "    coords[:,1]=coords[:,1]*1.5 # pixel size for Y\n",
    "    coords[:,2]=coords[:,2]*5 # pixel size for Z\n",
    "    np.savetxt(output_name,coords,fmt='%f',delimiter=',')"
   ]
  },
  {
   "cell_type": "code",
   "execution_count": 6,
   "metadata": {},
   "outputs": [
    {
     "data": {
      "text/plain": [
       "['/mnt/d/Rebecca/AuditoryProfile/Tonotopy/ROIs_1111101_Resized.csv',\n",
       " '/mnt/d/Rebecca/AuditoryProfile/Tonotopy/ROIs_1111102_Resized.csv',\n",
       " '/mnt/d/Rebecca/AuditoryProfile/Tonotopy/ROIs_1111103_Resized.csv',\n",
       " '/mnt/d/Rebecca/AuditoryProfile/Tonotopy/ROIs_1111104_Resized.csv',\n",
       " '/mnt/d/Rebecca/AuditoryProfile/Tonotopy/ROIs_120202_Resized.csv',\n",
       " '/mnt/d/Rebecca/AuditoryProfile/Tonotopy/ROIs_120203_Resized.csv',\n",
       " '/mnt/d/Rebecca/AuditoryProfile/Tonotopy/ROIs_120204_Resized.csv',\n",
       " '/mnt/d/Rebecca/AuditoryProfile/Tonotopy/ROIs_120205_Resized.csv',\n",
       " '/mnt/d/Rebecca/AuditoryProfile/Tonotopy/ROIs_120206_Resized.csv',\n",
       " '/mnt/d/Rebecca/AuditoryProfile/Tonotopy/ROIs_120207_Resized.csv']"
      ]
     },
     "execution_count": 6,
     "metadata": {},
     "output_type": "execute_result"
    }
   ],
   "source": [
    "fnames_all =[]\n",
    "for file_name in glob.glob(directory+'ROIs*_Resized.csv'):\n",
    "    if (not file_name.rpartition('/')[2].startswith('_Warped') )& (not file_name.rpartition('/')[2].startswith('2_HD')) :\n",
    "        fnames_all.append(file_name)\n",
    "fnames_all.sort()\n",
    "for i,name in enumerate(fnames_all):    \n",
    "    line_prepender(name,'x,y,z,t,l,c')\n",
    "fnames_all"
   ]
  },
  {
   "cell_type": "code",
   "execution_count": 37,
   "metadata": {},
   "outputs": [
    {
     "data": {
      "text/plain": [
       "'_Warped8H.csv'"
      ]
     },
     "execution_count": 37,
     "metadata": {},
     "output_type": "execute_result"
    }
   ],
   "source": [
    "output_name"
   ]
  },
  {
   "cell_type": "code",
   "execution_count": 36,
   "metadata": {},
   "outputs": [
    {
     "name": "stdout",
     "output_type": "stream",
     "text": [
      "antsApplyTransformsToPoints -d 3 -i /mnt/d/Seb_temp/Recovery/_ROIs8H_Resized.csv -o _Warped8H.csv -t [/mnt/d/Seb_temp/Recovery/hs_8H_Aud0GenericAffine.mat, 1] -t /mnt/d/Seb_temp/Recovery/hs_8H_Aud1InverseWarp.nii.gz\n"
     ]
    },
    {
     "data": {
      "text/plain": [
       "0"
      ]
     },
     "execution_count": 36,
     "metadata": {},
     "output_type": "execute_result"
    }
   ],
   "source": [
    "name=fnames_all[9]\n",
    "fish_nb=name.rpartition('_ROIs')[2].partition('_Resized.csv')[0]\n",
    "#fish_nb=fish_nb[0:-1]+'_fish'+fish_nb[-1] \n",
    "affine_matrix = ANTsFiles[20]\n",
    "warp_image=affine_matrix.replace('0GenericAffine.mat','1InverseWarp.nii.gz')\n",
    "output_name='_Warped'+fish_nb+'.csv'\n",
    "job_string = \"\"\"antsApplyTransformsToPoints -d 3 -i %s -o %s -t [%s, 1] -t %s\"\"\" % (name, output_name, affine_matrix, warp_image)\n",
    "print(job_string)\n",
    "call([job_string],shell=True)"
   ]
  },
  {
   "cell_type": "code",
   "execution_count": 27,
   "metadata": {},
   "outputs": [
    {
     "name": "stdout",
     "output_type": "stream",
     "text": [
      "antsApplyTransformsToPoints -d 3 -i /mnt/d/Seb_temp/Recovery/_ROIs1I_Resized.csv -o _Warped1I.csv -t [/mnt/d/Seb_temp/Recovery/hs_1I_VisToTemplate0GenericAffine.mat, 1] -t /mnt/d/Seb_temp/Recovery/hs_1I_VisToTemplate1InverseWarp.nii.gz\n"
     ]
    },
    {
     "data": {
      "text/plain": [
       "0"
      ]
     },
     "execution_count": 27,
     "metadata": {},
     "output_type": "execute_result"
    }
   ],
   "source": [
    "name=fnames_all[1]\n",
    "fish_nb=name.rpartition('_ROIs')[2].partition('_Resized.csv')[0]\n",
    "#fish_nb=fish_nb[0:-1]+'_fish'+fish_nb[-1] \n",
    "affine_matrix = ANTsFiles[7]\n",
    "warp_image=affine_matrix.replace('0GenericAffine.mat','1InverseWarp.nii.gz')\n",
    "output_name='_Warped'+fish_nb+'.csv'\n",
    "job_string = \"\"\"antsApplyTransformsToPoints -d 3 -i %s -o %s -t [%s, 1] -t %s\"\"\" % (name, output_name, affine_matrix, warp_image)\n",
    "print(job_string)\n",
    "call([job_string],shell=True)"
   ]
  },
  {
   "cell_type": "code",
   "execution_count": 10,
   "metadata": {},
   "outputs": [
    {
     "data": {
      "text/plain": [
       "'5E'"
      ]
     },
     "execution_count": 10,
     "metadata": {},
     "output_type": "execute_result"
    }
   ],
   "source": [
    "name.rpartition('_ROIs')[2].partition('_Resized.csv')[0]"
   ]
  },
  {
   "cell_type": "code",
   "execution_count": 9,
   "metadata": {},
   "outputs": [
    {
     "data": {
      "text/plain": [
       "'1111101'"
      ]
     },
     "execution_count": 9,
     "metadata": {},
     "output_type": "execute_result"
    }
   ],
   "source": [
    "name=fnames_all[0]\n",
    "fish_nb=name.rpartition('ROIs_')[2].partition('_Resized.csv')[0]\n",
    "fish_nb"
   ]
  },
  {
   "cell_type": "code",
   "execution_count": 18,
   "metadata": {},
   "outputs": [
    {
     "data": {
      "text/plain": [
       "'hs__11111_01'"
      ]
     },
     "execution_count": 18,
     "metadata": {},
     "output_type": "execute_result"
    }
   ],
   "source": [
    "'hs_'+fish_nb[0:-2]+'_'+fish_nb[-2:]+''"
   ]
  },
  {
   "cell_type": "code",
   "execution_count": 19,
   "metadata": {},
   "outputs": [
    {
     "name": "stdout",
     "output_type": "stream",
     "text": [
      "1111101/mnt/d/Rebecca/AuditoryProfile/Tonotopy/hs_11111_01ToTemplate0GenericAffine.mat\n",
      "1111102/mnt/d/Rebecca/AuditoryProfile/Tonotopy/hs_11111_02ToTemplate0GenericAffine.mat\n",
      "1111103/mnt/d/Rebecca/AuditoryProfile/Tonotopy/hs_11111_03ToTemplate0GenericAffine.mat\n",
      "1111104/mnt/d/Rebecca/AuditoryProfile/Tonotopy/hs_11111_04ToTemplate0GenericAffine.mat\n",
      "120202/mnt/d/Rebecca/AuditoryProfile/Tonotopy/hs_1202_02ToTemplate0GenericAffine.mat\n",
      "120203/mnt/d/Rebecca/AuditoryProfile/Tonotopy/hs_1202_03ToTemplate0GenericAffine.mat\n",
      "120204/mnt/d/Rebecca/AuditoryProfile/Tonotopy/hs_1202_04ToTemplate0GenericAffine.mat\n",
      "120205/mnt/d/Rebecca/AuditoryProfile/Tonotopy/hs_1202_05ToTemplate0GenericAffine.mat\n",
      "120206/mnt/d/Rebecca/AuditoryProfile/Tonotopy/hs_1202_06ToTemplate0GenericAffine.mat\n",
      "120207/mnt/d/Rebecca/AuditoryProfile/Tonotopy/hs_1202_07ToTemplate0GenericAffine.mat\n"
     ]
    }
   ],
   "source": [
    "#Check regex and string splits for your filename convention - Name of the fish ROI file should match the ANTS matlab files\n",
    "#_ROIs11121.csv\n",
    "os.chdir(directory)\n",
    "for i,name in enumerate(fnames_all):       \n",
    "    fish_nb=name.rpartition('ROIs_')[2].partition('_Resized.csv')[0]\n",
    "    #fish_nb=name.rpartition('_ROIsFish')[2].partition('_tagged')[0]\n",
    "    #fish_nb=fish_nb[0:-1]+'_fish'+fish_nb[-1] \n",
    "    affine_matrix = next(x for x in ANTsFiles if 'hs_'+fish_nb[0:-2]+'_'+fish_nb[-2:]+'' in x)\n",
    "    #affine_matrix = next(x for x in ANTsFiles if fish_nb==x.rpartition('hs_')[2].partition('_1')[0]+'_'+x.rpartition('_St')[2].partition('ToTemp')[0])\n",
    "    print(fish_nb + '  ' + affine_matrix)\n",
    "    warp_image=affine_matrix.replace('0GenericAffine.mat','1InverseWarp.nii.gz')\n",
    "    output_name='_Warped'+fish_nb+'.csv'\n",
    "    job_string = \"\"\"antsApplyTransformsToPoints -d 3 -i %s -o %s -t [%s, 1] -t %s\"\"\" % (name, output_name, affine_matrix, warp_image)\n",
    "    call([job_string],shell=True)"
   ]
  },
  {
   "cell_type": "code",
   "execution_count": 7,
   "metadata": {
    "scrolled": true
   },
   "outputs": [
    {
     "data": {
      "text/plain": [
       "['/mnt/d/Rebecca/AuditoryProfile/Tonotopy/hs_11111_01ToTemplate0GenericAffine.mat',\n",
       " '/mnt/d/Rebecca/AuditoryProfile/Tonotopy/hs_11111_02ToTemplate0GenericAffine.mat',\n",
       " '/mnt/d/Rebecca/AuditoryProfile/Tonotopy/hs_11111_03ToTemplate0GenericAffine.mat',\n",
       " '/mnt/d/Rebecca/AuditoryProfile/Tonotopy/hs_11111_04ToTemplate0GenericAffine.mat',\n",
       " '/mnt/d/Rebecca/AuditoryProfile/Tonotopy/hs_1202_02ToTemplate0GenericAffine.mat',\n",
       " '/mnt/d/Rebecca/AuditoryProfile/Tonotopy/hs_1202_03ToTemplate0GenericAffine.mat',\n",
       " '/mnt/d/Rebecca/AuditoryProfile/Tonotopy/hs_1202_04ToTemplate0GenericAffine.mat',\n",
       " '/mnt/d/Rebecca/AuditoryProfile/Tonotopy/hs_1202_05ToTemplate0GenericAffine.mat',\n",
       " '/mnt/d/Rebecca/AuditoryProfile/Tonotopy/hs_1202_06ToTemplate0GenericAffine.mat',\n",
       " '/mnt/d/Rebecca/AuditoryProfile/Tonotopy/hs_1202_07ToTemplate0GenericAffine.mat']"
      ]
     },
     "execution_count": 7,
     "metadata": {},
     "output_type": "execute_result"
    }
   ],
   "source": [
    "ANTsFiles =[]\n",
    "for file in glob.glob(directory+'*Affine.mat'):\n",
    "    if file.endswith(\".mat\"):\n",
    "        ANTsFiles.append(file)\n",
    "ANTsFiles.sort()\n",
    "ANTsFiles"
   ]
  },
  {
   "cell_type": "code",
   "execution_count": 20,
   "metadata": {},
   "outputs": [
    {
     "data": {
      "text/plain": [
       "['/mnt/d/Rebecca/AuditoryProfile/Tonotopy/_Warped1111101.csv',\n",
       " '/mnt/d/Rebecca/AuditoryProfile/Tonotopy/_Warped1111102.csv',\n",
       " '/mnt/d/Rebecca/AuditoryProfile/Tonotopy/_Warped1111103.csv',\n",
       " '/mnt/d/Rebecca/AuditoryProfile/Tonotopy/_Warped1111104.csv',\n",
       " '/mnt/d/Rebecca/AuditoryProfile/Tonotopy/_Warped120202.csv',\n",
       " '/mnt/d/Rebecca/AuditoryProfile/Tonotopy/_Warped120203.csv',\n",
       " '/mnt/d/Rebecca/AuditoryProfile/Tonotopy/_Warped120204.csv',\n",
       " '/mnt/d/Rebecca/AuditoryProfile/Tonotopy/_Warped120205.csv',\n",
       " '/mnt/d/Rebecca/AuditoryProfile/Tonotopy/_Warped120206.csv',\n",
       " '/mnt/d/Rebecca/AuditoryProfile/Tonotopy/_Warped120207.csv']"
      ]
     },
     "execution_count": 20,
     "metadata": {},
     "output_type": "execute_result"
    }
   ],
   "source": [
    "fnames_all =[]\n",
    "for file_name in glob.glob(directory+'_Warped*'):    \n",
    "    fnames_all.append(file_name)\n",
    "fnames_all.sort()\n",
    "fnames_all"
   ]
  },
  {
   "cell_type": "code",
   "execution_count": 29,
   "metadata": {},
   "outputs": [
    {
     "name": "stdout",
     "output_type": "stream",
     "text": [
      "antsApplyTransformsToPoints -d 3 -i /mnt/d/Temp/SebRec/_Warped7I.csv -o _2Warped7I.csv -t [/mnt/d/Temp/SebRec/hs_7I_VisToTemplate0GenericAffine.mat, 1] -t /mnt/d/Temp/SebRec/hs_7I_VisToTemplate1InverseWarp.nii.gz\n"
     ]
    },
    {
     "data": {
      "text/plain": [
       "0"
      ]
     },
     "execution_count": 29,
     "metadata": {},
     "output_type": "execute_result"
    }
   ],
   "source": [
    "name=fnames_all[1]\n",
    "fish_nb=name.rpartition('_Warped')[2].partition('.csv')[0]\n",
    "#fish_nb=fish_nb[0:-1]+'_fish'+fish_nb[-1] \n",
    "affine_matrix = ANTsFiles[-1]\n",
    "warp_image=affine_matrix.replace('0GenericAffine.mat','1InverseWarp.nii.gz')\n",
    "output_name='_2Warped'+fish_nb+'.csv'\n",
    "job_string = \"\"\"antsApplyTransformsToPoints -d 3 -i %s -o %s -t [%s, 1] -t %s\"\"\" % (name, output_name, affine_matrix, warp_image)\n",
    "print(job_string)\n",
    "call([job_string],shell=True)"
   ]
  },
  {
   "cell_type": "code",
   "execution_count": 14,
   "metadata": {},
   "outputs": [],
   "source": [
    "fnames_all =[]\n",
    "for file_name in glob.glob(directory+'_Warped*'):    \n",
    "    fnames_all.append(file_name)\n",
    "fnames_all.sort()\n",
    "affine_matrix='/mnt/d/temp/Itia/Itia_template_toZbrain0GenericAffine.mat' #Need the warp to Zbrain file\n",
    "warp_image=affine_matrix.replace('0GenericAffine.mat','1InverseWarp.nii.gz')\n",
    "for i,name in enumerate(fnames_all): \n",
    "    input_coords=fnames_all[i]\n",
    "    output_name= fnames_all[i].replace('_Warped','_2Warped')\n",
    "    job_string = \"\"\"antsApplyTransformsToPoints -d 3 -i %s -o %s -t [%s, 1] -t %s\"\"\" % (input_coords, output_name, affine_matrix, warp_image)\n",
    "    call([job_string],shell=True)  \n",
    "    name"
   ]
  },
  {
   "cell_type": "code",
   "execution_count": 21,
   "metadata": {},
   "outputs": [],
   "source": [
    "fnames_all =[]\n",
    "for file_name in glob.glob(directory+'_Warped*'):    \n",
    "    fnames_all.append(file_name)\n",
    "fnames_all.sort()\n",
    "affine_matrix='/mnt/d/Emmanuel/EmmANTs2020/EmmFvSLong0GenericAffine.mat' #Need the warp to Zbrain file\n",
    "warp_image=affine_matrix.replace('0GenericAffine.mat','1InverseWarp.nii.gz')\n",
    "for i,name in enumerate(fnames_all): \n",
    "    input_coords=fnames_all[i]\n",
    "    output_name= fnames_all[i].replace('_Warped','_2Warped')\n",
    "    job_string = \"\"\"antsApplyTransformsToPoints -d 3 -i %s -o %s -t [%s, 1] -t %s\"\"\" % (input_coords, output_name, affine_matrix, warp_image)\n",
    "    call([job_string],shell=True)  \n",
    "    name"
   ]
  },
  {
   "cell_type": "code",
   "execution_count": 27,
   "metadata": {},
   "outputs": [
    {
     "data": {
      "text/plain": [
       "'/mnt/d/Temp/Itia/_ROIs29_Resized.csv'"
      ]
     },
     "execution_count": 27,
     "metadata": {},
     "output_type": "execute_result"
    }
   ],
   "source": [
    "fnames_all =[]\n",
    "for file_name in glob.glob(directory+'_Warped*'):    \n",
    "    fnames_all.append(file_name)\n",
    "fnames_all.sort()\n",
    "affine_matrix='/mnt/d/Rebecca/AuditoryProfile/RebeccaGoodFishTemplatetemplate0.nii.gz0GenericAffine.mat' #Need the warp to Zbrain file\n",
    "warp_image=affine_matrix.replace('0GenericAffine.mat','1InverseWarp.nii.gz')\n",
    "i=4\n",
    "input_coords=fnames_all[i]\n",
    "output_name= fnames_all[i].replace('_Warped','_2Warped')\n",
    "job_string = \"\"\"antsApplyTransformsToPoints -d 3 -i %s -o %s -t [%s, 1] -t %s\"\"\" % (input_coords, output_name, affine_matrix, warp_image)\n",
    "call([job_string],shell=True)  \n",
    "name"
   ]
  },
  {
   "cell_type": "code",
   "execution_count": 21,
   "metadata": {},
   "outputs": [
    {
     "data": {
      "text/plain": [
       "'/mnt/d/Temp/SebRec//'"
      ]
     },
     "execution_count": 21,
     "metadata": {},
     "output_type": "execute_result"
    }
   ],
   "source": [
    "directory"
   ]
  },
  {
   "cell_type": "code",
   "execution_count": 30,
   "metadata": {},
   "outputs": [],
   "source": [
    "fnames_all =[]\n",
    "for file_name in glob.glob(directory+'_2Warped*'):    \n",
    "    fnames_all.append(file_name)\n",
    "fnames_all.sort()"
   ]
  },
  {
   "cell_type": "code",
   "execution_count": 31,
   "metadata": {},
   "outputs": [
    {
     "data": {
      "text/plain": [
       "['/mnt/d/Temp/SebRec/_2Warped5E.csv', '/mnt/d/Temp/SebRec/_2Warped7I.csv']"
      ]
     },
     "execution_count": 31,
     "metadata": {},
     "output_type": "execute_result"
    }
   ],
   "source": [
    "fnames_all"
   ]
  },
  {
   "cell_type": "code",
   "execution_count": 32,
   "metadata": {},
   "outputs": [],
   "source": [
    "fnames_all =[]\n",
    "for file_name in glob.glob(directory+'_2Warped*'):    \n",
    "    fnames_all.append(file_name)\n",
    "fnames_all.sort()\n",
    "affine_matrix='/mnt/d/Emmanuel/EmmANTs2020/EmmFvSLong0GenericAffine.mat' #Need the warp to Zbrain file\n",
    "warp_image=affine_matrix.replace('0GenericAffine.mat','1InverseWarp.nii.gz')\n",
    "for i,name in enumerate(fnames_all): \n",
    "    input_coords=fnames_all[i]\n",
    "    output_name= fnames_all[i].replace('_2Warped','_3Warped')\n",
    "    job_string = \"\"\"antsApplyTransformsToPoints -d 3 -i %s -o %s -t [%s, 1] -t %s\"\"\" % (input_coords, output_name, affine_matrix, warp_image)\n",
    "    call([job_string],shell=True)  \n",
    "    name"
   ]
  },
  {
   "cell_type": "code",
   "execution_count": 15,
   "metadata": {},
   "outputs": [
    {
     "data": {
      "text/plain": [
       "['/mnt/d/Rebecca/Sensitivity/_ROIs201810221.csv',\n",
       " '/mnt/d/Rebecca/Sensitivity/_ROIs201810222.csv',\n",
       " '/mnt/d/Rebecca/Sensitivity/_ROIs201810223.csv',\n",
       " '/mnt/d/Rebecca/Sensitivity/_ROIs201810224.csv',\n",
       " '/mnt/d/Rebecca/Sensitivity/_ROIs201810225.csv',\n",
       " '/mnt/d/Rebecca/Sensitivity/_ROIs201810226.csv',\n",
       " '/mnt/d/Rebecca/Sensitivity/_ROIs201810227.csv',\n",
       " '/mnt/d/Rebecca/Sensitivity/_ROIs201810231.csv',\n",
       " '/mnt/d/Rebecca/Sensitivity/_ROIs201810232.csv',\n",
       " '/mnt/d/Rebecca/Sensitivity/_ROIs201810233.csv',\n",
       " '/mnt/d/Rebecca/Sensitivity/_ROIs201810234.csv',\n",
       " '/mnt/d/Rebecca/Sensitivity/_ROIs201810291.csv',\n",
       " '/mnt/d/Rebecca/Sensitivity/_ROIs201810292.csv',\n",
       " '/mnt/d/Rebecca/Sensitivity/_ROIs201810293.csv',\n",
       " '/mnt/d/Rebecca/Sensitivity/_ROIs201810294.csv',\n",
       " '/mnt/d/Rebecca/Sensitivity/_ROIs201810295.csv',\n",
       " '/mnt/d/Rebecca/Sensitivity/_ROIs201810296.csv',\n",
       " '/mnt/d/Rebecca/Sensitivity/_ROIs201810297.csv',\n",
       " '/mnt/d/Rebecca/Sensitivity/_ROIs201810301.csv',\n",
       " '/mnt/d/Rebecca/Sensitivity/_ROIs201810302.csv',\n",
       " '/mnt/d/Rebecca/Sensitivity/_ROIs201810304.csv',\n",
       " '/mnt/d/Rebecca/Sensitivity/_ROIs201811051.csv',\n",
       " '/mnt/d/Rebecca/Sensitivity/_ROIs201811052.csv',\n",
       " '/mnt/d/Rebecca/Sensitivity/_ROIs201811053.csv',\n",
       " '/mnt/d/Rebecca/Sensitivity/_ROIs201811054.csv',\n",
       " '/mnt/d/Rebecca/Sensitivity/_ROIs201811055.csv',\n",
       " '/mnt/d/Rebecca/Sensitivity/_ROIs201811056.csv',\n",
       " '/mnt/d/Rebecca/Sensitivity/_ROIs201811061.csv',\n",
       " '/mnt/d/Rebecca/Sensitivity/_ROIs201811062.csv',\n",
       " '/mnt/d/Rebecca/Sensitivity/_ROIs201811063.csv',\n",
       " '/mnt/d/Rebecca/Sensitivity/_ROIs201811064.csv',\n",
       " '/mnt/d/Rebecca/Sensitivity/_ROIs201811065.csv',\n",
       " '/mnt/d/Rebecca/Sensitivity/_ROIs201811121.csv',\n",
       " '/mnt/d/Rebecca/Sensitivity/_ROIs201811124.csv',\n",
       " '/mnt/d/Rebecca/Sensitivity/_ROIs201811125.csv',\n",
       " '/mnt/d/Rebecca/Sensitivity/_ROIs201811126.csv',\n",
       " '/mnt/d/Rebecca/Sensitivity/_ROIs201811127.csv',\n",
       " '/mnt/d/Rebecca/Sensitivity/_ROIs201811191.csv',\n",
       " '/mnt/d/Rebecca/Sensitivity/_ROIs201811192.csv',\n",
       " '/mnt/d/Rebecca/Sensitivity/_ROIs201811193.csv',\n",
       " '/mnt/d/Rebecca/Sensitivity/_ROIs201811194.csv',\n",
       " '/mnt/d/Rebecca/Sensitivity/_ROIs201811195.csv',\n",
       " '/mnt/d/Rebecca/Sensitivity/_ROIs201811196.csv',\n",
       " '/mnt/d/Rebecca/Sensitivity/_ROIs201811197.csv',\n",
       " '/mnt/d/Rebecca/Sensitivity/_ROIs201811221.csv',\n",
       " '/mnt/d/Rebecca/Sensitivity/_ROIs201811222.csv',\n",
       " '/mnt/d/Rebecca/Sensitivity/_ROIs201811223.csv',\n",
       " '/mnt/d/Rebecca/Sensitivity/_ROIs201811224.csv']"
      ]
     },
     "execution_count": 15,
     "metadata": {},
     "output_type": "execute_result"
    }
   ],
   "source": [
    "##os.getcwd()\n",
    "directory='/mnt/d/Rebecca/Sensitivity/' #Choose directory with ROI.csv files\n",
    "fnames_all =[]\n",
    "for file_name in glob.glob(directory+'_ROI*.csv'):\n",
    "    if (not file_name.rpartition('/')[2].startswith('_Warped') )& (not file_name.partition('.csv')[0].endswith('_Resized')) :\n",
    "        fnames_all.append(file_name)\n",
    "fnames_all.sort()\n",
    "for i,name in enumerate(fnames_all):    \n",
    "    line_prepender(name,'x,y,z,t,l,c')\n",
    "fnames_all\n",
    "##os.listdir(directory)\n",
    "\n",
    "##glob.glob(directory+'_ROI*.csv')\n"
   ]
  },
  {
   "cell_type": "code",
   "execution_count": 17,
   "metadata": {},
   "outputs": [],
   "source": [
    "##os.getcwd()\n",
    "directory='/mnt/c/Emmanuel_temp/fmr1_loomhab/forANTS/Emmanuel_fmr1_loomhab/' #Choose directory with ROI.csv files\n",
    "\n",
    "##os.listdir(directory)\n",
    "\n",
    "##glob.glob(directory+'_ROI*.csv')\n"
   ]
  },
  {
   "cell_type": "code",
   "execution_count": 87,
   "metadata": {
    "scrolled": true
   },
   "outputs": [
    {
     "data": {
      "text/plain": [
       "['/mnt/c/Emmanuel_temp/fmr1_loomhab/forANTS/Emmanuel_fmr1_loomhab/_ROIsFish201810031.csv',\n",
       " '/mnt/c/Emmanuel_temp/fmr1_loomhab/forANTS/Emmanuel_fmr1_loomhab/_ROIsFish201810032.csv',\n",
       " '/mnt/c/Emmanuel_temp/fmr1_loomhab/forANTS/Emmanuel_fmr1_loomhab/_ROIsFish201810033.csv',\n",
       " '/mnt/c/Emmanuel_temp/fmr1_loomhab/forANTS/Emmanuel_fmr1_loomhab/_ROIsFish201810034.csv',\n",
       " '/mnt/c/Emmanuel_temp/fmr1_loomhab/forANTS/Emmanuel_fmr1_loomhab/_ROIsFish201810041.csv',\n",
       " '/mnt/c/Emmanuel_temp/fmr1_loomhab/forANTS/Emmanuel_fmr1_loomhab/_ROIsFish201810043.csv',\n",
       " '/mnt/c/Emmanuel_temp/fmr1_loomhab/forANTS/Emmanuel_fmr1_loomhab/_ROIsFish201810044.csv',\n",
       " '/mnt/c/Emmanuel_temp/fmr1_loomhab/forANTS/Emmanuel_fmr1_loomhab/_ROIsFish201810046.csv',\n",
       " '/mnt/c/Emmanuel_temp/fmr1_loomhab/forANTS/Emmanuel_fmr1_loomhab/_ROIsFish201810047.csv',\n",
       " '/mnt/c/Emmanuel_temp/fmr1_loomhab/forANTS/Emmanuel_fmr1_loomhab/_ROIsFish201810049.csv',\n",
       " '/mnt/c/Emmanuel_temp/fmr1_loomhab/forANTS/Emmanuel_fmr1_loomhab/_ROIsFish201810111.csv',\n",
       " '/mnt/c/Emmanuel_temp/fmr1_loomhab/forANTS/Emmanuel_fmr1_loomhab/_ROIsFish2018101110.csv',\n",
       " '/mnt/c/Emmanuel_temp/fmr1_loomhab/forANTS/Emmanuel_fmr1_loomhab/_ROIsFish201810113.csv',\n",
       " '/mnt/c/Emmanuel_temp/fmr1_loomhab/forANTS/Emmanuel_fmr1_loomhab/_ROIsFish201810114.csv',\n",
       " '/mnt/c/Emmanuel_temp/fmr1_loomhab/forANTS/Emmanuel_fmr1_loomhab/_ROIsFish201810115.csv',\n",
       " '/mnt/c/Emmanuel_temp/fmr1_loomhab/forANTS/Emmanuel_fmr1_loomhab/_ROIsFish201810116.csv',\n",
       " '/mnt/c/Emmanuel_temp/fmr1_loomhab/forANTS/Emmanuel_fmr1_loomhab/_ROIsFish201810117.csv',\n",
       " '/mnt/c/Emmanuel_temp/fmr1_loomhab/forANTS/Emmanuel_fmr1_loomhab/_ROIsFish201810118.csv',\n",
       " '/mnt/c/Emmanuel_temp/fmr1_loomhab/forANTS/Emmanuel_fmr1_loomhab/_ROIsFish201810119.csv',\n",
       " '/mnt/c/Emmanuel_temp/fmr1_loomhab/forANTS/Emmanuel_fmr1_loomhab/_ROIsFish201810251.csv',\n",
       " '/mnt/c/Emmanuel_temp/fmr1_loomhab/forANTS/Emmanuel_fmr1_loomhab/_ROIsFish201810252.csv',\n",
       " '/mnt/c/Emmanuel_temp/fmr1_loomhab/forANTS/Emmanuel_fmr1_loomhab/_ROIsFish201810254.csv',\n",
       " '/mnt/c/Emmanuel_temp/fmr1_loomhab/forANTS/Emmanuel_fmr1_loomhab/_ROIsFish201810255.csv',\n",
       " '/mnt/c/Emmanuel_temp/fmr1_loomhab/forANTS/Emmanuel_fmr1_loomhab/_ROIsFish201810256.csv',\n",
       " '/mnt/c/Emmanuel_temp/fmr1_loomhab/forANTS/Emmanuel_fmr1_loomhab/_ROIsFish201810257.csv',\n",
       " '/mnt/c/Emmanuel_temp/fmr1_loomhab/forANTS/Emmanuel_fmr1_loomhab/_ROIsFish201810258.csv',\n",
       " '/mnt/c/Emmanuel_temp/fmr1_loomhab/forANTS/Emmanuel_fmr1_loomhab/_ROIsFish201811081.csv',\n",
       " '/mnt/c/Emmanuel_temp/fmr1_loomhab/forANTS/Emmanuel_fmr1_loomhab/_ROIsFish201811082.csv',\n",
       " '/mnt/c/Emmanuel_temp/fmr1_loomhab/forANTS/Emmanuel_fmr1_loomhab/_ROIsFish201811083.csv',\n",
       " '/mnt/c/Emmanuel_temp/fmr1_loomhab/forANTS/Emmanuel_fmr1_loomhab/_ROIsFish201811084.csv',\n",
       " '/mnt/c/Emmanuel_temp/fmr1_loomhab/forANTS/Emmanuel_fmr1_loomhab/_ROIsFish201811085.csv',\n",
       " '/mnt/c/Emmanuel_temp/fmr1_loomhab/forANTS/Emmanuel_fmr1_loomhab/_ROIsFish201811086.csv',\n",
       " '/mnt/c/Emmanuel_temp/fmr1_loomhab/forANTS/Emmanuel_fmr1_loomhab/_ROIsFish201811087.csv',\n",
       " '/mnt/c/Emmanuel_temp/fmr1_loomhab/forANTS/Emmanuel_fmr1_loomhab/_ROIsFish201811088.csv',\n",
       " '/mnt/c/Emmanuel_temp/fmr1_loomhab/forANTS/Emmanuel_fmr1_loomhab/_ROIsFish201811089.csv',\n",
       " '/mnt/c/Emmanuel_temp/fmr1_loomhab/forANTS/Emmanuel_fmr1_loomhab/_ROIsFish201811091.csv',\n",
       " '/mnt/c/Emmanuel_temp/fmr1_loomhab/forANTS/Emmanuel_fmr1_loomhab/_ROIsFish201811092.csv',\n",
       " '/mnt/c/Emmanuel_temp/fmr1_loomhab/forANTS/Emmanuel_fmr1_loomhab/_ROIsFish201811093.csv',\n",
       " '/mnt/c/Emmanuel_temp/fmr1_loomhab/forANTS/Emmanuel_fmr1_loomhab/_ROIsFish201811094.csv',\n",
       " '/mnt/c/Emmanuel_temp/fmr1_loomhab/forANTS/Emmanuel_fmr1_loomhab/_ROIsFish201811096.csv',\n",
       " '/mnt/c/Emmanuel_temp/fmr1_loomhab/forANTS/Emmanuel_fmr1_loomhab/_ROIsFish201811097.csv',\n",
       " '/mnt/c/Emmanuel_temp/fmr1_loomhab/forANTS/Emmanuel_fmr1_loomhab/_ROIsFish201811098.csv',\n",
       " '/mnt/c/Emmanuel_temp/fmr1_loomhab/forANTS/Emmanuel_fmr1_loomhab/_ROIsFish201811201.csv',\n",
       " '/mnt/c/Emmanuel_temp/fmr1_loomhab/forANTS/Emmanuel_fmr1_loomhab/_ROIsFish201811202.csv',\n",
       " '/mnt/c/Emmanuel_temp/fmr1_loomhab/forANTS/Emmanuel_fmr1_loomhab/_ROIsFish201811203.csv',\n",
       " '/mnt/c/Emmanuel_temp/fmr1_loomhab/forANTS/Emmanuel_fmr1_loomhab/_ROIsFish201811204.csv',\n",
       " '/mnt/c/Emmanuel_temp/fmr1_loomhab/forANTS/Emmanuel_fmr1_loomhab/_ROIsFish201811207.csv',\n",
       " '/mnt/c/Emmanuel_temp/fmr1_loomhab/forANTS/Emmanuel_fmr1_loomhab/_ROIsFish201811208.csv',\n",
       " '/mnt/c/Emmanuel_temp/fmr1_loomhab/forANTS/Emmanuel_fmr1_loomhab/_ROIsFish201811209.csv']"
      ]
     },
     "execution_count": 87,
     "metadata": {},
     "output_type": "execute_result"
    }
   ],
   "source": [
    "directory='/mnt/c/Emmanuel_temp/fmr1_loomhab/forANTS/Emmanuel_fmr1_loomhab/' #Choose directory with ROI.csv files ### you need the /mnt/c instead of C:/ cause is in ubuntu\n",
    "fnames_all =[]\n",
    "for file_name in glob.glob(directory+'_ROI*.csv'):\n",
    "    if (not file_name.rpartition('/')[2].startswith('_Warped') )& (not file_name.partition('.csv')[0].endswith('_Resized')) :\n",
    "        fnames_all.append(file_name)\n",
    "fnames_all.sort()\n",
    "for i,name in enumerate(fnames_all):    \n",
    "    line_prepender(name,'x,y,z,t,l,c')\n",
    "fnames_all"
   ]
  },
  {
   "cell_type": "code",
   "execution_count": 8,
   "metadata": {},
   "outputs": [
    {
     "data": {
      "text/plain": [
       "'04103'"
      ]
     },
     "execution_count": 8,
     "metadata": {},
     "output_type": "execute_result"
    }
   ],
   "source": [
    "name=fnames_all[1]\n",
    "fish_nb=name.rpartition('_ROIsFish2019')[2].partition('_tagged_Resized.csv')[0]  \n",
    "fish_nb"
   ]
  },
  {
   "cell_type": "code",
   "execution_count": 201,
   "metadata": {},
   "outputs": [
    {
     "name": "stdout",
     "output_type": "stream",
     "text": [
      "1003_fish1\n",
      "1003_fish2\n",
      "1003_fish3\n",
      "1003_fish4\n",
      "1004_fish1\n",
      "1004_fish3\n",
      "1004_fish4\n",
      "1004_fish6\n",
      "1004_fish7\n",
      "1004_fish9\n",
      "1011_fish10\n",
      "1011_fish1\n",
      "1011_fish3\n",
      "1011_fish4\n",
      "1011_fish5\n",
      "1011_fish6\n",
      "1011_fish7\n",
      "1011_fish8\n",
      "1011_fish9\n",
      "1025_fish1\n",
      "1025_fish2\n",
      "1025_fish4\n",
      "1025_fish5\n",
      "1025_fish6\n",
      "1025_fish7\n",
      "1025_fish8\n",
      "1108_fish1\n",
      "1108_fish2\n",
      "1108_fish3\n",
      "1108_fish4\n",
      "1108_fish5\n",
      "1108_fish6\n",
      "1108_fish7\n",
      "1108_fish8\n",
      "1108_fish9\n",
      "1109_fish1\n",
      "1109_fish2\n",
      "1109_fish3\n",
      "1109_fish4\n",
      "1109_fish6\n",
      "1109_fish7\n",
      "1109_fish8\n",
      "1120_fish1\n",
      "1120_fish2\n",
      "1120_fish3\n",
      "1120_fish4\n",
      "1120_fish7\n",
      "1120_fish8\n",
      "1120_fish9\n"
     ]
    }
   ],
   "source": [
    "#Check regex and string splits for your filename convention - Name of the fish ROI file should match the ANTS matlab files\n",
    "os.chdir(directory)\n",
    "for i,name in enumerate(fnames_all):      \n",
    "    fish_nb=fish_nb=name.rpartition('_ROIs')[2].partition('_Resized.csv')[0]  \n",
    "    if (fish_nb.rpartition('10')[0].startswith('Fish20181011') ) :\n",
    "        fish_nb=fish_nb.rpartition('Fish2018')[2][0:-2]+'_fish'+'10'\n",
    "    else:   \n",
    "        fish_nb=fish_nb.rpartition('Fish2018')[2][0:-1]+'_fish'+fish_nb.rpartition('2018')[2][-1] \n",
    "    print(fish_nb)\n",
    "    affine_matrix = next(x for x in ANTsFiles if fish_nb in x)\n",
    "    warp_image=affine_matrix.replace('0GenericAffine.mat','1InverseWarp.nii.gz')\n",
    "    output_name='_Warped'+fish_nb+'.csv'\n",
    "    job_string = \"\"\"antsApplyTransformsToPoints -d 3 -i %s -o %s -t [%s, 1] -t %s\"\"\" % (name, output_name, affine_matrix, warp_image)\n",
    "    call([job_string],shell=True)"
   ]
  },
  {
   "cell_type": "code",
   "execution_count": 25,
   "metadata": {},
   "outputs": [
    {
     "data": {
      "text/plain": [
       "45"
      ]
     },
     "execution_count": 25,
     "metadata": {},
     "output_type": "execute_result"
    }
   ],
   "source": [
    "fnames_all =[]\n",
    "for file_name in glob.glob(directory+'_Warped*'):    \n",
    "    fnames_all.append(file_name)\n",
    "fnames_all.sort()\n",
    "len(fnames_all)"
   ]
  },
  {
   "cell_type": "code",
   "execution_count": null,
   "metadata": {},
   "outputs": [],
   "source": []
  }
 ],
 "metadata": {
  "kernelspec": {
   "display_name": "Python 3",
   "language": "python",
   "name": "python3"
  },
  "language_info": {
   "codemirror_mode": {
    "name": "ipython",
    "version": 3
   },
   "file_extension": ".py",
   "mimetype": "text/x-python",
   "name": "python",
   "nbconvert_exporter": "python",
   "pygments_lexer": "ipython3",
   "version": "3.7.3"
  }
 },
 "nbformat": 4,
 "nbformat_minor": 2
}
