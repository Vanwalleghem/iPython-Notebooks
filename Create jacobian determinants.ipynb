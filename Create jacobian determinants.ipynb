{
 "cells": [
  {
   "cell_type": "code",
   "execution_count": 1,
   "metadata": {},
   "outputs": [],
   "source": [
    "import glob\n",
    "import sys\n",
    "import os\n",
    "import nibabel as nib\n",
    "import numpy as np\n",
    "import tifffile\n",
    "from subprocess import call"
   ]
  },
  {
   "cell_type": "code",
   "execution_count": 2,
   "metadata": {},
   "outputs": [
    {
     "data": {
      "text/plain": [
       "['/mnt/d/ForANTs/RegToTemplate_20200917051Warp.nii.gz',\n",
       " '/mnt/d/ForANTs/RegToTemplate_20200917061Warp.nii.gz',\n",
       " '/mnt/d/ForANTs/RegToTemplate_20200924071Warp.nii.gz',\n",
       " '/mnt/d/ForANTs/RegToTemplate_20200924081Warp.nii.gz',\n",
       " '/mnt/d/ForANTs/RegToTemplate_20200924091Warp.nii.gz',\n",
       " '/mnt/d/ForANTs/RegToTemplate_20200924101Warp.nii.gz',\n",
       " '/mnt/d/ForANTs/RegToTemplate_20200924111Warp.nii.gz',\n",
       " '/mnt/d/ForANTs/RegToTemplate_20201001131Warp.nii.gz',\n",
       " '/mnt/d/ForANTs/RegToTemplate_20201001151Warp.nii.gz',\n",
       " '/mnt/d/ForANTs/RegToTemplate_20201001161Warp.nii.gz',\n",
       " '/mnt/d/ForANTs/RegToTemplate_20201001171Warp.nii.gz',\n",
       " '/mnt/d/ForANTs/RegToTemplate_20201022191Warp.nii.gz',\n",
       " '/mnt/d/ForANTs/RegToTemplate_20201022201Warp.nii.gz',\n",
       " '/mnt/d/ForANTs/RegToTemplate_20201022211Warp.nii.gz',\n",
       " '/mnt/d/ForANTs/RegToTemplate_20201022231Warp.nii.gz',\n",
       " '/mnt/d/ForANTs/RegToTemplate_20201022241Warp.nii.gz',\n",
       " '/mnt/d/ForANTs/RegToTemplate_20201116261Warp.nii.gz',\n",
       " '/mnt/d/ForANTs/RegToTemplate_20201116271Warp.nii.gz',\n",
       " '/mnt/d/ForANTs/RegToTemplate_20201116281Warp.nii.gz',\n",
       " '/mnt/d/ForANTs/RegToTemplate_20201116301Warp.nii.gz',\n",
       " '/mnt/d/ForANTs/RegToTemplate_20201116311Warp.nii.gz']"
      ]
     },
     "execution_count": 2,
     "metadata": {},
     "output_type": "execute_result"
    }
   ],
   "source": [
    "warp_list=glob.glob('/mnt/d/ForANTs/*1Warp.nii.gz')\n",
    "del(warp_list[0])\n",
    "warp_list"
   ]
  },
  {
   "cell_type": "code",
   "execution_count": 4,
   "metadata": {},
   "outputs": [
    {
     "data": {
      "text/plain": [
       "'/mnt/d/ForANTs/RegToTemplate_2020091706_Jacobian'"
      ]
     },
     "execution_count": 4,
     "metadata": {},
     "output_type": "execute_result"
    }
   ],
   "source": [
    "warp_list[2].split('1Warp.nii.gz')[0]+'_Jacobian.nii'"
   ]
  },
  {
   "cell_type": "code",
   "execution_count": 5,
   "metadata": {},
   "outputs": [],
   "source": [
    "for name in warp_list:\n",
    "    output_name = name.split('1Warp.nii.gz')[0]+'_Jacobian.nii.gz'\n",
    "    #Compute the jacobian determinant of all the warps\n",
    "    job_string = \"CreateJacobianDeterminantImage 3 \"+name+\" \"+os.path.basename(output_name)+\" 1 0\"    \n",
    "    call([job_string],shell=True)"
   ]
  },
  {
   "cell_type": "code",
   "execution_count": 22,
   "metadata": {},
   "outputs": [],
   "source": [
    "import nibabel as nib\n",
    "import numpy as np\n",
    "img_to_cat=np.zeros([len(warp_list),1280,1080,251])\n",
    "for img_nb,name in enumerate(warp_list):\n",
    "    img=nib.load(name.split('1Warp.nii.gz')[0]+'_Jacobian.nii.gz')\n",
    "    img_to_cat[img_nb,:,:,:]=img.get_fdata()"
   ]
  },
  {
   "cell_type": "code",
   "execution_count": 4,
   "metadata": {},
   "outputs": [
    {
     "data": {
      "text/plain": [
       "21"
      ]
     },
     "execution_count": 4,
     "metadata": {},
     "output_type": "execute_result"
    }
   ],
   "source": [
    "genotype=np.array([0,0,0,1,1,1,0,1,0,1,0,1,1,0,1,1,0,1,0,1,0])\n",
    "len(genotype)"
   ]
  },
  {
   "cell_type": "code",
   "execution_count": null,
   "metadata": {},
   "outputs": [
    {
     "name": "stderr",
     "output_type": "stream",
     "text": [
      "/usr/lib/python3/dist-packages/numpy/core/fromnumeric.py:3256: RuntimeWarning: Mean of empty slice.\n",
      "  return _methods._mean(a, axis=axis, dtype=dtype,\n",
      "/usr/lib/python3/dist-packages/numpy/core/_methods.py:153: RuntimeWarning: invalid value encountered in true_divide\n",
      "  ret = um.true_divide(\n",
      "/usr/lib/python3/dist-packages/numpy/core/_methods.py:216: RuntimeWarning: Degrees of freedom <= 0 for slice\n",
      "  ret = _var(a, axis=axis, dtype=dtype, out=out, ddof=ddof,\n",
      "/usr/lib/python3/dist-packages/numpy/core/_methods.py:185: RuntimeWarning: invalid value encountered in true_divide\n",
      "  arrmean = um.true_divide(\n",
      "/usr/lib/python3/dist-packages/numpy/core/_methods.py:206: RuntimeWarning: invalid value encountered in true_divide\n",
      "  ret = um.true_divide(\n"
     ]
    }
   ],
   "source": [
    "img_WT=np.mean(img_to_cat[genotype==0,:,:,:],axis=0)\n",
    "img_WT_std=np.std(img_to_cat[genotype==0,:,:,:],axis=0)\n",
    "img_FMR=np.mean(img_to_cat[genotype==1,:,:,:],axis=0)\n",
    "img_FMR_std=np.std(img_to_cat[genotype==1,:,:,:],axis=0)\n",
    "nib.save(img_WT,'/mnt/mnt/d/ForANTs/MeanJacobWT.nii.gz')\n",
    "nib.save(img_WT_std,'/mnt/d/ForANTs/StdJacobWT.nii.gz')\n",
    "nib.save(img_FMR,'/mnt/d/ForANTs/MeanJacobSc1n.nii.gz')\n",
    "nib.save(img_FMR_std,'/mnt/d/ForANTs/StdJacobSc1n.nii.gz')"
   ]
  },
  {
   "cell_type": "code",
   "execution_count": 55,
   "metadata": {},
   "outputs": [
    {
     "data": {
      "text/plain": [
       "(array([ 3,  4,  5,  7,  9, 11, 12, 14, 15, 17, 19]),)"
      ]
     },
     "execution_count": 55,
     "metadata": {},
     "output_type": "execute_result"
    }
   ],
   "source": [
    "np.where(genotype)"
   ]
  },
  {
   "cell_type": "code",
   "execution_count": 42,
   "metadata": {},
   "outputs": [
    {
     "data": {
      "text/plain": [
       "10"
      ]
     },
     "execution_count": 42,
     "metadata": {},
     "output_type": "execute_result"
    }
   ],
   "source": [
    "len(np.where(np.invert(genotype.astype(bool)))[0])"
   ]
  },
  {
   "cell_type": "code",
   "execution_count": 5,
   "metadata": {},
   "outputs": [],
   "source": [
    "img_to_cat=np.zeros([len(np.where(np.invert(genotype.astype(bool)))[0]),1280,1080,251])\n",
    "for img_nb in range(0,len(np.where(np.invert(genotype.astype(bool)))[0])):\n",
    "    if not img_nb==3:\n",
    "        img=nib.load(warp_list[np.where(np.invert(genotype.astype(bool)))[0][img_nb]].split('1Warp.nii.gz')[0]+'_Jacobian.nii.gz')\n",
    "        img_to_cat[img_nb,:,:,:]=img.get_fdata()\n"
   ]
  },
  {
   "cell_type": "code",
   "execution_count": 6,
   "metadata": {},
   "outputs": [
    {
     "ename": "NameError",
     "evalue": "name 'img_WT' is not defined",
     "output_type": "error",
     "traceback": [
      "\u001b[0;31m---------------------------------------------------------------------------\u001b[0m",
      "\u001b[0;31mNameError\u001b[0m                                 Traceback (most recent call last)",
      "\u001b[0;32m/tmp/ipykernel_3215/2231259904.py\u001b[0m in \u001b[0;36m<module>\u001b[0;34m\u001b[0m\n\u001b[0;32m----> 1\u001b[0;31m \u001b[0mimg_WT\u001b[0m\u001b[0;34m.\u001b[0m\u001b[0mshape\u001b[0m\u001b[0;34m\u001b[0m\u001b[0;34m\u001b[0m\u001b[0m\n\u001b[0m",
      "\u001b[0;31mNameError\u001b[0m: name 'img_WT' is not defined"
     ]
    }
   ],
   "source": [
    "img_WT.shape"
   ]
  },
  {
   "cell_type": "code",
   "execution_count": 7,
   "metadata": {},
   "outputs": [
    {
     "data": {
      "text/plain": [
       "(10, 1280, 1080, 251)"
      ]
     },
     "execution_count": 7,
     "metadata": {},
     "output_type": "execute_result"
    }
   ],
   "source": [
    "img_to_cat.shape"
   ]
  },
  {
   "cell_type": "code",
   "execution_count": 15,
   "metadata": {},
   "outputs": [],
   "source": [
    "img_WT=np.mean(img_to_cat[[0,1,2,4,5,6,7,8,9],:,:,:],axis=0)\n",
    "tifffile.imsave('/mnt/d/ForANTs/MeanJacobWT_excludefish11.tif',np.transpose(img_WT,(2,1,0)))\n",
    "img_WT_std=np.std(img_to_cat[[0,1,2,4,5,6,7,8,9],:,:,:],axis=0)\n",
    "tifffile.imsave('/mnt/d/ForANTs/MeanJacobWT_std_excludefish11.tif',np.transpose(img_WT_std,(2,1,0)))"
   ]
  },
  {
   "cell_type": "code",
   "execution_count": 10,
   "metadata": {},
   "outputs": [],
   "source": [
    "img_to_cat=np.zeros([len(np.where(genotype)[0]),1280,1080,251])\n",
    "for img_nb in range(0,len(np.where(genotype)[0])):\n",
    "    img=nib.load(warp_list[np.where(genotype)[0][img_nb]].split('1Warp.nii.gz')[0]+'_Jacobian.nii.gz')\n",
    "    img_to_cat[img_nb,:,:,:]=img.get_fdata()\n",
    "img_Mut=np.mean(img_to_cat,axis=0)\n",
    "#tifffile.imsave('/mnt/d/ForANTs/MeanJacobScn1n.tif',np.transpose(img_Mut,(2,1,0)))\n",
    "img_Mut_std=np.std(img_to_cat,axis=0)\n",
    "#tifffile.imsave('/mnt/d/ForANTs/MeanJacobScn1n_std.tif',np.transpose(img_Mut_std,(2,1,0)))"
   ]
  },
  {
   "cell_type": "code",
   "execution_count": 16,
   "metadata": {},
   "outputs": [],
   "source": [
    "img_results_pos=img_Mut\n",
    "img_results_pos[np.where(img_Mut<(img_WT+abs(img_WT_std)))]=0\n",
    "tifffile.imsave('/mnt/d/ForANTs/SignificantJacobSCN_SD_pos.tif',np.transpose(img_results_pos,(2,1,0)))"
   ]
  },
  {
   "cell_type": "code",
   "execution_count": 17,
   "metadata": {},
   "outputs": [],
   "source": [
    "img_results_neg=img_Mut\n",
    "img_results_neg[np.where(img_Mut>(img_WT-abs(img_WT_std)))]=0\n",
    "tifffile.imsave('/mnt/d/ForANTs/SignificantJacobSCN_SD_neg.tif',np.transpose(img_results_neg,(2,1,0)))"
   ]
  },
  {
   "cell_type": "code",
   "execution_count": 70,
   "metadata": {},
   "outputs": [
    {
     "data": {
      "text/plain": [
       "1"
      ]
     },
     "execution_count": 70,
     "metadata": {},
     "output_type": "execute_result"
    }
   ],
   "source": [
    "abs(-1)"
   ]
  },
  {
   "cell_type": "code",
   "execution_count": null,
   "metadata": {},
   "outputs": [],
   "source": []
  }
 ],
 "metadata": {
  "kernelspec": {
   "display_name": "Python 3 (ipykernel)",
   "language": "python",
   "name": "python3"
  },
  "language_info": {
   "codemirror_mode": {
    "name": "ipython",
    "version": 3
   },
   "file_extension": ".py",
   "mimetype": "text/x-python",
   "name": "python",
   "nbconvert_exporter": "python",
   "pygments_lexer": "ipython3",
   "version": "3.8.10"
  }
 },
 "nbformat": 4,
 "nbformat_minor": 2
}
