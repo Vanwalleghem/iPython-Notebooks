{
 "cells": [
  {
   "cell_type": "code",
   "execution_count": 3,
   "metadata": {},
   "outputs": [],
   "source": [
    "import numpy as np\n",
    "import matplotlib.pyplot as plt\n",
    "%matplotlib inline\n",
    "import os\n",
    "from subprocess import Popen, PIPE"
   ]
  },
  {
   "cell_type": "code",
   "execution_count": 4,
   "metadata": {
    "collapsed": true
   },
   "outputs": [],
   "source": [
    "from skimage.external import tifffile as skext"
   ]
  },
  {
   "cell_type": "code",
   "execution_count": 5,
   "metadata": {
    "collapsed": true
   },
   "outputs": [],
   "source": [
    "def assure_path_exists(path):\n",
    "    dir = os.path.dirname(path)\n",
    "    if not os.path.exists(dir):\n",
    "        os.makedirs(dir)"
   ]
  },
  {
   "cell_type": "code",
   "execution_count": null,
   "metadata": {
    "collapsed": true
   },
   "outputs": [],
   "source": [
    "temp=tifffile.imread('/mnt/droplet/ForAnalysis/HS/Fish201709111_ERO_HS.tif')"
   ]
  },
  {
   "cell_type": "code",
   "execution_count": null,
   "metadata": {
    "collapsed": true
   },
   "outputs": [],
   "source": [
    "temp=temp.mean(axis=0)"
   ]
  },
  {
   "cell_type": "code",
   "execution_count": 3,
   "metadata": {
    "collapsed": true
   },
   "outputs": [],
   "source": [
    "directory='/mnt/droplet/Past Lab Members/Kevin/flow for publication/Categories of raw movies/ready for the pipeline/Tail embedded past the swim bladder to prevent trapping tail/RAW'\n",
    "savedirectory='/mnt/downloads/Gilles/HS_mean'\n",
    "assure_path_exists(savedirectory)\n",
    "os.chdir(directory)\n",
    "p=Popen(['ls'], shell=False, stdout=PIPE, close_fds=True).stdout.readlines()\n",
    "filelist=[]\n",
    "for filename in p:    \n",
    "    if filename.endswith('tif\\n'):\n",
    "        filelist.append(filename.rstrip('\\n'))            \n",
    "filelist.sort()"
   ]
  },
  {
   "cell_type": "code",
   "execution_count": 9,
   "metadata": {},
   "outputs": [
    {
     "name": "stderr",
     "output_type": "stream",
     "text": [
      "/home/ubuntu/anaconda2/lib/python2.7/site-packages/skimage/external/tifffile/tifffile.py:1815: UserWarning: ome-xml: failed to read 'MMStack_Pos0.ome.tif'\n",
      "  \"ome-xml: failed to read '%s'\" % fname)\n",
      "/home/ubuntu/anaconda2/lib/python2.7/site-packages/skimage/external/tifffile/tifffile.py:1815: UserWarning: ome-xml: failed to read 'Kevin_10um_2_MMStack_Pos0.ome.tif'\n",
      "  \"ome-xml: failed to read '%s'\" % fname)\n",
      "/home/ubuntu/anaconda2/lib/python2.7/site-packages/skimage/external/tifffile/tifffile.py:1815: UserWarning: ome-xml: failed to read 'Kevin_10um_1_MMStack_Pos0.ome.tif'\n",
      "  \"ome-xml: failed to read '%s'\" % fname)\n"
     ]
    }
   ],
   "source": [
    "for i,filename in enumerate(filelist):      \n",
    "    if i>56:\n",
    "        temp=skext.imread(directory+'/'+filename)\n",
    "        temp=temp.mean(axis=0).astype(np.uint16)\n",
    "        tifffile.imsave(savedirectory+'/'+filename[:-4]+'_mean.tif',temp)"
   ]
  },
  {
   "cell_type": "code",
   "execution_count": 9,
   "metadata": {
    "collapsed": true
   },
   "outputs": [],
   "source": [
    "tifffile.imsave(savedirectory+'/'+filename[:-4]+'_mean.tif',temp)"
   ]
  },
  {
   "cell_type": "code",
   "execution_count": 7,
   "metadata": {},
   "outputs": [
    {
     "data": {
      "text/plain": [
       "['__builtins__', '__doc__', '__file__', '__name__', '__package__', '__path__']"
      ]
     },
     "execution_count": 7,
     "metadata": {},
     "output_type": "execute_result"
    }
   ],
   "source": [
    "dir(external)"
   ]
  },
  {
   "cell_type": "code",
   "execution_count": 17,
   "metadata": {},
   "outputs": [
    {
     "data": {
      "text/plain": [
       "(25, 540, 640)"
      ]
     },
     "execution_count": 17,
     "metadata": {},
     "output_type": "execute_result"
    }
   ],
   "source": [
    "temp.shape"
   ]
  },
  {
   "cell_type": "code",
   "execution_count": 19,
   "metadata": {
    "collapsed": true
   },
   "outputs": [],
   "source": [
    "tifffile.imsave(savedirectory+'/'+filename[:-4]+'_mean.tif',temp)"
   ]
  },
  {
   "cell_type": "code",
   "execution_count": 18,
   "metadata": {},
   "outputs": [
    {
     "data": {
      "text/plain": [
       "'/mnt/downloads/Itia/HS_meanFish201709131_ELO_HS_mean.tif'"
      ]
     },
     "execution_count": 18,
     "metadata": {},
     "output_type": "execute_result"
    }
   ],
   "source": [
    "savedirectory+filename[:-4]+'_mean.tif'"
   ]
  },
  {
   "cell_type": "code",
   "execution_count": 5,
   "metadata": {
    "collapsed": true
   },
   "outputs": [],
   "source": [
    "temp=tifffile.imread('/mnt/downloads/Itia/ANTS_proper/Cropped/Huc_H2B_RFP_resliced_24-124-4_crop.tif')\n",
    "savedirectory='/mnt/downloads/Itia/Cropped_ANTS/'\n",
    "assure_path_exists(savedirectory)\n",
    "tifffile.imsave(savedirectory+'/Huc_H2B_RFP_reslice_4_crop.tif',temp)"
   ]
  },
  {
   "cell_type": "code",
   "execution_count": null,
   "metadata": {
    "collapsed": true
   },
   "outputs": [],
   "source": []
  }
 ],
 "metadata": {
  "kernelspec": {
   "display_name": "Python 3",
   "language": "python",
   "name": "python3"
  },
  "language_info": {
   "codemirror_mode": {
    "name": "ipython",
    "version": 3
   },
   "file_extension": ".py",
   "mimetype": "text/x-python",
   "name": "python",
   "nbconvert_exporter": "python",
   "pygments_lexer": "ipython3",
   "version": "3.6.4"
  }
 },
 "nbformat": 4,
 "nbformat_minor": 2
}
