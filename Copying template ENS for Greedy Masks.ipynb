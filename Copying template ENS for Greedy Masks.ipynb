{
 "cells": [
  {
   "cell_type": "code",
   "execution_count": 48,
   "metadata": {},
   "outputs": [],
   "source": [
    "import os, glob\n",
    "import shutil\n",
    "import tifffile"
   ]
  },
  {
   "cell_type": "code",
   "execution_count": 46,
   "metadata": {},
   "outputs": [
    {
     "data": {
      "text/plain": [
       "21"
      ]
     },
     "execution_count": 46,
     "metadata": {},
     "output_type": "execute_result"
    }
   ],
   "source": [
    "Template_directory='R:\\\\ENSDEV20-Q3066\\\\Data\\\\GF_Fed2020\\\\20200729\\\\'\n",
    "Template_folders=glob.glob(Template_directory+'*/')\n",
    "len(Template_folders)"
   ]
  },
  {
   "cell_type": "code",
   "execution_count": 47,
   "metadata": {},
   "outputs": [],
   "source": [
    "for folder in Template_folders:\n",
    "    if not os.path.exists(folder+'3Dreg\\\\template.tif') or os.stat(folder+'3Dreg\\\\template.tif').st_size==0:        \n",
    "        shutil.copy(folder+'3Dreg\\\\'+os.path.basename(os.path.dirname(folder))+'_1.tif','D:/temp/'+os.path.basename(os.path.dirname(folder)).split('range')[0]+'template.tif')\n",
    "        try:\n",
    "            os.remove(folder+'3Dreg\\\\template.tif')\n",
    "        except:\n",
    "            return 1\n",
    "        shutil.copy(folder+'3Dreg\\\\'+os.path.basename(os.path.dirname(folder))+'_1.tif',folder+'3Dreg\\\\template.tif')\n",
    "    else:\n",
    "        shutil.copy(folder+'3Dreg\\\\template.tif','D:/temp/'+os.path.basename(os.path.dirname(folder)).split('range')[0]+'template.tif')        \n",
    "        try\n",
    "    test=tifffile.imread('D:/temp/'+os.path.basename(os.path.dirname(folder)).split('range')[0]+'template.tif')\n",
    "    if test.shape < 3:\n",
    "        "
   ]
  },
  {
   "cell_type": "code",
   "execution_count": 34,
   "metadata": {},
   "outputs": [
    {
     "data": {
      "text/plain": [
       "True"
      ]
     },
     "execution_count": 34,
     "metadata": {},
     "output_type": "execute_result"
    }
   ],
   "source": [
    "not os.path.exists(folder+'3Dreg\\\\template.tif')"
   ]
  },
  {
   "cell_type": "code",
   "execution_count": 43,
   "metadata": {},
   "outputs": [
    {
     "data": {
      "text/plain": [
       "['R:\\\\ENSDEV20-Q3066\\\\Data\\\\GF_Fed2020\\\\20200728\\\\GV_20200727_fish1_ENSGF_4DPF_range120_step5_exposure20_power60\\\\',\n",
       " 'R:\\\\ENSDEV20-Q3066\\\\Data\\\\GF_Fed2020\\\\20200728\\\\GV_20200727_fish1_ENS_4DPF_weirdmount_range100_step5_exposure25_power60\\\\',\n",
       " 'R:\\\\ENSDEV20-Q3066\\\\Data\\\\GF_Fed2020\\\\20200728\\\\GV_20200727_fish2_ENSGF_4DPF_range110_step5_exposure21_power60\\\\',\n",
       " 'R:\\\\ENSDEV20-Q3066\\\\Data\\\\GF_Fed2020\\\\20200728\\\\GV_20200727_fish2_ENS_4DPF_range140_step5_exposure17_power60\\\\',\n",
       " 'R:\\\\ENSDEV20-Q3066\\\\Data\\\\GF_Fed2020\\\\20200728\\\\GV_20200727_fish3_ENSGF_4DPF_range100_step5_exposure23_power60\\\\',\n",
       " 'R:\\\\ENSDEV20-Q3066\\\\Data\\\\GF_Fed2020\\\\20200728\\\\GV_20200727_fish4_ENSGF_4DPF_weirdmount_range100_step5_exposure23_power60\\\\',\n",
       " 'R:\\\\ENSDEV20-Q3066\\\\Data\\\\GF_Fed2020\\\\20200728\\\\GV_20200727_fish4_ENS_4DPF_range140_step5_exposure17_power60\\\\',\n",
       " 'R:\\\\ENSDEV20-Q3066\\\\Data\\\\GF_Fed2020\\\\20200728\\\\GV_20200727_fish5_ENSGF_4DPF_range100_step5_exposure23_power60\\\\',\n",
       " 'R:\\\\ENSDEV20-Q3066\\\\Data\\\\GF_Fed2020\\\\20200728\\\\GV_20200727_fish5_ENS_4DPF_range100_step5_exposure23_power60\\\\',\n",
       " 'R:\\\\ENSDEV20-Q3066\\\\Data\\\\GF_Fed2020\\\\20200728\\\\GV_20200727_fish6_ENSGF_4DPF_range140_step5_exposure17_power60\\\\',\n",
       " 'R:\\\\ENSDEV20-Q3066\\\\Data\\\\GF_Fed2020\\\\20200728\\\\GV_20200727_fish6_ENS_4DPF_range100_step5_exposure23_power60_2\\\\',\n",
       " 'R:\\\\ENSDEV20-Q3066\\\\Data\\\\GF_Fed2020\\\\20200728\\\\GV_20200727_fish7_ENSGF_4DPF_range140_step5_exposure17_power60\\\\',\n",
       " 'R:\\\\ENSDEV20-Q3066\\\\Data\\\\GF_Fed2020\\\\20200728\\\\GV_20200727_fish7_ENS_4DPF_range130_step5_exposure18_power60\\\\',\n",
       " 'R:\\\\ENSDEV20-Q3066\\\\Data\\\\GF_Fed2020\\\\20200728\\\\GV_20200727_fish8_ENSGF_4DPF_range120_step5_exposure20_power60\\\\',\n",
       " 'R:\\\\ENSDEV20-Q3066\\\\Data\\\\GF_Fed2020\\\\20200728\\\\GV_20200727_fish8_ENSGF_4DPF_range140_step5_exposure17_power60_1\\\\']"
      ]
     },
     "execution_count": 43,
     "metadata": {},
     "output_type": "execute_result"
    }
   ],
   "source": [
    "Template_folders"
   ]
  },
  {
   "cell_type": "code",
   "execution_count": 50,
   "metadata": {},
   "outputs": [
    {
     "name": "stderr",
     "output_type": "stream",
     "text": [
      "TiffPages: invalid page offset 17280272\n"
     ]
    },
    {
     "ename": "ValueError",
     "evalue": "failed to read 17280000 bytes",
     "output_type": "error",
     "traceback": [
      "\u001b[1;31m---------------------------------------------------------------------------\u001b[0m",
      "\u001b[1;31mValueError\u001b[0m                                Traceback (most recent call last)",
      "\u001b[1;32m<ipython-input-50-0dc5da653f1c>\u001b[0m in \u001b[0;36m<module>\u001b[1;34m\u001b[0m\n\u001b[1;32m----> 1\u001b[1;33m \u001b[0mtest\u001b[0m\u001b[1;33m=\u001b[0m\u001b[0mtifffile\u001b[0m\u001b[1;33m.\u001b[0m\u001b[0mimread\u001b[0m\u001b[1;33m(\u001b[0m\u001b[1;34m'D:/temp/'\u001b[0m\u001b[1;33m+\u001b[0m\u001b[0mos\u001b[0m\u001b[1;33m.\u001b[0m\u001b[0mpath\u001b[0m\u001b[1;33m.\u001b[0m\u001b[0mbasename\u001b[0m\u001b[1;33m(\u001b[0m\u001b[0mos\u001b[0m\u001b[1;33m.\u001b[0m\u001b[0mpath\u001b[0m\u001b[1;33m.\u001b[0m\u001b[0mdirname\u001b[0m\u001b[1;33m(\u001b[0m\u001b[0mfolder\u001b[0m\u001b[1;33m)\u001b[0m\u001b[1;33m)\u001b[0m\u001b[1;33m.\u001b[0m\u001b[0msplit\u001b[0m\u001b[1;33m(\u001b[0m\u001b[1;34m'range'\u001b[0m\u001b[1;33m)\u001b[0m\u001b[1;33m[\u001b[0m\u001b[1;36m0\u001b[0m\u001b[1;33m]\u001b[0m\u001b[1;33m+\u001b[0m\u001b[1;34m'template.tif'\u001b[0m\u001b[1;33m)\u001b[0m\u001b[1;33m\u001b[0m\u001b[1;33m\u001b[0m\u001b[0m\n\u001b[0m",
      "\u001b[1;32mD:\\Continuum\\anaconda3\\lib\\site-packages\\tifffile\\tifffile.py\u001b[0m in \u001b[0;36mimread\u001b[1;34m(files, **kwargs)\u001b[0m\n\u001b[0;32m    719\u001b[0m         \u001b[1;32mif\u001b[0m \u001b[0misinstance\u001b[0m\u001b[1;33m(\u001b[0m\u001b[0mfiles\u001b[0m\u001b[1;33m,\u001b[0m \u001b[1;33m(\u001b[0m\u001b[0mstr\u001b[0m\u001b[1;33m,\u001b[0m \u001b[0mos\u001b[0m\u001b[1;33m.\u001b[0m\u001b[0mPathLike\u001b[0m\u001b[1;33m)\u001b[0m\u001b[1;33m)\u001b[0m \u001b[1;32mor\u001b[0m \u001b[0mhasattr\u001b[0m\u001b[1;33m(\u001b[0m\u001b[0mfiles\u001b[0m\u001b[1;33m,\u001b[0m \u001b[1;34m'seek'\u001b[0m\u001b[1;33m)\u001b[0m\u001b[1;33m:\u001b[0m\u001b[1;33m\u001b[0m\u001b[1;33m\u001b[0m\u001b[0m\n\u001b[0;32m    720\u001b[0m             \u001b[1;32mwith\u001b[0m \u001b[0mTiffFile\u001b[0m\u001b[1;33m(\u001b[0m\u001b[0mfiles\u001b[0m\u001b[1;33m,\u001b[0m \u001b[1;33m**\u001b[0m\u001b[0mkwargs_file\u001b[0m\u001b[1;33m)\u001b[0m \u001b[1;32mas\u001b[0m \u001b[0mtif\u001b[0m\u001b[1;33m:\u001b[0m\u001b[1;33m\u001b[0m\u001b[1;33m\u001b[0m\u001b[0m\n\u001b[1;32m--> 721\u001b[1;33m                 \u001b[1;32mreturn\u001b[0m \u001b[0mtif\u001b[0m\u001b[1;33m.\u001b[0m\u001b[0masarray\u001b[0m\u001b[1;33m(\u001b[0m\u001b[1;33m**\u001b[0m\u001b[0mkwargs\u001b[0m\u001b[1;33m)\u001b[0m\u001b[1;33m\u001b[0m\u001b[1;33m\u001b[0m\u001b[0m\n\u001b[0m\u001b[0;32m    722\u001b[0m \u001b[1;33m\u001b[0m\u001b[0m\n\u001b[0;32m    723\u001b[0m     \u001b[1;32mwith\u001b[0m \u001b[0mTiffSequence\u001b[0m\u001b[1;33m(\u001b[0m\u001b[0mfiles\u001b[0m\u001b[1;33m,\u001b[0m \u001b[1;33m**\u001b[0m\u001b[0mkwargs_seq\u001b[0m\u001b[1;33m)\u001b[0m \u001b[1;32mas\u001b[0m \u001b[0mimseq\u001b[0m\u001b[1;33m:\u001b[0m\u001b[1;33m\u001b[0m\u001b[1;33m\u001b[0m\u001b[0m\n",
      "\u001b[1;32mD:\\Continuum\\anaconda3\\lib\\site-packages\\tifffile\\tifffile.py\u001b[0m in \u001b[0;36masarray\u001b[1;34m(self, key, series, level, out, maxworkers)\u001b[0m\n\u001b[0;32m   2803\u001b[0m                 \u001b[0mself\u001b[0m\u001b[1;33m.\u001b[0m\u001b[0mfilehandle\u001b[0m\u001b[1;33m.\u001b[0m\u001b[0mseek\u001b[0m\u001b[1;33m(\u001b[0m\u001b[0mseries\u001b[0m\u001b[1;33m.\u001b[0m\u001b[0moffset\u001b[0m\u001b[1;33m)\u001b[0m\u001b[1;33m\u001b[0m\u001b[1;33m\u001b[0m\u001b[0m\n\u001b[0;32m   2804\u001b[0m                 result = self.filehandle.read_array(\n\u001b[1;32m-> 2805\u001b[1;33m                     typecode, product(series.shape), out=out)\n\u001b[0m\u001b[0;32m   2806\u001b[0m         \u001b[1;32melif\u001b[0m \u001b[0mlen\u001b[0m\u001b[1;33m(\u001b[0m\u001b[0mpages\u001b[0m\u001b[1;33m)\u001b[0m \u001b[1;33m==\u001b[0m \u001b[1;36m1\u001b[0m\u001b[1;33m:\u001b[0m\u001b[1;33m\u001b[0m\u001b[1;33m\u001b[0m\u001b[0m\n\u001b[0;32m   2807\u001b[0m             \u001b[0mresult\u001b[0m \u001b[1;33m=\u001b[0m \u001b[0mpages\u001b[0m\u001b[1;33m[\u001b[0m\u001b[1;36m0\u001b[0m\u001b[1;33m]\u001b[0m\u001b[1;33m.\u001b[0m\u001b[0masarray\u001b[0m\u001b[1;33m(\u001b[0m\u001b[0mout\u001b[0m\u001b[1;33m=\u001b[0m\u001b[0mout\u001b[0m\u001b[1;33m,\u001b[0m \u001b[0mmaxworkers\u001b[0m\u001b[1;33m=\u001b[0m\u001b[0mmaxworkers\u001b[0m\u001b[1;33m)\u001b[0m\u001b[1;33m\u001b[0m\u001b[1;33m\u001b[0m\u001b[0m\n",
      "\u001b[1;32mD:\\Continuum\\anaconda3\\lib\\site-packages\\tifffile\\tifffile.py\u001b[0m in \u001b[0;36mread_array\u001b[1;34m(self, dtype, count, out)\u001b[0m\n\u001b[0;32m   7496\u001b[0m         \u001b[0mn\u001b[0m \u001b[1;33m=\u001b[0m \u001b[0mfh\u001b[0m\u001b[1;33m.\u001b[0m\u001b[0mreadinto\u001b[0m\u001b[1;33m(\u001b[0m\u001b[0mresult\u001b[0m\u001b[1;33m)\u001b[0m\u001b[1;33m\u001b[0m\u001b[1;33m\u001b[0m\u001b[0m\n\u001b[0;32m   7497\u001b[0m         \u001b[1;32mif\u001b[0m \u001b[0mn\u001b[0m \u001b[1;33m!=\u001b[0m \u001b[0msize\u001b[0m\u001b[1;33m:\u001b[0m\u001b[1;33m\u001b[0m\u001b[1;33m\u001b[0m\u001b[0m\n\u001b[1;32m-> 7498\u001b[1;33m             \u001b[1;32mraise\u001b[0m \u001b[0mValueError\u001b[0m\u001b[1;33m(\u001b[0m\u001b[1;34mf'failed to read {size} bytes'\u001b[0m\u001b[1;33m)\u001b[0m\u001b[1;33m\u001b[0m\u001b[1;33m\u001b[0m\u001b[0m\n\u001b[0m\u001b[0;32m   7499\u001b[0m \u001b[1;33m\u001b[0m\u001b[0m\n\u001b[0;32m   7500\u001b[0m         \u001b[1;32mif\u001b[0m \u001b[1;32mnot\u001b[0m \u001b[0mresult\u001b[0m\u001b[1;33m.\u001b[0m\u001b[0mdtype\u001b[0m\u001b[1;33m.\u001b[0m\u001b[0misnative\u001b[0m\u001b[1;33m:\u001b[0m\u001b[1;33m\u001b[0m\u001b[1;33m\u001b[0m\u001b[0m\n",
      "\u001b[1;31mValueError\u001b[0m: failed to read 17280000 bytes"
     ]
    }
   ],
   "source": [
    "test=tifffile.imread('D:/temp/'+os.path.basename(os.path.dirname(folder)).split('range')[0]+'template.tif')"
   ]
  },
  {
   "cell_type": "code",
   "execution_count": null,
   "metadata": {},
   "outputs": [],
   "source": [
    "test.shape"
   ]
  },
  {
   "cell_type": "code",
   "execution_count": 51,
   "metadata": {},
   "outputs": [
    {
     "data": {
      "text/plain": [
       "'D:/temp/GV_20200729_fish7_ENS_5DPF_template.tif'"
      ]
     },
     "execution_count": 51,
     "metadata": {},
     "output_type": "execute_result"
    }
   ],
   "source": [
    "'D:/temp/'+os.path.basename(os.path.dirname(folder)).split('range')[0]+'template.tif'"
   ]
  },
  {
   "cell_type": "code",
   "execution_count": null,
   "metadata": {},
   "outputs": [],
   "source": []
  }
 ],
 "metadata": {
  "kernelspec": {
   "display_name": "Python 3",
   "language": "python",
   "name": "python3"
  },
  "language_info": {
   "codemirror_mode": {
    "name": "ipython",
    "version": 3
   },
   "file_extension": ".py",
   "mimetype": "text/x-python",
   "name": "python",
   "nbconvert_exporter": "python",
   "pygments_lexer": "ipython3",
   "version": "3.7.9"
  }
 },
 "nbformat": 4,
 "nbformat_minor": 4
}
