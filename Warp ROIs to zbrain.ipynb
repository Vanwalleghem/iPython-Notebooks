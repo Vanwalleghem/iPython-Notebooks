{
 "cells": [
  {
   "cell_type": "code",
   "execution_count": 1,
   "id": "9b7929e1",
   "metadata": {},
   "outputs": [],
   "source": [
    "from subprocess import call\n",
    "import time\n",
    "import glob\n",
    "import os\n",
    "import sys\n",
    "import numpy as np\n",
    "def line_prepender(filename, line):\n",
    "    with open(filename, 'r+') as f:\n",
    "        content = f.read()\n",
    "        if content[0]!='x':\n",
    "            f.seek(0, 0)\n",
    "            f.write(line.rstrip('\\r\\n') + '\\n' + content)"
   ]
  },
  {
   "cell_type": "code",
   "execution_count": 2,
   "id": "b6020638",
   "metadata": {},
   "outputs": [
    {
     "data": {
      "text/plain": [
       "['/mnt/d/ForANTs/ROIs_10.csv',\n",
       " '/mnt/d/ForANTs/ROIs_11.csv',\n",
       " '/mnt/d/ForANTs/ROIs_13.csv',\n",
       " '/mnt/d/ForANTs/ROIs_15.csv',\n",
       " '/mnt/d/ForANTs/ROIs_16.csv',\n",
       " '/mnt/d/ForANTs/ROIs_17.csv',\n",
       " '/mnt/d/ForANTs/ROIs_19.csv',\n",
       " '/mnt/d/ForANTs/ROIs_20.csv',\n",
       " '/mnt/d/ForANTs/ROIs_21.csv',\n",
       " '/mnt/d/ForANTs/ROIs_23.csv',\n",
       " '/mnt/d/ForANTs/ROIs_24.csv',\n",
       " '/mnt/d/ForANTs/ROIs_26.csv',\n",
       " '/mnt/d/ForANTs/ROIs_27.csv',\n",
       " '/mnt/d/ForANTs/ROIs_28.csv',\n",
       " '/mnt/d/ForANTs/ROIs_30.csv',\n",
       " '/mnt/d/ForANTs/ROIs_31.csv',\n",
       " '/mnt/d/ForANTs/ROIs_5.csv',\n",
       " '/mnt/d/ForANTs/ROIs_6.csv',\n",
       " '/mnt/d/ForANTs/ROIs_7.csv',\n",
       " '/mnt/d/ForANTs/ROIs_8.csv',\n",
       " '/mnt/d/ForANTs/ROIs_9.csv']"
      ]
     },
     "execution_count": 2,
     "metadata": {},
     "output_type": "execute_result"
    }
   ],
   "source": [
    "##os.getcwd()\n",
    "directory='/mnt/d/ForANTs/'\n",
    "fnames_all =[]\n",
    "for file_name in glob.glob(directory+'ROI*.csv'):\n",
    "    if (not file_name.rpartition('/')[2].startswith('_Warped') )& (not file_name.partition('.csv')[0].endswith('_Resized')) :\n",
    "        fnames_all.append(file_name)\n",
    "fnames_all.sort()\n",
    "for i,name in enumerate(fnames_all):    \n",
    "    line_prepender(name,'x,y,z,t,l,c')\n",
    "fnames_all"
   ]
  },
  {
   "cell_type": "code",
   "execution_count": 3,
   "id": "6868a0ea",
   "metadata": {},
   "outputs": [],
   "source": [
    "#Switch ROIs to physical space coordinates-Check that these match your step size and binning\n",
    "for i,name in enumerate(fnames_all):    \n",
    "    coords=np.loadtxt(name,comments='x',delimiter=',')    \n",
    "    output_name=name.replace('.csv','_Resized.csv')\n",
    "    coords[:,0]=coords[:,0]*1.28 # pixel size for X\n",
    "    coords[:,1]=coords[:,1]*1.28 # pixel size for Y\n",
    "    coords[:,2]=coords[:,2]*5 # pixel size for Z\n",
    "    np.savetxt(output_name,coords,fmt='%f',delimiter=',')"
   ]
  },
  {
   "cell_type": "code",
   "execution_count": 4,
   "id": "28ad35ca",
   "metadata": {},
   "outputs": [
    {
     "data": {
      "text/plain": [
       "['/mnt/d/ForANTs/ROIs_10_Resized.csv',\n",
       " '/mnt/d/ForANTs/ROIs_11_Resized.csv',\n",
       " '/mnt/d/ForANTs/ROIs_13_Resized.csv',\n",
       " '/mnt/d/ForANTs/ROIs_15_Resized.csv',\n",
       " '/mnt/d/ForANTs/ROIs_16_Resized.csv',\n",
       " '/mnt/d/ForANTs/ROIs_17_Resized.csv',\n",
       " '/mnt/d/ForANTs/ROIs_19_Resized.csv',\n",
       " '/mnt/d/ForANTs/ROIs_20_Resized.csv',\n",
       " '/mnt/d/ForANTs/ROIs_21_Resized.csv',\n",
       " '/mnt/d/ForANTs/ROIs_23_Resized.csv',\n",
       " '/mnt/d/ForANTs/ROIs_24_Resized.csv',\n",
       " '/mnt/d/ForANTs/ROIs_26_Resized.csv',\n",
       " '/mnt/d/ForANTs/ROIs_27_Resized.csv',\n",
       " '/mnt/d/ForANTs/ROIs_28_Resized.csv',\n",
       " '/mnt/d/ForANTs/ROIs_30_Resized.csv',\n",
       " '/mnt/d/ForANTs/ROIs_31_Resized.csv',\n",
       " '/mnt/d/ForANTs/ROIs_5_Resized.csv',\n",
       " '/mnt/d/ForANTs/ROIs_6_Resized.csv',\n",
       " '/mnt/d/ForANTs/ROIs_7_Resized.csv',\n",
       " '/mnt/d/ForANTs/ROIs_8_Resized.csv',\n",
       " '/mnt/d/ForANTs/ROIs_9_Resized.csv']"
      ]
     },
     "execution_count": 4,
     "metadata": {},
     "output_type": "execute_result"
    }
   ],
   "source": [
    "fnames_all =[]\n",
    "for file_name in glob.glob(directory+'ROIs*_Resized.csv'):\n",
    "    if (not file_name.rpartition('/')[2].startswith('_Warped') )& (not file_name.rpartition('/')[2].startswith('2_HD')) :\n",
    "        fnames_all.append(file_name)\n",
    "fnames_all.sort()\n",
    "for i,name in enumerate(fnames_all):    \n",
    "    line_prepender(name,'x,y,z,t,l,c')\n",
    "fnames_all"
   ]
  },
  {
   "cell_type": "code",
   "execution_count": 5,
   "id": "1809a9dc",
   "metadata": {},
   "outputs": [
    {
     "data": {
      "text/plain": [
       "['/mnt/d/ForANTs/RegToTemplate_20200917050GenericAffine.mat',\n",
       " '/mnt/d/ForANTs/RegToTemplate_20200917060GenericAffine.mat',\n",
       " '/mnt/d/ForANTs/RegToTemplate_20200924070GenericAffine.mat',\n",
       " '/mnt/d/ForANTs/RegToTemplate_20200924080GenericAffine.mat',\n",
       " '/mnt/d/ForANTs/RegToTemplate_20200924090GenericAffine.mat',\n",
       " '/mnt/d/ForANTs/RegToTemplate_20200924100GenericAffine.mat',\n",
       " '/mnt/d/ForANTs/RegToTemplate_20200924110GenericAffine.mat',\n",
       " '/mnt/d/ForANTs/RegToTemplate_20201001130GenericAffine.mat',\n",
       " '/mnt/d/ForANTs/RegToTemplate_20201001150GenericAffine.mat',\n",
       " '/mnt/d/ForANTs/RegToTemplate_20201001160GenericAffine.mat',\n",
       " '/mnt/d/ForANTs/RegToTemplate_20201001170GenericAffine.mat',\n",
       " '/mnt/d/ForANTs/RegToTemplate_20201022190GenericAffine.mat',\n",
       " '/mnt/d/ForANTs/RegToTemplate_20201022200GenericAffine.mat',\n",
       " '/mnt/d/ForANTs/RegToTemplate_20201022210GenericAffine.mat',\n",
       " '/mnt/d/ForANTs/RegToTemplate_20201022230GenericAffine.mat',\n",
       " '/mnt/d/ForANTs/RegToTemplate_20201022240GenericAffine.mat',\n",
       " '/mnt/d/ForANTs/RegToTemplate_20201116260GenericAffine.mat',\n",
       " '/mnt/d/ForANTs/RegToTemplate_20201116270GenericAffine.mat',\n",
       " '/mnt/d/ForANTs/RegToTemplate_20201116280GenericAffine.mat',\n",
       " '/mnt/d/ForANTs/RegToTemplate_20201116300GenericAffine.mat',\n",
       " '/mnt/d/ForANTs/RegToTemplate_20201116310GenericAffine.mat']"
      ]
     },
     "execution_count": 5,
     "metadata": {},
     "output_type": "execute_result"
    }
   ],
   "source": [
    "ANTsFiles =[]\n",
    "for file in glob.glob(directory+'*Affine.mat'):\n",
    "    if file.endswith(\".mat\"):\n",
    "        ANTsFiles.append(file)\n",
    "ANTsFiles.sort()\n",
    "ANTsFiles"
   ]
  },
  {
   "cell_type": "code",
   "execution_count": null,
   "id": "8fe70d1d",
   "metadata": {},
   "outputs": [
    {
     "name": "stdout",
     "output_type": "stream",
     "text": [
      "10  /mnt/d/ForANTs/RegToTemplate_20200924100GenericAffine.mat\n"
     ]
    },
    {
     "name": "stderr",
     "output_type": "stream",
     "text": [
      "WARNING: In /home/zebrafish/build/ITKv5/Modules/IO/CSV/src/itkCSVFileReaderBase.cxx, line 182\n",
      "CSVArray2DFileReader (0x558d217e2820): Warning: Data appears to contain missing data! These will be set to NaN.\n",
      "\n"
     ]
    },
    {
     "name": "stdout",
     "output_type": "stream",
     "text": [
      "11  /mnt/d/ForANTs/RegToTemplate_20200924110GenericAffine.mat\n"
     ]
    },
    {
     "name": "stderr",
     "output_type": "stream",
     "text": [
      "WARNING: In /home/zebrafish/build/ITKv5/Modules/IO/CSV/src/itkCSVFileReaderBase.cxx, line 182\n",
      "CSVArray2DFileReader (0x55a269355820): Warning: Data appears to contain missing data! These will be set to NaN.\n",
      "\n"
     ]
    },
    {
     "name": "stdout",
     "output_type": "stream",
     "text": [
      "13  /mnt/d/ForANTs/RegToTemplate_20201001130GenericAffine.mat\n"
     ]
    },
    {
     "name": "stderr",
     "output_type": "stream",
     "text": [
      "WARNING: In /home/zebrafish/build/ITKv5/Modules/IO/CSV/src/itkCSVFileReaderBase.cxx, line 182\n",
      "CSVArray2DFileReader (0x55d75b396820): Warning: Data appears to contain missing data! These will be set to NaN.\n",
      "\n"
     ]
    },
    {
     "name": "stdout",
     "output_type": "stream",
     "text": [
      "15  /mnt/d/ForANTs/RegToTemplate_20201001150GenericAffine.mat\n"
     ]
    },
    {
     "name": "stderr",
     "output_type": "stream",
     "text": [
      "WARNING: In /home/zebrafish/build/ITKv5/Modules/IO/CSV/src/itkCSVFileReaderBase.cxx, line 182\n",
      "CSVArray2DFileReader (0x5618b4f8f820): Warning: Data appears to contain missing data! These will be set to NaN.\n",
      "\n"
     ]
    },
    {
     "name": "stdout",
     "output_type": "stream",
     "text": [
      "16  /mnt/d/ForANTs/RegToTemplate_20201001160GenericAffine.mat\n"
     ]
    },
    {
     "name": "stderr",
     "output_type": "stream",
     "text": [
      "WARNING: In /home/zebrafish/build/ITKv5/Modules/IO/CSV/src/itkCSVFileReaderBase.cxx, line 182\n",
      "CSVArray2DFileReader (0x55f919ebd820): Warning: Data appears to contain missing data! These will be set to NaN.\n",
      "\n"
     ]
    },
    {
     "name": "stdout",
     "output_type": "stream",
     "text": [
      "17  /mnt/d/ForANTs/RegToTemplate_20201001170GenericAffine.mat\n"
     ]
    },
    {
     "name": "stderr",
     "output_type": "stream",
     "text": [
      "WARNING: In /home/zebrafish/build/ITKv5/Modules/IO/CSV/src/itkCSVFileReaderBase.cxx, line 182\n",
      "CSVArray2DFileReader (0x55fe4f28a820): Warning: Data appears to contain missing data! These will be set to NaN.\n",
      "\n"
     ]
    },
    {
     "name": "stdout",
     "output_type": "stream",
     "text": [
      "19  /mnt/d/ForANTs/RegToTemplate_20201022190GenericAffine.mat\n"
     ]
    },
    {
     "name": "stderr",
     "output_type": "stream",
     "text": [
      "WARNING: In /home/zebrafish/build/ITKv5/Modules/IO/CSV/src/itkCSVFileReaderBase.cxx, line 182\n",
      "CSVArray2DFileReader (0x56224de79820): Warning: Data appears to contain missing data! These will be set to NaN.\n",
      "\n"
     ]
    }
   ],
   "source": [
    "#Check regex and string splits for your filename convention - Name of the fish ROI file should match the ANTS matlab files\n",
    "os.chdir(directory)\n",
    "for i,name in enumerate(fnames_all):       \n",
    "    fish_nb=name.rpartition('ROIs_')[2].partition('_Resized.csv')[0]        \n",
    "    affine_matrix = next(x for x in ANTsFiles if fish_nb+'0Generic' in x)    \n",
    "    print(fish_nb + '  ' + affine_matrix)\n",
    "    warp_image=affine_matrix.replace('0GenericAffine.mat','1InverseWarp.nii.gz')\n",
    "    output_name='_Warped'+fish_nb+'.csv'\n",
    "    job_string = \"\"\"antsApplyTransformsToPoints -d 3 -i %s -o %s -t [%s, 1] -t %s\"\"\" % (name, output_name, affine_matrix, warp_image)\n",
    "    call([job_string],shell=True)"
   ]
  },
  {
   "cell_type": "code",
   "execution_count": null,
   "id": "3db087fe",
   "metadata": {},
   "outputs": [],
   "source": [
    "fnames_all =[]\n",
    "for file_name in glob.glob(directory+'_Warped*'):    \n",
    "    fnames_all.append(file_name)\n",
    "fnames_all.sort()\n",
    "fnames_all"
   ]
  },
  {
   "cell_type": "code",
   "execution_count": null,
   "id": "ec26103e",
   "metadata": {},
   "outputs": [],
   "source": [
    "affine_matrix='/mnt/d/ForANTs/Mask_nosedown/MW_To_Zbrain0GenericAffine.mat' #Need the warp to Zbrain file\n",
    "warp_image=affine_matrix.replace('0GenericAffine.mat','1InverseWarp.nii.gz')\n",
    "for i,name in enumerate(fnames_all): \n",
    "    input_coords=fnames_all[i]\n",
    "    output_name= fnames_all[i].replace('_Warped','_2Warped')\n",
    "    job_string = \"\"\"antsApplyTransformsToPoints -d 3 -i %s -o %s -t [%s, 1] -t %s\"\"\" % (input_coords, output_name, affine_matrix, warp_image)\n",
    "    call([job_string],shell=True)  \n",
    "    name"
   ]
  },
  {
   "cell_type": "code",
   "execution_count": null,
   "id": "8ea96e37",
   "metadata": {},
   "outputs": [],
   "source": []
  }
 ],
 "metadata": {
  "kernelspec": {
   "display_name": "Python 3 (ipykernel)",
   "language": "python",
   "name": "python3"
  },
  "language_info": {
   "codemirror_mode": {
    "name": "ipython",
    "version": 3
   },
   "file_extension": ".py",
   "mimetype": "text/x-python",
   "name": "python",
   "nbconvert_exporter": "python",
   "pygments_lexer": "ipython3",
   "version": "3.8.10"
  }
 },
 "nbformat": 4,
 "nbformat_minor": 5
}
