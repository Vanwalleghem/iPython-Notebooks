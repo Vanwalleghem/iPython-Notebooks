{
 "cells": [
  {
   "cell_type": "code",
   "execution_count": 1,
   "metadata": {
    "collapsed": true
   },
   "outputs": [],
   "source": [
    "import tifffile\n",
    "import numpy as np\n",
    "import matplotlib.pyplot as plt\n",
    "%matplotlib inline\n",
    "import os\n",
    "from subprocess import Popen, PIPE"
   ]
  },
  {
   "cell_type": "code",
   "execution_count": 2,
   "metadata": {
    "collapsed": true
   },
   "outputs": [],
   "source": [
    "def assure_path_exists(path):\n",
    "    dir = os.path.dirname(path)\n",
    "    if not os.path.exists(dir):\n",
    "        os.makedirs(dir)"
   ]
  },
  {
   "cell_type": "code",
   "execution_count": null,
   "metadata": {
    "collapsed": true
   },
   "outputs": [],
   "source": [
    "temp=tifffile.imread('/mnt/droplet/ForAnalysis/HS/Fish201709111_ERO_HS.tif')"
   ]
  },
  {
   "cell_type": "code",
   "execution_count": null,
   "metadata": {
    "collapsed": true
   },
   "outputs": [],
   "source": [
    "temp=temp.mean(axis=0)"
   ]
  },
  {
   "cell_type": "code",
   "execution_count": 3,
   "metadata": {
    "collapsed": true
   },
   "outputs": [],
   "source": [
    "directory='/mnt/droplet/ForAnalysis/HS/'\n",
    "savedirectory='/mnt/downloads/Itia/HS_mean'\n",
    "assure_path_exists(savedirectory)\n",
    "os.chdir(directory)\n",
    "p=Popen(['ls'], shell=False, stdout=PIPE, close_fds=True).stdout.readlines()\n",
    "filelist=[]\n",
    "for filename in p:    \n",
    "    if filename.endswith('tif\\n'):\n",
    "        filelist.append(filename.rstrip('\\n'))            \n",
    "filelist.sort()"
   ]
  },
  {
   "cell_type": "code",
   "execution_count": 5,
   "metadata": {
    "collapsed": true
   },
   "outputs": [],
   "source": [
    "for i,filename in enumerate(filelist):      \n",
    "    temp=tifffile.imread(directory+filename)\n",
    "    temp=temp.mean(axis=0).astype(np.uint16)\n",
    "    tifffile.imsave(savedirectory+'/'+filename[:-4]+'_mean.tif',temp)"
   ]
  },
  {
   "cell_type": "code",
   "execution_count": 23,
   "metadata": {
    "collapsed": true
   },
   "outputs": [],
   "source": [
    "tifffile.imsave(savedirectory+'/'+filename[:-4]+'_mean.tif',temp)"
   ]
  },
  {
   "cell_type": "code",
   "execution_count": 25,
   "metadata": {},
   "outputs": [
    {
     "data": {
      "text/plain": [
       "3"
      ]
     },
     "execution_count": 25,
     "metadata": {},
     "output_type": "execute_result"
    }
   ],
   "source": [
    "i"
   ]
  },
  {
   "cell_type": "code",
   "execution_count": 17,
   "metadata": {},
   "outputs": [
    {
     "data": {
      "text/plain": [
       "(25, 540, 640)"
      ]
     },
     "execution_count": 17,
     "metadata": {},
     "output_type": "execute_result"
    }
   ],
   "source": [
    "temp.shape"
   ]
  },
  {
   "cell_type": "code",
   "execution_count": 19,
   "metadata": {
    "collapsed": true
   },
   "outputs": [],
   "source": [
    "tifffile.imsave(savedirectory+'/'+filename[:-4]+'_mean.tif',temp)"
   ]
  },
  {
   "cell_type": "code",
   "execution_count": 18,
   "metadata": {},
   "outputs": [
    {
     "data": {
      "text/plain": [
       "'/mnt/downloads/Itia/HS_meanFish201709131_ELO_HS_mean.tif'"
      ]
     },
     "execution_count": 18,
     "metadata": {},
     "output_type": "execute_result"
    }
   ],
   "source": [
    "savedirectory+filename[:-4]+'_mean.tif'"
   ]
  },
  {
   "cell_type": "code",
   "execution_count": 5,
   "metadata": {
    "collapsed": true
   },
   "outputs": [],
   "source": [
    "temp=tifffile.imread('/mnt/downloads/Itia/ANTS_proper/Cropped/Huc_H2B_RFP_resliced_24-124-4_crop.tif')\n",
    "savedirectory='/mnt/downloads/Itia/Cropped_ANTS/'\n",
    "assure_path_exists(savedirectory)\n",
    "tifffile.imsave(savedirectory+'/Huc_H2B_RFP_reslice_4_crop.tif',temp)"
   ]
  },
  {
   "cell_type": "code",
   "execution_count": null,
   "metadata": {
    "collapsed": true
   },
   "outputs": [],
   "source": []
  }
 ],
 "metadata": {
  "kernelspec": {
   "display_name": "Python 3",
   "language": "python",
   "name": "python3"
  },
  "language_info": {
   "codemirror_mode": {
    "name": "ipython",
    "version": 3
   },
   "file_extension": ".py",
   "mimetype": "text/x-python",
   "name": "python",
   "nbconvert_exporter": "python",
   "pygments_lexer": "ipython3",
   "version": "3.6.7"
  }
 },
 "nbformat": 4,
 "nbformat_minor": 2
}
