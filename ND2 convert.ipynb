{
 "cells": [
  {
   "cell_type": "code",
   "execution_count": 1,
   "metadata": {},
   "outputs": [],
   "source": [
    "import skimage"
   ]
  },
  {
   "cell_type": "code",
   "execution_count": 6,
   "metadata": {},
   "outputs": [
    {
     "name": "stdout",
     "output_type": "stream",
     "text": [
      "Collecting pims_nd2\n",
      "  Downloading https://files.pythonhosted.org/packages/4a/34/f81b114393dd61fe514ed7dfce05d3ff3eacb9ddcddafe5c1c4360e34fd1/pims_nd2-1.0.zip (19.8MB)\n",
      "Requirement already satisfied: pims>=0.3 in d:\\continuum\\anaconda3\\lib\\site-packages (from pims_nd2) (0.4.1)\n",
      "Requirement already satisfied: slicerator>=0.9.7 in d:\\continuum\\anaconda3\\lib\\site-packages (from pims>=0.3->pims_nd2) (0.9.8)\n",
      "Requirement already satisfied: six>=1.8 in d:\\continuum\\anaconda3\\lib\\site-packages (from pims>=0.3->pims_nd2) (1.11.0)\n",
      "Requirement already satisfied: numpy>=1.7 in d:\\continuum\\anaconda3\\lib\\site-packages (from pims>=0.3->pims_nd2) (1.14.5)\n",
      "Building wheels for collected packages: pims-nd2\n",
      "  Running setup.py bdist_wheel for pims-nd2: started\n",
      "  Running setup.py bdist_wheel for pims-nd2: finished with status 'done'\n",
      "  Stored in directory: C:\\Users\\uqgvanwa\\AppData\\Local\\pip\\Cache\\wheels\\aa\\8a\\26\\3a913678d7e14776e777f54c27b1959ec606efc78c610dfcb5\n",
      "Successfully built pims-nd2\n",
      "Installing collected packages: pims-nd2\n",
      "Successfully installed pims-nd2-1.0\n"
     ]
    },
    {
     "name": "stderr",
     "output_type": "stream",
     "text": [
      "distributed 1.22.0 requires msgpack, which is not installed.\n",
      "cachecontrol 0.12.5 requires msgpack, which is not installed.\n",
      "You are using pip version 10.0.1, however version 18.0 is available.\n",
      "You should consider upgrading via the 'python -m pip install --upgrade pip' command.\n"
     ]
    }
   ],
   "source": [
    "!pip install pims_nd2"
   ]
  },
  {
   "cell_type": "code",
   "execution_count": 8,
   "metadata": {},
   "outputs": [],
   "source": [
    "from pims_nd2 import ND2_Reader"
   ]
  },
  {
   "cell_type": "code",
   "execution_count": 44,
   "metadata": {},
   "outputs": [
    {
     "name": "stderr",
     "output_type": "stream",
     "text": [
      "D:\\Continuum\\anaconda3\\lib\\site-packages\\pims\\base_frames.py:522: UserWarning: Please call FramesSequenceND.__init__() at the start of thethe reader initialization.\n",
      "  warn(\"Please call FramesSequenceND.__init__() at the start of the\"\n"
     ]
    }
   ],
   "source": [
    "frames = ND2_Reader('V:\\Emmanuel_MeDiCi\\spinning disk\\ovn1_6dpf_Gcamp488_TH635_GABA568.nd2')"
   ]
  },
  {
   "cell_type": "code",
   "execution_count": 27,
   "metadata": {},
   "outputs": [
    {
     "data": {
      "text/plain": [
       "<FramesSequenceND>\n",
       "Axes: 4\n",
       "Axis 'x' size: 1900\n",
       "Axis 'y' size: 3610\n",
       "Axis 'c' size: 3\n",
       "Axis 'z' size: 95\n",
       "Pixel Datatype: <class 'numpy.uint16'>"
      ]
     },
     "execution_count": 27,
     "metadata": {},
     "output_type": "execute_result"
    }
   ],
   "source": [
    "frames"
   ]
  },
  {
   "cell_type": "code",
   "execution_count": 21,
   "metadata": {},
   "outputs": [],
   "source": [
    "frames.iter_axes = 'z'"
   ]
  },
  {
   "cell_type": "code",
   "execution_count": 41,
   "metadata": {},
   "outputs": [
    {
     "ename": "TypeError",
     "evalue": "'int' object is not callable",
     "output_type": "error",
     "traceback": [
      "\u001b[1;31m---------------------------------------------------------------------------\u001b[0m",
      "\u001b[1;31mTypeError\u001b[0m                                 Traceback (most recent call last)",
      "\u001b[1;32m<ipython-input-41-452ca7edbffb>\u001b[0m in \u001b[0;36m<module>\u001b[1;34m()\u001b[0m\n\u001b[0;32m      1\u001b[0m \u001b[0mframes\u001b[0m \u001b[1;33m=\u001b[0m \u001b[0mND2_Reader\u001b[0m\u001b[1;33m(\u001b[0m\u001b[1;34m'D:temp/LongTime/041017_longtimelapse.nd2'\u001b[0m\u001b[1;33m)\u001b[0m\u001b[1;33m\u001b[0m\u001b[0m\n\u001b[1;32m----> 2\u001b[1;33m \u001b[1;32mfor\u001b[0m \u001b[0mcounter\u001b[0m \u001b[1;32min\u001b[0m \u001b[0mrange\u001b[0m\u001b[1;33m(\u001b[0m\u001b[1;36m0\u001b[0m\u001b[1;33m,\u001b[0m\u001b[0mlen\u001b[0m\u001b[1;33m(\u001b[0m\u001b[0mframes\u001b[0m\u001b[1;33m)\u001b[0m\u001b[1;33m)\u001b[0m\u001b[1;33m:\u001b[0m\u001b[1;33m\u001b[0m\u001b[0m\n\u001b[0m\u001b[0;32m      3\u001b[0m     \u001b[0mskimage\u001b[0m\u001b[1;33m.\u001b[0m\u001b[0mexternal\u001b[0m\u001b[1;33m.\u001b[0m\u001b[0mtifffile\u001b[0m\u001b[1;33m.\u001b[0m\u001b[0mimsave\u001b[0m\u001b[1;33m(\u001b[0m\u001b[1;34m'D:temp/LongCell'\u001b[0m\u001b[1;33m+\u001b[0m\u001b[0mstr\u001b[0m\u001b[1;33m(\u001b[0m\u001b[0mi\u001b[0m\u001b[1;33m)\u001b[0m\u001b[1;33m+\u001b[0m\u001b[1;34m'_t'\u001b[0m\u001b[1;33m+\u001b[0m\u001b[0mstr\u001b[0m\u001b[1;33m(\u001b[0m\u001b[0mcounter\u001b[0m\u001b[1;33m)\u001b[0m\u001b[1;33m+\u001b[0m\u001b[1;34m'.tif'\u001b[0m\u001b[1;33m,\u001b[0m\u001b[0mframes\u001b[0m\u001b[1;33m[\u001b[0m\u001b[0mcounter\u001b[0m\u001b[1;33m]\u001b[0m\u001b[1;33m)\u001b[0m\u001b[1;33m\u001b[0m\u001b[0m\n\u001b[0;32m      4\u001b[0m     \u001b[0mcounter\u001b[0m\u001b[1;33m=\u001b[0m\u001b[0mcounter\u001b[0m\u001b[1;33m+\u001b[0m\u001b[1;36m1\u001b[0m\u001b[1;33m\u001b[0m\u001b[0m\n",
      "\u001b[1;31mTypeError\u001b[0m: 'int' object is not callable"
     ]
    }
   ],
   "source": [
    "frames = ND2_Reader('D:temp/LongTime/041017_longtimelapse.nd2')\n",
    "for counter in range(0,len(frames)):\n",
    "    skimage.external.tifffile.imsave('D:temp/LongCell'+str(i)+'_t'+str(counter)+'.tif',frames[counter])\n",
    "    counter=counter+1"
   ]
  },
  {
   "cell_type": "code",
   "execution_count": 31,
   "metadata": {
    "collapsed": true
   },
   "outputs": [],
   "source": [
    "for i in range(3,6):    \n",
    "    frames = ND2_Reader('D:temp/LongTime/041017_timelapse_continuous_Cell'+str(i)+'.nd2')\n",
    "    for counter in range(0,len(frames)):\n",
    "        skimage.external.tifffile.imsave('D:temp/Cell'+str(i)+'_t'+str(counter)+'.tif',frames[counter])\n",
    "        counter=counter+1"
   ]
  },
  {
   "cell_type": "code",
   "execution_count": 46,
   "metadata": {},
   "outputs": [],
   "source": [
    "frames.iter_axes = 'c'\n",
    "frames.bundle_axes = 'zyx'"
   ]
  },
  {
   "cell_type": "code",
   "execution_count": null,
   "metadata": {
    "collapsed": true
   },
   "outputs": [],
   "source": [
    "for counter in range(0,len(frames)):\n",
    "    skimage.external.tifffile.imsave('D:temp/LongCell_t'+str(counter)+'.tif',frames[counter])\n",
    "    counter=counter+1"
   ]
  },
  {
   "cell_type": "code",
   "execution_count": 47,
   "metadata": {},
   "outputs": [],
   "source": [
    "counter=1\n",
    "for frame in frames[:3]:\n",
    "    skimage.external.tifffile.imsave('D:temp/ovn1_6dpf_Gcamp488_TH635_GABA568_c'+str(counter)+'.tif',frame)\n",
    "    counter=counter+1"
   ]
  },
  {
   "cell_type": "code",
   "execution_count": 40,
   "metadata": {},
   "outputs": [
    {
     "data": {
      "text/plain": [
       "1"
      ]
     },
     "execution_count": 40,
     "metadata": {},
     "output_type": "execute_result"
    }
   ],
   "source": [
    "counter=1\n",
    "counter+1\n",
    "counter"
   ]
  },
  {
   "cell_type": "code",
   "execution_count": 34,
   "metadata": {},
   "outputs": [
    {
     "data": {
      "text/plain": [
       "35"
      ]
     },
     "execution_count": 34,
     "metadata": {},
     "output_type": "execute_result"
    }
   ],
   "source": [
    "videoRepTimeinSec=15;\n",
    "videoRepTime = (videoRepTimeinSec*1000)/exposure;\n",
    "videoRepTime/21"
   ]
  },
  {
   "cell_type": "code",
   "execution_count": 32,
   "metadata": {},
   "outputs": [
    {
     "data": {
      "text/plain": [
       "(95, 3610, 1900)"
      ]
     },
     "execution_count": 32,
     "metadata": {},
     "output_type": "execute_result"
    }
   ],
   "source": [
    "temp=frames[10]\n",
    "temp.shape"
   ]
  },
  {
   "cell_type": "code",
   "execution_count": 49,
   "metadata": {},
   "outputs": [],
   "source": [
    "frames.close()"
   ]
  },
  {
   "cell_type": "code",
   "execution_count": null,
   "metadata": {},
   "outputs": [],
   "source": []
  }
 ],
 "metadata": {
  "kernelspec": {
   "display_name": "Python 3",
   "language": "python",
   "name": "python3"
  },
  "language_info": {
   "codemirror_mode": {
    "name": "ipython",
    "version": 3
   },
   "file_extension": ".py",
   "mimetype": "text/x-python",
   "name": "python",
   "nbconvert_exporter": "python",
   "pygments_lexer": "ipython3",
   "version": "3.6.6"
  }
 },
 "nbformat": 4,
 "nbformat_minor": 1
}
