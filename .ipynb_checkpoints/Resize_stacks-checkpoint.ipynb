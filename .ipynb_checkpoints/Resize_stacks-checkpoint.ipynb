{
 "cells": [
  {
   "cell_type": "code",
   "execution_count": 3,
   "metadata": {},
   "outputs": [],
   "source": [
    "import os\n",
    "import glob\n",
    "import numpy as np\n",
    "import skimage.external.tifffile as skext"
   ]
  },
  {
   "cell_type": "code",
   "execution_count": 87,
   "metadata": {
    "collapsed": true
   },
   "outputs": [],
   "source": [
    "fnames_all=[]\n",
    "for file in glob.glob(os.path.join('D:/temp/Flow_pictures/','*2_mean.tif')):\n",
    "    if file.endswith(\".tif\") and (file.find('Kmean')==-1):\n",
    "        fnames_all.append(file)\n",
    "#FishNames=list(set([s.partition(\"Fish\")[2].partition('O_')[0] for s in fnames_all]))\n",
    "FishNames=list(set([s.partition(\"\\\\\")[2].partition('_c')[0] for s in fnames_all]))\n",
    "#FishNames=list(set([s.partition(\"Fish\")[2].partition('_Cent')[0] for s in fnames_all]))"
   ]
  },
  {
   "cell_type": "code",
   "execution_count": 88,
   "metadata": {},
   "outputs": [
    {
     "data": {
      "text/plain": [
       "['Fish5', 'Fish1', 'Fish3', 'Fish4', 'Fish7', 'Fish6']"
      ]
     },
     "execution_count": 88,
     "metadata": {},
     "output_type": "execute_result"
    }
   ],
   "source": [
    "FishNames"
   ]
  },
  {
   "cell_type": "code",
   "execution_count": 89,
   "metadata": {
    "collapsed": true
   },
   "outputs": [],
   "source": [
    "frames=[]\n",
    "for i in range(0,len(FishNames)):\n",
    "#for i in range(2,3):\n",
    "    matches = [s for s in fnames_all if FishNames[i] in str(s)]\n",
    "    dims=np.shape(skext.imread(matches[1]))\n",
    "    z_limit=np.max([int(image_name.partition('_complex_')[2].rpartition('um')[0]) for image_name in matches])\n",
    "    frames=np.zeros((int((z_limit/20)-1)+1,dims[0],dims[1]), dtype='uint16')    \n",
    "    for image_name in matches:\n",
    "        #slice_nb=int(image_name.partition('O_')[2].partition('_')[0])-1\n",
    "        slice_nb=int(image_name.partition('_complex_')[2].rpartition('um')[0])        \n",
    "        frame = skext.imread(image_name)\n",
    "        if frame.shape[0]>frames.shape[1]:\n",
    "            if frame.shape[1]>frames.shape[2]:\n",
    "                frames=np.pad(frames,((0,0),(0,abs(frames.shape[1]-frame.shape[0])),(0,abs(frames.shape[2]-frame.shape[1]))),'constant')\n",
    "            elif frame.shape[1]<frames.shape[2]:\n",
    "                frames=np.pad(frames,((0,0),(0,abs(frames.shape[1]-frame.shape[0])),(0,0)),'constant')\n",
    "                frame=np.pad(frame,((0,0),(0,abs(frames.shape[2]-frame.shape[1]))),'constant')\n",
    "            else:\n",
    "                frames=np.pad(frames,((0,0),(0,abs(frames.shape[1]-frame.shape[0])),(0,0)),'constant')\n",
    "        elif frame.shape[0]<frames.shape[1]:\n",
    "            if frame.shape[1]<frames.shape[2]:\n",
    "                frame=np.pad(frame,((0,abs(frames.shape[1]-frame.shape[0])),(0,abs(frames.shape[2]-frame.shape[1]))),'constant')\n",
    "            elif frame.shape[1]>frames.shape[2]:\n",
    "                frame=np.pad(frame,((0,abs(frames.shape[1]-frame.shape[0])),(0,0)),'constant')\n",
    "                frames=np.pad(frames,((0,0),(0,0),(0,abs(frames.shape[2]-frame.shape[1]))),'constant')\n",
    "            else:\n",
    "                frame=np.pad(frame,((0,abs(frames.shape[1]-frame.shape[0])),(0,0)),'constant')\n",
    "        else:\n",
    "            if frame.shape[1]<frames.shape[2]:\n",
    "                frame=np.pad(frame,((0,0),(0,abs(frames.shape[2]-frame.shape[1]))),'constant')\n",
    "            elif frame.shape[1]>frames.shape[2]:        \n",
    "                frames=np.pad(frames,((0,0),(0,0),(0,abs(frames.shape[2]-frame.shape[1]))),'constant')\n",
    "        frames[int((slice_nb/20)-1),:,:] = frame\n",
    "    skext.imsave('D:temp/hs_complex'+FishNames[i]+'_2.tif',frames)"
   ]
  },
  {
   "cell_type": "code",
   "execution_count": 80,
   "metadata": {
    "collapsed": true
   },
   "outputs": [],
   "source": [
    "frames=[]\n",
    "for i in range(0,len(FishNames)):\n",
    "#for i in range(2,3):\n",
    "    matches = [s for s in fnames_all if FishNames[i] in str(s)]\n",
    "    dims=np.shape(skext.imread(matches[1]))\n",
    "    frames=np.zeros((len(matches)-1,dims[0],dims[1]), dtype='uint16')    \n",
    "    for image_name in matches:\n",
    "        #slice_nb=int(image_name.partition('O_')[2].partition('_')[0])-1\n",
    "        slice_nb=int(image_name.partition('_mean')[0].rpartition('_')[-1])-1\n",
    "        if slice_nb>0:\n",
    "            frame = skext.imread(image_name)            \n",
    "            frames[slice_nb-1,:,:] = frame\n",
    "    skext.imsave('D:temp/hs_Fish'+matches[0].partition('Fish')[2].partition('_mean')[0].rpartition('_')[0]+'.tif',frames)"
   ]
  },
  {
   "cell_type": "code",
   "execution_count": 100,
   "metadata": {
    "collapsed": true
   },
   "outputs": [],
   "source": [
    "fnames_all=[]\n",
    "for file in glob.glob(os.path.join('D:/temp/Flow_pictures/','AVG_*.tif')):\n",
    "    if file.endswith(\".tif\") and (file.find('Kmean')==-1):\n",
    "        fnames_all.append(file)\n",
    "#FishNames=list(set([s.partition(\"Fish\")[2].partition('O_')[0] for s in fnames_all]))\n",
    "FishNames=list(set([s.partition(\"AVG_\")[2].partition('_')[0] for s in fnames_all]))\n",
    "#FishNames=list(set([s.partition(\"Fish\")[2].partition('_Cent')[0] for s in fnames_all]))"
   ]
  },
  {
   "cell_type": "code",
   "execution_count": 101,
   "metadata": {},
   "outputs": [
    {
     "data": {
      "text/plain": [
       "['19', '18', '22', '14', '12', '13', '20', '23', '21', '17', '15']"
      ]
     },
     "execution_count": 101,
     "metadata": {},
     "output_type": "execute_result"
    }
   ],
   "source": [
    "FishNames"
   ]
  },
  {
   "cell_type": "code",
   "execution_count": 111,
   "metadata": {
    "collapsed": true
   },
   "outputs": [],
   "source": [
    "frames=[]\n",
    "for i in range(0,len(FishNames)):\n",
    "#for i in range(2,3):\n",
    "    matches = [s for s in fnames_all if FishNames[i] in str(s)]\n",
    "    dims=np.shape(skext.imread(matches[1]))\n",
    "    z_limit=np.max([int(image_name.rpartition('_')[2].partition('.tif')[0]) for image_name in matches])\n",
    "    frames=np.zeros((int((z_limit/20)-1)+1,dims[0],dims[1]), dtype='uint16')    \n",
    "    for image_name in matches:\n",
    "        #slice_nb=int(image_name.partition('O_')[2].partition('_')[0])-1\n",
    "        slice_nb=int(image_name.rpartition('_')[2].partition('.tif')[0])        \n",
    "        frame = skext.imread(image_name)\n",
    "        if frame.shape[0]>frames.shape[1]:\n",
    "            if frame.shape[1]>frames.shape[2]:\n",
    "                frames=np.pad(frames,((0,0),(0,abs(frames.shape[1]-frame.shape[0])),(0,abs(frames.shape[2]-frame.shape[1]))),'constant')\n",
    "            elif frame.shape[1]<frames.shape[2]:\n",
    "                frames=np.pad(frames,((0,0),(0,abs(frames.shape[1]-frame.shape[0])),(0,0)),'constant')\n",
    "                frame=np.pad(frame,((0,0),(0,abs(frames.shape[2]-frame.shape[1]))),'constant')\n",
    "            else:\n",
    "                frames=np.pad(frames,((0,0),(0,abs(frames.shape[1]-frame.shape[0])),(0,0)),'constant')\n",
    "        elif frame.shape[0]<frames.shape[1]:\n",
    "            if frame.shape[1]<frames.shape[2]:\n",
    "                frame=np.pad(frame,((0,abs(frames.shape[1]-frame.shape[0])),(0,abs(frames.shape[2]-frame.shape[1]))),'constant')\n",
    "            elif frame.shape[1]>frames.shape[2]:\n",
    "                frame=np.pad(frame,((0,abs(frames.shape[1]-frame.shape[0])),(0,0)),'constant')\n",
    "                frames=np.pad(frames,((0,0),(0,0),(0,abs(frames.shape[2]-frame.shape[1]))),'constant')\n",
    "            else:\n",
    "                frame=np.pad(frame,((0,abs(frames.shape[1]-frame.shape[0])),(0,0)),'constant')\n",
    "        else:\n",
    "            if frame.shape[1]<frames.shape[2]:\n",
    "                frame=np.pad(frame,((0,0),(0,abs(frames.shape[2]-frame.shape[1]))),'constant')\n",
    "            elif frame.shape[1]>frames.shape[2]:        \n",
    "                frames=np.pad(frames,((0,0),(0,0),(0,abs(frames.shape[2]-frame.shape[1]))),'constant')\n",
    "        frames[int((slice_nb/20)-1),:,:] = frame\n",
    "    skext.imsave('D:temp/hs_Basic_'+FishNames[i]+'.tif',frames)"
   ]
  },
  {
   "cell_type": "code",
   "execution_count": 115,
   "metadata": {},
   "outputs": [
    {
     "data": {
      "text/plain": [
       "['2', '1']"
      ]
     },
     "execution_count": 115,
     "metadata": {},
     "output_type": "execute_result"
    }
   ],
   "source": [
    "fnames_all=[]\n",
    "for file in glob.glob(os.path.join('D:/temp/Flow_pictures/Basic_2planes/','AVG_*.tif')):\n",
    "    if file.endswith(\".tif\") and (file.find('Kmean')==-1):\n",
    "        fnames_all.append(file)\n",
    "#FishNames=list(set([s.partition(\"Fish\")[2].partition('O_')[0] for s in fnames_all]))\n",
    "FishNames=list(set([s.partition(\"_f\")[2].partition('-')[0] for s in fnames_all]))\n",
    "#FishNames=list(set([s.partition(\"Fish\")[2].partition('_Cent')[0] for s in fnames_all]))\n",
    "FishNames"
   ]
  },
  {
   "cell_type": "code",
   "execution_count": 117,
   "metadata": {},
   "outputs": [
    {
     "data": {
      "text/plain": [
       "'D:/temp/Flow_pictures/Basic_2planes\\\\AVG_Flow_2planes_f1-0um.tif'"
      ]
     },
     "execution_count": 117,
     "metadata": {},
     "output_type": "execute_result"
    }
   ],
   "source": [
    "matches = [s for s in fnames_all if FishNames[0] in str(s)]\n",
    "image_name=matches[0]\n",
    "image_name"
   ]
  },
  {
   "cell_type": "code",
   "execution_count": 119,
   "metadata": {},
   "outputs": [
    {
     "data": {
      "text/plain": [
       "'0'"
      ]
     },
     "execution_count": 119,
     "metadata": {},
     "output_type": "execute_result"
    }
   ],
   "source": [
    "image_name.rpartition('-')[2].partition('um')[0]"
   ]
  },
  {
   "cell_type": "code",
   "execution_count": 120,
   "metadata": {
    "collapsed": true
   },
   "outputs": [],
   "source": [
    "frames=[]\n",
    "for i in range(0,len(FishNames)):\n",
    "#for i in range(2,3):\n",
    "    matches = [s for s in fnames_all if FishNames[i] in str(s)]\n",
    "    dims=np.shape(skext.imread(matches[1]))\n",
    "    z_limit=np.max([int(image_name.rpartition('-')[2].partition('um')[0]) for image_name in matches])\n",
    "    frames=np.zeros((int((z_limit/20))+1,dims[0],dims[1]), dtype='uint16')    \n",
    "    for image_name in matches:\n",
    "        #slice_nb=int(image_name.partition('O_')[2].partition('_')[0])-1\n",
    "        slice_nb=int(image_name.rpartition('-')[2].partition('um')[0])        \n",
    "        frame = skext.imread(image_name)\n",
    "        if frame.shape[0]>frames.shape[1]:\n",
    "            if frame.shape[1]>frames.shape[2]:\n",
    "                frames=np.pad(frames,((0,0),(0,abs(frames.shape[1]-frame.shape[0])),(0,abs(frames.shape[2]-frame.shape[1]))),'constant')\n",
    "            elif frame.shape[1]<frames.shape[2]:\n",
    "                frames=np.pad(frames,((0,0),(0,abs(frames.shape[1]-frame.shape[0])),(0,0)),'constant')\n",
    "                frame=np.pad(frame,((0,0),(0,abs(frames.shape[2]-frame.shape[1]))),'constant')\n",
    "            else:\n",
    "                frames=np.pad(frames,((0,0),(0,abs(frames.shape[1]-frame.shape[0])),(0,0)),'constant')\n",
    "        elif frame.shape[0]<frames.shape[1]:\n",
    "            if frame.shape[1]<frames.shape[2]:\n",
    "                frame=np.pad(frame,((0,abs(frames.shape[1]-frame.shape[0])),(0,abs(frames.shape[2]-frame.shape[1]))),'constant')\n",
    "            elif frame.shape[1]>frames.shape[2]:\n",
    "                frame=np.pad(frame,((0,abs(frames.shape[1]-frame.shape[0])),(0,0)),'constant')\n",
    "                frames=np.pad(frames,((0,0),(0,0),(0,abs(frames.shape[2]-frame.shape[1]))),'constant')\n",
    "            else:\n",
    "                frame=np.pad(frame,((0,abs(frames.shape[1]-frame.shape[0])),(0,0)),'constant')\n",
    "        else:\n",
    "            if frame.shape[1]<frames.shape[2]:\n",
    "                frame=np.pad(frame,((0,0),(0,abs(frames.shape[2]-frame.shape[1]))),'constant')\n",
    "            elif frame.shape[1]>frames.shape[2]:        \n",
    "                frames=np.pad(frames,((0,0),(0,0),(0,abs(frames.shape[2]-frame.shape[1]))),'constant')\n",
    "        frames[int((slice_nb/20)),:,:] = frame\n",
    "    skext.imsave('D:temp/hs_Basic2p_'+FishNames[i]+'.tif',frames)"
   ]
  },
  {
   "cell_type": "code",
   "execution_count": 106,
   "metadata": {
    "collapsed": true
   },
   "outputs": [],
   "source": [
    "ELO_list=[]\n",
    "ERO_list=[]\n",
    "ILO_list=[]\n",
    "IRO_list=[]\n",
    "CLO_list=[]\n",
    "CRO_list=[]\n",
    "OLO_list=[]\n",
    "ORO_list=[]\n",
    "for FishName in FishNames:\n",
    "    ELO_list.append([s for s in fnames_all if ('ELO' in s.partition(\"AVG_\")[2]) & (FishName in s)])\n",
    "    ELO_list.append([s for s in fnames_all if ('ERO' in s.partition(\"AVG_\")[2]) & (FishName in s)])\n",
    "    ILO_list.append([s for s in fnames_all if ('ILO' in s.partition(\"AVG_\")[2]) & (FishName in s)])\n",
    "    ILO_list.append([s for s in fnames_all if ('IRO' in s.partition(\"AVG_\")[2]) & (FishName in s)])\n",
    "    CRO_list.append([s for s in fnames_all if ('CRO' in s.partition(\"AVG_\")[2]) & (FishName in s)])\n",
    "    CLO_list.append([s for s in fnames_all if ('CLO' in s.partition(\"AVG_\")[2]) & (FishName in s)])\n",
    "    OLO_list.append([s for s in fnames_all if ('OLO' in s.partition(\"AVG_\")[2]) & (FishName in s)])\n",
    "    "
   ]
  },
  {
   "cell_type": "code",
   "execution_count": 19,
   "metadata": {},
   "outputs": [
    {
     "ename": "NameError",
     "evalue": "name 'pims' is not defined",
     "output_type": "error",
     "traceback": [
      "\u001b[1;31m---------------------------------------------------------------------------\u001b[0m",
      "\u001b[1;31mNameError\u001b[0m                                 Traceback (most recent call last)",
      "\u001b[1;32m<ipython-input-19-885f72882bb2>\u001b[0m in \u001b[0;36m<module>\u001b[1;34m()\u001b[0m\n\u001b[0;32m      2\u001b[0m \u001b[1;31m#for i in range(0,len(ELO_list)):\u001b[0m\u001b[1;33m\u001b[0m\u001b[1;33m\u001b[0m\u001b[0m\n\u001b[0;32m      3\u001b[0m \u001b[1;32mfor\u001b[0m \u001b[0mi\u001b[0m \u001b[1;32min\u001b[0m \u001b[0mrange\u001b[0m\u001b[1;33m(\u001b[0m\u001b[1;36m2\u001b[0m\u001b[1;33m,\u001b[0m\u001b[1;36m3\u001b[0m\u001b[1;33m)\u001b[0m\u001b[1;33m:\u001b[0m\u001b[1;33m\u001b[0m\u001b[0m\n\u001b[1;32m----> 4\u001b[1;33m     \u001b[0mdims\u001b[0m\u001b[1;33m=\u001b[0m\u001b[0mnp\u001b[0m\u001b[1;33m.\u001b[0m\u001b[0mshape\u001b[0m\u001b[1;33m(\u001b[0m\u001b[0mpims\u001b[0m\u001b[1;33m.\u001b[0m\u001b[0mimage_reader\u001b[0m\u001b[1;33m.\u001b[0m\u001b[0mimread\u001b[0m\u001b[1;33m(\u001b[0m\u001b[0mELO_list\u001b[0m\u001b[1;33m[\u001b[0m\u001b[0mi\u001b[0m\u001b[1;33m]\u001b[0m\u001b[1;33m[\u001b[0m\u001b[1;36m0\u001b[0m\u001b[1;33m]\u001b[0m\u001b[1;33m)\u001b[0m\u001b[1;33m)\u001b[0m\u001b[1;33m\u001b[0m\u001b[0m\n\u001b[0m\u001b[0;32m      5\u001b[0m     \u001b[0mframes\u001b[0m\u001b[1;33m=\u001b[0m\u001b[0mnp\u001b[0m\u001b[1;33m.\u001b[0m\u001b[0mzeros\u001b[0m\u001b[1;33m(\u001b[0m\u001b[1;33m(\u001b[0m\u001b[0mlen\u001b[0m\u001b[1;33m(\u001b[0m\u001b[0mELO_list\u001b[0m\u001b[1;33m[\u001b[0m\u001b[0mi\u001b[0m\u001b[1;33m]\u001b[0m\u001b[1;33m)\u001b[0m\u001b[1;33m,\u001b[0m\u001b[0mdims\u001b[0m\u001b[1;33m[\u001b[0m\u001b[1;36m0\u001b[0m\u001b[1;33m]\u001b[0m\u001b[1;33m,\u001b[0m\u001b[0mdims\u001b[0m\u001b[1;33m[\u001b[0m\u001b[1;36m1\u001b[0m\u001b[1;33m]\u001b[0m\u001b[1;33m)\u001b[0m\u001b[1;33m,\u001b[0m \u001b[0mdtype\u001b[0m\u001b[1;33m=\u001b[0m\u001b[1;34m'uint16'\u001b[0m\u001b[1;33m)\u001b[0m\u001b[1;33m\u001b[0m\u001b[0m\n\u001b[0;32m      6\u001b[0m     \u001b[1;32mfor\u001b[0m \u001b[0mimage_name\u001b[0m \u001b[1;32min\u001b[0m \u001b[0mELO_list\u001b[0m\u001b[1;33m[\u001b[0m\u001b[0mi\u001b[0m\u001b[1;33m]\u001b[0m\u001b[1;33m:\u001b[0m\u001b[1;33m\u001b[0m\u001b[0m\n",
      "\u001b[1;31mNameError\u001b[0m: name 'pims' is not defined"
     ]
    }
   ],
   "source": [
    "frames=[]\n",
    "#for i in range(0,len(ELO_list)):\n",
    "for i in range(2,3):\n",
    "    dims=np.shape(pims.image_reader.imread(ELO_list[i][0]))\n",
    "    frames=np.zeros((len(ELO_list[i]),dims[0],dims[1]), dtype='uint16')    \n",
    "    for image_name in ELO_list[i]:\n",
    "        slice_nb=int(image_name.partition('Slice')[2].partition('_Fish')[0])-1\n",
    "        if slice_nb>0:\n",
    "            frame = pims.image_reader.imread(image_name)\n",
    "            frames[slice_nb,:,:] = frame\n",
    "    skext.tifffile.imsave('D:temp/hs_'+matches[0].partition('Fish')[2].partition('_mean')[0].rpartition('_')[0],frames)"
   ]
  },
  {
   "cell_type": "code",
   "execution_count": 108,
   "metadata": {
    "collapsed": true
   },
   "outputs": [],
   "source": [
    "frames=[]\n",
    "for i in range(0,len(ILO_list)):\n",
    "    dims=np.shape(pims.image_reader.imread(ELO_list[i][0]))\n",
    "    frames=np.zeros((len(ELO_list[i]),dims[0],dims[1]), dtype='uint16')    \n",
    "    for image_name in ELO_list[i]:\n",
    "        slice_nb=int(image_name.partition('Slice')[2].partition('_Fish')[0])-1\n",
    "        if slice_nb>0:\n",
    "            frame = pims.image_reader.imread(image_name)\n",
    "            frames[slice_nb,:,:] = frame\n",
    "    skext.tifffile.imsave('D:temp/hs_'+ELO_list[i][0].partition('Fish')[2].partition('_')[0]+'_ILO.tif',frames)"
   ]
  },
  {
   "cell_type": "code",
   "execution_count": 109,
   "metadata": {},
   "outputs": [
    {
     "ename": "IndexError",
     "evalue": "list index out of range",
     "output_type": "error",
     "traceback": [
      "\u001b[1;31m---------------------------------------------------------------------------\u001b[0m",
      "\u001b[1;31mIndexError\u001b[0m                                Traceback (most recent call last)",
      "\u001b[1;32m<ipython-input-109-116b43904141>\u001b[0m in \u001b[0;36m<module>\u001b[1;34m()\u001b[0m\n\u001b[0;32m      1\u001b[0m \u001b[0mframes\u001b[0m\u001b[1;33m=\u001b[0m\u001b[1;33m[\u001b[0m\u001b[1;33m]\u001b[0m\u001b[1;33m\u001b[0m\u001b[0m\n\u001b[0;32m      2\u001b[0m \u001b[1;32mfor\u001b[0m \u001b[0mi\u001b[0m \u001b[1;32min\u001b[0m \u001b[0mrange\u001b[0m\u001b[1;33m(\u001b[0m\u001b[1;36m0\u001b[0m\u001b[1;33m,\u001b[0m\u001b[0mlen\u001b[0m\u001b[1;33m(\u001b[0m\u001b[0mCLO_list\u001b[0m\u001b[1;33m)\u001b[0m\u001b[1;33m)\u001b[0m\u001b[1;33m:\u001b[0m\u001b[1;33m\u001b[0m\u001b[0m\n\u001b[1;32m----> 3\u001b[1;33m     \u001b[0mdims\u001b[0m\u001b[1;33m=\u001b[0m\u001b[0mnp\u001b[0m\u001b[1;33m.\u001b[0m\u001b[0mshape\u001b[0m\u001b[1;33m(\u001b[0m\u001b[0mpims\u001b[0m\u001b[1;33m.\u001b[0m\u001b[0mimage_reader\u001b[0m\u001b[1;33m.\u001b[0m\u001b[0mimread\u001b[0m\u001b[1;33m(\u001b[0m\u001b[0mCLO_list\u001b[0m\u001b[1;33m[\u001b[0m\u001b[0mi\u001b[0m\u001b[1;33m]\u001b[0m\u001b[1;33m[\u001b[0m\u001b[1;36m0\u001b[0m\u001b[1;33m]\u001b[0m\u001b[1;33m)\u001b[0m\u001b[1;33m)\u001b[0m\u001b[1;33m\u001b[0m\u001b[0m\n\u001b[0m\u001b[0;32m      4\u001b[0m     \u001b[0mframes\u001b[0m\u001b[1;33m=\u001b[0m\u001b[0mnp\u001b[0m\u001b[1;33m.\u001b[0m\u001b[0mzeros\u001b[0m\u001b[1;33m(\u001b[0m\u001b[1;33m(\u001b[0m\u001b[0mlen\u001b[0m\u001b[1;33m(\u001b[0m\u001b[0mCLO_list\u001b[0m\u001b[1;33m[\u001b[0m\u001b[0mi\u001b[0m\u001b[1;33m]\u001b[0m\u001b[1;33m)\u001b[0m\u001b[1;33m,\u001b[0m\u001b[0mdims\u001b[0m\u001b[1;33m[\u001b[0m\u001b[1;36m0\u001b[0m\u001b[1;33m]\u001b[0m\u001b[1;33m,\u001b[0m\u001b[0mdims\u001b[0m\u001b[1;33m[\u001b[0m\u001b[1;36m1\u001b[0m\u001b[1;33m]\u001b[0m\u001b[1;33m)\u001b[0m\u001b[1;33m,\u001b[0m \u001b[0mdtype\u001b[0m\u001b[1;33m=\u001b[0m\u001b[1;34m'uint16'\u001b[0m\u001b[1;33m)\u001b[0m\u001b[1;33m\u001b[0m\u001b[0m\n\u001b[0;32m      5\u001b[0m     \u001b[1;32mfor\u001b[0m \u001b[0mimage_name\u001b[0m \u001b[1;32min\u001b[0m \u001b[0mCLO_list\u001b[0m\u001b[1;33m[\u001b[0m\u001b[0mi\u001b[0m\u001b[1;33m]\u001b[0m\u001b[1;33m:\u001b[0m\u001b[1;33m\u001b[0m\u001b[0m\n",
      "\u001b[1;31mIndexError\u001b[0m: list index out of range"
     ]
    }
   ],
   "source": [
    "frames=[]\n",
    "for i in range(0,len(CLO_list)):\n",
    "    dims=np.shape(pims.image_reader.imread(CLO_list[i][0]))\n",
    "    frames=np.zeros((len(CLO_list[i]),dims[0],dims[1]), dtype='uint16')    \n",
    "    for image_name in CLO_list[i]:\n",
    "        slice_nb=int(image_name.partition('Slice')[2].partition('_Fish')[0])-1\n",
    "        if slice_nb>0:\n",
    "            frame = pims.image_reader.imread(image_name)\n",
    "            frames[slice_nb,:,:] = frame\n",
    "    skext.tifffile.imsave('D:temp/hs_'+CLO_list[i][0].partition('Fish')[2].partition('_')[0]+'_CLO.tif',frames)"
   ]
  },
  {
   "cell_type": "code",
   "execution_count": null,
   "metadata": {
    "collapsed": true
   },
   "outputs": [],
   "source": [
    "frames=[]\n",
    "for i in range(0,len(OLO_list)):\n",
    "    dims=np.shape(pims.image_reader.imread(OLO_list[i][0]))\n",
    "    frames=np.zeros((len(OLO_list[i]),dims[0],dims[1]), dtype='uint16')    \n",
    "    for image_name in OLO_list[i]:\n",
    "        slice_nb=int(image_name.partition('Slice')[2].partition('_Fish')[0])-1\n",
    "        if slice_nb>0:\n",
    "            frame = pims.image_reader.imread(image_name)\n",
    "            frames[slice_nb,:,:] = frame\n",
    "    skext.tifffile.imsave('D:temp/hs_'+OLO_list[i][0].partition('Fish')[2].partition('_')[0]+'_CLO.tif',frames)"
   ]
  },
  {
   "cell_type": "code",
   "execution_count": 95,
   "metadata": {
    "collapsed": true
   },
   "outputs": [],
   "source": [
    "dims=np.shape(pims.image_reader.imread(ELO_list[i][0]))\n",
    "frames=np.zeros((len(ELO_list[i]),dims[0],dims[1]), dtype='uint16')\n",
    "i=0\n",
    "for image_name in ELO_list[i]:\n",
    "    slice_nb=int(image_name.partition('Slice')[2].partition('_Fish')[0])-1\n",
    "    if slice_nb>0:\n",
    "        frame = pims.image_reader.imread(image_name)\n",
    "        frames[slice_nb,:,:] = frame\n",
    "skext.tifffile.imsave('D:temp/test.tif',frames)"
   ]
  },
  {
   "cell_type": "code",
   "execution_count": 96,
   "metadata": {},
   "outputs": [
    {
     "data": {
      "text/plain": [
       "(29L, 540L, 640L)"
      ]
     },
     "execution_count": 96,
     "metadata": {},
     "output_type": "execute_result"
    }
   ],
   "source": [
    "frames.shape"
   ]
  },
  {
   "cell_type": "code",
   "execution_count": 94,
   "metadata": {},
   "outputs": [
    {
     "data": {
      "text/plain": [
       "'d:Pictures/processed/Itia/ELO_OLO\\\\AVG_Slice1_Fish201707201_ELO.tif'"
      ]
     },
     "execution_count": 94,
     "metadata": {},
     "output_type": "execute_result"
    }
   ],
   "source": [
    "image_name"
   ]
  },
  {
   "cell_type": "code",
   "execution_count": 86,
   "metadata": {},
   "outputs": [
    {
     "data": {
      "text/plain": [
       "(29, (540L, 640L))"
      ]
     },
     "execution_count": 86,
     "metadata": {},
     "output_type": "execute_result"
    }
   ],
   "source": [
    "(len(ELO_list[i]),np.shape(pims.image_reader.imread(ELO_list[i][0])))"
   ]
  },
  {
   "cell_type": "code",
   "execution_count": 97,
   "metadata": {
    "collapsed": true
   },
   "outputs": [],
   "source": [
    "skext.tifffile.imsave('D:temp/test.tif',frames)"
   ]
  },
  {
   "cell_type": "code",
   "execution_count": null,
   "metadata": {
    "collapsed": true
   },
   "outputs": [],
   "source": []
  }
 ],
 "metadata": {
  "kernelspec": {
   "display_name": "Python 3",
   "language": "python",
   "name": "python3"
  },
  "language_info": {
   "codemirror_mode": {
    "name": "ipython",
    "version": 3
   },
   "file_extension": ".py",
   "mimetype": "text/x-python",
   "name": "python",
   "nbconvert_exporter": "python",
   "pygments_lexer": "ipython3",
   "version": "3.6.4"
  }
 },
 "nbformat": 4,
 "nbformat_minor": 1
}
