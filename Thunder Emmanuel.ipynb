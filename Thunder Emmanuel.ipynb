{
 "cells": [
  {
   "cell_type": "code",
   "execution_count": 2,
   "metadata": {
    "collapsed": true
   },
   "outputs": [],
   "source": [
    "import thunder as td\n",
    "import numpy as np\n",
    "import matplotlib.pyplot as plt\n",
    "import scipy.io\n",
    "%matplotlib inline\n",
    "from regression import LinearRegression\n",
    "import tifffile"
   ]
  },
  {
   "cell_type": "code",
   "execution_count": 3,
   "metadata": {
    "collapsed": true
   },
   "outputs": [],
   "source": [
    "import findspark\n",
    "findspark.init()\n",
    "from pyspark import SparkConf, SparkContext\n",
    "# conf = (SparkConf()\n",
    "#          .setMaster(\"local\")\n",
    "#          .setAppName(\"My app\")\n",
    "#          .set(\"spark.executor.memory\", \"40g\")\n",
    "#          .set(\"spark.ui.port\",\"8080\")\n",
    "#          .set(\"spark.driver.host\",\"127.0.0.1\")\n",
    "#          .set(\"spark.local.dir\",\"/mnt/tmp/\")\n",
    "#        )\n",
    "\n",
    "# sc = SparkContext(conf = conf)\n",
    "sc = SparkContext()"
   ]
  },
  {
   "cell_type": "code",
   "execution_count": 1,
   "metadata": {},
   "outputs": [
    {
     "ename": "NameError",
     "evalue": "name 'sc' is not defined",
     "output_type": "error",
     "traceback": [
      "\u001b[0;31m---------------------------------------------------------------------------\u001b[0m",
      "\u001b[0;31mNameError\u001b[0m                                 Traceback (most recent call last)",
      "\u001b[0;32m<ipython-input-1-f154e069615b>\u001b[0m in \u001b[0;36m<module>\u001b[0;34m()\u001b[0m\n\u001b[0;32m----> 1\u001b[0;31m \u001b[0msc\u001b[0m\u001b[0;34m.\u001b[0m\u001b[0mstop\u001b[0m\u001b[0;34m(\u001b[0m\u001b[0;34m)\u001b[0m\u001b[0;34m\u001b[0m\u001b[0m\n\u001b[0m",
      "\u001b[0;31mNameError\u001b[0m: name 'sc' is not defined"
     ]
    }
   ],
   "source": [
    "sc.stop()"
   ]
  },
  {
   "cell_type": "code",
   "execution_count": 16,
   "metadata": {},
   "outputs": [
    {
     "data": {
      "text/plain": [
       "Images\n",
       "mode: spark\n",
       "dtype: uint16\n",
       "shape: (660, 25, 538, 380)"
      ]
     },
     "execution_count": 16,
     "metadata": {},
     "output_type": "execute_result"
    }
   ],
   "source": [
    "#input number of planes\n",
    "data = tifffile.imread('/mnt/downloads/Emmanuel/EMM_fish32_6dpf_10looms_flaser_ftail_onight_range240_step10_exposure20_power10.tif')\n",
    "data = td.images.fromarray(data, engine=sc, npartitions=5000)\n",
    "data = data.repartition(5000)\n",
    "data"
   ]
  },
  {
   "cell_type": "code",
   "execution_count": 17,
   "metadata": {},
   "outputs": [
    {
     "data": {
      "text/plain": [
       "Images\n",
       "mode: spark\n",
       "dtype: uint16\n",
       "shape: (660, 25, 538, 380)"
      ]
     },
     "execution_count": 17,
     "metadata": {},
     "output_type": "execute_result"
    }
   ],
   "source": [
    "data = td.images.fromarray(data, engine=sc, npartitions=5000)\n",
    "data = data.repartition(5000)\n",
    "data"
   ]
  },
  {
   "cell_type": "code",
   "execution_count": 18,
   "metadata": {
    "collapsed": true
   },
   "outputs": [],
   "source": [
    "from registration import CrossCorr\n",
    "algorithm = CrossCorr()"
   ]
  },
  {
   "cell_type": "code",
   "execution_count": 19,
   "metadata": {},
   "outputs": [
    {
     "data": {
      "text/plain": [
       "(1, 25, 538, 380)"
      ]
     },
     "execution_count": 19,
     "metadata": {},
     "output_type": "execute_result"
    }
   ],
   "source": [
    "reference = data.mean()\n",
    "reference.shape"
   ]
  },
  {
   "cell_type": "code",
   "execution_count": 20,
   "metadata": {},
   "outputs": [
    {
     "data": {
      "text/plain": [
       "(25, 538, 380)"
      ]
     },
     "execution_count": 20,
     "metadata": {},
     "output_type": "execute_result"
    }
   ],
   "source": [
    "reference=reference.first()\n",
    "reference.shape"
   ]
  },
  {
   "cell_type": "code",
   "execution_count": 21,
   "metadata": {
    "collapsed": true
   },
   "outputs": [],
   "source": [
    "model = algorithm.fit(data,reference)"
   ]
  },
  {
   "cell_type": "code",
   "execution_count": 22,
   "metadata": {},
   "outputs": [
    {
     "data": {
      "text/plain": [
       "Images\n",
       "mode: spark\n",
       "dtype: uint16\n",
       "shape: (660, 25, 538, 380)"
      ]
     },
     "execution_count": 22,
     "metadata": {},
     "output_type": "execute_result"
    }
   ],
   "source": [
    "Corrected=model.transform(data)\n",
    "Corrected"
   ]
  },
  {
   "cell_type": "code",
   "execution_count": 10,
   "metadata": {},
   "outputs": [
    {
     "data": {
      "text/plain": [
       "<matplotlib.image.AxesImage at 0x7fe8bbfc8110>"
      ]
     },
     "execution_count": 10,
     "metadata": {},
     "output_type": "execute_result"
    },
    {
     "data": {
      "image/png": "[encoded data removed]",
      "text/plain": [
       "<matplotlib.figure.Figure at 0x7fe8c41a5e10>"
      ]
     },
     "metadata": {},
     "output_type": "display_data"
    }
   ],
   "source": [
    "plt.imshow(Corrected[0,10])"
   ]
  },
  {
   "cell_type": "code",
   "execution_count": null,
   "metadata": {
    "collapsed": true
   },
   "outputs": [],
   "source": [
    "plt.imshow(data[0,10])"
   ]
  },
  {
   "cell_type": "code",
   "execution_count": null,
   "metadata": {
    "collapsed": true
   },
   "outputs": [],
   "source": [
    "temp=data[0,10].toarray()-Corrected[0,10].toarray()"
   ]
  },
  {
   "cell_type": "code",
   "execution_count": null,
   "metadata": {
    "collapsed": true
   },
   "outputs": [],
   "source": [
    "plt.imshow(temp)"
   ]
  },
  {
   "cell_type": "code",
   "execution_count": null,
   "metadata": {
    "collapsed": true
   },
   "outputs": [],
   "source": [
    "temp=data[600,10].toarray()-Corrected[600,10].toarray()\n",
    "plt.imshow(temp)"
   ]
  },
  {
   "cell_type": "code",
   "execution_count": 23,
   "metadata": {},
   "outputs": [
    {
     "data": {
      "text/plain": [
       "5000"
      ]
     },
     "execution_count": 23,
     "metadata": {},
     "output_type": "execute_result"
    }
   ],
   "source": [
    "filtered = Corrected.toseries().detrend('linear').normalize()\n",
    "filtered=filtered.repartition(5000)\n",
    "filtered.npartitions()"
   ]
  },
  {
   "cell_type": "code",
   "execution_count": 24,
   "metadata": {
    "collapsed": true
   },
   "outputs": [],
   "source": [
    "regressor=scipy.io.loadmat('/mnt/downloads/Emmanuel/Loom_regressors2.mat')\n",
    "regressor=regressor['Regressors']"
   ]
  },
  {
   "cell_type": "code",
   "execution_count": null,
   "metadata": {
    "collapsed": true
   },
   "outputs": [],
   "source": [
    "spike=[0.231927459, 1.649442638, 4.980908923, 1.490147774, 0.548712094, 0.234322333, 0.165871831, 0.039443932]\n",
    "Lena_regressor=np.zeros((4,300))\n",
    "spike=[0.231927459, 1.649442638, 4.980908923, 1.490147774, 0.548712094, 0.234322333, 0.165871831, 0.039443932]\n",
    "for i in [68, 82, 115,150,157,189,200,218,232]:\n",
    "    Lena_regressor[0,i:i+len(spike)]=spike\n",
    "for i in [75, 89, 108,164,171,182,207,225,239]:\n",
    "    Lena_regressor[1,i:i+len(spike)]=spike\n",
    "for i in [64, 100, 122,157,174,178,189,196,210,214,228,232]:\n",
    "    Lena_regressor[2,i:i+len(spike)]=spike\n",
    "for i in [60, 96, 104,150,167,178,185,196,200,214,218,242]:\n",
    "    Lena_regressor[3,i:i+len(spike)]=spike    \n",
    "regressor=Lena_regressor"
   ]
  },
  {
   "cell_type": "code",
   "execution_count": 25,
   "metadata": {},
   "outputs": [
    {
     "data": {
      "text/plain": [
       "(10, 660)"
      ]
     },
     "execution_count": 25,
     "metadata": {},
     "output_type": "execute_result"
    }
   ],
   "source": [
    "regressor.shape"
   ]
  },
  {
   "cell_type": "code",
   "execution_count": 26,
   "metadata": {
    "collapsed": true
   },
   "outputs": [],
   "source": [
    "algorithm = LinearRegression()\n",
    "model = algorithm.fit(regressor.T,filtered)\n",
    "r2 = model.score(regressor.T,filtered)"
   ]
  },
  {
   "cell_type": "code",
   "execution_count": 27,
   "metadata": {},
   "outputs": [],
   "source": [
    "#change the name of files to what you want to save\n",
    "r2_d=r2.toarray()\n",
    "betas = model.betas.toarray()\n",
    "scipy.io.savemat('/mnt/downloads/Emmanuel/Results_EMM_fish32_6dpf_10looms_flaser_ftail_onight_range240_step10_exposure20_power10_corrected.mat',mdict={'Betas':betas,'rsquared':r2_d})"
   ]
  },
  {
   "cell_type": "code",
   "execution_count": 28,
   "metadata": {},
   "outputs": [
    {
     "data": {
      "text/plain": [
       "(25, 538, 380, 11)"
      ]
     },
     "execution_count": 28,
     "metadata": {},
     "output_type": "execute_result"
    }
   ],
   "source": [
    "betas.shape"
   ]
  },
  {
   "cell_type": "code",
   "execution_count": null,
   "metadata": {
    "collapsed": true
   },
   "outputs": [],
   "source": [
    "model = algorithm.fit(data,reference)"
   ]
  },
  {
   "cell_type": "code",
   "execution_count": null,
   "metadata": {
    "collapsed": true
   },
   "outputs": [],
   "source": [
    "#input number of planes\n",
    "#input number of planes\n",
    "data = tifffile.imread('/mnt/downloads/Lena/CA8_AllButFlow_F2_range250_step5_exposure20_power40_1.tif')\n",
    "data = data[:,22:45]\n",
    "data = td.images.fromarray(data, engine=sc, npartitions=5000)\n",
    "data = data.repartition(5000)\n",
    "reference = data.mean()\n",
    "reference=reference.first()\n",
    "model = algorithm.fit(data,reference)\n",
    "Corrected=model.transform(data)\n",
    "filtered = Corrected.toseries().detrend('linear').normalize()\n",
    "filtered=filtered.repartition(5000)\n",
    "algorithm = LinearRegression()\n",
    "model = algorithm.fit(regressor.T,filtered)\n",
    "r2 = model.score(regressor.T,filtered)\n",
    "#change the name of files to what you want to save\n",
    "r2_d=r2.toarray()\n",
    "betas = model.betas.toarray()\n",
    "scipy.io.savemat('/mnt/downloads/Lena/Ca8_AllButFlow_F2.mat',mdict={'Betas':betas,'rsquared':r2_d})"
   ]
  },
  {
   "cell_type": "code",
   "execution_count": null,
   "metadata": {
    "collapsed": true
   },
   "outputs": [],
   "source": [
    "filtered = data.toseries().detrend('linear').normalize()\n",
    "filtered=filtered.repartition(5000)\n",
    "algorithm = LinearRegression()\n",
    "model = algorithm.fit(regressor.T,filtered)\n",
    "r2 = model.score(regressor.T,filtered)\n",
    "#change the name of files to what you want to save\n",
    "r2_d=r2.toarray()\n",
    "betas = model.betas.toarray()\n",
    "scipy.io.savemat('/mnt/downloads/Lena/Ca8_AllButFlow_F2.mat',mdict={'Betas':betas,'rsquared':r2_d})"
   ]
  },
  {
   "cell_type": "code",
   "execution_count": null,
   "metadata": {
    "collapsed": true
   },
   "outputs": [],
   "source": [
    "#input number of planes\n",
    "data = tifffile.imread('/mnt/downloads/Lena/HS_CA8_OMR_AUD_5reps_range100_step5_exposure20_power40.0_3.tif')\n",
    "data = td.images.fromarray(data, engine=sc, npartitions=5000)\n",
    "data = data.repartition(5000)\n",
    "filtered = data.toseries().detrend('linear').normalize()\n",
    "filtered=filtered.repartition(5000)\n",
    "algorithm = LinearRegression()\n",
    "model = algorithm.fit(regressor.T,filtered)\n",
    "r2 = model.score(regressor.T,filtered)\n",
    "#change the name of files to what you want to save\n",
    "r2_d=r2.toarray()\n",
    "betas = model.betas.toarray()\n",
    "scipy.io.savemat('/mnt/downloads/Lena/Results_CA8_OMR5rep_fish4.mat',mdict={'Betas':betas,'rsquared':r2_d})"
   ]
  },
  {
   "cell_type": "code",
   "execution_count": null,
   "metadata": {
    "collapsed": true
   },
   "outputs": [],
   "source": [
    "reference = data.mean()\n",
    "reference=reference.first()\n",
    "reference.shape"
   ]
  },
  {
   "cell_type": "code",
   "execution_count": null,
   "metadata": {
    "collapsed": true
   },
   "outputs": [],
   "source": [
    "model = algorithm.fit(data,reference)"
   ]
  },
  {
   "cell_type": "code",
   "execution_count": null,
   "metadata": {
    "collapsed": true
   },
   "outputs": [],
   "source": [
    "Corrected=model.transform(data)\n",
    "Corrected.npartitions"
   ]
  },
  {
   "cell_type": "code",
   "execution_count": null,
   "metadata": {
    "collapsed": true
   },
   "outputs": [],
   "source": [
    "filtered = Corrected.toseries().squelch(500).detrend('linear').normalize()\n",
    "filtered=filtered.repartition(5000)"
   ]
  },
  {
   "cell_type": "code",
   "execution_count": null,
   "metadata": {
    "collapsed": true
   },
   "outputs": [],
   "source": [
    "from factorization import PCA\n",
    "algorithm = PCA(k=3)\n",
    "T, W_T = algorithm.fit(filtered)"
   ]
  },
  {
   "cell_type": "code",
   "execution_count": null,
   "metadata": {
    "collapsed": true
   },
   "outputs": [],
   "source": [
    "plt.figure(figsize = (30,30))\n",
    "plt.rcParams['axes.color_cycle'] = ['r', 'g','b']\n",
    "plt.plot(W_T.T)"
   ]
  },
  {
   "cell_type": "code",
   "execution_count": null,
   "metadata": {
    "collapsed": true
   },
   "outputs": [],
   "source": [
    "plt.figure(figsize = (30,30))\n",
    "plt.imshow(abs(np.amax(T[:,:,:,0:3],axis=0)),vmin=0.5)"
   ]
  },
  {
   "cell_type": "code",
   "execution_count": null,
   "metadata": {
    "collapsed": true
   },
   "outputs": [],
   "source": [
    "scipy.io.savemat('/mnt/downloads/Lena/CA8_loom_range100_step5_exposure10_power40.0_1.mat',mdict={'Scores':T,'Coeff':W_T})"
   ]
  },
  {
   "cell_type": "code",
   "execution_count": null,
   "metadata": {
    "collapsed": true
   },
   "outputs": [],
   "source": []
  }
 ],
 "metadata": {
  "kernelspec": {
   "display_name": "Python [conda root]",
   "language": "python",
   "name": "conda-root-py"
  },
  "language_info": {
   "codemirror_mode": {
    "name": "ipython",
    "version": 2
   },
   "file_extension": ".py",
   "mimetype": "text/x-python",
   "name": "python",
   "nbconvert_exporter": "python",
   "pygments_lexer": "ipython2",
   "version": "2.7.13"
  }
 },
 "nbformat": 4,
 "nbformat_minor": 2
}
