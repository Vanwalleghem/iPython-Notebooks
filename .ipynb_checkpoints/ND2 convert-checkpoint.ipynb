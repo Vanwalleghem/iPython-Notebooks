{
 "cells": [
  {
   "cell_type": "code",
   "execution_count": 1,
   "metadata": {},
   "outputs": [],
   "source": [
    "import skimage"
   ]
  },
  {
   "cell_type": "code",
   "execution_count": 6,
   "metadata": {},
   "outputs": [
    {
     "name": "stdout",
     "output_type": "stream",
     "text": [
      "Collecting pims_nd2\n",
      "  Downloading https://files.pythonhosted.org/packages/4a/34/f81b114393dd61fe514ed7dfce05d3ff3eacb9ddcddafe5c1c4360e34fd1/pims_nd2-1.0.zip (19.8MB)\n",
      "Requirement already satisfied: pims>=0.3 in d:\\continuum\\anaconda3\\lib\\site-packages (from pims_nd2) (0.4.1)\n",
      "Requirement already satisfied: slicerator>=0.9.7 in d:\\continuum\\anaconda3\\lib\\site-packages (from pims>=0.3->pims_nd2) (0.9.8)\n",
      "Requirement already satisfied: six>=1.8 in d:\\continuum\\anaconda3\\lib\\site-packages (from pims>=0.3->pims_nd2) (1.11.0)\n",
      "Requirement already satisfied: numpy>=1.7 in d:\\continuum\\anaconda3\\lib\\site-packages (from pims>=0.3->pims_nd2) (1.14.5)\n",
      "Building wheels for collected packages: pims-nd2\n",
      "  Running setup.py bdist_wheel for pims-nd2: started\n",
      "  Running setup.py bdist_wheel for pims-nd2: finished with status 'done'\n",
      "  Stored in directory: C:\\Users\\uqgvanwa\\AppData\\Local\\pip\\Cache\\wheels\\aa\\8a\\26\\3a913678d7e14776e777f54c27b1959ec606efc78c610dfcb5\n",
      "Successfully built pims-nd2\n",
      "Installing collected packages: pims-nd2\n",
      "Successfully installed pims-nd2-1.0\n"
     ]
    },
    {
     "name": "stderr",
     "output_type": "stream",
     "text": [
      "distributed 1.22.0 requires msgpack, which is not installed.\n",
      "cachecontrol 0.12.5 requires msgpack, which is not installed.\n",
      "You are using pip version 10.0.1, however version 18.0 is available.\n",
      "You should consider upgrading via the 'python -m pip install --upgrade pip' command.\n"
     ]
    }
   ],
   "source": [
    "!pip install pims_nd2"
   ]
  },
  {
   "cell_type": "code",
   "execution_count": 4,
   "metadata": {},
   "outputs": [],
   "source": [
    "from pims import ND2_Reader"
   ]
  },
  {
   "cell_type": "code",
   "execution_count": null,
   "metadata": {},
   "outputs": [],
   "source": [
    "from pims_nd2 import "
   ]
  },
  {
   "cell_type": "code",
   "execution_count": 7,
   "metadata": {},
   "outputs": [
    {
     "ename": "ImportError",
     "evalue": "This reader requires pims_nd2.",
     "output_type": "error",
     "traceback": [
      "\u001b[1;31m---------------------------------------------------------------------------\u001b[0m",
      "\u001b[1;31mImportError\u001b[0m                               Traceback (most recent call last)",
      "\u001b[1;32m<ipython-input-7-9184d5f4a083>\u001b[0m in \u001b[0;36m<module>\u001b[1;34m()\u001b[0m\n\u001b[1;32m----> 1\u001b[1;33m \u001b[0mframes\u001b[0m \u001b[1;33m=\u001b[0m \u001b[0mND2_Reader\u001b[0m\u001b[1;33m(\u001b[0m\u001b[1;34m'C:/Temp/ovn2_6dpf_Gcamp488_TH635_GABA568.nd2'\u001b[0m\u001b[1;33m)\u001b[0m\u001b[1;33m\u001b[0m\u001b[0m\n\u001b[0m",
      "\u001b[1;32mD:\\Continuum\\anaconda3\\lib\\site-packages\\pims\\api.py\u001b[0m in \u001b[0;36mraiser\u001b[1;34m(*args, **kwargs)\u001b[0m\n\u001b[0;32m     26\u001b[0m     \u001b[1;32mdef\u001b[0m \u001b[0mraiser\u001b[0m\u001b[1;33m(\u001b[0m\u001b[1;33m*\u001b[0m\u001b[0margs\u001b[0m\u001b[1;33m,\u001b[0m \u001b[1;33m**\u001b[0m\u001b[0mkwargs\u001b[0m\u001b[1;33m)\u001b[0m\u001b[1;33m:\u001b[0m\u001b[1;33m\u001b[0m\u001b[0m\n\u001b[0;32m     27\u001b[0m         raise ImportError(\n\u001b[1;32m---> 28\u001b[1;33m             \"This reader requires {0}.\".format(requirement))\n\u001b[0m\u001b[0;32m     29\u001b[0m     \u001b[1;32mreturn\u001b[0m \u001b[0mraiser\u001b[0m\u001b[1;33m\u001b[0m\u001b[0m\n\u001b[0;32m     30\u001b[0m \u001b[1;33m\u001b[0m\u001b[0m\n",
      "\u001b[1;31mImportError\u001b[0m: This reader requires pims_nd2."
     ]
    }
   ],
   "source": [
    "frames = ND2_Reader('C:/Temp/ovn2_6dpf_Gcamp488_TH635_GABA568.nd2')"
   ]
  },
  {
   "cell_type": "code",
   "execution_count": 1,
   "metadata": {},
   "outputs": [
    {
     "name": "stdout",
     "output_type": "stream",
     "text": [
      "Collecting GitPython\n",
      "  Downloading GitPython-2.1.7-py2.py3-none-any.whl (446kB)\n",
      "Collecting gitdb2>=2.0.0 (from GitPython)\n",
      "  Downloading gitdb2-2.0.3-py2.py3-none-any.whl (63kB)\n",
      "Collecting smmap2>=2.0.0 (from gitdb2>=2.0.0->GitPython)\n",
      "  Downloading smmap2-2.0.3-py2.py3-none-any.whl\n",
      "Installing collected packages: smmap2, gitdb2, GitPython\n",
      "Successfully installed GitPython-2.1.7 gitdb2-2.0.3 smmap2-2.0.3\n"
     ]
    }
   ],
   "source": [
    "!pip install GitPython"
   ]
  },
  {
   "cell_type": "code",
   "execution_count": 41,
   "metadata": {},
   "outputs": [
    {
     "ename": "TypeError",
     "evalue": "'int' object is not callable",
     "output_type": "error",
     "traceback": [
      "\u001b[1;31m---------------------------------------------------------------------------\u001b[0m",
      "\u001b[1;31mTypeError\u001b[0m                                 Traceback (most recent call last)",
      "\u001b[1;32m<ipython-input-41-452ca7edbffb>\u001b[0m in \u001b[0;36m<module>\u001b[1;34m()\u001b[0m\n\u001b[0;32m      1\u001b[0m \u001b[0mframes\u001b[0m \u001b[1;33m=\u001b[0m \u001b[0mND2_Reader\u001b[0m\u001b[1;33m(\u001b[0m\u001b[1;34m'D:temp/LongTime/041017_longtimelapse.nd2'\u001b[0m\u001b[1;33m)\u001b[0m\u001b[1;33m\u001b[0m\u001b[0m\n\u001b[1;32m----> 2\u001b[1;33m \u001b[1;32mfor\u001b[0m \u001b[0mcounter\u001b[0m \u001b[1;32min\u001b[0m \u001b[0mrange\u001b[0m\u001b[1;33m(\u001b[0m\u001b[1;36m0\u001b[0m\u001b[1;33m,\u001b[0m\u001b[0mlen\u001b[0m\u001b[1;33m(\u001b[0m\u001b[0mframes\u001b[0m\u001b[1;33m)\u001b[0m\u001b[1;33m)\u001b[0m\u001b[1;33m:\u001b[0m\u001b[1;33m\u001b[0m\u001b[0m\n\u001b[0m\u001b[0;32m      3\u001b[0m     \u001b[0mskimage\u001b[0m\u001b[1;33m.\u001b[0m\u001b[0mexternal\u001b[0m\u001b[1;33m.\u001b[0m\u001b[0mtifffile\u001b[0m\u001b[1;33m.\u001b[0m\u001b[0mimsave\u001b[0m\u001b[1;33m(\u001b[0m\u001b[1;34m'D:temp/LongCell'\u001b[0m\u001b[1;33m+\u001b[0m\u001b[0mstr\u001b[0m\u001b[1;33m(\u001b[0m\u001b[0mi\u001b[0m\u001b[1;33m)\u001b[0m\u001b[1;33m+\u001b[0m\u001b[1;34m'_t'\u001b[0m\u001b[1;33m+\u001b[0m\u001b[0mstr\u001b[0m\u001b[1;33m(\u001b[0m\u001b[0mcounter\u001b[0m\u001b[1;33m)\u001b[0m\u001b[1;33m+\u001b[0m\u001b[1;34m'.tif'\u001b[0m\u001b[1;33m,\u001b[0m\u001b[0mframes\u001b[0m\u001b[1;33m[\u001b[0m\u001b[0mcounter\u001b[0m\u001b[1;33m]\u001b[0m\u001b[1;33m)\u001b[0m\u001b[1;33m\u001b[0m\u001b[0m\n\u001b[0;32m      4\u001b[0m     \u001b[0mcounter\u001b[0m\u001b[1;33m=\u001b[0m\u001b[0mcounter\u001b[0m\u001b[1;33m+\u001b[0m\u001b[1;36m1\u001b[0m\u001b[1;33m\u001b[0m\u001b[0m\n",
      "\u001b[1;31mTypeError\u001b[0m: 'int' object is not callable"
     ]
    }
   ],
   "source": [
    "frames = ND2_Reader('D:temp/LongTime/041017_longtimelapse.nd2')\n",
    "for counter in range(0,len(frames)):\n",
    "    skimage.external.tifffile.imsave('D:temp/LongCell'+str(i)+'_t'+str(counter)+'.tif',frames[counter])\n",
    "    counter=counter+1"
   ]
  },
  {
   "cell_type": "code",
   "execution_count": 31,
   "metadata": {
    "collapsed": true
   },
   "outputs": [],
   "source": [
    "for i in range(3,6):    \n",
    "    frames = ND2_Reader('D:temp/LongTime/041017_timelapse_continuous_Cell'+str(i)+'.nd2')\n",
    "    for counter in range(0,len(frames)):\n",
    "        skimage.external.tifffile.imsave('D:temp/Cell'+str(i)+'_t'+str(counter)+'.tif',frames[counter])\n",
    "        counter=counter+1"
   ]
  },
  {
   "cell_type": "code",
   "execution_count": 44,
   "metadata": {
    "collapsed": true
   },
   "outputs": [],
   "source": [
    "frames.iter_axes = 't'"
   ]
  },
  {
   "cell_type": "code",
   "execution_count": null,
   "metadata": {
    "collapsed": true
   },
   "outputs": [],
   "source": [
    "for counter in range(0,len(frames)):\n",
    "    skimage.external.tifffile.imsave('D:temp/LongCell_t'+str(counter)+'.tif',frames[counter])\n",
    "    counter=counter+1"
   ]
  },
  {
   "cell_type": "code",
   "execution_count": 37,
   "metadata": {},
   "outputs": [
    {
     "data": {
      "text/plain": [
       "6000"
      ]
     },
     "execution_count": 37,
     "metadata": {},
     "output_type": "execute_result"
    }
   ],
   "source": [
    "exposure = 20;\t\n",
    "increment = 5;\n",
    "range = 100;\n",
    "videoTimeGo=120;\n",
    "videoGo = (videoTimeGo*1000)/exposure;\n",
    "videoGo"
   ]
  },
  {
   "cell_type": "code",
   "execution_count": 52,
   "metadata": {
    "collapsed": true
   },
   "outputs": [],
   "source": [
    "del(range)"
   ]
  },
  {
   "cell_type": "code",
   "execution_count": 34,
   "metadata": {},
   "outputs": [
    {
     "data": {
      "text/plain": [
       "35"
      ]
     },
     "execution_count": 34,
     "metadata": {},
     "output_type": "execute_result"
    }
   ],
   "source": [
    "videoRepTimeinSec=15;\n",
    "videoRepTime = (videoRepTimeinSec*1000)/exposure;\n",
    "videoRepTime/21"
   ]
  },
  {
   "cell_type": "code",
   "execution_count": 36,
   "metadata": {},
   "outputs": [
    {
     "data": {
      "text/plain": [
       "23"
      ]
     },
     "execution_count": 36,
     "metadata": {},
     "output_type": "execute_result"
    }
   ],
   "source": [
    "35*10/15"
   ]
  },
  {
   "cell_type": "code",
   "execution_count": null,
   "metadata": {
    "collapsed": true
   },
   "outputs": [],
   "source": []
  }
 ],
 "metadata": {
  "kernelspec": {
   "display_name": "Python 3",
   "language": "python",
   "name": "python3"
  },
  "language_info": {
   "codemirror_mode": {
    "name": "ipython",
    "version": 3
   },
   "file_extension": ".py",
   "mimetype": "text/x-python",
   "name": "python",
   "nbconvert_exporter": "python",
   "pygments_lexer": "ipython3",
   "version": "3.6.6"
  }
 },
 "nbformat": 4,
 "nbformat_minor": 1
}
