{
 "cells": [
  {
   "cell_type": "code",
   "execution_count": 1,
   "metadata": {},
   "outputs": [],
   "source": [
    "from __future__ import absolute_import, division, print_function\n",
    "from mayavi import mlab\n",
    "import numpy as np\n",
    "import math"
   ]
  },
  {
   "cell_type": "code",
   "execution_count": 2,
   "metadata": {},
   "outputs": [
    {
     "name": "stdout",
     "output_type": "stream",
     "text": [
      "Notebook initialized with x3d backend.\n"
     ]
    }
   ],
   "source": [
    "mlab.init_notebook('x3d')"
   ]
  },
  {
   "cell_type": "code",
   "execution_count": 3,
   "metadata": {},
   "outputs": [],
   "source": [
    "alpha = np.linspace(0, 2*math.pi, 100)  \n",
    "\n",
    "xs = np.cos(alpha)\n",
    "ys = np.sin(alpha)\n",
    "zs = np.zeros_like(xs)\n",
    "\n",
    "mlab.points3d(0,0,0)\n",
    "plt = mlab.points3d(xs[:1], ys[:1], zs[:1])\n",
    "mlab.figure() \n",
    "@mlab.animate(delay=100)\n",
    "def anim():\n",
    "    f = mlab.gcf()\n",
    "    while True:\n",
    "        for (x, y, z) in zip(xs, ys, zs):\n",
    "            print('Updating scene...')\n",
    "            plt.mlab_source.set(x=x, y=y, z=z)\n",
    "            yield\n",
    "anim()\n",
    "mlab.show()"
   ]
  },
  {
   "cell_type": "code",
   "execution_count": null,
   "metadata": {},
   "outputs": [],
   "source": [
    "for (x, y, z) in zip(xs, ys, zs):\n",
    "        print('Updating scene...')\n",
    "        plt.mlab_source.set(x=x, y=y, z=z)\n",
    "        yield"
   ]
  }
 ],
 "metadata": {
  "kernelspec": {
   "display_name": "Python 3",
   "language": "python",
   "name": "python3"
  },
  "language_info": {
   "codemirror_mode": {
    "name": "ipython",
    "version": 3
   },
   "file_extension": ".py",
   "mimetype": "text/x-python",
   "name": "python",
   "nbconvert_exporter": "python",
   "pygments_lexer": "ipython3",
   "version": "3.6.7"
  }
 },
 "nbformat": 4,
 "nbformat_minor": 2
}
