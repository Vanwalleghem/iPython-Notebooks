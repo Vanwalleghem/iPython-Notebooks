{
 "cells": [
  {
   "cell_type": "code",
   "execution_count": 1,
   "id": "dc737a0d",
   "metadata": {},
   "outputs": [],
   "source": [
    "import nibabel as nib\n",
    "import tifffile as tiff\n",
    "import numpy as np"
   ]
  },
  {
   "cell_type": "code",
   "execution_count": 2,
   "id": "0738088f",
   "metadata": {},
   "outputs": [],
   "source": [
    "img=tiff.imread('/mnt/d/Gilles_HS_ENS/GV_20200730_fish1_ENS_6DPF_range100_step5_exposure23_power60/Substack.tif')"
   ]
  },
  {
   "cell_type": "code",
   "execution_count": 3,
   "id": "4b3e7450",
   "metadata": {},
   "outputs": [],
   "source": [
    "template=tiff.imread('/mnt/d/Gilles_HS_ENS/GV_20200730_fish1_ENS_6DPF_range100_step5_exposure23_power60/3Dreg/template.tif')"
   ]
  },
  {
   "cell_type": "code",
   "execution_count": 4,
   "id": "30ad5798",
   "metadata": {},
   "outputs": [],
   "source": [
    "imgNib = nib.Nifti1Image(np.transpose(img,(3,2,1,0)), np.eye(4))\n",
    "templateNib= nib.Nifti1Image(np.transpose(template,(2,1,0)),np.eye(4))"
   ]
  },
  {
   "cell_type": "code",
   "execution_count": 5,
   "id": "b5c12cda",
   "metadata": {},
   "outputs": [],
   "source": [
    "imgNib.header.set_xyzt_units(xyz=3,t=8)\n",
    "imgNib.header['pixdim']=[1., 1.32, 1.32, 5, 1, 1, 0, 0]\n",
    "imgNib.header['qform_code']=1\n",
    "imgNib.header['sform_code']=1\n",
    "imgNib.header['quatern_d']=1.0\n",
    "templateNib.header.set_xyzt_units(xyz=3,t=8)\n",
    "templateNib.header['pixdim']=[1, 1.32, 1.32, 5, 0, 0, 0, 0]\n",
    "templateNib.header['quatern_d']=1.0\n",
    "templateNib.header['qform_code']=1\n",
    "templateNib.header['sform_code']=1\n",
    "nib.save(imgNib,'/mnt/d/Gilles_HS_ENS/GV_20200730_fish1_ENS_6DPF_range100_step5_exposure23_power60/test.nii')\n",
    "nib.save(templateNib,'/mnt/d/Gilles_HS_ENS/GV_20200730_fish1_ENS_6DPF_range100_step5_exposure23_power60/template.nii')\n"
   ]
  },
  {
   "cell_type": "code",
   "execution_count": null,
   "id": "3daf85ad",
   "metadata": {},
   "outputs": [],
   "source": []
  }
 ],
 "metadata": {
  "kernelspec": {
   "display_name": "Python 3 (ipykernel)",
   "language": "python",
   "name": "python3"
  },
  "language_info": {
   "codemirror_mode": {
    "name": "ipython",
    "version": 3
   },
   "file_extension": ".py",
   "mimetype": "text/x-python",
   "name": "python",
   "nbconvert_exporter": "python",
   "pygments_lexer": "ipython3",
   "version": "3.8.10"
  }
 },
 "nbformat": 4,
 "nbformat_minor": 5
}
