{
 "cells": [
  {
   "cell_type": "code",
   "execution_count": 9,
   "metadata": {},
   "outputs": [],
   "source": [
    "import numpy as np\n",
    "import matplotlib.pyplot as plt\n",
    "%matplotlib inline\n",
    "import os\n",
    "import glob\n",
    "from subprocess import Popen, PIPE"
   ]
  },
  {
   "cell_type": "code",
   "execution_count": 4,
   "metadata": {
    "collapsed": true
   },
   "outputs": [],
   "source": [
    "from skimage.external import tifffile as skext"
   ]
  },
  {
   "cell_type": "code",
   "execution_count": 5,
   "metadata": {
    "collapsed": true
   },
   "outputs": [],
   "source": [
    "def assure_path_exists(path):\n",
    "    dir = os.path.dirname(path)\n",
    "    if not os.path.exists(dir):\n",
    "        os.makedirs(dir)"
   ]
  },
  {
   "cell_type": "code",
   "execution_count": null,
   "metadata": {
    "collapsed": true
   },
   "outputs": [],
   "source": [
    "temp=tifffile.imread('/mnt/droplet/ForAnalysis/HS/Fish201709111_ERO_HS.tif')"
   ]
  },
  {
   "cell_type": "code",
   "execution_count": 17,
   "metadata": {},
   "outputs": [],
   "source": [
    "directory='V:/Gilles/Pictures/RAW/Flow/New'\n",
    "savedirectory='D:/temp/Flow_pictures/NonCropped/'\n",
    "assure_path_exists(savedirectory)\n",
    "filelist=[]\n",
    "for filename in glob.glob(os.path.join(directory,'*')):    \n",
    "    filelist.append(filename.rstrip('\\n'))            \n",
    "filelist.sort()"
   ]
  },
  {
   "cell_type": "code",
   "execution_count": 18,
   "metadata": {},
   "outputs": [
    {
     "data": {
      "text/plain": [
       "['V:/Gilles/Pictures/RAW/Flow/New\\\\20170223',\n",
       " 'V:/Gilles/Pictures/RAW/Flow/New\\\\2p_complex_f1_0um_1',\n",
       " 'V:/Gilles/Pictures/RAW/Flow/New\\\\2p_complex_f1_0um_1_1',\n",
       " 'V:/Gilles/Pictures/RAW/Flow/New\\\\2p_complex_f1_0um_1_2',\n",
       " 'V:/Gilles/Pictures/RAW/Flow/New\\\\2p_complex_f1_6059um_',\n",
       " 'V:/Gilles/Pictures/RAW/Flow/New\\\\2p_complex_f1_6059um__1',\n",
       " 'V:/Gilles/Pictures/RAW/Flow/New\\\\2p_complex_f1_6059um__2',\n",
       " 'V:/Gilles/Pictures/RAW/Flow/New\\\\2p_complex_f1proper_0um_',\n",
       " 'V:/Gilles/Pictures/RAW/Flow/New\\\\2p_complex_f1proper_0um__1',\n",
       " 'V:/Gilles/Pictures/RAW/Flow/New\\\\2p_complex_f1proper_0um__2',\n",
       " 'V:/Gilles/Pictures/RAW/Flow/New\\\\2p_complex_f1proper_100um_',\n",
       " 'V:/Gilles/Pictures/RAW/Flow/New\\\\2p_complex_f1proper_100um__1',\n",
       " 'V:/Gilles/Pictures/RAW/Flow/New\\\\2p_complex_f1proper_100um__2',\n",
       " 'V:/Gilles/Pictures/RAW/Flow/New\\\\2p_complex_f1proper_120um_',\n",
       " 'V:/Gilles/Pictures/RAW/Flow/New\\\\2p_complex_f1proper_20um_',\n",
       " 'V:/Gilles/Pictures/RAW/Flow/New\\\\2p_complex_f1proper_20um__1',\n",
       " 'V:/Gilles/Pictures/RAW/Flow/New\\\\2p_complex_f1proper_20um__2',\n",
       " 'V:/Gilles/Pictures/RAW/Flow/New\\\\2p_complex_f1proper_40um_',\n",
       " 'V:/Gilles/Pictures/RAW/Flow/New\\\\2p_complex_f1proper_40um__1',\n",
       " 'V:/Gilles/Pictures/RAW/Flow/New\\\\2p_complex_f1proper_40um__2',\n",
       " 'V:/Gilles/Pictures/RAW/Flow/New\\\\2p_complex_f1proper_60um_',\n",
       " 'V:/Gilles/Pictures/RAW/Flow/New\\\\2p_complex_f1proper_60um__1',\n",
       " 'V:/Gilles/Pictures/RAW/Flow/New\\\\2p_complex_f1proper_60um__2',\n",
       " 'V:/Gilles/Pictures/RAW/Flow/New\\\\2p_complex_f1proper_80um_',\n",
       " 'V:/Gilles/Pictures/RAW/Flow/New\\\\2p_complex_f1proper_80um__1',\n",
       " 'V:/Gilles/Pictures/RAW/Flow/New\\\\2p_complex_f1proper_80um__2',\n",
       " 'V:/Gilles/Pictures/RAW/Flow/New\\\\2p_complex_f2_20um',\n",
       " 'V:/Gilles/Pictures/RAW/Flow/New\\\\2p_complex_f2_20um_1',\n",
       " 'V:/Gilles/Pictures/RAW/Flow/New\\\\2p_complex_f2_20um_2',\n",
       " 'V:/Gilles/Pictures/RAW/Flow/New\\\\2p_complex_f2_40um',\n",
       " 'V:/Gilles/Pictures/RAW/Flow/New\\\\2p_complex_f2_40um_1',\n",
       " 'V:/Gilles/Pictures/RAW/Flow/New\\\\2p_complex_f2_40um_2',\n",
       " 'V:/Gilles/Pictures/RAW/Flow/New\\\\2p_complex_f2_60um',\n",
       " 'V:/Gilles/Pictures/RAW/Flow/New\\\\2p_complex_f2_60um_1',\n",
       " 'V:/Gilles/Pictures/RAW/Flow/New\\\\2p_complex_f2_60um_2',\n",
       " 'V:/Gilles/Pictures/RAW/Flow/New\\\\Fish4_complex_100um',\n",
       " 'V:/Gilles/Pictures/RAW/Flow/New\\\\Fish4_complex_100um_1',\n",
       " 'V:/Gilles/Pictures/RAW/Flow/New\\\\Fish4_complex_100um_2',\n",
       " 'V:/Gilles/Pictures/RAW/Flow/New\\\\Fish4_complex_120um',\n",
       " 'V:/Gilles/Pictures/RAW/Flow/New\\\\Fish4_complex_120um_1',\n",
       " 'V:/Gilles/Pictures/RAW/Flow/New\\\\Fish4_complex_120um_2',\n",
       " 'V:/Gilles/Pictures/RAW/Flow/New\\\\Fish4_complex_140um',\n",
       " 'V:/Gilles/Pictures/RAW/Flow/New\\\\Fish4_complex_140um_1',\n",
       " 'V:/Gilles/Pictures/RAW/Flow/New\\\\Fish4_complex_140um_2',\n",
       " 'V:/Gilles/Pictures/RAW/Flow/New\\\\Fish4_complex_160um',\n",
       " 'V:/Gilles/Pictures/RAW/Flow/New\\\\Fish4_complex_160um_1',\n",
       " 'V:/Gilles/Pictures/RAW/Flow/New\\\\Fish4_complex_160um_2',\n",
       " 'V:/Gilles/Pictures/RAW/Flow/New\\\\Fish4_complex_180um',\n",
       " 'V:/Gilles/Pictures/RAW/Flow/New\\\\Fish4_complex_180um_1',\n",
       " 'V:/Gilles/Pictures/RAW/Flow/New\\\\Fish4_complex_180um_2',\n",
       " 'V:/Gilles/Pictures/RAW/Flow/New\\\\Fish4_complex_200um',\n",
       " 'V:/Gilles/Pictures/RAW/Flow/New\\\\Fish4_complex_80um',\n",
       " 'V:/Gilles/Pictures/RAW/Flow/New\\\\Fish4_complex_80um_1',\n",
       " 'V:/Gilles/Pictures/RAW/Flow/New\\\\Fish4_complex_80um_2',\n",
       " 'V:/Gilles/Pictures/RAW/Flow/New\\\\Fish5_complex_100um',\n",
       " 'V:/Gilles/Pictures/RAW/Flow/New\\\\Fish5_complex_100um_1',\n",
       " 'V:/Gilles/Pictures/RAW/Flow/New\\\\Fish5_complex_100um_2',\n",
       " 'V:/Gilles/Pictures/RAW/Flow/New\\\\Fish5_complex_120um',\n",
       " 'V:/Gilles/Pictures/RAW/Flow/New\\\\Fish5_complex_120um_1',\n",
       " 'V:/Gilles/Pictures/RAW/Flow/New\\\\Fish5_complex_120um_2',\n",
       " 'V:/Gilles/Pictures/RAW/Flow/New\\\\Fish5_complex_140um',\n",
       " 'V:/Gilles/Pictures/RAW/Flow/New\\\\Fish5_complex_140um_1',\n",
       " 'V:/Gilles/Pictures/RAW/Flow/New\\\\Fish5_complex_160um',\n",
       " 'V:/Gilles/Pictures/RAW/Flow/New\\\\Fish5_complex_160um_1',\n",
       " 'V:/Gilles/Pictures/RAW/Flow/New\\\\Fish5_complex_20um',\n",
       " 'V:/Gilles/Pictures/RAW/Flow/New\\\\Fish5_complex_20um_1',\n",
       " 'V:/Gilles/Pictures/RAW/Flow/New\\\\Fish5_complex_20um_2',\n",
       " 'V:/Gilles/Pictures/RAW/Flow/New\\\\Fish5_complex_40um',\n",
       " 'V:/Gilles/Pictures/RAW/Flow/New\\\\Fish5_complex_40um_1',\n",
       " 'V:/Gilles/Pictures/RAW/Flow/New\\\\Fish5_complex_40um_2',\n",
       " 'V:/Gilles/Pictures/RAW/Flow/New\\\\Fish5_complex_60um',\n",
       " 'V:/Gilles/Pictures/RAW/Flow/New\\\\Fish5_complex_60um_1',\n",
       " 'V:/Gilles/Pictures/RAW/Flow/New\\\\Fish5_complex_60um_2',\n",
       " 'V:/Gilles/Pictures/RAW/Flow/New\\\\Fish5_complex_80um',\n",
       " 'V:/Gilles/Pictures/RAW/Flow/New\\\\Fish5_complex_80um_1',\n",
       " 'V:/Gilles/Pictures/RAW/Flow/New\\\\Fish5_complex_80um_2',\n",
       " 'V:/Gilles/Pictures/RAW/Flow/New\\\\Fish6_complex_120um',\n",
       " 'V:/Gilles/Pictures/RAW/Flow/New\\\\Fish6_complex_120um_1',\n",
       " 'V:/Gilles/Pictures/RAW/Flow/New\\\\Fish6_complex_120um_2',\n",
       " 'V:/Gilles/Pictures/RAW/Flow/New\\\\Fish6_complex_140um',\n",
       " 'V:/Gilles/Pictures/RAW/Flow/New\\\\Fish6_complex_140um_1',\n",
       " 'V:/Gilles/Pictures/RAW/Flow/New\\\\Fish6_complex_140um_2',\n",
       " 'V:/Gilles/Pictures/RAW/Flow/New\\\\Fish6_complex_160um',\n",
       " 'V:/Gilles/Pictures/RAW/Flow/New\\\\Fish6_complex_160um_1',\n",
       " 'V:/Gilles/Pictures/RAW/Flow/New\\\\Fish6_complex_160um_2',\n",
       " 'V:/Gilles/Pictures/RAW/Flow/New\\\\Fish6_complex_180um',\n",
       " 'V:/Gilles/Pictures/RAW/Flow/New\\\\Fish6_complex_180um_1',\n",
       " 'V:/Gilles/Pictures/RAW/Flow/New\\\\Fish6_complex_180um_2',\n",
       " 'V:/Gilles/Pictures/RAW/Flow/New\\\\Fish6_complex_20um',\n",
       " 'V:/Gilles/Pictures/RAW/Flow/New\\\\Fish6_complex_20um_1',\n",
       " 'V:/Gilles/Pictures/RAW/Flow/New\\\\Fish6_complex_20um_2',\n",
       " 'V:/Gilles/Pictures/RAW/Flow/New\\\\Fish6_complex_40um',\n",
       " 'V:/Gilles/Pictures/RAW/Flow/New\\\\Fish6_complex_40um_1',\n",
       " 'V:/Gilles/Pictures/RAW/Flow/New\\\\Fish6_complex_40um_2',\n",
       " 'V:/Gilles/Pictures/RAW/Flow/New\\\\Fish6_complex_60um',\n",
       " 'V:/Gilles/Pictures/RAW/Flow/New\\\\Fish6_complex_60um_1',\n",
       " 'V:/Gilles/Pictures/RAW/Flow/New\\\\Fish6_complex_60um_2',\n",
       " 'V:/Gilles/Pictures/RAW/Flow/New\\\\Fish6_complex_80um',\n",
       " 'V:/Gilles/Pictures/RAW/Flow/New\\\\Fish6_complex_80um_1',\n",
       " 'V:/Gilles/Pictures/RAW/Flow/New\\\\Fish6_complex_80um_2',\n",
       " 'V:/Gilles/Pictures/RAW/Flow/New\\\\Fish7_complex_20um',\n",
       " 'V:/Gilles/Pictures/RAW/Flow/New\\\\Fish7_complex_20um_1',\n",
       " 'V:/Gilles/Pictures/RAW/Flow/New\\\\Fish7_complex_20um_2',\n",
       " 'V:/Gilles/Pictures/RAW/Flow/New\\\\Fish7_complex_40um',\n",
       " 'V:/Gilles/Pictures/RAW/Flow/New\\\\Fish7_complex_40um_1',\n",
       " 'V:/Gilles/Pictures/RAW/Flow/New\\\\Fish7_complex_40um_2']"
      ]
     },
     "execution_count": 18,
     "metadata": {},
     "output_type": "execute_result"
    }
   ],
   "source": [
    "filelist"
   ]
  },
  {
   "cell_type": "code",
   "execution_count": 9,
   "metadata": {},
   "outputs": [
    {
     "name": "stderr",
     "output_type": "stream",
     "text": [
      "/home/ubuntu/anaconda2/lib/python2.7/site-packages/skimage/external/tifffile/tifffile.py:1815: UserWarning: ome-xml: failed to read 'MMStack_Pos0.ome.tif'\n",
      "  \"ome-xml: failed to read '%s'\" % fname)\n",
      "/home/ubuntu/anaconda2/lib/python2.7/site-packages/skimage/external/tifffile/tifffile.py:1815: UserWarning: ome-xml: failed to read 'Kevin_10um_2_MMStack_Pos0.ome.tif'\n",
      "  \"ome-xml: failed to read '%s'\" % fname)\n",
      "/home/ubuntu/anaconda2/lib/python2.7/site-packages/skimage/external/tifffile/tifffile.py:1815: UserWarning: ome-xml: failed to read 'Kevin_10um_1_MMStack_Pos0.ome.tif'\n",
      "  \"ome-xml: failed to read '%s'\" % fname)\n"
     ]
    }
   ],
   "source": [
    "for i,filename in enumerate(filelist):      \n",
    "    if i>56:\n",
    "        temp=skext.imread(directory+'/'+filename)\n",
    "        temp=temp.mean(axis=0).astype(np.uint16)\n",
    "        tifffile.imsave(savedirectory+'/'+filename[:-4]+'_mean.tif',temp)"
   ]
  },
  {
   "cell_type": "code",
   "execution_count": 9,
   "metadata": {
    "collapsed": true
   },
   "outputs": [],
   "source": [
    "tifffile.imsave(savedirectory+'/'+filename[:-4]+'_mean.tif',temp)"
   ]
  },
  {
   "cell_type": "code",
   "execution_count": 7,
   "metadata": {},
   "outputs": [
    {
     "data": {
      "text/plain": [
       "['__builtins__', '__doc__', '__file__', '__name__', '__package__', '__path__']"
      ]
     },
     "execution_count": 7,
     "metadata": {},
     "output_type": "execute_result"
    }
   ],
   "source": [
    "dir(external)"
   ]
  },
  {
   "cell_type": "code",
   "execution_count": 17,
   "metadata": {},
   "outputs": [
    {
     "data": {
      "text/plain": [
       "(25, 540, 640)"
      ]
     },
     "execution_count": 17,
     "metadata": {},
     "output_type": "execute_result"
    }
   ],
   "source": [
    "temp.shape"
   ]
  },
  {
   "cell_type": "code",
   "execution_count": 19,
   "metadata": {
    "collapsed": true
   },
   "outputs": [],
   "source": [
    "tifffile.imsave(savedirectory+'/'+filename[:-4]+'_mean.tif',temp)"
   ]
  },
  {
   "cell_type": "code",
   "execution_count": 18,
   "metadata": {},
   "outputs": [
    {
     "data": {
      "text/plain": [
       "'/mnt/downloads/Itia/HS_meanFish201709131_ELO_HS_mean.tif'"
      ]
     },
     "execution_count": 18,
     "metadata": {},
     "output_type": "execute_result"
    }
   ],
   "source": [
    "savedirectory+filename[:-4]+'_mean.tif'"
   ]
  },
  {
   "cell_type": "code",
   "execution_count": 5,
   "metadata": {
    "collapsed": true
   },
   "outputs": [],
   "source": [
    "temp=tifffile.imread('/mnt/downloads/Itia/ANTS_proper/Cropped/Huc_H2B_RFP_resliced_24-124-4_crop.tif')\n",
    "savedirectory='/mnt/downloads/Itia/Cropped_ANTS/'\n",
    "assure_path_exists(savedirectory)\n",
    "tifffile.imsave(savedirectory+'/Huc_H2B_RFP_reslice_4_crop.tif',temp)"
   ]
  },
  {
   "cell_type": "code",
   "execution_count": null,
   "metadata": {
    "collapsed": true
   },
   "outputs": [],
   "source": []
  }
 ],
 "metadata": {
  "kernelspec": {
   "display_name": "Python 3",
   "language": "python",
   "name": "python3"
  },
  "language_info": {
   "codemirror_mode": {
    "name": "ipython",
    "version": 3
   },
   "file_extension": ".py",
   "mimetype": "text/x-python",
   "name": "python",
   "nbconvert_exporter": "python",
   "pygments_lexer": "ipython3",
   "version": "3.6.6"
  }
 },
 "nbformat": 4,
 "nbformat_minor": 2
}
