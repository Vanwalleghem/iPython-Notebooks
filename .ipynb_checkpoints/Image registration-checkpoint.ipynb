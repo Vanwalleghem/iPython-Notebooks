{
 "cells": [
  {
   "cell_type": "code",
   "execution_count": 97,
   "metadata": {
    "collapsed": true
   },
   "outputs": [],
   "source": [
    "import os\n",
    "import glob\n",
    "import numpy as np\n",
    "import skimage.external.tifffile as skext\n",
    "from skimage.feature import register_translation \n",
    "import scipy.io"
   ]
  },
  {
   "cell_type": "code",
   "execution_count": 75,
   "metadata": {},
   "outputs": [
    {
     "data": {
      "text/plain": [
       "['12', '20', '14', '13', '15', '18', '22', '21', '17', '19', '23']"
      ]
     },
     "execution_count": 75,
     "metadata": {},
     "output_type": "execute_result"
    }
   ],
   "source": [
    "fnames_all=[]\n",
    "for file in glob.glob(os.path.join('D:/temp/Kevin/','hs*.tif')):\n",
    "    if file.endswith(\".tif\") and (file.find('Kmean')==-1):\n",
    "        fnames_all.append(file)\n",
    "FishNames=list(set([s.partition(\"basic\")[2].partition('.tif')[0] for s in fnames_all]))\n",
    "FishNames"
   ]
  },
  {
   "cell_type": "code",
   "execution_count": 90,
   "metadata": {},
   "outputs": [
    {
     "data": {
      "text/plain": [
       "['D:/temp/Kevin\\\\hs_basic12.tif',\n",
       " 'D:/temp/Kevin\\\\hs_basic13.tif',\n",
       " 'D:/temp/Kevin\\\\hs_basic14.tif',\n",
       " 'D:/temp/Kevin\\\\hs_basic15.tif',\n",
       " 'D:/temp/Kevin\\\\hs_basic17.tif',\n",
       " 'D:/temp/Kevin\\\\hs_basic18.tif',\n",
       " 'D:/temp/Kevin\\\\hs_basic19.tif',\n",
       " 'D:/temp/Kevin\\\\hs_basic20.tif',\n",
       " 'D:/temp/Kevin\\\\hs_basic21.tif',\n",
       " 'D:/temp/Kevin\\\\hs_basic22.tif',\n",
       " 'D:/temp/Kevin\\\\hs_basic23.tif']"
      ]
     },
     "execution_count": 90,
     "metadata": {},
     "output_type": "execute_result"
    }
   ],
   "source": [
    "fnames_all"
   ]
  },
  {
   "cell_type": "code",
   "execution_count": 77,
   "metadata": {},
   "outputs": [
    {
     "data": {
      "text/plain": [
       "['D:/Pictures/processed/Flow/Basic\\\\AVG_12_0.tif',\n",
       " 'D:/Pictures/processed/Flow/Basic\\\\AVG_12_100.tif',\n",
       " 'D:/Pictures/processed/Flow/Basic\\\\AVG_12_120.tif',\n",
       " 'D:/Pictures/processed/Flow/Basic\\\\AVG_12_140.tif',\n",
       " 'D:/Pictures/processed/Flow/Basic\\\\AVG_12_160.tif',\n",
       " 'D:/Pictures/processed/Flow/Basic\\\\AVG_12_180.tif',\n",
       " 'D:/Pictures/processed/Flow/Basic\\\\AVG_12_20.tif',\n",
       " 'D:/Pictures/processed/Flow/Basic\\\\AVG_12_200.tif',\n",
       " 'D:/Pictures/processed/Flow/Basic\\\\AVG_12_220.tif',\n",
       " 'D:/Pictures/processed/Flow/Basic\\\\AVG_12_240.tif',\n",
       " 'D:/Pictures/processed/Flow/Basic\\\\AVG_12_260.tif',\n",
       " 'D:/Pictures/processed/Flow/Basic\\\\AVG_12_280.tif',\n",
       " 'D:/Pictures/processed/Flow/Basic\\\\AVG_12_40.tif',\n",
       " 'D:/Pictures/processed/Flow/Basic\\\\AVG_12_60.tif',\n",
       " 'D:/Pictures/processed/Flow/Basic\\\\AVG_12_80.tif',\n",
       " 'D:/Pictures/processed/Flow/Basic\\\\AVG_13_0.tif',\n",
       " 'D:/Pictures/processed/Flow/Basic\\\\AVG_13_100.tif',\n",
       " 'D:/Pictures/processed/Flow/Basic\\\\AVG_13_120.tif',\n",
       " 'D:/Pictures/processed/Flow/Basic\\\\AVG_13_140.tif',\n",
       " 'D:/Pictures/processed/Flow/Basic\\\\AVG_13_160.tif',\n",
       " 'D:/Pictures/processed/Flow/Basic\\\\AVG_13_180.tif',\n",
       " 'D:/Pictures/processed/Flow/Basic\\\\AVG_13_20.tif',\n",
       " 'D:/Pictures/processed/Flow/Basic\\\\AVG_13_200.tif',\n",
       " 'D:/Pictures/processed/Flow/Basic\\\\AVG_13_220.tif',\n",
       " 'D:/Pictures/processed/Flow/Basic\\\\AVG_13_240.tif',\n",
       " 'D:/Pictures/processed/Flow/Basic\\\\AVG_13_260.tif',\n",
       " 'D:/Pictures/processed/Flow/Basic\\\\AVG_13_280.tif',\n",
       " 'D:/Pictures/processed/Flow/Basic\\\\AVG_13_40.tif',\n",
       " 'D:/Pictures/processed/Flow/Basic\\\\AVG_13_60.tif',\n",
       " 'D:/Pictures/processed/Flow/Basic\\\\AVG_13_80.tif',\n",
       " 'D:/Pictures/processed/Flow/Basic\\\\AVG_14_0.tif',\n",
       " 'D:/Pictures/processed/Flow/Basic\\\\AVG_14_100.tif',\n",
       " 'D:/Pictures/processed/Flow/Basic\\\\AVG_14_120.tif',\n",
       " 'D:/Pictures/processed/Flow/Basic\\\\AVG_14_140.tif',\n",
       " 'D:/Pictures/processed/Flow/Basic\\\\AVG_14_160.tif',\n",
       " 'D:/Pictures/processed/Flow/Basic\\\\AVG_14_180.tif',\n",
       " 'D:/Pictures/processed/Flow/Basic\\\\AVG_14_20.tif',\n",
       " 'D:/Pictures/processed/Flow/Basic\\\\AVG_14_200.tif',\n",
       " 'D:/Pictures/processed/Flow/Basic\\\\AVG_14_220.tif',\n",
       " 'D:/Pictures/processed/Flow/Basic\\\\AVG_14_240.tif',\n",
       " 'D:/Pictures/processed/Flow/Basic\\\\AVG_14_260.tif',\n",
       " 'D:/Pictures/processed/Flow/Basic\\\\AVG_14_280.tif',\n",
       " 'D:/Pictures/processed/Flow/Basic\\\\AVG_14_40.tif',\n",
       " 'D:/Pictures/processed/Flow/Basic\\\\AVG_14_60.tif',\n",
       " 'D:/Pictures/processed/Flow/Basic\\\\AVG_14_80.tif',\n",
       " 'D:/Pictures/processed/Flow/Basic\\\\AVG_15_0.tif',\n",
       " 'D:/Pictures/processed/Flow/Basic\\\\AVG_15_100.tif',\n",
       " 'D:/Pictures/processed/Flow/Basic\\\\AVG_15_120.tif',\n",
       " 'D:/Pictures/processed/Flow/Basic\\\\AVG_15_140.tif',\n",
       " 'D:/Pictures/processed/Flow/Basic\\\\AVG_15_160.tif',\n",
       " 'D:/Pictures/processed/Flow/Basic\\\\AVG_15_180.tif',\n",
       " 'D:/Pictures/processed/Flow/Basic\\\\AVG_15_20.tif',\n",
       " 'D:/Pictures/processed/Flow/Basic\\\\AVG_15_200.tif',\n",
       " 'D:/Pictures/processed/Flow/Basic\\\\AVG_15_220.tif',\n",
       " 'D:/Pictures/processed/Flow/Basic\\\\AVG_15_40.tif',\n",
       " 'D:/Pictures/processed/Flow/Basic\\\\AVG_15_60.tif',\n",
       " 'D:/Pictures/processed/Flow/Basic\\\\AVG_15_80.tif',\n",
       " 'D:/Pictures/processed/Flow/Basic\\\\AVG_17_100.tif',\n",
       " 'D:/Pictures/processed/Flow/Basic\\\\AVG_17_120.tif',\n",
       " 'D:/Pictures/processed/Flow/Basic\\\\AVG_17_140.tif',\n",
       " 'D:/Pictures/processed/Flow/Basic\\\\AVG_17_160.tif',\n",
       " 'D:/Pictures/processed/Flow/Basic\\\\AVG_17_180.tif',\n",
       " 'D:/Pictures/processed/Flow/Basic\\\\AVG_17_20.tif',\n",
       " 'D:/Pictures/processed/Flow/Basic\\\\AVG_17_200.tif',\n",
       " 'D:/Pictures/processed/Flow/Basic\\\\AVG_17_220.tif',\n",
       " 'D:/Pictures/processed/Flow/Basic\\\\AVG_17_240.tif',\n",
       " 'D:/Pictures/processed/Flow/Basic\\\\AVG_17_260.tif',\n",
       " 'D:/Pictures/processed/Flow/Basic\\\\AVG_17_40.tif',\n",
       " 'D:/Pictures/processed/Flow/Basic\\\\AVG_17_60.tif',\n",
       " 'D:/Pictures/processed/Flow/Basic\\\\AVG_17_80.tif',\n",
       " 'D:/Pictures/processed/Flow/Basic\\\\AVG_18_0.tif',\n",
       " 'D:/Pictures/processed/Flow/Basic\\\\AVG_18_100.tif',\n",
       " 'D:/Pictures/processed/Flow/Basic\\\\AVG_18_120.tif',\n",
       " 'D:/Pictures/processed/Flow/Basic\\\\AVG_18_140.tif',\n",
       " 'D:/Pictures/processed/Flow/Basic\\\\AVG_18_160.tif',\n",
       " 'D:/Pictures/processed/Flow/Basic\\\\AVG_18_180.tif',\n",
       " 'D:/Pictures/processed/Flow/Basic\\\\AVG_18_20.tif',\n",
       " 'D:/Pictures/processed/Flow/Basic\\\\AVG_18_200.tif',\n",
       " 'D:/Pictures/processed/Flow/Basic\\\\AVG_18_40.tif',\n",
       " 'D:/Pictures/processed/Flow/Basic\\\\AVG_18_60.tif',\n",
       " 'D:/Pictures/processed/Flow/Basic\\\\AVG_18_80.tif',\n",
       " 'D:/Pictures/processed/Flow/Basic\\\\AVG_19_0.tif',\n",
       " 'D:/Pictures/processed/Flow/Basic\\\\AVG_19_100.tif',\n",
       " 'D:/Pictures/processed/Flow/Basic\\\\AVG_19_120.tif',\n",
       " 'D:/Pictures/processed/Flow/Basic\\\\AVG_19_140.tif',\n",
       " 'D:/Pictures/processed/Flow/Basic\\\\AVG_19_160.tif',\n",
       " 'D:/Pictures/processed/Flow/Basic\\\\AVG_19_180.tif',\n",
       " 'D:/Pictures/processed/Flow/Basic\\\\AVG_19_20.tif',\n",
       " 'D:/Pictures/processed/Flow/Basic\\\\AVG_19_200.tif',\n",
       " 'D:/Pictures/processed/Flow/Basic\\\\AVG_19_220.tif',\n",
       " 'D:/Pictures/processed/Flow/Basic\\\\AVG_19_240.tif',\n",
       " 'D:/Pictures/processed/Flow/Basic\\\\AVG_19_40.tif',\n",
       " 'D:/Pictures/processed/Flow/Basic\\\\AVG_19_60.tif',\n",
       " 'D:/Pictures/processed/Flow/Basic\\\\AVG_19_80.tif',\n",
       " 'D:/Pictures/processed/Flow/Basic\\\\AVG_20_0.tif',\n",
       " 'D:/Pictures/processed/Flow/Basic\\\\AVG_20_100.tif',\n",
       " 'D:/Pictures/processed/Flow/Basic\\\\AVG_20_120.tif',\n",
       " 'D:/Pictures/processed/Flow/Basic\\\\AVG_20_140.tif',\n",
       " 'D:/Pictures/processed/Flow/Basic\\\\AVG_20_160.tif',\n",
       " 'D:/Pictures/processed/Flow/Basic\\\\AVG_20_180.tif',\n",
       " 'D:/Pictures/processed/Flow/Basic\\\\AVG_20_20.tif',\n",
       " 'D:/Pictures/processed/Flow/Basic\\\\AVG_20_200.tif',\n",
       " 'D:/Pictures/processed/Flow/Basic\\\\AVG_20_220.tif',\n",
       " 'D:/Pictures/processed/Flow/Basic\\\\AVG_20_240.tif',\n",
       " 'D:/Pictures/processed/Flow/Basic\\\\AVG_20_260.tif',\n",
       " 'D:/Pictures/processed/Flow/Basic\\\\AVG_20_40.tif',\n",
       " 'D:/Pictures/processed/Flow/Basic\\\\AVG_20_60.tif',\n",
       " 'D:/Pictures/processed/Flow/Basic\\\\AVG_20_80.tif',\n",
       " 'D:/Pictures/processed/Flow/Basic\\\\AVG_21_0.tif',\n",
       " 'D:/Pictures/processed/Flow/Basic\\\\AVG_21_100.tif',\n",
       " 'D:/Pictures/processed/Flow/Basic\\\\AVG_21_120.tif',\n",
       " 'D:/Pictures/processed/Flow/Basic\\\\AVG_21_140.tif',\n",
       " 'D:/Pictures/processed/Flow/Basic\\\\AVG_21_160.tif',\n",
       " 'D:/Pictures/processed/Flow/Basic\\\\AVG_21_180.tif',\n",
       " 'D:/Pictures/processed/Flow/Basic\\\\AVG_21_20.tif',\n",
       " 'D:/Pictures/processed/Flow/Basic\\\\AVG_21_200.tif',\n",
       " 'D:/Pictures/processed/Flow/Basic\\\\AVG_21_220.tif',\n",
       " 'D:/Pictures/processed/Flow/Basic\\\\AVG_21_240.tif',\n",
       " 'D:/Pictures/processed/Flow/Basic\\\\AVG_21_40.tif',\n",
       " 'D:/Pictures/processed/Flow/Basic\\\\AVG_21_60.tif',\n",
       " 'D:/Pictures/processed/Flow/Basic\\\\AVG_21_80.tif',\n",
       " 'D:/Pictures/processed/Flow/Basic\\\\AVG_22_0.tif',\n",
       " 'D:/Pictures/processed/Flow/Basic\\\\AVG_22_100.tif',\n",
       " 'D:/Pictures/processed/Flow/Basic\\\\AVG_22_120.tif',\n",
       " 'D:/Pictures/processed/Flow/Basic\\\\AVG_22_140.tif',\n",
       " 'D:/Pictures/processed/Flow/Basic\\\\AVG_22_160.tif',\n",
       " 'D:/Pictures/processed/Flow/Basic\\\\AVG_22_180.tif',\n",
       " 'D:/Pictures/processed/Flow/Basic\\\\AVG_22_20.tif',\n",
       " 'D:/Pictures/processed/Flow/Basic\\\\AVG_22_200.tif',\n",
       " 'D:/Pictures/processed/Flow/Basic\\\\AVG_22_220.tif',\n",
       " 'D:/Pictures/processed/Flow/Basic\\\\AVG_22_240.tif',\n",
       " 'D:/Pictures/processed/Flow/Basic\\\\AVG_22_40.tif',\n",
       " 'D:/Pictures/processed/Flow/Basic\\\\AVG_22_60.tif',\n",
       " 'D:/Pictures/processed/Flow/Basic\\\\AVG_22_80.tif',\n",
       " 'D:/Pictures/processed/Flow/Basic\\\\AVG_23_0.tif',\n",
       " 'D:/Pictures/processed/Flow/Basic\\\\AVG_23_100.tif',\n",
       " 'D:/Pictures/processed/Flow/Basic\\\\AVG_23_120.tif',\n",
       " 'D:/Pictures/processed/Flow/Basic\\\\AVG_23_140.tif',\n",
       " 'D:/Pictures/processed/Flow/Basic\\\\AVG_23_160.tif',\n",
       " 'D:/Pictures/processed/Flow/Basic\\\\AVG_23_180.tif',\n",
       " 'D:/Pictures/processed/Flow/Basic\\\\AVG_23_20.tif',\n",
       " 'D:/Pictures/processed/Flow/Basic\\\\AVG_23_200.tif',\n",
       " 'D:/Pictures/processed/Flow/Basic\\\\AVG_23_220.tif',\n",
       " 'D:/Pictures/processed/Flow/Basic\\\\AVG_23_240.tif',\n",
       " 'D:/Pictures/processed/Flow/Basic\\\\AVG_23_40.tif',\n",
       " 'D:/Pictures/processed/Flow/Basic\\\\AVG_23_60.tif',\n",
       " 'D:/Pictures/processed/Flow/Basic\\\\AVG_23_80.tif',\n",
       " 'D:/Pictures/processed/Flow/Basic\\\\AVG_Flow_2planes_f1-0um.tif',\n",
       " 'D:/Pictures/processed/Flow/Basic\\\\AVG_Flow_2planes_f1-100um.tif',\n",
       " 'D:/Pictures/processed/Flow/Basic\\\\AVG_Flow_2planes_f1-120um.tif',\n",
       " 'D:/Pictures/processed/Flow/Basic\\\\AVG_Flow_2planes_f1-140um.tif',\n",
       " 'D:/Pictures/processed/Flow/Basic\\\\AVG_Flow_2planes_f1-20um.tif',\n",
       " 'D:/Pictures/processed/Flow/Basic\\\\AVG_Flow_2planes_f1-40um.tif',\n",
       " 'D:/Pictures/processed/Flow/Basic\\\\AVG_Flow_2planes_f1-60um.tif',\n",
       " 'D:/Pictures/processed/Flow/Basic\\\\AVG_Flow_2planes_f1-80um.tif',\n",
       " 'D:/Pictures/processed/Flow/Basic\\\\AVG_Flow_2planes_f10um.tif',\n",
       " 'D:/Pictures/processed/Flow/Basic\\\\AVG_Flow_2planes_f2-0um.tif',\n",
       " 'D:/Pictures/processed/Flow/Basic\\\\AVG_Flow_2planes_f2-20um.tif']"
      ]
     },
     "execution_count": 77,
     "metadata": {},
     "output_type": "execute_result"
    }
   ],
   "source": [
    "cropped_files=[]\n",
    "for file in glob.glob(os.path.join('D:/Pictures/processed/Flow/Basic/','AVG_*.tif')):\n",
    "    if file.endswith(\".tif\") and (file.find('Kmean')==-1):\n",
    "        cropped_files.append(file)\n",
    "cropped_files"
   ]
  },
  {
   "cell_type": "code",
   "execution_count": 93,
   "metadata": {},
   "outputs": [],
   "source": [
    "transform_matrix=[]\n",
    "file_name=[]\n",
    "for i in range(0,len(FishNames)):\n",
    "    matches = [s for s in cropped_files if FishNames[i] in str(s.partition('AVG_')[2].partition('_')[0])]\n",
    "    dest=skext.imread('D:/temp/Kevin\\\\hs_basic'+FishNames[i]+'.tif')    \n",
    "    for image_name in matches:\n",
    "        slice_nb=int(int(image_name.partition(FishNames[i]+'_')[2].partition('.tif')[0])/20)        \n",
    "        if slice_nb>0:\n",
    "            frame = skext.imread(image_name)\n",
    "            frame=np.pad(frame,((0,abs(dest[slice_nb].shape[0]-frame.shape[0])),(0,abs(dest[slice_nb].shape[1]-frame.shape[1]))),'constant')\n",
    "            tform = register_translation(dest[slice_nb],frame)        \n",
    "            transform_matrix.append(tform[0])\n",
    "            file_name.append(image_name)\n",
    "scipy.io.savemat('D:/temp/Kevin/transformation_crop_to_full.mat', mdict={'TransfoMatrix':transform_matrix,'FileName':file_name})"
   ]
  },
  {
   "cell_type": "code",
   "execution_count": 94,
   "metadata": {},
   "outputs": [
    {
     "data": {
      "text/plain": [
       "[array([ 212.,  156.]),\n",
       " array([ 234.,  194.]),\n",
       " array([ 245.,  211.]),\n",
       " array([ 274.,  288.]),\n",
       " array([ 293.,  367.]),\n",
       " array([ 168.,   36.]),\n",
       " array([ 301.,  441.]),\n",
       " array([ 305.,  611.]),\n",
       " array([ 323.,  603.]),\n",
       " array([ 351., -524.]),\n",
       " array([ 370., -477.]),\n",
       " array([ 166.,   31.]),\n",
       " array([ 166.,   62.]),\n",
       " array([ 183.,   97.]),\n",
       " array([ 250.,  144.]),\n",
       " array([ 266.,  161.]),\n",
       " array([ 271.,  180.]),\n",
       " array([ 252.,  223.]),\n",
       " array([ 307.,  271.]),\n",
       " array([ 136.,   50.]),\n",
       " array([ 327.,  349.]),\n",
       " array([ 370.,  372.]),\n",
       " array([ 382.,  407.]),\n",
       " array([ 428.,  515.]),\n",
       " array([ 178.,   52.]),\n",
       " array([ 214.,   56.]),\n",
       " array([ 250.,  117.]),\n",
       " array([ 117.,  100.]),\n",
       " array([ 103.,   57.]),\n",
       " array([ 94.,  35.]),\n",
       " array([ 95.,  10.]),\n",
       " array([ 93.,  -1.]),\n",
       " array([ 210.,  252.]),\n",
       " array([  95.,  476.]),\n",
       " array([  94.,  488.]),\n",
       " array([  23.,  489.]),\n",
       " array([  95.,  528.]),\n",
       " array([  53.,  488.]),\n",
       " array([ 185.,  246.]),\n",
       " array([ 152.,  150.]),\n",
       " array([ 132.,  120.]),\n",
       " array([ 133.,   51.]),\n",
       " array([ 154.,   80.]),\n",
       " array([ 167.,  131.]),\n",
       " array([ 166.,  156.]),\n",
       " array([ 214.,  267.]),\n",
       " array([ 138.,  528.]),\n",
       " array([ 208.,  264.]),\n",
       " array([ 213.,  178.]),\n",
       " array([ 203.,  259.]),\n",
       " array([ 238.,  259.]),\n",
       " array([ 272.,  347.]),\n",
       " array([ 150.,   -2.]),\n",
       " array([ 139.,    0.]),\n",
       " array([ 140.,   19.]),\n",
       " array([ 162.,  562.]),\n",
       " array([ 167.,  571.]),\n",
       " array([ 180.,    7.]),\n",
       " array([ 191.,   72.]),\n",
       " array([ 205.,  139.]),\n",
       " array([ 152.,  609.]),\n",
       " array([ 234.,  186.]),\n",
       " array([ 287.,  212.]),\n",
       " array([ 146.,  599.]),\n",
       " array([ 168.,  494.]),\n",
       " array([ 167.,  490.]),\n",
       " array([ 150.,   88.]),\n",
       " array([ 171.,   46.]),\n",
       " array([ 195.,  164.]),\n",
       " array([ 226.,  224.]),\n",
       " array([ 255.,  246.]),\n",
       " array([ 111.,    0.]),\n",
       " array([ 286.,  265.]),\n",
       " array([ 111.,    3.]),\n",
       " array([ 126.,    3.]),\n",
       " array([ 120.,    6.]),\n",
       " array([ 132.,  458.]),\n",
       " array([ 122.,  446.]),\n",
       " array([ 117.,   26.]),\n",
       " array([ 133.,   69.]),\n",
       " array([ 143.,  138.]),\n",
       " array([ 168.,  530.]),\n",
       " array([ 168.,  138.]),\n",
       " array([ 177.,  173.]),\n",
       " array([ 258.,  301.]),\n",
       " array([ 158.,  513.]),\n",
       " array([ 164.,  455.]),\n",
       " array([ 121.,  478.]),\n",
       " array([ 159.,    3.]),\n",
       " array([ 175.,   16.]),\n",
       " array([ 190.,   50.]),\n",
       " array([ 216.,   79.]),\n",
       " array([ 228.,  108.]),\n",
       " array([ 167.,    0.]),\n",
       " array([ 242.,  184.]),\n",
       " array([ 310.,  286.]),\n",
       " array([ 362.,  318.]),\n",
       " array([ 183.,    0.]),\n",
       " array([ 174.,    9.]),\n",
       " array([ 167.,    0.]),\n",
       " array([ 109.,    0.]),\n",
       " array([ 102.,    2.]),\n",
       " array([ 114.,    9.]),\n",
       " array([ 118.,   54.]),\n",
       " array([ 150.,  101.]),\n",
       " array([  93.,  525.]),\n",
       " array([ 144.,  206.]),\n",
       " array([ 149.,  216.]),\n",
       " array([ 263.,  320.]),\n",
       " array([ 299.,  385.]),\n",
       " array([ 114.,    0.]),\n",
       " array([ 81.,   0.]),\n",
       " array([ 105.,    0.]),\n",
       " array([ 148.,    0.]),\n",
       " array([ 149.,    1.]),\n",
       " array([ 169.,   15.]),\n",
       " array([ 180.,   51.]),\n",
       " array([ 215.,   88.]),\n",
       " array([ 134.,  518.]),\n",
       " array([ 235.,   93.]),\n",
       " array([ 279.,  212.]),\n",
       " array([ 284.,  204.]),\n",
       " array([ 125.,  493.]),\n",
       " array([ 144.,    1.]),\n",
       " array([ 146.,    0.]),\n",
       " array([ 125.,  114.]),\n",
       " array([ 131.,  167.]),\n",
       " array([ 137.,  204.]),\n",
       " array([ 139.,  255.]),\n",
       " array([ 172.,  377.]),\n",
       " array([ 202.,    4.]),\n",
       " array([ 168.,  430.]),\n",
       " array([ 214.,  509.]),\n",
       " array([ 258., -403.]),\n",
       " array([ 171.,    5.]),\n",
       " array([ 163.,   71.]),\n",
       " array([ 134.,   98.])]"
      ]
     },
     "execution_count": 94,
     "metadata": {},
     "output_type": "execute_result"
    }
   ],
   "source": [
    "transform_matrix"
   ]
  },
  {
   "cell_type": "code",
   "execution_count": 95,
   "metadata": {},
   "outputs": [],
   "source": [
    "file_name=[]\n",
    "for i in range(0,len(FishNames)):\n",
    "    matches = [s for s in cropped_files if FishNames[i] in str(s.partition('AVG_')[2].partition('_')[0])]\n",
    "    for image_name in matches:\n",
    "        slice_nb=int(int(image_name.partition(FishNames[i]+'_')[2].partition('.tif')[0])/20)\n",
    "        file_name.append(image_name)"
   ]
  },
  {
   "cell_type": "code",
   "execution_count": 98,
   "metadata": {},
   "outputs": [],
   "source": [
    "scipy.io.savemat('D:/temp/Kevin/transformation_crop_to_full.mat', mdict={'TransfoMatrix':transform_matrix,'FileName':file_name})"
   ]
  },
  {
   "cell_type": "code",
   "execution_count": 10,
   "metadata": {
    "collapsed": true
   },
   "outputs": [],
   "source": [
    "from skimage.measure import compare_ssim as ssim"
   ]
  },
  {
   "cell_type": "code",
   "execution_count": 11,
   "metadata": {
    "collapsed": true
   },
   "outputs": [],
   "source": [
    "from skimage.transform import PiecewiseAffineTransform, warp"
   ]
  },
  {
   "cell_type": "code",
   "execution_count": 19,
   "metadata": {},
   "outputs": [],
   "source": [
    "from skimage.feature import register_translation "
   ]
  },
  {
   "cell_type": "code",
   "execution_count": 22,
   "metadata": {},
   "outputs": [],
   "source": [
    "import imreg_dft as ird"
   ]
  },
  {
   "cell_type": "code",
   "execution_count": 26,
   "metadata": {},
   "outputs": [],
   "source": [
    "from skimage.transform import estimate_transform"
   ]
  },
  {
   "cell_type": "code",
   "execution_count": 47,
   "metadata": {},
   "outputs": [],
   "source": [
    " tform = register_translation(test[0],frame)"
   ]
  },
  {
   "cell_type": "code",
   "execution_count": 39,
   "metadata": {},
   "outputs": [],
   "source": [
    "frame=np.pad(test2,((0,abs(test[0].shape[0]-test2.shape[0])),(0,abs(test[0].shape[1]-test2.shape[1]))),'constant')"
   ]
  },
  {
   "cell_type": "code",
   "execution_count": 88,
   "metadata": {},
   "outputs": [
    {
     "data": {
      "text/plain": [
       "(array([ 162.,   18.]), 0.70794435346166296, 1.2257255737252281e-15)"
      ]
     },
     "execution_count": 88,
     "metadata": {},
     "output_type": "execute_result"
    }
   ],
   "source": [
    "tform"
   ]
  },
  {
   "cell_type": "code",
   "execution_count": null,
   "metadata": {
    "collapsed": true
   },
   "outputs": [],
   "source": []
  }
 ],
 "metadata": {
  "kernelspec": {
   "display_name": "Python 3",
   "language": "python",
   "name": "python3"
  },
  "language_info": {
   "codemirror_mode": {
    "name": "ipython",
    "version": 3
   },
   "file_extension": ".py",
   "mimetype": "text/x-python",
   "name": "python",
   "nbconvert_exporter": "python",
   "pygments_lexer": "ipython3",
   "version": "3.6.4"
  }
 },
 "nbformat": 4,
 "nbformat_minor": 2
}
