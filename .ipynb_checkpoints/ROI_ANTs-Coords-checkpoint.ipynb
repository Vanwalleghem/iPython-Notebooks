{
 "cells": [
  {
   "cell_type": "code",
   "execution_count": 1,
   "metadata": {
    "collapsed": true
   },
   "outputs": [],
   "source": [
    "from subprocess import call\n",
    "import time\n",
    "import glob\n",
    "import os\n",
    "import sys\n",
    "import tifffile"
   ]
  },
  {
   "cell_type": "code",
   "execution_count": 9,
   "metadata": {},
   "outputs": [
    {
     "data": {
      "text/plain": [
       "['/mnt/downloads/Itia/ROI_ANTs/_ROIsFish09111_ERO.csv',\n",
       " '/mnt/downloads/Itia/ROI_ANTs/_ROIsFish09112_ELO.csv',\n",
       " '/mnt/downloads/Itia/ROI_ANTs/_ROIsFish09131_ELO.csv',\n",
       " '/mnt/downloads/Itia/ROI_ANTs/_ROIsFish09131_ERO.csv',\n",
       " '/mnt/downloads/Itia/ROI_ANTs/_ROIsFish09191_ERO.csv',\n",
       " '/mnt/downloads/Itia/ROI_ANTs/_ROIsFish11281_ERO.csv',\n",
       " '/mnt/downloads/Itia/ROI_ANTs/_ROIsFish11293_ELO.csv',\n",
       " '/mnt/downloads/Itia/ROI_ANTs/_ROIsFish11293_ERO.csv',\n",
       " '/mnt/downloads/Itia/ROI_ANTs/_ROIsFish11295_ERO.csv',\n",
       " '/mnt/downloads/Itia/ROI_ANTs/_ROIsFish12051_ELO.csv',\n",
       " '/mnt/downloads/Itia/ROI_ANTs/_ROIsFish12053_ELO.csv',\n",
       " '/mnt/downloads/Itia/ROI_ANTs/_ROIsFish12057_ELO.csv',\n",
       " '/mnt/downloads/Itia/ROI_ANTs/_ROIsFish12058_ERO.csv',\n",
       " '/mnt/downloads/Itia/ROI_ANTs/_ROIsFish12074_Center.csv',\n",
       " '/mnt/downloads/Itia/ROI_ANTs/_ROIsFish12074_ELO_IRO.csv',\n",
       " '/mnt/downloads/Itia/ROI_ANTs/_ROIsFish12077_Center.csv',\n",
       " '/mnt/downloads/Itia/ROI_ANTs/_ROIsFish12077_ELO_IRO.csv',\n",
       " '/mnt/downloads/Itia/ROI_ANTs/_ROIsFish12121_Center.csv',\n",
       " '/mnt/downloads/Itia/ROI_ANTs/_ROIsFish12121_ELO_IRO.csv',\n",
       " '/mnt/downloads/Itia/ROI_ANTs/_ROIsFish12141_Center.csv',\n",
       " '/mnt/downloads/Itia/ROI_ANTs/_ROIsFish12141_ELO_IRO.csv',\n",
       " '/mnt/downloads/Itia/ROI_ANTs/_ROIsFish12144_Center.csv',\n",
       " '/mnt/downloads/Itia/ROI_ANTs/_ROIsFish12144_ELO_IRO.csv']"
      ]
     },
     "execution_count": 9,
     "metadata": {},
     "output_type": "execute_result"
    }
   ],
   "source": [
    "fnames_all =[]\n",
    "for file_name in glob.glob('/mnt/downloads/Itia/ROI_ANTs/*.csv'):\n",
    "    if not file_name.rpartition('/')[2].startswith('_Warped'):\n",
    "        fnames_all.append(file_name)\n",
    "fnames_all.sort()\n",
    "fnames_all"
   ]
  },
  {
   "cell_type": "code",
   "execution_count": 84,
   "metadata": {},
   "outputs": [
    {
     "data": {
      "text/plain": [
       "'/mnt/downloads/Itia/ROI_ANTs/_Warped_ROIsFish09111_ERO.csv'"
      ]
     },
     "execution_count": 84,
     "metadata": {},
     "output_type": "execute_result"
    }
   ],
   "source": [
    "file_name"
   ]
  },
  {
   "cell_type": "code",
   "execution_count": 8,
   "metadata": {},
   "outputs": [
    {
     "data": {
      "text/plain": [
       "['/mnt/downloads/Itia/ROI_ANTs/Itia_templateFish201709111_ERO_HS_mean00GenericAffine.mat',\n",
       " '/mnt/downloads/Itia/ROI_ANTs/Itia_templateFish201709112_ELO_HS_mean10GenericAffine.mat',\n",
       " '/mnt/downloads/Itia/ROI_ANTs/Itia_templateFish201709131_ELO_HS_mean20GenericAffine.mat',\n",
       " '/mnt/downloads/Itia/ROI_ANTs/Itia_templateFish201709131_ERO_HS_mean30GenericAffine.mat',\n",
       " '/mnt/downloads/Itia/ROI_ANTs/Itia_templateFish201709191_ERO_HS_mean40GenericAffine.mat',\n",
       " '/mnt/downloads/Itia/ROI_ANTs/Itia_templateFish201711281_ERO_HS_mean50GenericAffine.mat',\n",
       " '/mnt/downloads/Itia/ROI_ANTs/Itia_templateFish201711293_ELO_HS_mean60GenericAffine.mat',\n",
       " '/mnt/downloads/Itia/ROI_ANTs/Itia_templateFish201711293_ERO_HS_mean70GenericAffine.mat',\n",
       " '/mnt/downloads/Itia/ROI_ANTs/Itia_templateFish201711295_ERO_HS_mean80GenericAffine.mat',\n",
       " '/mnt/downloads/Itia/ROI_ANTs/Itia_templateFish201712051_ELO_HS_mean90GenericAffine.mat',\n",
       " '/mnt/downloads/Itia/ROI_ANTs/Itia_templateFish201712053_ELO_HS_mean100GenericAffine.mat',\n",
       " '/mnt/downloads/Itia/ROI_ANTs/Itia_templateFish201712057_ELO_HS_mean110GenericAffine.mat',\n",
       " '/mnt/downloads/Itia/ROI_ANTs/Itia_templateFish201712058_ERO_HS_mean120GenericAffine.mat',\n",
       " '/mnt/downloads/Itia/ROI_ANTs/Itia_templateFish201712074_Center_HS_mean130GenericAffine.mat',\n",
       " '/mnt/downloads/Itia/ROI_ANTs/Itia_templateFish201712074_ELO_IRO_Both_HS_mean140GenericAffine.mat',\n",
       " '/mnt/downloads/Itia/ROI_ANTs/Itia_templateFish201712077_Center_HS_mean150GenericAffine.mat',\n",
       " '/mnt/downloads/Itia/ROI_ANTs/Itia_templateFish201712077_ELO_IRO_Both_HS_mean160GenericAffine.mat',\n",
       " '/mnt/downloads/Itia/ROI_ANTs/Itia_templateFish201712121_Center_HS_mean170GenericAffine.mat',\n",
       " '/mnt/downloads/Itia/ROI_ANTs/Itia_templateFish201712121_ELO_IRO_Both_HS_mean180GenericAffine.mat',\n",
       " '/mnt/downloads/Itia/ROI_ANTs/Itia_templateFish201712141_Center_HS_mean190GenericAffine.mat',\n",
       " '/mnt/downloads/Itia/ROI_ANTs/Itia_templateFish201712141_ELO_IRO_HS_mean200GenericAffine.mat',\n",
       " '/mnt/downloads/Itia/ROI_ANTs/Itia_templateFish201712144_Center_HS_mean210GenericAffine.mat',\n",
       " '/mnt/downloads/Itia/ROI_ANTs/Itia_templateFish201712144_ELO_IRO_HS_mean220GenericAffine.mat',\n",
       " '/mnt/downloads/Itia/ROI_ANTs/Itia_templatetemplate0GenericAffine.mat']"
      ]
     },
     "execution_count": 8,
     "metadata": {},
     "output_type": "execute_result"
    }
   ],
   "source": [
    "ANTsFiles =[]\n",
    "for file in glob.glob('/mnt/downloads/Itia/ROI_ANTs/*.mat'):\n",
    "    if file.endswith(\".mat\"):\n",
    "        ANTsFiles.append(file)\n",
    "ANTsFiles.sort()\n",
    "ANTsFiles"
   ]
  },
  {
   "cell_type": "code",
   "execution_count": 4,
   "metadata": {
    "collapsed": true
   },
   "outputs": [],
   "source": [
    "os.chdir('/mnt/downloads/Itia/ROI_ANTs/')"
   ]
  },
  {
   "cell_type": "code",
   "execution_count": 10,
   "metadata": {
    "collapsed": true
   },
   "outputs": [],
   "source": [
    "for i,name in enumerate(fnames_all):    \n",
    "    input_coords=fnames_all[i]\n",
    "    affine_matrix=ANTsFiles[i]\n",
    "    if i<20:\n",
    "        assert(affine_matrix.rpartition('Fish2017')[2].partition('_HS')[0].partition('_Both')[0]==input_coords.rpartition('Fish')[2].partition('.csv')[0])\n",
    "    if i>20:\n",
    "        assert(affine_matrix.rpartition('Fish2017')[2].partition('_HS')[0].partition('_Both')[0]==input_coords.rpartition('Fish')[2].partition('_Both')[0].partition('.csv')[0])\n",
    "    warp_image=ANTsFiles[i].replace('0GenericAffine.mat','1InverseWarp.nii.gz')\n",
    "    output_name='_Warped'+fnames_all[i].rpartition('/')[2]\n",
    "    job_string = \"\"\"antsApplyTransformsToPoints -d 3 -i %s -o %s -t [%s, 1] -t %s\"\"\" % (input_coords, output_name, affine_matrix, warp_image)\n",
    "    call([job_string],shell=True)    "
   ]
  },
  {
   "cell_type": "code",
   "execution_count": 6,
   "metadata": {},
   "outputs": [
    {
     "data": {
      "text/plain": [
       "'12074_Center'"
      ]
     },
     "execution_count": 6,
     "metadata": {},
     "output_type": "execute_result"
    }
   ],
   "source": [
    "affine_matrix.rpartition('Fish2017')[2].partition('_HS')[0].partition('_Both')[0]"
   ]
  },
  {
   "cell_type": "code",
   "execution_count": 7,
   "metadata": {},
   "outputs": [
    {
     "data": {
      "text/plain": [
       "'12074_ELO_IRO'"
      ]
     },
     "execution_count": 7,
     "metadata": {},
     "output_type": "execute_result"
    }
   ],
   "source": [
    "input_coords.rpartition('Fish')[2].partition('.csv')[0]"
   ]
  },
  {
   "cell_type": "code",
   "execution_count": 96,
   "metadata": {},
   "outputs": [
    {
     "data": {
      "text/plain": [
       "'12144_Center.csv'"
      ]
     },
     "execution_count": 96,
     "metadata": {},
     "output_type": "execute_result"
    }
   ],
   "source": [
    "input_coords.rpartition('Fish')[2].partition('_Both')[0].partition('.tif')[0]"
   ]
  },
  {
   "cell_type": "code",
   "execution_count": 53,
   "metadata": {
    "collapsed": true
   },
   "outputs": [],
   "source": [
    "i=0\n",
    "input_coords=fnames_all[i]\n",
    "affine_matrix=ANTsFiles[i]\n",
    "if i<20:\n",
    "    assert(affine_matrix.rpartition('Fish2017')[2].partition('_HS')[0]==input_coords.rpartition('Fish')[2].partition('.csv')[0])\n",
    "if i>20:\n",
    "    assert(affine_matrix.rpartition('Fish2017')[2].partition('_HS')[0]==input_image.rpartition('Fish')[2].partition('_Both')[0].partition('.tif')[0])\n",
    "warp_image=ANTsFiles[i].replace('0GenericAffine.mat','1InverseWarp.nii.gz')\n",
    "output_name='_Warped'+fnames_all[i].rpartition('/')[2]\n",
    "job_string = \"\"\"antsApplyTransformsToPoints -d 3 -i %s -o %s -t [%s, 1] -t %s\"\"\" % (input_coords, output_name, affine_matrix, warp_image)"
   ]
  },
  {
   "cell_type": "code",
   "execution_count": 54,
   "metadata": {},
   "outputs": [
    {
     "data": {
      "text/plain": [
       "'antsApplyTransformsToPoints -d 3 i /mnt/downloads/Itia/ROI_ANTs/_ROIsFish09111_ERO.csv -o _Warped_ROIsFish09111_ERO.csv -t [/mnt/downloads/Itia/ROI_ANTs/Itia_templateFish201709111_ERO_HS_mean00GenericAffine.mat, 1] -t /mnt/downloads/Itia/ROI_ANTs/Itia_templateFish201709111_ERO_HS_mean01InverseWarp.nii.gz'"
      ]
     },
     "execution_count": 54,
     "metadata": {},
     "output_type": "execute_result"
    }
   ],
   "source": [
    "job_string"
   ]
  },
  {
   "cell_type": "code",
   "execution_count": 37,
   "metadata": {},
   "outputs": [
    {
     "data": {
      "text/plain": [
       "'12074_ELO_IRO'"
      ]
     },
     "execution_count": 37,
     "metadata": {},
     "output_type": "execute_result"
    }
   ],
   "source": [
    "input_coords.rpartition('Fish')[2].partition('.csv')[0]"
   ]
  },
  {
   "cell_type": "code",
   "execution_count": 30,
   "metadata": {
    "collapsed": true
   },
   "outputs": [],
   "source": [
    "output_name='Warped'+fnames_all[i].rpartition('/')[2]"
   ]
  },
  {
   "cell_type": "code",
   "execution_count": 54,
   "metadata": {},
   "outputs": [
    {
     "data": {
      "text/plain": [
       "'12141_ELO_IRO'"
      ]
     },
     "execution_count": 54,
     "metadata": {},
     "output_type": "execute_result"
    }
   ],
   "source": [
    "affine_matrix.rpartition('Fish2017')[2].partition('_HS')[0]"
   ]
  },
  {
   "cell_type": "code",
   "execution_count": 53,
   "metadata": {},
   "outputs": [
    {
     "data": {
      "text/plain": [
       "'12141_ELO_IRO_Both'"
      ]
     },
     "execution_count": 53,
     "metadata": {},
     "output_type": "execute_result"
    }
   ],
   "source": [
    "input_image.rpartition('Fish')[2].partition('.tif')[0]"
   ]
  },
  {
   "cell_type": "code",
   "execution_count": 61,
   "metadata": {},
   "outputs": [
    {
     "ename": "AssertionError",
     "evalue": "",
     "output_type": "error",
     "traceback": [
      "\u001b[0;31m---------------------------------------------------------------------------\u001b[0m",
      "\u001b[0;31mAssertionError\u001b[0m                            Traceback (most recent call last)",
      "\u001b[0;32m<ipython-input-61-5a3d54c08d8e>\u001b[0m in \u001b[0;36m<module>\u001b[0;34m()\u001b[0m\n\u001b[0;32m----> 1\u001b[0;31m \u001b[0;32massert\u001b[0m\u001b[0;34m(\u001b[0m\u001b[0maffine_matrix\u001b[0m\u001b[0;34m.\u001b[0m\u001b[0mrpartition\u001b[0m\u001b[0;34m(\u001b[0m\u001b[0;34m'Fish2017'\u001b[0m\u001b[0;34m)\u001b[0m\u001b[0;34m[\u001b[0m\u001b[0;36m2\u001b[0m\u001b[0;34m]\u001b[0m\u001b[0;34m.\u001b[0m\u001b[0mpartition\u001b[0m\u001b[0;34m(\u001b[0m\u001b[0;34m'_HS'\u001b[0m\u001b[0;34m)\u001b[0m\u001b[0;34m[\u001b[0m\u001b[0;36m0\u001b[0m\u001b[0;34m]\u001b[0m\u001b[0;34m==\u001b[0m\u001b[0minput_image\u001b[0m\u001b[0;34m.\u001b[0m\u001b[0mrpartition\u001b[0m\u001b[0;34m(\u001b[0m\u001b[0;34m'Fish'\u001b[0m\u001b[0;34m)\u001b[0m\u001b[0;34m[\u001b[0m\u001b[0;36m2\u001b[0m\u001b[0;34m]\u001b[0m\u001b[0;34m.\u001b[0m\u001b[0mpartition\u001b[0m\u001b[0;34m(\u001b[0m\u001b[0;34m'_Both'\u001b[0m\u001b[0;34m)\u001b[0m\u001b[0;34m[\u001b[0m\u001b[0;36m0\u001b[0m\u001b[0;34m]\u001b[0m\u001b[0;34m)\u001b[0m\u001b[0;34m\u001b[0m\u001b[0m\n\u001b[0m",
      "\u001b[0;31mAssertionError\u001b[0m: "
     ]
    }
   ],
   "source": [
    "assert(affine_matrix.rpartition('Fish2017')[2].partition('_HS')[0]==input_image.rpartition('Fish')[2].partition('_Both')[0])"
   ]
  },
  {
   "cell_type": "code",
   "execution_count": 67,
   "metadata": {},
   "outputs": [
    {
     "data": {
      "text/plain": [
       "'12144_Center'"
      ]
     },
     "execution_count": 67,
     "metadata": {},
     "output_type": "execute_result"
    }
   ],
   "source": [
    "affine_matrix.rpartition('Fish2017')[2].partition('_HS')[0]"
   ]
  },
  {
   "cell_type": "code",
   "execution_count": 69,
   "metadata": {},
   "outputs": [
    {
     "data": {
      "text/plain": [
       "'12144_Center'"
      ]
     },
     "execution_count": 69,
     "metadata": {},
     "output_type": "execute_result"
    }
   ],
   "source": [
    "input_image.rpartition('Fish')[2].partition('_Both')[0].partition('.tif')[0]"
   ]
  },
  {
   "cell_type": "code",
   "execution_count": 66,
   "metadata": {},
   "outputs": [
    {
     "ename": "TypeError",
     "evalue": "unsupported operand type(s) for |: 'str' and 'str'",
     "output_type": "error",
     "traceback": [
      "\u001b[0;31m---------------------------------------------------------------------------\u001b[0m",
      "\u001b[0;31mTypeError\u001b[0m                                 Traceback (most recent call last)",
      "\u001b[0;32m<ipython-input-66-32a8da912899>\u001b[0m in \u001b[0;36m<module>\u001b[0;34m()\u001b[0m\n\u001b[0;32m----> 1\u001b[0;31m \u001b[0;32massert\u001b[0m\u001b[0;34m(\u001b[0m\u001b[0maffine_matrix\u001b[0m\u001b[0;34m.\u001b[0m\u001b[0mrpartition\u001b[0m\u001b[0;34m(\u001b[0m\u001b[0;34m'Fish2017'\u001b[0m\u001b[0;34m)\u001b[0m\u001b[0;34m[\u001b[0m\u001b[0;36m2\u001b[0m\u001b[0;34m]\u001b[0m\u001b[0;34m.\u001b[0m\u001b[0mpartition\u001b[0m\u001b[0;34m(\u001b[0m\u001b[0;34m'_HS'\u001b[0m\u001b[0;34m)\u001b[0m\u001b[0;34m[\u001b[0m\u001b[0;36m0\u001b[0m\u001b[0;34m]\u001b[0m\u001b[0;34m==\u001b[0m\u001b[0minput_image\u001b[0m\u001b[0;34m.\u001b[0m\u001b[0mrpartition\u001b[0m\u001b[0;34m(\u001b[0m\u001b[0;34m'Fish'\u001b[0m\u001b[0;34m)\u001b[0m\u001b[0;34m[\u001b[0m\u001b[0;36m2\u001b[0m\u001b[0;34m]\u001b[0m\u001b[0;34m.\u001b[0m\u001b[0mpartition\u001b[0m\u001b[0;34m(\u001b[0m\u001b[0;34m'_Both'\u001b[0m\u001b[0;34m)\u001b[0m\u001b[0;34m[\u001b[0m\u001b[0;36m0\u001b[0m\u001b[0;34m]\u001b[0m \u001b[0;34m|\u001b[0m \u001b[0maffine_matrix\u001b[0m\u001b[0;34m.\u001b[0m\u001b[0mrpartition\u001b[0m\u001b[0;34m(\u001b[0m\u001b[0;34m'Fish2017'\u001b[0m\u001b[0;34m)\u001b[0m\u001b[0;34m[\u001b[0m\u001b[0;36m2\u001b[0m\u001b[0;34m]\u001b[0m\u001b[0;34m.\u001b[0m\u001b[0mpartition\u001b[0m\u001b[0;34m(\u001b[0m\u001b[0;34m'_HS'\u001b[0m\u001b[0;34m)\u001b[0m\u001b[0;34m[\u001b[0m\u001b[0;36m0\u001b[0m\u001b[0;34m]\u001b[0m\u001b[0;34m==\u001b[0m\u001b[0minput_image\u001b[0m\u001b[0;34m.\u001b[0m\u001b[0mrpartition\u001b[0m\u001b[0;34m(\u001b[0m\u001b[0;34m'Fish'\u001b[0m\u001b[0;34m)\u001b[0m\u001b[0;34m[\u001b[0m\u001b[0;36m2\u001b[0m\u001b[0;34m]\u001b[0m\u001b[0;34m.\u001b[0m\u001b[0mpartition\u001b[0m\u001b[0;34m(\u001b[0m\u001b[0;34m'.tif'\u001b[0m\u001b[0;34m)\u001b[0m\u001b[0;34m[\u001b[0m\u001b[0;36m0\u001b[0m\u001b[0;34m]\u001b[0m\u001b[0;34m)\u001b[0m\u001b[0;34m\u001b[0m\u001b[0m\n\u001b[0m",
      "\u001b[0;31mTypeError\u001b[0m: unsupported operand type(s) for |: 'str' and 'str'"
     ]
    }
   ],
   "source": [
    "assert(affine_matrix.rpartition('Fish2017')[2].partition('_HS')[0]==input_image.rpartition('Fish')[2].partition('_Both')[0] | affine_matrix.rpartition('Fish2017')[2].partition('_HS')[0]==input_image.rpartition('Fish')[2].partition('.tif')[0])"
   ]
  },
  {
   "cell_type": "code",
   "execution_count": null,
   "metadata": {
    "collapsed": true
   },
   "outputs": [],
   "source": []
  }
 ],
 "metadata": {
  "kernelspec": {
   "display_name": "Python 3",
   "language": "python",
   "name": "python3"
  },
  "language_info": {
   "codemirror_mode": {
    "name": "ipython",
    "version": 3
   },
   "file_extension": ".py",
   "mimetype": "text/x-python",
   "name": "python",
   "nbconvert_exporter": "python",
   "pygments_lexer": "ipython3",
   "version": "3.6.4"
  }
 },
 "nbformat": 4,
 "nbformat_minor": 2
}
