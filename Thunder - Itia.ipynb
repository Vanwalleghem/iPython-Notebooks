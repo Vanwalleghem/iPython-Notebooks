{
 "cells": [
  {
   "cell_type": "code",
   "execution_count": 1,
   "metadata": {
    "collapsed": true
   },
   "outputs": [],
   "source": [
    "import thunder as td\n",
    "import numpy as np\n",
    "import matplotlib.pyplot as plt\n",
    "import scipy.io\n",
    "%matplotlib inline\n",
    "from regression import LinearRegression\n",
    "import tifffile"
   ]
  },
  {
   "cell_type": "code",
   "execution_count": 2,
   "metadata": {},
   "outputs": [],
   "source": [
    "import findspark\n",
    "findspark.init()\n",
    "from pyspark import SparkConf, SparkContext\n",
    "# conf = (SparkConf()\n",
    "#          .setMaster(\"local\")\n",
    "#          .setAppName(\"My app\")\n",
    "#          .set(\"spark.executor.memory\", \"40g\")\n",
    "#          .set(\"spark.ui.port\",\"8080\")\n",
    "#          .set(\"spark.driver.host\",\"127.0.0.1\")\n",
    "#          .set(\"spark.local.dir\",\"/mnt/tmp/\")\n",
    "#        )\n",
    "\n",
    "# sc = SparkContext(conf = conf)\n",
    "sc = SparkContext()"
   ]
  },
  {
   "cell_type": "code",
   "execution_count": null,
   "metadata": {},
   "outputs": [],
   "source": [
    "sc.stop()"
   ]
  },
  {
   "cell_type": "code",
   "execution_count": 3,
   "metadata": {
    "collapsed": true
   },
   "outputs": [],
   "source": [
    "#input number of planes\n",
    "filename='/mnt/downloads/Itia/Fish201712144_ELO_IRO_HS.tif'\n",
    "data = tifffile.imread(filename)\n",
    "tifffile.imsave(filename[:-4]+'_mean.tif',data.mean(axis=0).astype(np.uint16))\n",
    "data = td.images.fromarray(data, engine=sc, npartitions=5000)\n",
    "data = data.repartition(5000)\n",
    "data = data[20:150,:,:,:]"
   ]
  },
  {
   "cell_type": "code",
   "execution_count": 4,
   "metadata": {
    "collapsed": true
   },
   "outputs": [],
   "source": [
    "from registration import CrossCorr\n",
    "algorithm = CrossCorr()\n",
    "reference=np.load('/mnt/downloads/Itia/reference.npy')\n",
    "model = algorithm.fit(data,reference)\n",
    "data=model.transform(data)\n",
    "data.max_projection(axis=0).totif(filename[:-4]+'_warp.tif')"
   ]
  },
  {
   "cell_type": "code",
   "execution_count": 5,
   "metadata": {},
   "outputs": [
    {
     "data": {
      "text/plain": [
       "Series\n",
       "mode: spark\n",
       "dtype: float64\n",
       "shape: (25, 540, 640, 130)"
      ]
     },
     "execution_count": 5,
     "metadata": {},
     "output_type": "execute_result"
    }
   ],
   "source": [
    "data = data.toseries().detrend('linear').normalize()\n",
    "data=data.repartition(5000)\n",
    "data"
   ]
  },
  {
   "cell_type": "code",
   "execution_count": 6,
   "metadata": {
    "collapsed": true
   },
   "outputs": [],
   "source": [
    "Stimuli=np.zeros(130)\n",
    "GCaMP6=[0,1.69644104899772,5.13796058542217,8.27886020152244,10.3756715204800,11.8173714529814,12.2425184714093,10.8571417354877,8.80831829681196,6.91339112244670,5.46959264663869,4.30868766622567,3.42533619066766,2.75378443486879,2.18017250852183,1.72816235135824,1.32732537295463,1.00684435500268,0.730210038304555,0.530242444093118,0.362253250339685,0.227668255288566,0.0869242416152502,0.000718266708050853,-0.0828334873368325]\n",
    "idxStart=20\n",
    "for i in range(1,4):    \n",
    "    Stimuli[(idxStart+(i-1)*40):(idxStart+(i-1)*40)+len(GCaMP6)]=GCaMP6;\n",
    "Stimuli=Stimuli.reshape((1,130))\n",
    "from regression import LinearRegression\n",
    "algorithm = LinearRegression()\n",
    "model = algorithm.fit(Stimuli.T,data)\n",
    "r2 = model.score(Stimuli.T,data)\n",
    "r2=r2.toarray()\n",
    "betas = model.betas.toarray()\n",
    "scipy.io.savemat(filename[:-4]+'.mat',mdict={'Betas':betas,'rsquared':r2})"
   ]
  },
  {
   "cell_type": "code",
   "execution_count": 7,
   "metadata": {
    "collapsed": true
   },
   "outputs": [],
   "source": [
    "sc.stop()"
   ]
  },
  {
   "cell_type": "code",
   "execution_count": null,
   "metadata": {
    "collapsed": true
   },
   "outputs": [],
   "source": [
    "r2_d"
   ]
  },
  {
   "cell_type": "code",
   "execution_count": null,
   "metadata": {
    "collapsed": true
   },
   "outputs": [],
   "source": []
  },
  {
   "cell_type": "code",
   "execution_count": null,
   "metadata": {
    "collapsed": true
   },
   "outputs": [],
   "source": [
    "np.save('/mnt/downloads/Itia/reference.npy',reference)"
   ]
  },
  {
   "cell_type": "code",
   "execution_count": null,
   "metadata": {
    "collapsed": true
   },
   "outputs": [],
   "source": [
    "reference=tifffile.imread('/mnt/downloads/Itia/Fish201711281_ERO_HS.tif')\n",
    "reference=reference.mean(axis=0)"
   ]
  }
 ],
 "metadata": {
  "kernelspec": {
   "display_name": "Python [conda root]",
   "language": "python",
   "name": "conda-root-py"
  },
  "language_info": {
   "codemirror_mode": {
    "name": "ipython",
    "version": 2
   },
   "file_extension": ".py",
   "mimetype": "text/x-python",
   "name": "python",
   "nbconvert_exporter": "python",
   "pygments_lexer": "ipython2",
   "version": "2.7.13"
  }
 },
 "nbformat": 4,
 "nbformat_minor": 2
}
