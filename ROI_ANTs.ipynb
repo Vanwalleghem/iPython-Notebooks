{
 "cells": [
  {
   "cell_type": "code",
   "execution_count": 1,
   "metadata": {
    "collapsed": true
   },
   "outputs": [],
   "source": [
    "from subprocess import call\n",
    "import time\n",
    "import glob\n",
    "import os\n",
    "import sys\n",
    "import tifffile"
   ]
  },
  {
   "cell_type": "code",
   "execution_count": 2,
   "metadata": {},
   "outputs": [
    {
     "data": {
      "text/plain": [
       "['/mnt/downloads/Itia/ROI_ANTs/_ROIsFish09111_ERO.tif',\n",
       " '/mnt/downloads/Itia/ROI_ANTs/_ROIsFish09112_ELO.tif',\n",
       " '/mnt/downloads/Itia/ROI_ANTs/_ROIsFish09131_ELO.tif',\n",
       " '/mnt/downloads/Itia/ROI_ANTs/_ROIsFish09131_ERO.tif',\n",
       " '/mnt/downloads/Itia/ROI_ANTs/_ROIsFish09191_ERO.tif',\n",
       " '/mnt/downloads/Itia/ROI_ANTs/_ROIsFish11281_ERO.tif',\n",
       " '/mnt/downloads/Itia/ROI_ANTs/_ROIsFish11293_ELO.tif',\n",
       " '/mnt/downloads/Itia/ROI_ANTs/_ROIsFish11293_ERO.tif',\n",
       " '/mnt/downloads/Itia/ROI_ANTs/_ROIsFish11295_ERO.tif',\n",
       " '/mnt/downloads/Itia/ROI_ANTs/_ROIsFish12051_ELO.tif',\n",
       " '/mnt/downloads/Itia/ROI_ANTs/_ROIsFish12053_ELO.tif',\n",
       " '/mnt/downloads/Itia/ROI_ANTs/_ROIsFish12057_ELO.tif',\n",
       " '/mnt/downloads/Itia/ROI_ANTs/_ROIsFish12058_ERO.tif',\n",
       " '/mnt/downloads/Itia/ROI_ANTs/_ROIsFish12074_Center.tif',\n",
       " '/mnt/downloads/Itia/ROI_ANTs/_ROIsFish12074_ELO_IRO_Both.tif',\n",
       " '/mnt/downloads/Itia/ROI_ANTs/_ROIsFish12077_Center.tif',\n",
       " '/mnt/downloads/Itia/ROI_ANTs/_ROIsFish12077_ELO_IRO_Both.tif',\n",
       " '/mnt/downloads/Itia/ROI_ANTs/_ROIsFish12121_Center.tif',\n",
       " '/mnt/downloads/Itia/ROI_ANTs/_ROIsFish12121_ELO_IRO_Both.tif',\n",
       " '/mnt/downloads/Itia/ROI_ANTs/_ROIsFish12141_Center.tif',\n",
       " '/mnt/downloads/Itia/ROI_ANTs/_ROIsFish12141_ELO_IRO_Both.tif',\n",
       " '/mnt/downloads/Itia/ROI_ANTs/_ROIsFish12144_Center.tif',\n",
       " '/mnt/downloads/Itia/ROI_ANTs/_ROIsFish12144_ELO_IRO_Both.tif']"
      ]
     },
     "execution_count": 2,
     "metadata": {},
     "output_type": "execute_result"
    }
   ],
   "source": [
    "fnames_all =[]\n",
    "for file in glob.glob('/mnt/downloads/Itia/ROI_ANTs/*.tif'):\n",
    "    if file.endswith(\".tif\") and not file.endswith(\"_mean.tif\"):\n",
    "        fnames_all.append(file)\n",
    "fnames_all.sort()\n",
    "fnames_all"
   ]
  },
  {
   "cell_type": "code",
   "execution_count": 3,
   "metadata": {},
   "outputs": [
    {
     "data": {
      "text/plain": [
       "['/mnt/downloads/Itia/ROI_ANTs/Itia_templateFish201709111_ERO_HS_mean00GenericAffine.mat',\n",
       " '/mnt/downloads/Itia/ROI_ANTs/Itia_templateFish201709112_ELO_HS_mean10GenericAffine.mat',\n",
       " '/mnt/downloads/Itia/ROI_ANTs/Itia_templateFish201709131_ELO_HS_mean20GenericAffine.mat',\n",
       " '/mnt/downloads/Itia/ROI_ANTs/Itia_templateFish201709131_ERO_HS_mean30GenericAffine.mat',\n",
       " '/mnt/downloads/Itia/ROI_ANTs/Itia_templateFish201709191_ERO_HS_mean40GenericAffine.mat',\n",
       " '/mnt/downloads/Itia/ROI_ANTs/Itia_templateFish201711281_ERO_HS_mean50GenericAffine.mat',\n",
       " '/mnt/downloads/Itia/ROI_ANTs/Itia_templateFish201711293_ELO_HS_mean60GenericAffine.mat',\n",
       " '/mnt/downloads/Itia/ROI_ANTs/Itia_templateFish201711293_ERO_HS_mean70GenericAffine.mat',\n",
       " '/mnt/downloads/Itia/ROI_ANTs/Itia_templateFish201711295_ERO_HS_mean80GenericAffine.mat',\n",
       " '/mnt/downloads/Itia/ROI_ANTs/Itia_templateFish201712051_ELO_HS_mean90GenericAffine.mat',\n",
       " '/mnt/downloads/Itia/ROI_ANTs/Itia_templateFish201712053_ELO_HS_mean100GenericAffine.mat',\n",
       " '/mnt/downloads/Itia/ROI_ANTs/Itia_templateFish201712057_ELO_HS_mean110GenericAffine.mat',\n",
       " '/mnt/downloads/Itia/ROI_ANTs/Itia_templateFish201712058_ERO_HS_mean120GenericAffine.mat',\n",
       " '/mnt/downloads/Itia/ROI_ANTs/Itia_templateFish201712074_Center_HS_mean130GenericAffine.mat',\n",
       " '/mnt/downloads/Itia/ROI_ANTs/Itia_templateFish201712074_ELO_IRO_Both_HS_mean140GenericAffine.mat',\n",
       " '/mnt/downloads/Itia/ROI_ANTs/Itia_templateFish201712077_Center_HS_mean150GenericAffine.mat',\n",
       " '/mnt/downloads/Itia/ROI_ANTs/Itia_templateFish201712077_ELO_IRO_Both_HS_mean160GenericAffine.mat',\n",
       " '/mnt/downloads/Itia/ROI_ANTs/Itia_templateFish201712121_Center_HS_mean170GenericAffine.mat',\n",
       " '/mnt/downloads/Itia/ROI_ANTs/Itia_templateFish201712121_ELO_IRO_Both_HS_mean180GenericAffine.mat',\n",
       " '/mnt/downloads/Itia/ROI_ANTs/Itia_templateFish201712141_Center_HS_mean190GenericAffine.mat',\n",
       " '/mnt/downloads/Itia/ROI_ANTs/Itia_templateFish201712141_ELO_IRO_HS_mean200GenericAffine.mat',\n",
       " '/mnt/downloads/Itia/ROI_ANTs/Itia_templateFish201712144_Center_HS_mean210GenericAffine.mat',\n",
       " '/mnt/downloads/Itia/ROI_ANTs/Itia_templateFish201712144_ELO_IRO_HS_mean220GenericAffine.mat',\n",
       " '/mnt/downloads/Itia/ROI_ANTs/Itia_templatetemplate0GenericAffine.mat']"
      ]
     },
     "execution_count": 3,
     "metadata": {},
     "output_type": "execute_result"
    }
   ],
   "source": [
    "ANTsFiles =[]\n",
    "for file in glob.glob('/mnt/downloads/Itia/ROI_ANTs/*.mat'):\n",
    "    if file.endswith(\".mat\"):\n",
    "        ANTsFiles.append(file)\n",
    "ANTsFiles.sort()\n",
    "ANTsFiles"
   ]
  },
  {
   "cell_type": "code",
   "execution_count": 11,
   "metadata": {},
   "outputs": [],
   "source": [
    "os.chdir('/mnt/downloads/Itia/ROI_ANTs/')"
   ]
  },
  {
   "cell_type": "code",
   "execution_count": 13,
   "metadata": {},
   "outputs": [],
   "source": [
    "for i,name in enumerate(fnames_all):    \n",
    "    input_image=fnames_all[i]\n",
    "    image=tifffile.imread(input_image)\n",
    "    tifffile.imsave(input_image,image*10)\n",
    "    affine_matrix=ANTsFiles[i]\n",
    "    if i<20:\n",
    "        assert(affine_matrix.rpartition('Fish2017')[2].partition('_HS')[0]==input_image.rpartition('Fish')[2].partition('.tif')[0])\n",
    "    if i>20:\n",
    "        assert(affine_matrix.rpartition('Fish2017')[2].partition('_HS')[0]==input_image.rpartition('Fish')[2].partition('_Both')[0].partition('.tif')[0])\n",
    "    warp_image=ANTsFiles[i].replace('0GenericAffine.mat','1Warp.nii.gz')\n",
    "    output_name='Warped'+fnames_all[i].rpartition('/')[2].replace('tif','nii')\n",
    "    job_string = \"\"\"antsApplyTransforms -d 3 -v 1 -i %s -r Itia_templatetemplate0.nii.gz -o %s -t %s -t %s\"\"\" % (input_image, output_name, warp_image, affine_matrix)\n",
    "    call([job_string],shell=True)    "
   ]
  },
  {
   "cell_type": "code",
   "execution_count": 33,
   "metadata": {},
   "outputs": [
    {
     "name": "stdout",
     "output_type": "stream",
     "text": [
      "antsApplyTransforms -d 3 -v 1 -i /mnt/downloads/Itia/ROI_ANTs/_ROIsFish09111_ERO.tif -r Itia_templatetemplate0.nii.gz -o Warped_ROIsFish09111_ERO.nii -t /mnt/downloads/Itia/ROI_ANTs/Itia_templateFish201709111_ERO_HS_mean01Warp.nii.gz -t /mnt/downloads/Itia/ROI_ANTs/Itia_templateFish201709111_ERO_HS_mean00GenericAffine.mat\n"
     ]
    }
   ],
   "source": [
    "i=0\n",
    "input_image=fnames_all[i]\n",
    "affine_matrix=ANTsFiles[i]\n",
    "warp_image=ANTsFiles[i].replace('0GenericAffine.mat','1Warp.nii.gz')\n",
    "output_name='Warped'+fnames_all[i].rpartition('/')[2].replace('tif','nii')\n",
    "job_string = \"\"\"antsApplyTransforms -d 3 -v 1 -i %s -r Itia_templatetemplate0.nii.gz -o %s -t %s -t %s\"\"\" % (input_image, output_name, warp_image, affine_matrix)\n",
    "print job_string"
   ]
  },
  {
   "cell_type": "code",
   "execution_count": 19,
   "metadata": {
    "collapsed": true
   },
   "outputs": [],
   "source": [
    "os.chdir('/mnt/downloads/Itia/ROI_ANTs/results/')"
   ]
  },
  {
   "cell_type": "code",
   "execution_count": 9,
   "metadata": {},
   "outputs": [
    {
     "ename": "ValueError",
     "evalue": "The first parameter must be a file name, seekable binary stream, or FileHandle",
     "output_type": "error",
     "traceback": [
      "\u001b[0;31m---------------------------------------------------------------------------\u001b[0m",
      "\u001b[0;31mValueError\u001b[0m                                Traceback (most recent call last)",
      "\u001b[0;32m<ipython-input-9-ce0db13250a3>\u001b[0m in \u001b[0;36m<module>\u001b[0;34m()\u001b[0m\n\u001b[1;32m      2\u001b[0m \u001b[0minput_image\u001b[0m\u001b[0;34m=\u001b[0m\u001b[0mfnames_all\u001b[0m\u001b[0;34m[\u001b[0m\u001b[0mi\u001b[0m\u001b[0;34m]\u001b[0m\u001b[0;34m\u001b[0m\u001b[0m\n\u001b[1;32m      3\u001b[0m \u001b[0minput_image\u001b[0m\u001b[0;34m=\u001b[0m\u001b[0mtifffile\u001b[0m\u001b[0;34m.\u001b[0m\u001b[0mimread\u001b[0m\u001b[0;34m(\u001b[0m\u001b[0minput_image\u001b[0m\u001b[0;34m)\u001b[0m\u001b[0;34m\u001b[0m\u001b[0m\n\u001b[0;32m----> 4\u001b[0;31m \u001b[0mtifffile\u001b[0m\u001b[0;34m.\u001b[0m\u001b[0mimsave\u001b[0m\u001b[0;34m(\u001b[0m\u001b[0minput_image\u001b[0m\u001b[0;34m*\u001b[0m\u001b[0;36m10\u001b[0m\u001b[0;34m,\u001b[0m\u001b[0minput_image\u001b[0m\u001b[0;34m)\u001b[0m\u001b[0;34m\u001b[0m\u001b[0m\n\u001b[0m",
      "\u001b[0;32m/home/ubuntu/anaconda2/lib/python2.7/site-packages/tifffile/tifffile.pyc\u001b[0m in \u001b[0;36mimsave\u001b[0;34m(file, data, **kwargs)\u001b[0m\n\u001b[1;32m    317\u001b[0m         \u001b[0mtifargs\u001b[0m\u001b[0;34m[\u001b[0m\u001b[0;34m'bigtiff'\u001b[0m\u001b[0;34m]\u001b[0m \u001b[0;34m=\u001b[0m \u001b[0mTrue\u001b[0m\u001b[0;34m\u001b[0m\u001b[0m\n\u001b[1;32m    318\u001b[0m \u001b[0;34m\u001b[0m\u001b[0m\n\u001b[0;32m--> 319\u001b[0;31m     \u001b[0;32mwith\u001b[0m \u001b[0mTiffWriter\u001b[0m\u001b[0;34m(\u001b[0m\u001b[0mfile\u001b[0m\u001b[0;34m,\u001b[0m \u001b[0;34m**\u001b[0m\u001b[0mtifargs\u001b[0m\u001b[0;34m)\u001b[0m \u001b[0;32mas\u001b[0m \u001b[0mtif\u001b[0m\u001b[0;34m:\u001b[0m\u001b[0;34m\u001b[0m\u001b[0m\n\u001b[0m\u001b[1;32m    320\u001b[0m         \u001b[0mtif\u001b[0m\u001b[0;34m.\u001b[0m\u001b[0msave\u001b[0m\u001b[0;34m(\u001b[0m\u001b[0mdata\u001b[0m\u001b[0;34m,\u001b[0m \u001b[0;34m**\u001b[0m\u001b[0mkwargs\u001b[0m\u001b[0;34m)\u001b[0m\u001b[0;34m\u001b[0m\u001b[0m\n\u001b[1;32m    321\u001b[0m \u001b[0;34m\u001b[0m\u001b[0m\n",
      "\u001b[0;32m/home/ubuntu/anaconda2/lib/python2.7/site-packages/tifffile/tifffile.pyc\u001b[0m in \u001b[0;36m__init__\u001b[0;34m(self, file, bigtiff, byteorder, software, imagej)\u001b[0m\n\u001b[1;32m    406\u001b[0m         \u001b[0mself\u001b[0m\u001b[0;34m.\u001b[0m\u001b[0m_tag_offsets\u001b[0m \u001b[0;34m=\u001b[0m \u001b[0mNone\u001b[0m  \u001b[0;31m# strip or tile offset tag code\u001b[0m\u001b[0;34m\u001b[0m\u001b[0m\n\u001b[1;32m    407\u001b[0m \u001b[0;34m\u001b[0m\u001b[0m\n\u001b[0;32m--> 408\u001b[0;31m         \u001b[0mself\u001b[0m\u001b[0;34m.\u001b[0m\u001b[0m_fh\u001b[0m \u001b[0;34m=\u001b[0m \u001b[0mFileHandle\u001b[0m\u001b[0;34m(\u001b[0m\u001b[0mfile\u001b[0m\u001b[0;34m,\u001b[0m \u001b[0mmode\u001b[0m\u001b[0;34m=\u001b[0m\u001b[0;34m'wb'\u001b[0m\u001b[0;34m,\u001b[0m \u001b[0msize\u001b[0m\u001b[0;34m=\u001b[0m\u001b[0;36m0\u001b[0m\u001b[0;34m)\u001b[0m\u001b[0;34m\u001b[0m\u001b[0m\n\u001b[0m\u001b[1;32m    409\u001b[0m         \u001b[0mself\u001b[0m\u001b[0;34m.\u001b[0m\u001b[0m_fh\u001b[0m\u001b[0;34m.\u001b[0m\u001b[0mwrite\u001b[0m\u001b[0;34m(\u001b[0m\u001b[0;34m{\u001b[0m\u001b[0;34m'<'\u001b[0m\u001b[0;34m:\u001b[0m \u001b[0;34mb'II'\u001b[0m\u001b[0;34m,\u001b[0m \u001b[0;34m'>'\u001b[0m\u001b[0;34m:\u001b[0m \u001b[0;34mb'MM'\u001b[0m\u001b[0;34m}\u001b[0m\u001b[0;34m[\u001b[0m\u001b[0mbyteorder\u001b[0m\u001b[0;34m]\u001b[0m\u001b[0;34m)\u001b[0m\u001b[0;34m\u001b[0m\u001b[0m\n\u001b[1;32m    410\u001b[0m \u001b[0;34m\u001b[0m\u001b[0m\n",
      "\u001b[0;32m/home/ubuntu/anaconda2/lib/python2.7/site-packages/tifffile/tifffile.pyc\u001b[0m in \u001b[0;36m__init__\u001b[0;34m(self, file, mode, name, offset, size)\u001b[0m\n\u001b[1;32m   3309\u001b[0m         \u001b[0mself\u001b[0m\u001b[0;34m.\u001b[0m\u001b[0m_close\u001b[0m \u001b[0;34m=\u001b[0m \u001b[0mTrue\u001b[0m\u001b[0;34m\u001b[0m\u001b[0m\n\u001b[1;32m   3310\u001b[0m         \u001b[0mself\u001b[0m\u001b[0;34m.\u001b[0m\u001b[0mis_file\u001b[0m \u001b[0;34m=\u001b[0m \u001b[0mFalse\u001b[0m\u001b[0;34m\u001b[0m\u001b[0m\n\u001b[0;32m-> 3311\u001b[0;31m         \u001b[0mself\u001b[0m\u001b[0;34m.\u001b[0m\u001b[0mopen\u001b[0m\u001b[0;34m(\u001b[0m\u001b[0;34m)\u001b[0m\u001b[0;34m\u001b[0m\u001b[0m\n\u001b[0m\u001b[1;32m   3312\u001b[0m \u001b[0;34m\u001b[0m\u001b[0m\n\u001b[1;32m   3313\u001b[0m     \u001b[0;32mdef\u001b[0m \u001b[0mopen\u001b[0m\u001b[0;34m(\u001b[0m\u001b[0mself\u001b[0m\u001b[0;34m)\u001b[0m\u001b[0;34m:\u001b[0m\u001b[0;34m\u001b[0m\u001b[0m\n",
      "\u001b[0;32m/home/ubuntu/anaconda2/lib/python2.7/site-packages/tifffile/tifffile.pyc\u001b[0m in \u001b[0;36mopen\u001b[0;34m(self)\u001b[0m\n\u001b[1;32m   3361\u001b[0m                 \u001b[0;32mpass\u001b[0m\u001b[0;34m\u001b[0m\u001b[0m\n\u001b[1;32m   3362\u001b[0m         \u001b[0;32melse\u001b[0m\u001b[0;34m:\u001b[0m\u001b[0;34m\u001b[0m\u001b[0m\n\u001b[0;32m-> 3363\u001b[0;31m             raise ValueError(\"The first parameter must be a file name, \"\n\u001b[0m\u001b[1;32m   3364\u001b[0m                              \"seekable binary stream, or FileHandle\")\n\u001b[1;32m   3365\u001b[0m \u001b[0;34m\u001b[0m\u001b[0m\n",
      "\u001b[0;31mValueError\u001b[0m: The first parameter must be a file name, seekable binary stream, or FileHandle"
     ]
    }
   ],
   "source": [
    "i=0\n",
    "input_image=fnames_all[i]\n",
    "input_image=tifffile.imread(input_image)\n",
    "tifffile.imsave(input_image*10,input_image)"
   ]
  },
  {
   "cell_type": "code",
   "execution_count": 8,
   "metadata": {},
   "outputs": [
    {
     "data": {
      "text/plain": [
       "18510"
      ]
     },
     "execution_count": 8,
     "metadata": {},
     "output_type": "execute_result"
    }
   ],
   "source": [
    "(input_image*10).max()"
   ]
  },
  {
   "cell_type": "code",
   "execution_count": 30,
   "metadata": {
    "collapsed": true
   },
   "outputs": [],
   "source": [
    "output_name='Warped'+fnames_all[i].rpartition('/')[2]"
   ]
  },
  {
   "cell_type": "code",
   "execution_count": 54,
   "metadata": {},
   "outputs": [
    {
     "data": {
      "text/plain": [
       "'12141_ELO_IRO'"
      ]
     },
     "execution_count": 54,
     "metadata": {},
     "output_type": "execute_result"
    }
   ],
   "source": [
    "affine_matrix.rpartition('Fish2017')[2].partition('_HS')[0]"
   ]
  },
  {
   "cell_type": "code",
   "execution_count": 53,
   "metadata": {},
   "outputs": [
    {
     "data": {
      "text/plain": [
       "'12141_ELO_IRO_Both'"
      ]
     },
     "execution_count": 53,
     "metadata": {},
     "output_type": "execute_result"
    }
   ],
   "source": [
    "input_image.rpartition('Fish')[2].partition('.tif')[0]"
   ]
  },
  {
   "cell_type": "code",
   "execution_count": 61,
   "metadata": {},
   "outputs": [
    {
     "ename": "AssertionError",
     "evalue": "",
     "output_type": "error",
     "traceback": [
      "\u001b[0;31m---------------------------------------------------------------------------\u001b[0m",
      "\u001b[0;31mAssertionError\u001b[0m                            Traceback (most recent call last)",
      "\u001b[0;32m<ipython-input-61-5a3d54c08d8e>\u001b[0m in \u001b[0;36m<module>\u001b[0;34m()\u001b[0m\n\u001b[0;32m----> 1\u001b[0;31m \u001b[0;32massert\u001b[0m\u001b[0;34m(\u001b[0m\u001b[0maffine_matrix\u001b[0m\u001b[0;34m.\u001b[0m\u001b[0mrpartition\u001b[0m\u001b[0;34m(\u001b[0m\u001b[0;34m'Fish2017'\u001b[0m\u001b[0;34m)\u001b[0m\u001b[0;34m[\u001b[0m\u001b[0;36m2\u001b[0m\u001b[0;34m]\u001b[0m\u001b[0;34m.\u001b[0m\u001b[0mpartition\u001b[0m\u001b[0;34m(\u001b[0m\u001b[0;34m'_HS'\u001b[0m\u001b[0;34m)\u001b[0m\u001b[0;34m[\u001b[0m\u001b[0;36m0\u001b[0m\u001b[0;34m]\u001b[0m\u001b[0;34m==\u001b[0m\u001b[0minput_image\u001b[0m\u001b[0;34m.\u001b[0m\u001b[0mrpartition\u001b[0m\u001b[0;34m(\u001b[0m\u001b[0;34m'Fish'\u001b[0m\u001b[0;34m)\u001b[0m\u001b[0;34m[\u001b[0m\u001b[0;36m2\u001b[0m\u001b[0;34m]\u001b[0m\u001b[0;34m.\u001b[0m\u001b[0mpartition\u001b[0m\u001b[0;34m(\u001b[0m\u001b[0;34m'_Both'\u001b[0m\u001b[0;34m)\u001b[0m\u001b[0;34m[\u001b[0m\u001b[0;36m0\u001b[0m\u001b[0;34m]\u001b[0m\u001b[0;34m)\u001b[0m\u001b[0;34m\u001b[0m\u001b[0m\n\u001b[0m",
      "\u001b[0;31mAssertionError\u001b[0m: "
     ]
    }
   ],
   "source": [
    "assert(affine_matrix.rpartition('Fish2017')[2].partition('_HS')[0]==input_image.rpartition('Fish')[2].partition('_Both')[0])"
   ]
  },
  {
   "cell_type": "code",
   "execution_count": 67,
   "metadata": {},
   "outputs": [
    {
     "data": {
      "text/plain": [
       "'12144_Center'"
      ]
     },
     "execution_count": 67,
     "metadata": {},
     "output_type": "execute_result"
    }
   ],
   "source": [
    "affine_matrix.rpartition('Fish2017')[2].partition('_HS')[0]"
   ]
  },
  {
   "cell_type": "code",
   "execution_count": 69,
   "metadata": {},
   "outputs": [
    {
     "data": {
      "text/plain": [
       "'12144_Center'"
      ]
     },
     "execution_count": 69,
     "metadata": {},
     "output_type": "execute_result"
    }
   ],
   "source": [
    "input_image.rpartition('Fish')[2].partition('_Both')[0].partition('.tif')[0]"
   ]
  },
  {
   "cell_type": "code",
   "execution_count": 66,
   "metadata": {},
   "outputs": [
    {
     "ename": "TypeError",
     "evalue": "unsupported operand type(s) for |: 'str' and 'str'",
     "output_type": "error",
     "traceback": [
      "\u001b[0;31m---------------------------------------------------------------------------\u001b[0m",
      "\u001b[0;31mTypeError\u001b[0m                                 Traceback (most recent call last)",
      "\u001b[0;32m<ipython-input-66-32a8da912899>\u001b[0m in \u001b[0;36m<module>\u001b[0;34m()\u001b[0m\n\u001b[0;32m----> 1\u001b[0;31m \u001b[0;32massert\u001b[0m\u001b[0;34m(\u001b[0m\u001b[0maffine_matrix\u001b[0m\u001b[0;34m.\u001b[0m\u001b[0mrpartition\u001b[0m\u001b[0;34m(\u001b[0m\u001b[0;34m'Fish2017'\u001b[0m\u001b[0;34m)\u001b[0m\u001b[0;34m[\u001b[0m\u001b[0;36m2\u001b[0m\u001b[0;34m]\u001b[0m\u001b[0;34m.\u001b[0m\u001b[0mpartition\u001b[0m\u001b[0;34m(\u001b[0m\u001b[0;34m'_HS'\u001b[0m\u001b[0;34m)\u001b[0m\u001b[0;34m[\u001b[0m\u001b[0;36m0\u001b[0m\u001b[0;34m]\u001b[0m\u001b[0;34m==\u001b[0m\u001b[0minput_image\u001b[0m\u001b[0;34m.\u001b[0m\u001b[0mrpartition\u001b[0m\u001b[0;34m(\u001b[0m\u001b[0;34m'Fish'\u001b[0m\u001b[0;34m)\u001b[0m\u001b[0;34m[\u001b[0m\u001b[0;36m2\u001b[0m\u001b[0;34m]\u001b[0m\u001b[0;34m.\u001b[0m\u001b[0mpartition\u001b[0m\u001b[0;34m(\u001b[0m\u001b[0;34m'_Both'\u001b[0m\u001b[0;34m)\u001b[0m\u001b[0;34m[\u001b[0m\u001b[0;36m0\u001b[0m\u001b[0;34m]\u001b[0m \u001b[0;34m|\u001b[0m \u001b[0maffine_matrix\u001b[0m\u001b[0;34m.\u001b[0m\u001b[0mrpartition\u001b[0m\u001b[0;34m(\u001b[0m\u001b[0;34m'Fish2017'\u001b[0m\u001b[0;34m)\u001b[0m\u001b[0;34m[\u001b[0m\u001b[0;36m2\u001b[0m\u001b[0;34m]\u001b[0m\u001b[0;34m.\u001b[0m\u001b[0mpartition\u001b[0m\u001b[0;34m(\u001b[0m\u001b[0;34m'_HS'\u001b[0m\u001b[0;34m)\u001b[0m\u001b[0;34m[\u001b[0m\u001b[0;36m0\u001b[0m\u001b[0;34m]\u001b[0m\u001b[0;34m==\u001b[0m\u001b[0minput_image\u001b[0m\u001b[0;34m.\u001b[0m\u001b[0mrpartition\u001b[0m\u001b[0;34m(\u001b[0m\u001b[0;34m'Fish'\u001b[0m\u001b[0;34m)\u001b[0m\u001b[0;34m[\u001b[0m\u001b[0;36m2\u001b[0m\u001b[0;34m]\u001b[0m\u001b[0;34m.\u001b[0m\u001b[0mpartition\u001b[0m\u001b[0;34m(\u001b[0m\u001b[0;34m'.tif'\u001b[0m\u001b[0;34m)\u001b[0m\u001b[0;34m[\u001b[0m\u001b[0;36m0\u001b[0m\u001b[0;34m]\u001b[0m\u001b[0;34m)\u001b[0m\u001b[0;34m\u001b[0m\u001b[0m\n\u001b[0m",
      "\u001b[0;31mTypeError\u001b[0m: unsupported operand type(s) for |: 'str' and 'str'"
     ]
    }
   ],
   "source": [
    "assert(affine_matrix.rpartition('Fish2017')[2].partition('_HS')[0]==input_image.rpartition('Fish')[2].partition('_Both')[0] | affine_matrix.rpartition('Fish2017')[2].partition('_HS')[0]==input_image.rpartition('Fish')[2].partition('.tif')[0])"
   ]
  },
  {
   "cell_type": "code",
   "execution_count": null,
   "metadata": {
    "collapsed": true
   },
   "outputs": [],
   "source": []
  }
 ],
 "metadata": {
  "kernelspec": {
   "display_name": "Python [conda root]",
   "language": "python",
   "name": "conda-root-py"
  },
  "language_info": {
   "codemirror_mode": {
    "name": "ipython",
    "version": 2
   },
   "file_extension": ".py",
   "mimetype": "text/x-python",
   "name": "python",
   "nbconvert_exporter": "python",
   "pygments_lexer": "ipython2",
   "version": "2.7.13"
  }
 },
 "nbformat": 4,
 "nbformat_minor": 2
}
