{
 "cells": [
  {
   "cell_type": "code",
   "execution_count": 1,
   "metadata": {},
   "outputs": [],
   "source": [
    "import glob\n",
    "import sys\n",
    "import os\n",
    "from subprocess import call"
   ]
  },
  {
   "cell_type": "code",
   "execution_count": 2,
   "metadata": {},
   "outputs": [],
   "source": [
    "nrrd_list=glob.glob('/mnt/d/ForANTs/*.nrrd')\n",
    "for number,item in enumerate(nrrd_list):\n",
    "    if item.find('template')>0:\n",
    "        FixedImg=nrrd_list[number]\n",
    "        del(nrrd_list[number])       \n",
    "    "
   ]
  },
  {
   "cell_type": "code",
   "execution_count": 8,
   "metadata": {},
   "outputs": [
    {
     "data": {
      "text/plain": [
       "'/mnt/f/SCN1LABGEN-Q2396/ForANTs/MW_Synchotrontemplate.nrrd'"
      ]
     },
     "execution_count": 8,
     "metadata": {},
     "output_type": "execute_result"
    }
   ],
   "source": [
    "job_string = \"\"\"antsRegistrationSyNQuick.sh -d 3 -f \"\"\"+FixedImg+\"\"\" -m \"\"\"+name+\"\"\" -o RegToTemplate_ -n 5 -p f -j 1\"\"\"\n",
    "call('antsRegistrationSyNQuick.sh',shell=True)"
   ]
  },
  {
   "cell_type": "code",
   "execution_count": null,
   "metadata": {},
   "outputs": [
    {
     "name": "stdout",
     "output_type": "stream",
     "text": [
      "All_Command_lines_OK\n",
      "Using single precision for computations.\n"
     ]
    }
   ],
   "source": [
    "for name in nrrd_list:\n",
    "    output_name = name.split('.nrrd')[0]\n",
    "    #Took way too long so I'll try the fast one\n",
    "    job_string = \"\"\"antsRegistrationSyNQuick.sh -d 3 -f \"\"\"+FixedImg+\"\"\" -m \"\"\"+name+\"\"\" -o RegToTemplate_\"\"\"+os.path.basename(output_name)+\"\"\" -n 5 -p f -j 1\"\"\"\n",
    "    #job_string = \"\"\"antsRegistration -d 3 --float 1 -o [\"\"\"+output_name+\"\"\", \"\"\"+output_name+\"\"\".nii] -n WelchWindowedSinc --winsorize-image-intensities [0.01,0.99] --use-histogram-matching 1 -r [\"\"\"+FixedImg+\"\"\",\"\"\"+name+\"\"\", 1] -t rigid[0.1] -m MI[\"\"\"+FixedImg+\"\"\",\"\"\"+name+\"\"\",1,32, Regular,0.5] -c [1000x500x500x500,1e-8,10] --shrink-factors 8x4x2x1 --smoothing-sigmas 2x1x1x0vox -t Affine[0.1] -m MI[\"\"\"+FixedImg+\"\"\",\"\"\"+name+\"\"\",1,32, Regular,0.5] -c [1000x500x500x500,1e-8,10] --shrink-factors 8x4x2x1 --smoothing-sigmas 2x1x1x0vox -t SyN[0.05,6,0.5] -m CC[\"\"\"+FixedImg+\"\"\",\"\"\"+name+\"\"\",1,2] -c [1000x500x500x500x500,1e-7,10] --shrink-factors 12x8x4x2x1 --smoothing-sigmas 4x3x2x1x0vox -v 1\"\"\"\n",
    "    call([job_string],shell=True)"
   ]
  },
  {
   "cell_type": "code",
   "execution_count": 26,
   "metadata": {},
   "outputs": [
    {
     "data": {
      "text/plain": [
       "'//UQ-ADSTL01.uq.edu.au/UQ-Inst-Gateway1/SCN1LABGEN-Q2396/ForANTs\\\\2020091705'"
      ]
     },
     "execution_count": 26,
     "metadata": {},
     "output_type": "execute_result"
    }
   ],
   "source": [
    "outputname = file.split('.nrrd')[0]\n",
    "outputname"
   ]
  },
  {
   "cell_type": "code",
   "execution_count": null,
   "metadata": {},
   "outputs": [],
   "source": [
    "job_string = \"\"\"antsRegistration -d 3 --float 1 -o [\"\"\"+output_name+\"\"\", \"\"\"+output_name+\"\"\".nii] -n WelchWindowedSinc --winsorize-image-intensities [0.01,0.99] --use-histogram-matching 1 -r [\"\"\"+FixedImg+\"\"\".nrrd,\"\"\"+name+\"\"\", 1] -t rigid[0.1] -m MI[\"\"\"+FixedImg+\"\"\".nrrd,\"\"\"+name+\"\"\",1,32, Regular,0.5] -c [1000x500x500x500,1e-8,10] --shrink-factors 8x4x2x1 --smoothing-sigmas 2x1x1x0vox -t Affine[0.1] -m MI[\"\"\"+FixedImg+\"\"\".nrrd,\"\"\"+name+\"\"\",1,32, Regular,0.5] -c [1000x500x500x500,1e-8,10] --shrink-factors 8x4x2x1 --smoothing-sigmas 2x1x1x0vox -t SyN[0.05,6,0.5] -m CC[\"\"\"+FixedImg+\"\"\".nrrd,\"\"\"+name+\"\"\",1,2] -c [1000x500x500x500x500,1e-7,10] --shrink-factors 12x8x4x2x1 --smoothing-sigmas 4x3x2x1x0vox -v 0 \\n\"\"\"\n",
    "\n",
    "\n",
    "\n"
   ]
  }
 ],
 "metadata": {
  "kernelspec": {
   "display_name": "Python 3 (ipykernel)",
   "language": "python",
   "name": "python3"
  },
  "language_info": {
   "codemirror_mode": {
    "name": "ipython",
    "version": 3
   },
   "file_extension": ".py",
   "mimetype": "text/x-python",
   "name": "python",
   "nbconvert_exporter": "python",
   "pygments_lexer": "ipython3",
   "version": "3.8.10"
  }
 },
 "nbformat": 4,
 "nbformat_minor": 2
}
