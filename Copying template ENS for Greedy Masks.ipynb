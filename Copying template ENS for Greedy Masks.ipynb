{
 "cells": [
  {
   "cell_type": "code",
   "execution_count": 4,
   "metadata": {},
   "outputs": [],
   "source": [
    "import os, glob\n",
    "import shutil"
   ]
  },
  {
   "cell_type": "code",
   "execution_count": 14,
   "metadata": {},
   "outputs": [
    {
     "data": {
      "text/plain": [
       "19"
      ]
     },
     "execution_count": 14,
     "metadata": {},
     "output_type": "execute_result"
    }
   ],
   "source": [
    "Template_directory='R:\\\\ENSDEV20-Q3066\\\\Data\\\\GF_Fed2020\\\\20200727\\\\'\n",
    "Template_folders=glob.glob(Template_directory+'*/')\n",
    "len(Template_folders)"
   ]
  },
  {
   "cell_type": "code",
   "execution_count": 29,
   "metadata": {},
   "outputs": [],
   "source": [
    "for folder in Template_folders:\n",
    "    shutil.copy(folder+'/3Dreg/template.tif','D:/temp/'+os.path.basename(os.path.dirname(folder)).split('range')[0]+'template.tif')\n",
    "    if os.stat(folder+'/3Dreg/template.tif').st_size==0:\n",
    "        shutil.copy(folder+'/3Dreg/'+os.path.basename(os.path.dirname(folder))+'_0.tif','D:/temp/'+os.path.basename(os.path.dirname(folder)).split('range')[0]+'template.tif')"
   ]
  },
  {
   "cell_type": "code",
   "execution_count": null,
   "metadata": {},
   "outputs": [],
   "source": []
  }
 ],
 "metadata": {
  "kernelspec": {
   "display_name": "Python 3",
   "language": "python",
   "name": "python3"
  },
  "language_info": {
   "codemirror_mode": {
    "name": "ipython",
    "version": 3
   },
   "file_extension": ".py",
   "mimetype": "text/x-python",
   "name": "python",
   "nbconvert_exporter": "python",
   "pygments_lexer": "ipython3",
   "version": "3.7.9"
  }
 },
 "nbformat": 4,
 "nbformat_minor": 4
}
