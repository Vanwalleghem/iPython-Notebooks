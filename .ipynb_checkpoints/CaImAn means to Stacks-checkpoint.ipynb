{
 "cells": [
  {
   "cell_type": "code",
   "execution_count": null,
   "metadata": {},
   "outputs": [],
   "source": [
    "!pip install scikit-image #Checking if skimage is intalled"
   ]
  },
  {
   "cell_type": "code",
   "execution_count": 1,
   "metadata": {},
   "outputs": [],
   "source": [
    "import os\n",
    "import glob\n",
    "import numpy as np\n",
    "import skimage.external.tifffile as skext"
   ]
  },
  {
   "cell_type": "code",
   "execution_count": 2,
   "metadata": {},
   "outputs": [
    {
     "data": {
      "text/plain": [
       "374"
      ]
     },
     "execution_count": 2,
     "metadata": {},
     "output_type": "execute_result"
    }
   ],
   "source": [
    "#Make the list of _mean.tiff from CaImAn, check the directory\n",
    "\n",
    "fnames_all=[]\n",
    "for file in glob.glob(os.path.join('R:\\ScottLab-Q0291\\ForANTS\\Michael','*_mean.tiff')):\n",
    "    if file.endswith(\".tiff\") and (file.find('Kmean')==-1): #To filter other tiff files that may be in there\n",
    "        fnames_all.append(file)\n",
    "len(fnames_all)"
   ]
  },
  {
   "cell_type": "code",
   "execution_count": 3,
   "metadata": {},
   "outputs": [
    {
     "data": {
      "text/plain": [
       "['20180529_fish5',\n",
       " '20180424_fish6',\n",
       " '20180424_fish1',\n",
       " '201804116',\n",
       " '201804117',\n",
       " '20180528_fish2',\n",
       " '20180529_fish6',\n",
       " '20180529_fish3',\n",
       " '20180424_fish2',\n",
       " '20180424_fish4']"
      ]
     },
     "execution_count": 3,
     "metadata": {},
     "output_type": "execute_result"
    }
   ],
   "source": [
    "#This is where you define you list of fish, I left a few commented example. Adapt it to your naming scheme\n",
    "\n",
    "FishNames=list(set([s.partition(\"Phase_\")[2].partition('_3')[0] for s in fnames_all]))\n",
    "#FishNames=list(set([s.partition(\"GCa\")[2].rpartition('_')[0] for s in fnames_all]))\n",
    "#FishNames=list(set([s.partition(\"2018\")[2].partition('_2Hz')[0]+s.partition(\"media\")[2].partition('_r')[0] for s in fnames_all]))\n",
    "FishNames"
   ]
  },
  {
   "cell_type": "code",
   "execution_count": 28,
   "metadata": {},
   "outputs": [],
   "source": [
    "#This will iterate over every fish and look for all the tiffs that belong to that fish. Then it builds the 3D tiff and saves it.\n",
    "\n",
    "frames=[]\n",
    "for i in range(0,len(FishNames)):    \n",
    "    matches = [s for s in fnames_all if FishNames[i] == str(s.partition(\"Phase_\")[2].partition('_3')[0])] \n",
    "    #Needs to be the same as what you use above to identify the fishnames\n",
    "    dims=np.shape(skext.imread(matches[1]))\n",
    "    max_slice=0\n",
    "    max_slice=[int(member.partition('Slice')[2].partition('_')[0]) for member in matches if int(member.partition('Slice')[2].partition('_')[0]) > max_slice]\n",
    "    max_slice=max(max_slice)\n",
    "    frames=np.zeros((max_slice,dims[0],dims[1]), dtype='uint16')   \n",
    "    #frames=np.zeros((50,dims[0],dims[1]), dtype='uint16')   \n",
    "    for image_name in matches:\n",
    "        #Check the slice naming scheme and remember python indexes from 0, not 1 (hence the -1)\n",
    "        \n",
    "        slice_nb=int(image_name.partition('Slice')[2].partition('_')[0])-1  \n",
    "        #slice_nb=int(image_name.partition('TP_')[2].partition('_')[0])-1  \n",
    "        frame = skext.imread(image_name)\n",
    "        frames[slice_nb,:,:] = frame\n",
    "    skext.imsave('D:/temp/Michael/hs_Michael_'+FishNames[i]+'.tif',frames)"
   ]
  },
  {
   "cell_type": "code",
   "execution_count": null,
   "metadata": {
    "collapsed": true
   },
   "outputs": [],
   "source": []
  }
 ],
 "metadata": {
  "kernelspec": {
   "display_name": "Python 3",
   "language": "python",
   "name": "python3"
  },
  "language_info": {
   "codemirror_mode": {
    "name": "ipython",
    "version": 3
   },
   "file_extension": ".py",
   "mimetype": "text/x-python",
   "name": "python",
   "nbconvert_exporter": "python",
   "pygments_lexer": "ipython3",
   "version": "3.7.9"
  }
 },
 "nbformat": 4,
 "nbformat_minor": 1
}
