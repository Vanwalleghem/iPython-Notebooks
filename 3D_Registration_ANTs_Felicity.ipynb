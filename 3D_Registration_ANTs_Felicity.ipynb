{
 "cells": [
  {
   "cell_type": "code",
   "execution_count": null,
   "metadata": {},
   "outputs": [],
   "source": [
    "from subprocess import call\n",
    "import time\n",
    "import glob\n",
    "import os\n",
    "import sys\n",
    "import tifffile\n",
    "from skimage import io\n",
    "import numpy as np\n",
    "import nibabel as nib\n",
    "import multiprocessing as mp\n",
    "from scipy import signal\n",
    "import gc\n",
    "import time"
   ]
  },
  {
   "cell_type": "code",
   "execution_count": null,
   "metadata": {},
   "outputs": [],
   "source": [
    "def is_file_empty(file_path):\n",
    "    \"\"\" Check if file is empty by confirming if its size is 0 bytes\"\"\"\n",
    "    # Check if file exist and it is empty\n",
    "    return os.path.exists(file_path) and os.stat(file_path).st_size == 0\n",
    "def Register_single_image(Mov_name,template_name):        \n",
    "    output_name = Mov_name.replace('.tif','_LongReg')      \n",
    "    if not os.path.exists(output_name+'.nii') and is_file_empty(output_name+'.nii'):\n",
    "        #job_string = \"antsRegistration -d 3 --float 1 -o [OutImg, OutImg.nii] -n WelchWindowedSinc -w [0.005,0.995] -u 1 -r [FixImg,MovImg, 1] -t rigid[0.1] -m MI[FixImg,MovImg,1,32, Regular,0.25] -c [1000x500x200x50,1e-7,5] -f 8x4x2x1 -s 2x1x1x0vox -t Affine[0.1] -m MI[FixImg,MovImg,1,32, Regular,0.25] -c [1000x500x200x50,1e-7,5] -f 8x4x2x1 -s 2x1x1x0vox -t SyN[0.05,6,0.5] -m CC[FixImg,MovImg,1,2] -c [100x500x200x50,1e-7,5] -f 8x4x2x1 -s 2x2x1x0vox -v 0\"            \n",
    "        job_string = \"antsRegistration -d 2 --float 1 -o [OutImg,OutImg.nii] -n WelchWindowedSinc -w [0.05,0.95]  -u 0 - r [FixImg,MovImg] -t Rigid[0.1] -m MI[FixImg,MovImg,1,32,Regular,0.25] -c 500x200x100x50 -f 8x4x2x1 -s 3x2x1x0 -t Affine[0.1] -m MI[FixImg,MovImg,1,32,Regular,0.25] -c 500x200x100x50 -f 8x4x2x1 -s 3x2x1x0 -t SyN[0.1] -m CC[FixImg,MovImg,1,2] -c 100x50x20x10 -f 8x4x2x1 -s 3x2x1x0 -v 1\"        \n",
    "        job_string = job_string.replace('OutImg',output_name).replace('FixImg',template_name).replace('MovImg',Mov_name)\n",
    "        call([job_string],shell=True)  \n",
    "def Register_single_image_forced(Mov_name,template_name):        \n",
    "    output_name = Mov_name.replace('.tif','_LongReg') \n",
    "    job_string = \"antsRegistration -d 2 --float 1 -o [OutImg,OutImg.nii] -n WelchWindowedSinc -w [0.05,0.95]  -u 0 - r [FixImg,MovImg] -t Rigid[0.1] -m MI[FixImg,MovImg,1,32,Regular,0.25] -c 500x200x100x50 -f 8x4x2x1 -s 3x2x1x0 -t Affine[0.1] -m MI[FixImg,MovImg,1,32,Regular,0.25] -c 500x200x100x50 -f 8x4x2x1 -s 3x2x1x0 -t SyN[0.1] -m CC[FixImg,MovImg,1,2] -c 100x50x20x10 -f 8x4x2x1 -s 3x2x1x0 -v 1\"        \n",
    "    job_string = job_string.replace('OutImg',output_name).replace('FixImg',template_name).replace('MovImg',Mov_name)\n",
    "    call([job_string],shell=True)  "
   ]
  },
  {
   "cell_type": "code",
   "execution_count": null,
   "metadata": {},
   "outputs": [],
   "source": [
    "N = int((mp.cpu_count()/4)-2)\n",
    "tif_file_folder=('/mnt/e/Gilles/Felicity/F16/')\n",
    "os.chdir(os.path.dirname(tif_file_folder))\n",
    "\n",
    "img_seq_list=glob.glob(tif_file_folder+'/C2*.tif')\n",
    "template_name='/mnt/e/Gilles/Felicity/AVG_C2-MAX_F16_Pulse.tif'\n",
    "img_seq_list.sort()\n",
    "print(img_seq_list[0]+' '+img_seq_list[273])"
   ]
  },
  {
   "cell_type": "code",
   "execution_count": null,
   "metadata": {},
   "outputs": [],
   "source": [
    "p=mp.Pool(processes = N)\n",
    "result=[p.apply_async(Register_single_image_forced, (img_name,template_name)) for img_name in img_seq_list[0:273]]\n",
    "for ind_result in result:\n",
    "    ind_result.get()    "
   ]
  },
  {
   "cell_type": "code",
   "execution_count": null,
   "metadata": {},
   "outputs": [],
   "source": [
    "MC_img_list"
   ]
  },
  {
   "cell_type": "code",
   "execution_count": null,
   "metadata": {},
   "outputs": [],
   "source": [
    "MC_img_list=glob.glob(tif_file_folder+'/C2*_LongReg.nii')\n",
    "C1_name=MC_img_list[0]\n",
    "base_img=nib.load(C1_name)\n",
    "base_img=np.squeeze(np.asarray(base_img.get_fdata(),dtype='float32')).transpose()\n",
    "C2frames=np.zeros((len(MC_img_list),base_img.shape[1],base_img.shape[0]), dtype='float32')\n",
    "for img_nb,C2_name in enumerate(MC_img_list):    \n",
    "    img_nb=int(C2_name.split('_F16')[1].split('_LongReg.nii')[0])\n",
    "    img_temp=nib.load(C2_name)\n",
    "    img_temp=img_temp.get_fdata()    \n",
    "    img_temp=np.squeeze(np.asarray(img_temp,dtype='float32')).transpose()\n",
    "    C2frames[img_nb,:,:]=img_temp\n",
    "tifffile.imsave(C2_name.replace('.nii','_3D.tif'),C2frames)"
   ]
  },
  {
   "cell_type": "code",
   "execution_count": null,
   "metadata": {},
   "outputs": [],
   "source": [
    "def MakeListAndHyperstack(tif_file_folder):\n",
    "    tif_list=glob.glob(tif_file_folder+'/*.tif')\n",
    "    tif_list.sort()\n",
    "    if not (os.path.exists(tif_file_folder+'/3Dreg/template.tif') and not is_file_empty(tif_file_folder+'/3Dreg/'+tif_file_folder.split('/')[-2]+'_0.tif')):\n",
    "        temp=[]\n",
    "        for idx_nb,file in enumerate(tif_list):\n",
    "            if idx_nb==0:\n",
    "                temp=io.imread(file,plugin='pil')\n",
    "            else:\n",
    "                temp=np.concatenate((temp,io.imread(file,plugin='pil')),axis=0)\n",
    "            \n",
    "        file_name=tif_file_folder.split('/')[-1]\n",
    "        range2=int(file_name.split('range')[-1].split('_')[0])\n",
    "        step=int(file_name.split('step')[-1].split('_')[0])\n",
    "        TrueSlices=(range2/step)+1;\n",
    "        dims=temp.shape\n",
    "        temp=np.reshape(temp,[dims[0]/TrueSlices,TrueSlices,dims[1],dims[2]])\n",
    "\n",
    "        #Computing the difference between points from frame to frame should give the point with least changes\n",
    "        #std_movie=temp[:,0:200].std(axis=(2,3))\n",
    "        number_of_frames_to_check=50\n",
    "        std_movie=np.diff(temp[0:number_of_frames_to_check].reshape([number_of_frames_to_check,temp.shape[1],temp.shape[2]*temp.shape[3]]),axis=-1)\n",
    "        idx_template=np.argmin(std_movie,axis=0)\n",
    "        #ignores the 0s and compute the mean index of the lowest changes\n",
    "        idx_template=int(idx_template[idx_template>0].ravel().mean())\n",
    "\n",
    "        #tmp_idx=np.argmin(signal.detrend(std_movie))\n",
    "        #mean image of the 3 points surrounding the minimum movement\n",
    "        template=temp[idx_template-1:idx_template+2].mean(axis=0)\n",
    "        directory = os.getcwd()\n",
    "        try:\n",
    "            new_dir=tif_file_folder+'/3Dreg'\n",
    "            os.mkdir(new_dir)\n",
    "        except:\n",
    "            print('directory exists')\n",
    "            \n",
    "        os.chdir(new_dir)\n",
    "        template_name=new_dir+'/template.tif'\n",
    "        tifffile.imsave(template_name,template.astype(np.uint16))\n",
    "        img_seq_list=list()\n",
    "         \n",
    "        for img_nb in range(0,temp.shape[0]):\n",
    "            img_name=new_dir+'/'+tif_file_folder.split('/')[-1]+'_'+str(img_nb)+'.tif'\n",
    "            tifffile.imsave(img_name,temp[img_nb].astype(np.uint16))\n",
    "            img_seq_list.append(img_name)\n",
    "        del temp,std_movie\n",
    "        gc.collect()\n",
    "    return(tif_list)"
   ]
  },
  {
   "cell_type": "code",
   "execution_count": null,
   "metadata": {},
   "outputs": [],
   "source": [
    "Fish_files_folder='/mnt/f/ENSDEV20-Q3066/Data/GF_Fed2020/20200730'\n",
    "os.chdir(os.path.dirname(Fish_files_folder))\n",
    "N = int((mp.cpu_count()/4)-2)\n",
    "Fish_list=glob.glob(Fish_files_folder+'/*/')\n",
    "Fish_list.sort()\n",
    "for i,tif_file_folder in enumerate(Fish_list):    \n",
    "    print(tif_file_folder)\n",
    "    img_seq_list=glob.glob(tif_file_folder+'/3Dreg/*.tif')\n",
    "    template_name=tif_file_folder+'/3Dreg/template.tif'\n",
    "    p=mp.Pool(processes = N)\n",
    "    result=[p.apply_async(Register_single_image, (img_name,template_name)) for img_name in img_seq_list]\n",
    "    for ind_result in result:\n",
    "        ind_result.get()    "
   ]
  },
  {
   "cell_type": "code",
   "execution_count": null,
   "metadata": {},
   "outputs": [],
   "source": [
    "Fish_files_folder='/mnt/f/ENSDEV20-Q3066/Data/GF_Fed2020/20200731'\n",
    "os.chdir(os.path.dirname(Fish_files_folder))\n",
    "N = int((mp.cpu_count()/4)-2)\n",
    "Fish_list=glob.glob(Fish_files_folder+'/*/')\n",
    "Fish_list.sort()\n",
    "for i,tif_file_folder in enumerate(Fish_list):    \n",
    "    print(tif_file_folder)\n",
    "    img_seq_list=glob.glob(tif_file_folder+'/3Dreg/*.tif')\n",
    "    template_name=tif_file_folder+'/3Dreg/template.tif'\n",
    "    p=mp.Pool(processes = N)\n",
    "    result=[p.apply_async(Register_single_image, (img_name,template_name)) for img_name in img_seq_list]\n",
    "    for ind_result in result:\n",
    "        ind_result.get()    "
   ]
  },
  {
   "cell_type": "code",
   "execution_count": null,
   "metadata": {},
   "outputs": [],
   "source": [
    "Fish_files_folder='/mnt/f/ENSDEV20-Q3066/Data/GF_Fed2020/20200727'\n",
    "os.chdir(os.path.dirname(Fish_files_folder))\n",
    "N = int((mp.cpu_count()/4)-2)\n",
    "Fish_list=glob.glob(Fish_files_folder+'/*/')\n",
    "Fish_list.sort()\n",
    "for i,tif_file_folder in enumerate(Fish_list):    \n",
    "    try:\n",
    "        tif_list=MakeListAndHyperstack(tif_file_folder)\n",
    "        img_seq_list=glob.glob(tif_file_folder+'/3Dreg/*.tif')\n",
    "        template_name=tif_file_folder+'/3Dreg/template.tif'\n",
    "        p=mp.Pool(processes = N)\n",
    "        result=[p.apply_async(Register_single_image, (img_name,template_name)) for img_name in img_seq_list]\n",
    "        for ind_result in result:\n",
    "            ind_result.get()\n",
    "    except:\n",
    "        print(tif_file_folder + ' failed')"
   ]
  },
  {
   "cell_type": "code",
   "execution_count": null,
   "metadata": {},
   "outputs": [],
   "source": [
    "Fish_files_folder='/mnt/f/ENSDEV20-Q3066/Data/GF_Fed2020/20200728'\n",
    "os.chdir(os.path.dirname(Fish_files_folder))\n",
    "N = int((mp.cpu_count()/4)-2)\n",
    "Fish_list=glob.glob(Fish_files_folder+'/*/')\n",
    "Fish_list.sort()\n",
    "for i,tif_file_folder in enumerate(Fish_list):    \n",
    "    try:\n",
    "        tif_list=MakeListAndHyperstack(tif_file_folder)\n",
    "        img_seq_list=glob.glob(tif_file_folder+'/3Dreg/*.tif')\n",
    "        template_name=tif_file_folder+'/3Dreg/template.tif'\n",
    "        p=mp.Pool(processes = N)\n",
    "        result=[p.apply_async(Register_single_image, (img_name,template_name)) for img_name in img_seq_list]\n",
    "        for ind_result in result:\n",
    "            ind_result.get()\n",
    "    except:\n",
    "        print(tif_file_folder + ' failed')"
   ]
  },
  {
   "cell_type": "code",
   "execution_count": null,
   "metadata": {},
   "outputs": [],
   "source": [
    "Fish_files_folder='/mnt/f/ENSDEV20-Q3066/Data/GF_Fed2020/20200729'\n",
    "os.chdir(os.path.dirname(Fish_files_folder))\n",
    "N = int((mp.cpu_count()/4)-2)\n",
    "Fish_list=glob.glob(Fish_files_folder+'/*/')\n",
    "Fish_list.sort()\n",
    "for i,tif_file_folder in enumerate(Fish_list):    \n",
    "    try:\n",
    "        tif_list=MakeListAndHyperstack(tif_file_folder)\n",
    "        img_seq_list=glob.glob(tif_file_folder+'/3Dreg/*.tif')\n",
    "        template_name=tif_file_folder+'/3Dreg/template.tif'\n",
    "        p=mp.Pool(processes = N)\n",
    "        result=[p.apply_async(Register_single_image, (img_name,template_name)) for img_name in img_seq_list]\n",
    "        for ind_result in result:\n",
    "            ind_result.get()\n",
    "    except:\n",
    "        print(tif_file_folder + ' failed')"
   ]
  },
  {
   "cell_type": "code",
   "execution_count": null,
   "metadata": {},
   "outputs": [],
   "source": [
    "Fish_files_folder='/mnt/f/ENSDEV20-Q3066/Data/GF_Fed2020/20200730'\n",
    "os.chdir(os.path.dirname(Fish_files_folder))\n",
    "N = int((mp.cpu_count()/4)-2)\n",
    "Fish_list=glob.glob(Fish_files_folder+'/*/')\n",
    "Fish_list.sort()\n",
    "for i,tif_file_folder in enumerate(Fish_list):    \n",
    "    try:\n",
    "        tif_list=MakeListAndHyperstack(tif_file_folder)\n",
    "        img_seq_list=glob.glob(tif_file_folder+'/3Dreg/*.tif')\n",
    "        template_name=tif_file_folder+'/3Dreg/template.tif'\n",
    "        p=mp.Pool(processes = N)\n",
    "        result=[p.apply_async(Register_single_image, (img_name,template_name)) for img_name in img_seq_list]\n",
    "        for ind_result in result:\n",
    "            ind_result.get()\n",
    "    except:\n",
    "        print(tif_file_folder + ' failed')"
   ]
  },
  {
   "cell_type": "code",
   "execution_count": null,
   "metadata": {},
   "outputs": [],
   "source": [
    "Fish_files_folder='/mnt/f/ENSDEV20-Q3066/Data/GF_Fed2020/20200731'\n",
    "os.chdir(os.path.dirname(Fish_files_folder))\n",
    "N = int((mp.cpu_count()/4)-2)\n",
    "Fish_list=glob.glob(Fish_files_folder+'/*/')\n",
    "Fish_list.sort()\n",
    "for i,tif_file_folder in enumerate(Fish_list):    \n",
    "    try:\n",
    "        tif_list=MakeListAndHyperstack(tif_file_folder)\n",
    "        img_seq_list=glob.glob(tif_file_folder+'/3Dreg/*.tif')\n",
    "        template_name=tif_file_folder+'/3Dreg/template.tif'\n",
    "        p=mp.Pool(processes = N)\n",
    "        result=[p.apply_async(Register_single_image, (img_name,template_name)) for img_name in img_seq_list]\n",
    "        for ind_result in result:\n",
    "            ind_result.get()\n",
    "    except:\n",
    "        print(tif_file_folder + ' failed')"
   ]
  },
  {
   "cell_type": "code",
   "execution_count": null,
   "metadata": {},
   "outputs": [],
   "source": [
    "Fish_files_folder='/mnt/f/ENSDEV20-Q3066/Data/GF_Fed2020/20200727'\n",
    "os.chdir(os.path.dirname(Fish_files_folder))\n",
    "Fish_list=glob.glob(Fish_files_folder+'/*/')\n",
    "Fish_list.sort()\n",
    "tif_file_folder=Fish_list[0]\n",
    "MC_img_list=glob.glob(tif_file_folder+'/3Dreg/*.nii')\n",
    "len(MC_img_list)"
   ]
  },
  {
   "cell_type": "code",
   "execution_count": null,
   "metadata": {},
   "outputs": [],
   "source": [
    "sizes=np.zeros(len(MC_img_list))\n",
    "for i,img_name in enumerate(MC_img_list):\n",
    "    sizes[i]=os.stat(img_name).st_size\n",
    "sum(sizes<sizes.max())"
   ]
  },
  {
   "cell_type": "code",
   "execution_count": null,
   "metadata": {},
   "outputs": [],
   "source": [
    "sizes.max()"
   ]
  },
  {
   "cell_type": "code",
   "execution_count": null,
   "metadata": {},
   "outputs": [],
   "source": [
    "np.where(sizes<34560352)[0].astype('int')"
   ]
  },
  {
   "cell_type": "code",
   "execution_count": null,
   "metadata": {},
   "outputs": [],
   "source": [
    "temp=[MC_img_list[j].replace('_LongReg.nii','.tif') for j in np.where(sizes<34560352)[0].astype(int)]\n",
    "temp"
   ]
  },
  {
   "cell_type": "code",
   "execution_count": null,
   "metadata": {},
   "outputs": [],
   "source": [
    "temp"
   ]
  },
  {
   "cell_type": "code",
   "execution_count": null,
   "metadata": {},
   "outputs": [],
   "source": [
    "template_name=tif_file_folder+'/3Dreg/template.tif'\n",
    "N = int((mp.cpu_count()/4)-2)\n",
    "p=mp.Pool(processes = N)\n",
    "result=[p.apply(Register_single_image_forced, (img_name,template_name)) for img_name in temp]\n",
    "for ind_result in result:\n",
    "    ind_result.get()"
   ]
  },
  {
   "cell_type": "code",
   "execution_count": null,
   "metadata": {},
   "outputs": [],
   "source": [
    "for img_name in temp:\n",
    "    Register_single_image_forced(img_name,template_name)"
   ]
  },
  {
   "cell_type": "code",
   "execution_count": null,
   "metadata": {},
   "outputs": [],
   "source": [
    "name=MC_img_list[0]    \n",
    "base_img=nib.load(name)\n",
    "base_img=np.squeeze(np.asarray(base_img.get_fdata(),dtype='float32'))\n",
    "base_img.shape"
   ]
  },
  {
   "cell_type": "code",
   "execution_count": null,
   "metadata": {},
   "outputs": [],
   "source": [
    "start=time.time()\n",
    "time.sleep(10)\n",
    "time.time()-start"
   ]
  },
  {
   "cell_type": "code",
   "execution_count": null,
   "metadata": {},
   "outputs": [],
   "source": [
    "os.path.exists(C1_name)"
   ]
  },
  {
   "cell_type": "code",
   "execution_count": null,
   "metadata": {},
   "outputs": [],
   "source": [
    "frames=np.zeros((len(MC_img_list)*base_img.shape[2],base_img.shape[1],base_img.shape[0]), dtype='uint16')\n",
    "for img_nb,C1_name in enumerate(MC_img_list):\n",
    "    print(img_nb)\n",
    "    img_nb=int(C1_name.split('power60_')[1].split('_Long')[0])\n",
    "    img_temp=[]\n",
    "    start=time.time()\n",
    "    while not img_temp:\n",
    "        try:\n",
    "            img_temp=nib.load(C1_name)\n",
    "        except nib.filebasedimages.ImageFileError:\n",
    "            if time.time() - start > 3600:\n",
    "                print(\"Time out while accessing :\" + os.path.basename(C1_name))\n",
    "                pass\n",
    "            else:\n",
    "                time.sleep(30)\n",
    "        except:\n",
    "            print(\"Unexpected error: \" + os.path.basename(C1_name))\n",
    "            raise\n",
    "    img_temp=img_temp.get_fdata()    \n",
    "    img_temp=np.squeeze(np.asarray(img_temp,dtype='uint16'))\n",
    "    frames[base_img.shape[2]*(img_nb):base_img.shape[2]+base_img.shape[2]*(img_nb),:,:]=np.transpose(img_temp,(2,1,0))\n",
    "tifffile.imsave(name.replace('.nii','_3D.tif'),frames)"
   ]
  },
  {
   "cell_type": "code",
   "execution_count": null,
   "metadata": {},
   "outputs": [],
   "source": [
    "frames.shape"
   ]
  },
  {
   "cell_type": "code",
   "execution_count": null,
   "metadata": {},
   "outputs": [],
   "source": [
    "tif_file_folder='D:/Gilles_HS_ENS/3Dreg'\n",
    "list_img = glob.glob(tif_file_folder+'/*Reg.nii')    \n",
    "list_img.sort()\n",
    "name=list_img[0]    \n",
    "base_img=nib.load(name)\n",
    "base_img=np.squeeze(np.asarray(base_img.get_fdata(),dtype='float32'))"
   ]
  },
  {
   "cell_type": "code",
   "execution_count": null,
   "metadata": {},
   "outputs": [],
   "source": [
    "frames=np.zeros((len(list_img)*21,base_img.shape[1],base_img.shape[0]), dtype='uint16')\n",
    "for img_nb,C1_name in enumerate(list_img):    \n",
    "    img_temp=nib.load(C1_name)\n",
    "    img_temp=img_temp.get_fdata()    \n",
    "    img_temp=np.squeeze(np.asarray(img_temp,dtype='uint16'))\n",
    "    frames[21*(img_nb):21+21*(img_nb),:,:]=np.transpose(img_temp,(2,1,0))\n",
    "tifffile.imsave(name.replace('.nii','_3D.tif'),frames)"
   ]
  },
  {
   "cell_type": "code",
   "execution_count": null,
   "metadata": {},
   "outputs": [],
   "source": [
    "tif_file_folder='D:/Gilles_HS_ENS/3Dreg'\n",
    "list_img = glob.glob(tif_file_folder+'/*.tif')    \n",
    "list_img.sort()\n",
    "list_img"
   ]
  },
  {
   "cell_type": "code",
   "execution_count": null,
   "metadata": {},
   "outputs": [],
   "source": [
    "name=list_img[0]    \n",
    "base_img=tifffile.imread(name)\n",
    "base_img=np.squeeze(np.asarray(base_img,dtype='uint16'))"
   ]
  },
  {
   "cell_type": "code",
   "execution_count": null,
   "metadata": {},
   "outputs": [],
   "source": [
    "name"
   ]
  },
  {
   "cell_type": "code",
   "execution_count": null,
   "metadata": {},
   "outputs": [],
   "source": [
    "frames=np.zeros((len(list_img)*25,base_img.shape[1],base_img.shape[-1]), dtype='uint16')\n",
    "for img_nb,C1_name in enumerate(list_img):    \n",
    "    img_temp=tifffile.imread(C1_name)         \n",
    "    frames[25*(img_nb):25+25*(img_nb),:,:]=img_temp\n",
    "tifffile.imsave(name.replace('_0.tif','_3D.tif'),frames)"
   ]
  },
  {
   "cell_type": "code",
   "execution_count": null,
   "metadata": {},
   "outputs": [],
   "source": [
    "img_temp.shape"
   ]
  },
  {
   "cell_type": "code",
   "execution_count": null,
   "metadata": {},
   "outputs": [],
   "source": [
    "frames.shape"
   ]
  },
  {
   "cell_type": "code",
   "execution_count": null,
   "metadata": {},
   "outputs": [],
   "source": [
    "base_img.shape"
   ]
  },
  {
   "cell_type": "code",
   "execution_count": null,
   "metadata": {},
   "outputs": [],
   "source": [
    "def is_file_empty(file_path):\n",
    "    \"\"\" Check if file is empty by confirming if its size is 0 bytes\"\"\"\n",
    "    # Check if file exist and it is empty\n",
    "    return os.path.exists(file_path) and os.stat(file_path).st_size == 0\n",
    "def Register_single_image(Mov_name,template_name):        \n",
    "    output_name = Mov_name.replace('.nii','_LongReg')      \n",
    "    if not os.path.exists(output_name+'.nii') and is_file_empty(output_name+'.nii'):\n",
    "        #job_string = \"antsRegistration -d 3 --float 1 -o [OutImg, OutImg.nii] -n WelchWindowedSinc -w [0.005,0.995] -u 1 -r [FixImg,MovImg, 1] -t rigid[0.1] -m MI[FixImg,MovImg,1,32, Regular,0.25] -c [1000x500x200x50,1e-7,5] -f 8x4x2x1 -s 2x1x1x0vox -t Affine[0.1] -m MI[FixImg,MovImg,1,32, Regular,0.25] -c [1000x500x200x50,1e-7,5] -f 8x4x2x1 -s 2x1x1x0vox -t SyN[0.05,6,0.5] -m CC[FixImg,MovImg,1,2] -c [100x500x200x50,1e-7,5] -f 8x4x2x1 -s 2x2x1x0vox -v 0\"            \n",
    "        job_string = \"antsRegistration -d 3 --float 1 -o [OutImg,OutImg.nii] -n WelchWindowedSinc -w [0.05,0.95]  -u 0 - r [FixImg,MovImg] -t Rigid[0.1] -m MI[FixImg,MovImg,1,32,Regular,0.25] -c 500x200x100x50 -f 8x4x2x1 -s 3x2x1x0 -t Affine[0.1] -m MI[FixImg,MovImg,1,32,Regular,0.25] -c 500x200x100x50 -f 8x4x2x1 -s 3x2x1x0 -t SyN[0.1] -m CC[FixImg,MovImg,1,2] -c 100x50x20x10 -f 8x4x2x1 -s 3x2x1x0 -v 1\"        \n",
    "        job_string = job_string.replace('OutImg',output_name).replace('FixImg',template_name).replace('MovImg',Mov_name)\n",
    "        call([job_string],shell=True)  \n",
    "def Register_single_image_forced(Mov_name,template_name):        \n",
    "    output_name = Mov_name.replace('.nii','_LongReg') \n",
    "    job_string = \"antsRegistration -d 3 --float 1 -o [OutImg,OutImg.nii] -n WelchWindowedSinc -w [0.05,0.95]  -u 0 - r [FixImg,MovImg] -t Rigid[0.1] -m MI[FixImg,MovImg,1,32,Regular,0.25] -c 500x200x100x50 -f 8x4x2x1 -s 3x2x1x0 -t Affine[0.1] -m MI[FixImg,MovImg,1,32,Regular,0.25] -c 500x200x100x50 -f 8x4x2x1 -s 3x2x1x0 -t SyN[0.1] -m CC[FixImg,MovImg,1,2] -c 100x50x20x10 -f 8x4x2x1 -s 3x2x1x0 -v 1\"        \n",
    "    job_string = job_string.replace('OutImg',output_name).replace('FixImg',template_name).replace('MovImg',Mov_name)\n",
    "    call([job_string],shell=True)  "
   ]
  },
  {
   "cell_type": "code",
   "execution_count": null,
   "metadata": {},
   "outputs": [],
   "source": [
    "N = int((mp.cpu_count()/4)-2)\n",
    "tif_file_folder=('/mnt/d/Gilles_GF/20211015_F16_Piece_2_r2/3D_test/')\n",
    "os.chdir(os.path.dirname(tif_file_folder))\n",
    "\n",
    "img_seq_list=glob.glob(tif_file_folder+'/C2*.nii')\n",
    "template_name='/mnt/d/Gilles_GF/20211015_F16_Piece_2_r2/3D_test/template.nii'\n",
    "img_seq_list.sort()\n",
    "print(img_seq_list[0])"
   ]
  },
  {
   "cell_type": "code",
   "execution_count": null,
   "metadata": {},
   "outputs": [],
   "source": [
    "p=mp.Pool(processes = N)\n",
    "result=[p.apply_async(Register_single_image_forced, (img_name,template_name)) for img_name in img_seq_list[0:273]]\n",
    "for ind_result in result:\n",
    "    ind_result.get()    "
   ]
  },
  {
   "cell_type": "code",
   "execution_count": null,
   "metadata": {},
   "outputs": [],
   "source": [
    "MC_img_list=glob.glob(tif_file_folder+'/C2*_LongReg.nii')\n",
    "MC_img_list.sort()\n",
    "MC_img_list"
   ]
  },
  {
   "cell_type": "code",
   "execution_count": null,
   "metadata": {},
   "outputs": [],
   "source": [
    "MC_img_list=glob.glob(tif_file_folder+'/C2*_LongReg.nii')\n",
    "C1_name=MC_img_list[0]\n",
    "base_img=nib.load(C1_name)\n",
    "base_img=np.squeeze(np.asarray(base_img.get_fdata(),dtype='float32')).transpose()\n",
    "C2frames=np.zeros((len(MC_img_list),5,base_img.shape[1],base_img.shape[2]), dtype='float32')\n",
    "for img_nb,C2_name in enumerate(MC_img_list):        \n",
    "    img_temp=nib.load(C2_name)\n",
    "    img_temp=img_temp.get_fdata()    \n",
    "    img_temp=np.squeeze(np.asarray(img_temp,dtype='float32')).transpose()\n",
    "    C2frames[img_nb,:,:,:]=img_temp    \n",
    "tifffile.imsave(C2_name.replace('.nii','_3D.tif'),C2frames)\n"
   ]
  },
  {
   "cell_type": "code",
   "execution_count": null,
   "metadata": {},
   "outputs": [],
   "source": [
    "base_img.shape"
   ]
  },
  {
   "cell_type": "code",
   "execution_count": null,
   "metadata": {},
   "outputs": [],
   "source": [
    "len(MC_img_list)"
   ]
  },
  {
   "cell_type": "code",
   "execution_count": null,
   "metadata": {},
   "outputs": [],
   "source": [
    "def is_file_empty(file_path):\n",
    "    \"\"\" Check if file is empty by confirming if its size is 0 bytes\"\"\"\n",
    "    # Check if file exist and it is empty\n",
    "    return os.path.exists(file_path) and os.stat(file_path).st_size == 0\n",
    "def Register_single_image_3D(Mov_name,template_name):        \n",
    "    output_name = Mov_name.replace('.nii','_Greedy')\n",
    "    Affine_name = Mov_name.replace('.nii','_Greedy_affine.mat')\n",
    "    #if not os.path.exists(output_name+'_Greedy_affine.mat') and is_file_empty(output_name+'.nii'):            \n",
    "    job_string = \"greedy -d 3 -a -float -o Affine_name -i FixImg MovImg -n 200x80x40 -ia-identity -V 0\"\n",
    "    job_string = job_string.replace('Affine_name',Affine_name).replace('OutImg',output_name).replace('FixImg',template_name).replace('MovImg',Mov_name)\n",
    "    call([job_string],shell=True)  \n",
    "    print(job_string)\n",
    "    job_string = \"greedy -d 3 -float -o OutImg.nii -i FixImg MovImg -it Affine_name -n 200x80x40 -e 1 -V 0\"\n",
    "    job_string = job_string.replace('Affine_name',Affine_name).replace('OutImg',output_name).replace('FixImg',template_name).replace('MovImg',Mov_name)\n",
    "    call([job_string],shell=True)  \n",
    "    job_string = \"greedy -d 3 -rf FixImg -rm MovImg MovImg_Warped.nii -r OutImg.nii Affine_name\"\n",
    "    job_string = job_string.replace('Affine_name',Affine_name).replace('OutImg',output_name).replace('FixImg',template_name).replace('MovImg',Mov_name)\n",
    "    call([job_string],shell=True)\n",
    "    \n",
    "    \n",
    "def Morph_C1_3D(Mov_name,template_name):\n",
    "    output_name = Mov_name.replace('.nii','_Greedy')\n",
    "    Affine_name = Mov_name.replace('.nii','_Greedy_affine.mat')\n",
    "    Mov_name2 = Mov_name.replace('C2','C1')\n",
    "    output_name2 = output_name.replace('C2','C1')\n",
    "    job_string = \"greedy -d 3 -rf FixImg -rm MovImg2 MovImg2_Warped.nii -r OutImg.nii Affine_name\"\n",
    "    job_string = job_string.replace('Affine_name',Affine_name).replace('OutImg',output_name).replace('FixImg',template_name).replace('MovImg2',Mov_name2)\n",
    "    call([job_string],shell=True)\n",
    "    \n",
    "def Register_single_imageb_3D(Mov_name,template_name):        \n",
    "    output_name = Mov_name.replace('.nii','_Greedy')\n",
    "    Affine_name = Mov_name.replace('.nii','_Greedy_affine2.mat')\n",
    "    #if not os.path.exists(output_name+'_Greedy_affine.mat') and is_file_empty(output_name+'.nii'):            \n",
    "    job_string = \"greedy -d 3 -a -float -o Affine_name -i FixImg MovImg -n 100x40x20 -e 0.25 -ia-image-centers -m NCC 3x3x1 -V 0\"\n",
    "    job_string = job_string.replace('Affine_name',Affine_name).replace('OutImg',output_name).replace('FixImg',template_name).replace('MovImg',Mov_name)\n",
    "    call([job_string],shell=True)  \n",
    "    print(job_string)\n",
    "    job_string = \"greedy -d 3 -float -o OutImg.nii -i FixImg MovImg -it Affine_name\"# -n 100x50x20 -e 0.25\"# -m NCC 3x3x1 -V 0\"\n",
    "    job_string = job_string.replace('Affine_name',Affine_name).replace('OutImg',output_name).replace('FixImg',template_name).replace('MovImg',Mov_name)\n",
    "    call([job_string],shell=True)  \n",
    "    job_string = \"greedy -d 3 -rf FixImg -rm MovImg MovImg_Warped2.nii -r OutImg.nii Affine_name\"\n",
    "    job_string = job_string.replace('Affine_name',Affine_name).replace('OutImg',output_name).replace('FixImg',template_name).replace('MovImg',Mov_name)\n",
    "    call([job_string],shell=True)\n",
    "    Mov_name2 = Mov_name.replace('C2','C1')\n",
    "    output_name2 = output_name.replace('C2','C1')\n",
    "    job_string = \"greedy -d 3 -rf FixImg -rm MovImg2 MovImg2_Warped2.nii -r OutImg.nii Affine_name\"\n",
    "    job_string = job_string.replace('Affine_name',Affine_name).replace('OutImg',output_name).replace('FixImg',template_name).replace('MovImg2',Mov_name2)\n",
    "    call([job_string],shell=True)"
   ]
  },
  {
   "cell_type": "code",
   "execution_count": null,
   "metadata": {},
   "outputs": [],
   "source": [
    "img_seq_list=glob.glob('/mnt/d/Gilles_GF/20211015_F16_Piece_2_r2/3D_test/C2'+'*.nii')\n",
    "template_name='/mnt/d/Gilles_GF/20211015_F16_Piece_2_r2/3D_test/template.nii'\n",
    "for img_name in img_seq_list:\n",
    "    Register_single_imageb_3D(img_name,template_name)   "
   ]
  },
  {
   "cell_type": "code",
   "execution_count": null,
   "metadata": {},
   "outputs": [],
   "source": []
  }
 ],
 "metadata": {
  "kernelspec": {
   "display_name": "Python 3 (ipykernel)",
   "language": "python",
   "name": "python3"
  },
  "language_info": {
   "codemirror_mode": {
    "name": "ipython",
    "version": 3
   },
   "file_extension": ".py",
   "mimetype": "text/x-python",
   "name": "python",
   "nbconvert_exporter": "python",
   "pygments_lexer": "ipython3",
   "version": "3.8.10"
  }
 },
 "nbformat": 4,
 "nbformat_minor": 2
}
