{
 "cells": [
  {
   "cell_type": "code",
   "execution_count": 1,
   "metadata": {},
   "outputs": [],
   "source": [
    "import subprocess \n",
    "import time\n",
    "import glob\n",
    "import os\n",
    "import sys\n",
    "import tifffile\n",
    "from skimage import io\n",
    "import numpy as np\n",
    "import nibabel as nib\n",
    "import multiprocessing as mp\n",
    "from scipy import signal"
   ]
  },
  {
   "cell_type": "code",
   "execution_count": 4,
   "metadata": {},
   "outputs": [
    {
     "data": {
      "text/plain": [
       "['/mnt/c/Temp/RebANTs/201810222.nrrd',\n",
       " '/mnt/c/Temp/RebANTs/201810223.nrrd',\n",
       " '/mnt/c/Temp/RebANTs/201810224.nrrd',\n",
       " '/mnt/c/Temp/RebANTs/201810231.nrrd',\n",
       " '/mnt/c/Temp/RebANTs/201810233.nrrd',\n",
       " '/mnt/c/Temp/RebANTs/201810234.nrrd',\n",
       " '/mnt/c/Temp/RebANTs/201810292.nrrd',\n",
       " '/mnt/c/Temp/RebANTs/201810297.nrrd',\n",
       " '/mnt/c/Temp/RebANTs/201810302.nrrd',\n",
       " '/mnt/c/Temp/RebANTs/201811054.nrrd',\n",
       " '/mnt/c/Temp/RebANTs/201811055.nrrd',\n",
       " '/mnt/c/Temp/RebANTs/201811056.nrrd',\n",
       " '/mnt/c/Temp/RebANTs/201811061.nrrd',\n",
       " '/mnt/c/Temp/RebANTs/201811062.nrrd',\n",
       " '/mnt/c/Temp/RebANTs/201811064.nrrd',\n",
       " '/mnt/c/Temp/RebANTs/201811124.nrrd',\n",
       " '/mnt/c/Temp/RebANTs/201811127.nrrd',\n",
       " '/mnt/c/Temp/RebANTs/201811195.nrrd']"
      ]
     },
     "execution_count": 4,
     "metadata": {},
     "output_type": "execute_result"
    }
   ],
   "source": [
    "tif_file_folder='/mnt/c/Temp/RebANTs/'\n",
    "os.chdir(os.path.dirname(tif_file_folder))\n",
    "N = int((mp.cpu_count()/4)-1)\n",
    "tif_list=glob.glob(tif_file_folder+'/*.nrrd')\n",
    "del(tif_list[-1])\n",
    "tif_list"
   ]
  },
  {
   "cell_type": "code",
   "execution_count": null,
   "metadata": {},
   "outputs": [],
   "source": [
    "def Register_single_image(Mov_name,template_name):        \n",
    "#def Register_single_image(Mov_name):        \n",
    "    #template_name=os.path.dirname(img_seq_list[0])+'/template.tif'\n",
    "    output_name = Mov_name.replace('.nrrd','_LongReg')      \n",
    "    if not os.path.isfile(output_name+'.nii'):\n",
    "        job_string = \"antsRegistration -d 3 --float 1 -o [OutImg, OutImg.nii] -n WelchWindowedSinc -w [0.005,0.995] -u 1 -r [FixImg,MovImg, 1] -t rigid[0.1] -m MI[FixImg,MovImg,1,32, Regular,0.25] -c [1000x500x200x50,1e-7,5] -f 8x4x2x1 -s 2x1x1x0vox -t Affine[0.1] -m MI[FixImg,MovImg,1,32, Regular,0.25] -c [1000x500x200x50,1e-7,5] -f 8x4x2x1 -s 2x1x1x0vox -t SyN[0.05,6,0.5] -m CC[FixImg,MovImg,1,2] -c [100x500x200x50,1e-7,5] -f 8x4x2x1 -s 2x2x1x0vox -v 0\"    \n",
    "        #job_string = \"antsRegistration -d 3 --float 1 -o [OutImg,OutImg.nii] -n WelchWindowedSinc -w [0.05,0.95]  -u 0 - r [FixImg,MovImg] -t Rigid[0.1] -m MI[FixImg,MovImg,1,32,Regular,0.25] -c 500x200x100x50 -f 8x4x2x1 -s 3x2x1x0 -t Affine[0.1] -m MI[FixImg,MovImg,1,32,Regular,0.25] -c 500x200x100x50 -f 8x4x2x1 -s 3x2x1x0 -t SyN[0.1] -m CC[FixImg,MovImg,1,2] -c 100x50x20x10 -f 8x4x2x1 -s 3x2x1x0 -v 1\"                \n",
    "        job_string = job_string.replace('OutImg',output_name).replace('FixImg',template_name).replace('MovImg',Mov_name)\n",
    "        #print(job_string)\n",
    "        subprocess.call([job_string],shell=True)  #works for bin files not script        "
   ]
  },
  {
   "cell_type": "code",
   "execution_count": 2,
   "metadata": {},
   "outputs": [],
   "source": [
    "tif_file_folder='/mnt/d/Gilles_HS_ENS/3Dreg'"
   ]
  },
  {
   "cell_type": "code",
   "execution_count": 3,
   "metadata": {},
   "outputs": [],
   "source": [
    "os.chdir(os.path.dirname(tif_file_folder))\n",
    "N = int((mp.cpu_count()/4)-1)\n",
    "tif_list=glob.glob(tif_file_folder+'/*.tif')"
   ]
  },
  {
   "cell_type": "code",
   "execution_count": 4,
   "metadata": {},
   "outputs": [],
   "source": [
    "img_seq_list=glob.glob(tif_file_folder+'/*.tif')\n",
    "template_name=tif_file_folder+'/template.tif'"
   ]
  },
  {
   "cell_type": "code",
   "execution_count": 5,
   "metadata": {},
   "outputs": [],
   "source": [
    "del(img_seq_list[-1])"
   ]
  },
  {
   "cell_type": "code",
   "execution_count": 6,
   "metadata": {},
   "outputs": [
    {
     "data": {
      "text/plain": [
       "1200"
      ]
     },
     "execution_count": 6,
     "metadata": {},
     "output_type": "execute_result"
    }
   ],
   "source": [
    "len(img_seq_list)"
   ]
  },
  {
   "cell_type": "code",
   "execution_count": 5,
   "metadata": {},
   "outputs": [],
   "source": [
    "#def Register_single_image(Mov_name,template_name):        \n",
    "def Register_single_image(Mov_name):        \n",
    "    template_name=os.path.dirname(img_seq_list[0])+'/template.tif'\n",
    "    output_name = Mov_name.replace('.tif','_LongReg')      \n",
    "    if not os.path.isfile(output_name+'.nii'):\n",
    "        #job_string = \"antsRegistration -d 3 --float 1 -o [OutImg, OutImg.nii] -n WelchWindowedSinc -w [0.005,0.995] -u 1 -r [FixImg,MovImg, 1] -t rigid[0.1] -m MI[FixImg,MovImg,1,32, Regular,0.25] -c [1000x500x200x50,1e-7,5] -f 8x4x2x1 -s 2x1x1x0vox -t Affine[0.1] -m MI[FixImg,MovImg,1,32, Regular,0.25] -c [1000x500x200x50,1e-7,5] -f 8x4x2x1 -s 2x1x1x0vox -t SyN[0.05,6,0.5] -m CC[FixImg,MovImg,1,2] -c [100x500x200x50,1e-7,5] -f 8x4x2x1 -s 2x2x1x0vox -v 0\"    \n",
    "        job_string = \"antsRegistration -d 3 --float 1 -o [OutImg,OutImg.nii] -n WelchWindowedSinc -w [0.05,0.95]  -u 0 - r [FixImg,MovImg] -t Rigid[0.1] -m MI[FixImg,MovImg,1,32,Regular,0.25] -c 500x200x100x50 -f 8x4x2x1 -s 3x2x1x0 -t Affine[0.1] -m MI[FixImg,MovImg,1,32,Regular,0.25] -c 500x200x100x50 -f 8x4x2x1 -s 3x2x1x0 -t SyN[0.1] -m CC[FixImg,MovImg,1,2] -c 100x50x20x10 -f 8x4x2x1 -s 3x2x1x0 -v 1\"        \n",
    "        job_string = job_string.replace('OutImg',output_name).replace('FixImg',template_name).replace('MovImg',Mov_name)\n",
    "        print(job_string)\n",
    "        subprocess.Popen([job_string],shell=True)  #works for bin files not script        "
   ]
  },
  {
   "cell_type": "code",
   "execution_count": 6,
   "metadata": {},
   "outputs": [],
   "source": [
    "def Register_single_image(Mov_name,template_name):        \n",
    "#def Register_single_image(Mov_name):        \n",
    "    #template_name=os.path.dirname(img_seq_list[0])+'/template.tif'\n",
    "    output_name = Mov_name.replace('.tif','_LongReg')      \n",
    "    if not os.path.isfile(output_name+'.nii'):\n",
    "        job_string = \"antsRegistration -d 3 --float 1 -o [OutImg, OutImg.nii] -n WelchWindowedSinc -w [0.005,0.995] -u 1 -r [FixImg,MovImg, 1] -t rigid[0.1] -m MI[FixImg,MovImg,1,32, Regular,0.25] -c [1000x500x200x50,1e-7,5] -f 8x4x2x1 -s 2x1x1x0vox -t Affine[0.1] -m MI[FixImg,MovImg,1,32, Regular,0.25] -c [1000x500x200x50,1e-7,5] -f 8x4x2x1 -s 2x1x1x0vox -t SyN[0.05,6,0.5] -m CC[FixImg,MovImg,1,2] -c [100x500x200x50,1e-7,5] -f 8x4x2x1 -s 2x2x1x0vox -v 0\"    \n",
    "        #job_string = \"antsRegistration -d 3 --float 1 -o [OutImg,OutImg.nii] -n WelchWindowedSinc -w [0.05,0.95]  -u 0 - r [FixImg,MovImg] -t Rigid[0.1] -m MI[FixImg,MovImg,1,32,Regular,0.25] -c 500x200x100x50 -f 8x4x2x1 -s 3x2x1x0 -t Affine[0.1] -m MI[FixImg,MovImg,1,32,Regular,0.25] -c 500x200x100x50 -f 8x4x2x1 -s 3x2x1x0 -t SyN[0.1] -m CC[FixImg,MovImg,1,2] -c 100x50x20x10 -f 8x4x2x1 -s 3x2x1x0 -v 1\"        \n",
    "        job_string = job_string.replace('OutImg',output_name).replace('FixImg',template_name).replace('MovImg',Mov_name)\n",
    "        #print(job_string)\n",
    "        subprocess.call([job_string],shell=True)  #works for bin files not script        "
   ]
  },
  {
   "cell_type": "code",
   "execution_count": null,
   "metadata": {},
   "outputs": [
    {
     "name": "stdout",
     "output_type": "stream",
     "text": [
      "antsRegistration -d 3 --float 1 -o [/mnt/d/Gilles_HS_ENS/3Dreg/GV_20200727_fish1_ENS_3DPF_range100_step5_exposure25_power60_979_LongReg,/mnt/d/Gilles_HS_ENS/3Dreg/GV_20200727_fish1_ENS_3DPF_range100_step5_exposure25_power60_979_LongReg.nii] -n WelchWindowedSinc -w [0.05,0.95]  -u 0 - r [/mnt/d/Gilles_HS_ENS/3Dreg/template.tif,/mnt/d/Gilles_HS_ENS/3Dreg/GV_20200727_fish1_ENS_3DPF_range100_step5_exposure25_power60_979.tif] -t Rigid[0.1] -m MI[/mnt/d/Gilles_HS_ENS/3Dreg/template.tif,/mnt/d/Gilles_HS_ENS/3Dreg/GV_20200727_fish1_ENS_3DPF_range100_step5_exposure25_power60_979.tif,1,32,Regular,0.25] -c 500x200x100x50 -f 8x4x2x1 -s 3x2x1x0 -t Affine[0.1] -m MI[/mnt/d/Gilles_HS_ENS/3Dreg/template.tif,/mnt/d/Gilles_HS_ENS/3Dreg/GV_20200727_fish1_ENS_3DPF_range100_step5_exposure25_power60_979.tif,1,32,Regular,0.25] -c 500x200x100x50 -f 8x4x2x1 -s 3x2x1x0 -t SyN[0.1] -m CC[/mnt/d/Gilles_HS_ENS/3Dreg/template.tif,/mnt/d/Gilles_HS_ENS/3Dreg/GV_20200727_fish1_ENS_3DPF_range100_step5_exposure25_power60_979.tif,1,2] -c 100x50x20x10 -f 8x4x2x1 -s 3x2x1x0 -v 0\n"
     ]
    }
   ],
   "source": [
    "Register_single_image(img_name,template_name)"
   ]
  },
  {
   "cell_type": "code",
   "execution_count": 9,
   "metadata": {},
   "outputs": [],
   "source": [
    "img_name='/mnt/d/Gilles_HS_ENS/3Dreg/GV_20200727_fish1_ENS_3DPF_range100_step5_exposure25_power60_979.tif'\n",
    "template_name=os.path.dirname(img_name)+'/template.tif'"
   ]
  },
  {
   "cell_type": "code",
   "execution_count": 8,
   "metadata": {},
   "outputs": [],
   "source": [
    "result_list = []\n",
    "def log_result(result):\n",
    "    # This is called whenever foo_pool(i) returns a result.\n",
    "    # result_list is modified only by the main process, not the pool workers.\n",
    "    result_list.append(result)"
   ]
  },
  {
   "cell_type": "code",
   "execution_count": 17,
   "metadata": {},
   "outputs": [],
   "source": [
    "p=mp.Pool(processes = N)\n",
    "result=[p.apply_async(Register_single_image, (img_name,template_name), callback = log_result) for img_name in img_seq_list]\n",
    "for ind_result in result:\n",
    "    ind_result.get()"
   ]
  },
  {
   "cell_type": "code",
   "execution_count": 9,
   "metadata": {},
   "outputs": [],
   "source": [
    "template_name='/mnt/c/Temp/RebANTs/loomhabtemplate0.nrrd'\n",
    "p=mp.Pool(processes = N)\n",
    "result=[p.apply_async(Register_single_image, (img_name,template_name), callback = log_result) for img_name in tif_list]\n",
    "for ind_result in result:\n",
    "    ind_result.get()"
   ]
  },
  {
   "cell_type": "code",
   "execution_count": 14,
   "metadata": {},
   "outputs": [
    {
     "ename": "TypeError",
     "evalue": "Register_single_image() takes exactly 1 argument (2 given)",
     "output_type": "error",
     "traceback": [
      "\u001b[0;31m---------------------------------------------------------------------------\u001b[0m",
      "\u001b[0;31mTypeError\u001b[0m                                 Traceback (most recent call last)",
      "\u001b[0;32m<ipython-input-14-394913a191d1>\u001b[0m in \u001b[0;36m<module>\u001b[0;34m()\u001b[0m\n\u001b[1;32m      1\u001b[0m \u001b[0;32mfor\u001b[0m \u001b[0mind_result\u001b[0m \u001b[0;32min\u001b[0m \u001b[0mresult\u001b[0m\u001b[0;34m:\u001b[0m\u001b[0;34m\u001b[0m\u001b[0m\n\u001b[0;32m----> 2\u001b[0;31m     \u001b[0mind_result\u001b[0m\u001b[0;34m.\u001b[0m\u001b[0mget\u001b[0m\u001b[0;34m(\u001b[0m\u001b[0;34m)\u001b[0m\u001b[0;34m\u001b[0m\u001b[0m\n\u001b[0m",
      "\u001b[0;32m/home/zebrafish/miniconda2/lib/python2.7/multiprocessing/pool.pyc\u001b[0m in \u001b[0;36mget\u001b[0;34m(self, timeout)\u001b[0m\n\u001b[1;32m    570\u001b[0m             \u001b[0;32mreturn\u001b[0m \u001b[0mself\u001b[0m\u001b[0;34m.\u001b[0m\u001b[0m_value\u001b[0m\u001b[0;34m\u001b[0m\u001b[0m\n\u001b[1;32m    571\u001b[0m         \u001b[0;32melse\u001b[0m\u001b[0;34m:\u001b[0m\u001b[0;34m\u001b[0m\u001b[0m\n\u001b[0;32m--> 572\u001b[0;31m             \u001b[0;32mraise\u001b[0m \u001b[0mself\u001b[0m\u001b[0;34m.\u001b[0m\u001b[0m_value\u001b[0m\u001b[0;34m\u001b[0m\u001b[0m\n\u001b[0m\u001b[1;32m    573\u001b[0m \u001b[0;34m\u001b[0m\u001b[0m\n\u001b[1;32m    574\u001b[0m     \u001b[0;32mdef\u001b[0m \u001b[0m_set\u001b[0m\u001b[0;34m(\u001b[0m\u001b[0mself\u001b[0m\u001b[0;34m,\u001b[0m \u001b[0mi\u001b[0m\u001b[0;34m,\u001b[0m \u001b[0mobj\u001b[0m\u001b[0;34m)\u001b[0m\u001b[0;34m:\u001b[0m\u001b[0;34m\u001b[0m\u001b[0m\n",
      "\u001b[0;31mTypeError\u001b[0m: Register_single_image() takes exactly 1 argument (2 given)"
     ]
    }
   ],
   "source": [
    "for ind_result in result:\n",
    "    ind_result.get()"
   ]
  },
  {
   "cell_type": "code",
   "execution_count": 13,
   "metadata": {},
   "outputs": [
    {
     "ename": "AttributeError",
     "evalue": "'list' object has no attribute 'get'",
     "output_type": "error",
     "traceback": [
      "\u001b[0;31m---------------------------------------------------------------------------\u001b[0m",
      "\u001b[0;31mAttributeError\u001b[0m                            Traceback (most recent call last)",
      "\u001b[0;32m<ipython-input-13-9fe1ea1ced79>\u001b[0m in \u001b[0;36m<module>\u001b[0;34m()\u001b[0m\n\u001b[0;32m----> 1\u001b[0;31m \u001b[0mresult\u001b[0m\u001b[0;34m.\u001b[0m\u001b[0mget\u001b[0m\u001b[0;34m(\u001b[0m\u001b[0;34m)\u001b[0m\u001b[0;34m\u001b[0m\u001b[0m\n\u001b[0m\u001b[1;32m      2\u001b[0m \u001b[0mp\u001b[0m\u001b[0;34m.\u001b[0m\u001b[0mclose\u001b[0m\u001b[0;34m(\u001b[0m\u001b[0;34m)\u001b[0m\u001b[0;34m\u001b[0m\u001b[0m\n\u001b[1;32m      3\u001b[0m \u001b[0mp\u001b[0m\u001b[0;34m.\u001b[0m\u001b[0mjoin\u001b[0m\u001b[0;34m(\u001b[0m\u001b[0;34m)\u001b[0m\u001b[0;34m\u001b[0m\u001b[0m\n",
      "\u001b[0;31mAttributeError\u001b[0m: 'list' object has no attribute 'get'"
     ]
    }
   ],
   "source": [
    "result.get()\n",
    "p.close()\n",
    "p.join()"
   ]
  },
  {
   "cell_type": "code",
   "execution_count": 81,
   "metadata": {},
   "outputs": [
    {
     "data": {
      "text/plain": [
       "'/mnt/d/Gilles_HS_ENS/3Dreg/template.tif'"
      ]
     },
     "execution_count": 81,
     "metadata": {},
     "output_type": "execute_result"
    }
   ],
   "source": [
    "template_name=os.path.dirname(str(img_name))+'/template.tif'\n",
    "template_name"
   ]
  },
  {
   "cell_type": "code",
   "execution_count": 82,
   "metadata": {},
   "outputs": [
    {
     "data": {
      "text/plain": [
       "True"
      ]
     },
     "execution_count": 82,
     "metadata": {},
     "output_type": "execute_result"
    }
   ],
   "source": [
    "os.path.isfile(template_name)"
   ]
  },
  {
   "cell_type": "code",
   "execution_count": null,
   "metadata": {},
   "outputs": [],
   "source": [
    "job_2='-d 3 --float 1 -o [OutImg, OutImg.nii] -n WelchWindowedSinc -w [0.05,0.95] -u 0 -r [FixImg,MovImg, 1] -t rigid[0.1] -m MI[FixImg,MovImg,1,32, Regular,0.25] -c [500x200x100x50,1e-6,10] -f 8x4x2x1 -s 3x2x1x0vox -t Affine[0.1] -m MI[FixImg,MovImg,1,32, Regular,0.25] -c [500x200x100x50,1e-6,5] -f 8x4x2x1 -s 3x2x1x0vox -t SyN[0.1,6,0.5] -m CC[FixImg,MovImg,1,2] -c [100x50x20x10,1e-6,10] -f 8x4x2x1 -s 3x2x1x0vox'\n",
    "p= subprocess.call(['antsRegistration',job_2], stdin=subprocess.PIPE, stdout=subprocess.PIPE, stderr=subprocess.PIPE)"
   ]
  },
  {
   "cell_type": "code",
   "execution_count": null,
   "metadata": {},
   "outputs": [],
   "source": [
    "job_string = \"antsRegistration -d 3 --float 1 -o [OutImg, OutImg.nii] -n WelchWindowedSinc -w [0.05,0.95] -u 1 -r [FixImg,MovImg, 1] -t rigid[0.1] -m MI[FixImg,MovImg,1,32, Regular,0.25] -c [500x200x100x50,1e-6,5] -f 8x4x2x1 -s 2x2x1x0vox -t Affine[0.1] -m MI[FixImg,MovImg,1,32, Regular,0.25] -c [500x200x100x50,1e-6,5] -f 8x4x2x1 -s 2x2x1x0vox -t SyN[0.1,6,0.5] -m CC[FixImg,MovImg,1,2] -c [100x50x20x10,1e-6,10] -f 8x4x2x1 -s 2x2x1x0vox -v 1\"    "
   ]
  },
  {
   "cell_type": "code",
   "execution_count": null,
   "metadata": {},
   "outputs": [],
   "source": [
    "output, err = p.communicate(b\"input data that is passed to subprocess' stdin\")\n",
    "rc = p.returncode"
   ]
  },
  {
   "cell_type": "code",
   "execution_count": null,
   "metadata": {},
   "outputs": [],
   "source": [
    "p=subprocess.Popen([job_string], shell=True, stderr=subprocess.STDOUT)\n",
    "output, err = p.communicate(b\"input data that is passed to subprocess' stdin\")\n",
    "rc = p.returncode"
   ]
  },
  {
   "cell_type": "code",
   "execution_count": null,
   "metadata": {},
   "outputs": [],
   "source": [
    "job_string = \"antsRegistration -d 3 --float 1 -o [OutImg,OutImg.nii] -n WelchWindowedSinc -w [0.05,0.95]  -u 0 - r [FixImg,MovImg] -t Rigid[0.1] -m MI[FixImg,MovImg,1,32,Regular,0.25] -c 500x200x100x50 -f 8x4x2x1 -s 3x2x1x0 -t Affine[0.1] -m MI[FixImg,MovImg,1,32,Regular,0.25] -c 500x200x100x50 -f 8x4x2x1 -s 3x2x1x0 -t SyN[0.1] -m CC[FixImg,MovImg,1,2] -c 100x50x20x10 -f 8x4x2x1 -s 3x2x1x0 -v 1\""
   ]
  },
  {
   "cell_type": "code",
   "execution_count": 8,
   "metadata": {},
   "outputs": [],
   "source": [
    "Mov_name=img_seq_list[1]\n",
    "output_name = Mov_name.replace('.tif','_LongReg')\n",
    "job_string = \"antsRegistration -d 3 --float 1 -o [OutImg,OutImg.nii] -n WelchWindowedSinc -w [0.05,0.95]  -u 0 - r [FixImg,MovImg] -t Rigid[0.1] -m MI[FixImg,MovImg,1,32,Regular,0.25] -c 500x200x100x50 -f 8x4x2x1 -s 3x2x1x0 -t Affine[0.1] -m MI[FixImg,MovImg,1,32,Regular,0.25] -c 1000x500x200x200 -f 8x4x2x1 -s 3x2x1x0 -t SyN[0.1] -m CC[FixImg,MovImg,1,2] -c 100x50x50x10 -f 8x4x2x1 -s 3x2x1x0 -v 1\"\n",
    "job_string = job_string.replace('OutImg',output_name).replace('FixImg',template_name).replace('MovImg',Mov_name)\n",
    "p=subprocess.Popen([job_string], shell=True, stderr=subprocess.STDOUT)\n",
    "output, err = p.communicate(b\"input data that is passed to subprocess' stdin\")\n",
    "rc = p.returncode"
   ]
  },
  {
   "cell_type": "code",
   "execution_count": null,
   "metadata": {},
   "outputs": [],
   "source": [
    "rc"
   ]
  },
  {
   "cell_type": "code",
   "execution_count": null,
   "metadata": {},
   "outputs": [],
   "source": [
    "job_string"
   ]
  },
  {
   "cell_type": "code",
   "execution_count": null,
   "metadata": {},
   "outputs": [],
   "source": [
    "list_img = glob.glob(tif_file_folder+'/*Reg.nii')    \n",
    "list_img.sort()\n",
    "name=list_img[0]    \n",
    "base_img=nib.load(name)\n",
    "base_img=np.squeeze(np.asarray(base_img.get_fdata(),dtype='float32'))\n",
    "slices=int(1+float(name.split('range')[1].split('_')[0])/float(name.split('step')[1].split('_')[0]))\n",
    "frames=np.zeros(slices,len(list_img),(base_img.shape[1],base_img.shape[0]), dtype='uint16')\n",
    "for img_nb,C1_name in enumerate(list_img):    \n",
    "    img_temp=nib.load(C1_name)\n",
    "    img_temp=img_temp.get_fdata()    \n",
    "    img_temp=np.squeeze(np.asarray(img_temp,dtype='uint16'))\n",
    "    frames[:,:,:,img_nb]=np.flipud(np.rot90(img_temp,1))    \n",
    "tifffile.imsave(name.replace('.nii','_3D.tif'),frames)"
   ]
  },
  {
   "cell_type": "code",
   "execution_count": null,
   "metadata": {},
   "outputs": [],
   "source": [
    "_imagej_metadata = \"\"\"ImageJ=1.47a\n",
    "images={nr_images}\n",
    "channels={nr_channels}\n",
    "frames={nr_frames}\n",
    "slices={nr_slices}\n",
    "hyperstack=true\n",
    "mode=color\n",
    "loop=false\"\"\""
   ]
  },
  {
   "cell_type": "code",
   "execution_count": null,
   "metadata": {},
   "outputs": [],
   "source": [
    "1+float(name.split('range')[1].split('_')[0])/float(name.split('step')[1].split('_')[0])"
   ]
  },
  {
   "cell_type": "code",
   "execution_count": null,
   "metadata": {},
   "outputs": [],
   "source": [
    "frames.shape"
   ]
  },
  {
   "cell_type": "code",
   "execution_count": null,
   "metadata": {},
   "outputs": [],
   "source": [
    "%matplotlib inline\n",
    "import matplotlib.pyplot as plt"
   ]
  },
  {
   "cell_type": "code",
   "execution_count": null,
   "metadata": {},
   "outputs": [],
   "source": [
    "plt.imshow(frames[:,:,0,0])"
   ]
  },
  {
   "cell_type": "code",
   "execution_count": null,
   "metadata": {},
   "outputs": [],
   "source": [
    "plt.imshow(np.transpose(frames,(2,3,0,1))[0,0,:,:])"
   ]
  },
  {
   "cell_type": "code",
   "execution_count": null,
   "metadata": {},
   "outputs": [],
   "source": [
    "tifffile.imsave(name.replace('.nii','_3D.tif'),frames.reshape(540,640,21*1200))"
   ]
  },
  {
   "cell_type": "code",
   "execution_count": null,
   "metadata": {},
   "outputs": [],
   "source": [
    "nr_channels=1\n",
    "nr_slices=21\n",
    "nr_frames=1200\n",
    "nr_images=nr_channels*nr_slices*nr_frames\n",
    "metadata = _imagej_metadata.format(\n",
    "                    nr_images=nr_images,\n",
    "                    nr_slices=nr_slices,\n",
    "                    nr_channels=nr_channels,\n",
    "                    nr_frames=nr_frames)"
   ]
  },
  {
   "cell_type": "code",
   "execution_count": null,
   "metadata": {},
   "outputs": [],
   "source": [
    "frames.reshape(540,640,21*1200).shape"
   ]
  },
  {
   "cell_type": "code",
   "execution_count": null,
   "metadata": {},
   "outputs": [],
   "source": [
    "img.header.set_xyzt_units(xyz='micron',t='sec')"
   ]
  },
  {
   "cell_type": "code",
   "execution_count": null,
   "metadata": {},
   "outputs": [],
   "source": [
    "img.header['xyzt_units']"
   ]
  },
  {
   "cell_type": "code",
   "execution_count": null,
   "metadata": {},
   "outputs": [],
   "source": [
    "img_info=img.header"
   ]
  },
  {
   "cell_type": "code",
   "execution_count": null,
   "metadata": {
    "scrolled": true
   },
   "outputs": [],
   "source": [
    "nib.save(img,name.replace('.nii','_3D.nii'))"
   ]
  },
  {
   "cell_type": "code",
   "execution_count": null,
   "metadata": {},
   "outputs": [],
   "source": []
  }
 ],
 "metadata": {
  "kernelspec": {
   "display_name": "Python 3 (ipykernel)",
   "language": "python",
   "name": "python3"
  },
  "language_info": {
   "codemirror_mode": {
    "name": "ipython",
    "version": 3
   },
   "file_extension": ".py",
   "mimetype": "text/x-python",
   "name": "python",
   "nbconvert_exporter": "python",
   "pygments_lexer": "ipython3",
   "version": "3.8.10"
  }
 },
 "nbformat": 4,
 "nbformat_minor": 2
}
